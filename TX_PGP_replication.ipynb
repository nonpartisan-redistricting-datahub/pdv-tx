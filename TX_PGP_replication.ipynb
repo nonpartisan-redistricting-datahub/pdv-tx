{
 "cells": [
  {
   "cell_type": "code",
   "execution_count": null,
   "metadata": {},
   "outputs": [],
   "source": [
    "import matplotlib.pyplot as plt # for plotting maps\n",
    "import maup # mggg's library for proration, see documentation here: https://github.com/mggg/maup\n",
    "import pandas as pd # standard python data library\n",
    "import geopandas as gp # the geo-version of pandas\n",
    "import numpy as np \n",
    "from statistics import mean, median\n",
    "from functools import reduce"
   ]
  },
  {
   "cell_type": "markdown",
   "metadata": {},
   "source": [
    "**Load Election Results**"
   ]
  },
  {
   "cell_type": "markdown",
   "metadata": {},
   "source": [
    "Importing the election results from the TX website (currently stored locally)\n",
    "All of these files have 9082 rows"
   ]
  },
  {
   "cell_type": "code",
   "execution_count": 31,
   "metadata": {},
   "outputs": [],
   "source": [
    "tx_governor_2014 = pd.read_csv('/Users/peterhorton/Documents/Redistricting_Data_Hub/Coding/pgp-tx/Original Files/election results/governor_2014.csv')\n",
    "tx_president_2012 = pd.read_csv('/Users/peterhorton/Documents/Redistricting_Data_Hub/Coding/pgp-tx/Original Files/election results/president_2012.csv')\n",
    "tx_president_2016 = pd.read_csv('/Users/peterhorton/Documents/Redistricting_Data_Hub/Coding/pgp-tx/Original Files/election results/president_2016.csv')\n",
    "tx_ussen_2012 = pd.read_csv('/Users/peterhorton/Documents/Redistricting_Data_Hub/Coding/pgp-tx/Original Files/election results/ussen_2012.csv')\n",
    "tx_ussen_2014 = pd.read_csv('/Users/peterhorton/Documents/Redistricting_Data_Hub/Coding/pgp-tx/Original Files/election results/ussen_2014.csv')"
   ]
  },
  {
   "cell_type": "markdown",
   "metadata": {},
   "source": [
    "**Load Voter Data Files**"
   ]
  },
  {
   "cell_type": "markdown",
   "metadata": {},
   "source": [
    "Importing the voter data files from the TX webbsite (currently stored locally). All of these files have 9082 rows"
   ]
  },
  {
   "cell_type": "code",
   "execution_count": 84,
   "metadata": {},
   "outputs": [],
   "source": [
    "voter_data_2012 = pd.read_csv('/Users/peterhorton/Documents/Redistricting_Data_Hub/Coding/pgp-tx/Original Files/voter data/2012_voter_data.csv')\n",
    "voter_data_2014 = pd.read_csv('/Users/peterhorton/Documents/Redistricting_Data_Hub/Coding/pgp-tx/Original Files/voter data/2014_voter_data.csv')\n",
    "voter_data_2016 = pd.read_csv('/Users/peterhorton/Documents/Redistricting_Data_Hub/Coding/pgp-tx/Original Files/voter data/2016_voter_data.csv')"
   ]
  },
  {
   "cell_type": "markdown",
   "metadata": {},
   "source": [
    "**Load VTD Files**\n",
    "\n",
    "Importing the various VTD data from the TX website (currently stored locally)\n",
    "There is a different VTD file for each of the 3 years of election results\n",
    "It looks like they are using demographic data from the 2012 file and the 2016 file has the same # of rows"
   ]
  },
  {
   "cell_type": "code",
   "execution_count": 85,
   "metadata": {},
   "outputs": [],
   "source": [
    "vtd_2012 = gp.read_file('/Users/peterhorton/Documents/Redistricting_Data_Hub/Coding/pgp-tx/Original Files/vtds/vtd12g/VTDs.shp')\n",
    "vtd_2014 = gp.read_file('/Users/peterhorton/Documents/Redistricting_Data_Hub/Coding/pgp-tx/Original Files/vtds/vtd14g/2014G_VTD.shp')\n",
    "vtd_2016 = gp.read_file('/Users/peterhorton/Documents/Redistricting_Data_Hub/Coding/pgp-tx/Original Files/vtds/vtd16g/vtd16g.shp')\n",
    "vtd_2018 = gp.read_file('/Users/peterhorton/Documents/Redistricting_Data_Hub/Coding/pgp-tx/Original Files/vtds/vtd18g/vtd18g.shp')\n",
    "\n",
    "#2012 has demo data and 8,952 rows\n",
    "#2016 has no demo data but 8,941 rows same as\n"
   ]
  },
  {
   "cell_type": "markdown",
   "metadata": {},
   "source": [
    "**Try other files**"
   ]
  },
  {
   "cell_type": "code",
   "execution_count": 105,
   "metadata": {},
   "outputs": [
    {
     "name": "stdout",
     "output_type": "stream",
     "text": [
      "County       359786\n",
      "FIPS         359786\n",
      "VTD          359786\n",
      "cntyvtd      359786\n",
      "Office       359786\n",
      "Name         359786\n",
      "Party        359786\n",
      "Incumbent    359786\n",
      "Votes        359786\n",
      "geometry          0\n",
      "dtype: int64\n",
      "     County FIPS   VTD cntyvtd     Office    Name Party Incumbent Votes  \\\n",
      "0  Anderson    1  0001   10001  President  Romney     R         N   754   \n",
      "1  Anderson    1  0002   10002  President  Romney     R         N  1179   \n",
      "2  Anderson    1  0003   10003  President  Romney     R         N   650   \n",
      "3  Anderson    1  0004   10004  President  Romney     R         N   729   \n",
      "4  Anderson    1  0005   10005  President  Romney     R         N   174   \n",
      "\n",
      "  geometry  \n",
      "0     None  \n",
      "1     None  \n",
      "2     None  \n",
      "3     None  \n",
      "4     None  \n",
      "   CNTY  COLOR   VTD  CNTYVTD  VTDKEY    Shape_area      Shape_len  \\\n",
      "0    53      2  0008   530008       0  6.717692e+07   55772.006345   \n",
      "1   469      2  0024  4690024       0  5.426296e+07   50831.107001   \n",
      "2   421      6  0302  4210302       0  4.890835e+08  115435.448089   \n",
      "3   479      1  0340  4790340       0  1.949293e+06    5991.528062   \n",
      "4    29      5  4046   294046       0  2.356032e+06    6851.937823   \n",
      "\n",
      "                                            geometry  \n",
      "0  POLYGON ((1159123.585 956882.966, 1159183.604 ...  \n",
      "1  POLYGON ((1292779.280 755618.564, 1292761.756 ...  \n",
      "2  POLYGON ((835910.171 1592476.454, 835993.315 1...  \n",
      "3  POLYGON ((1052058.489 602069.618, 1052032.480 ...  \n",
      "4  POLYGON ((1151858.098 818462.053, 1151860.759 ...  \n"
     ]
    }
   ],
   "source": [
    "try_2=gp.read_file('/Users/peterhorton/Downloads/ftp_election_data_16g/2012_General_Election_VRTO.csv')\n",
    "try_2=gp.read_file('/Users/peterhorton/Downloads/ftp_election_data_16g/2012_General_Election_Returns.csv')\n",
    "new_vtd=gp.read_file('/Users/peterhorton/Downloads/vtd16g/vtd16g.shp')\n",
    "print(try_2.count())\n",
    "print(try_2.head())\n",
    "print(new_vtd.head())"
   ]
  },
  {
   "cell_type": "markdown",
   "metadata": {},
   "source": [
    "**Load US House District, TX Sen District, and TX House District**\n"
   ]
  },
  {
   "cell_type": "code",
   "execution_count": 9,
   "metadata": {},
   "outputs": [],
   "source": [
    "us_house = gp.read_file('/Users/peterhorton/Documents/Redistricting_Data_Hub/Coding/pgp-tx/Original Files/house_sen/tl_2016_us_cd115/tl_2016_us_cd115.shp')\n",
    "tx_sen = gp.read_file('/Users/peterhorton/Documents/Redistricting_Data_Hub/Coding/pgp-tx/Original Files/house_sen/PLANS172/PLANS172.shp')\n",
    "tx_house = gp.read_file('/Users/peterhorton/Documents/Redistricting_Data_Hub/Coding/pgp-tx/Original Files/house_sen/PLANH407/PLANH407.shp')"
   ]
  },
  {
   "cell_type": "markdown",
   "metadata": {},
   "source": [
    "**Load PGP File**\n",
    "\n",
    "I first want to check if these two files are different\n",
    "Their main output file has 8,941 rows"
   ]
  },
  {
   "cell_type": "code",
   "execution_count": 63,
   "metadata": {},
   "outputs": [],
   "source": [
    "tx_pgp_output = gp.read_file('/Users/peterhorton/Documents/Redistricting_Data_Hub/Coding/pgp-tx/output/TX_vtds.shp')"
   ]
  },
  {
   "cell_type": "code",
   "execution_count": 66,
   "metadata": {},
   "outputs": [
    {
     "name": "stdout",
     "output_type": "stream",
     "text": [
      "      CNTYVTD   VTD  WHITE  OTHER  HISPANIC  TOTPOP    VAP  BLACK  BLKHISP  \\\n",
      "8275  507004A  004A   51.0    2.0     995.0  1048.0  729.0    6.0    995.0   \n",
      "\n",
      "      WVAP  ...  PRES16D  PRES16R  TOTVR16  TOTTO16 USCD  SEND  HD  AREA  \\\n",
      "8275  37.0  ...      237       67      826      308   23    19  80   554   \n",
      "\n",
      "      PERIM                                           geometry  \n",
      "8275    113  POLYGON ((992197.398 743346.287, 992347.472 74...  \n",
      "\n",
      "[1 rows x 38 columns]\n",
      "count     8941\n",
      "unique       1\n",
      "top       both\n",
      "freq      8941\n",
      "Name: _merge, dtype: object\n",
      "Series([], Name: CNTYVTD, dtype: object)\n",
      "Series([], Name: CNTYVTD, dtype: object)\n"
     ]
    }
   ],
   "source": [
    "print(tx_pgp_output[tx_pgp_output[\"CNTYVTD\"] == \"507004A\"])\n",
    "full_merge = pd.merge(tx_pgp_output, vtd_2016, on='CNTYVTD', how='outer', indicator=True)\n",
    "print(full_merge._merge.describe())\n",
    "right_only = full_merge[full_merge[\"_merge\"] == \"right_only\"]\n",
    "print(right_only['CNTYVTD'])\n",
    "left_only = full_merge[full_merge[\"_merge\"] == \"left_only\"]\n",
    "print(left_only['CNTYVTD'])"
   ]
  },
  {
   "cell_type": "markdown",
   "metadata": {},
   "source": [
    "**Clean Election and Voter Data Files**\n",
    "\n",
    "Changing column names and removing candidates from outside the two main parties"
   ]
  },
  {
   "cell_type": "code",
   "execution_count": 34,
   "metadata": {},
   "outputs": [],
   "source": [
    "tx_governor_2014.drop(tx_governor_2014.columns[[3,4,5]],1,inplace=True)\n",
    "tx_governor_2014.rename(columns={'AbbottR_14G_Governor':'GOV14R','DavisD_14G_Governor':'GOV14D'},inplace=True)\n",
    "\n",
    "tx_president_2012.drop(tx_president_2012.columns[[3,4,5]],1,inplace=True)\n",
    "tx_president_2012.rename(columns={'RomneyR_12G_President':'PRES12R','ObamaD_12G_President':'PRES12D'},inplace=True)\n",
    "\n",
    "tx_ussen_2012.drop(tx_ussen_2012.columns[[3,4]],1,inplace=True)\n",
    "tx_ussen_2012.rename(columns={'CruzR_12G_U.S. Sen':'SEN12R','SadlerD_12G_U.S. Sen':'SEN12D'},inplace=True)\n",
    "\n",
    "tx_ussen_2014.drop(tx_ussen_2014.columns[[3,4,5]],1,inplace=True)\n",
    "tx_ussen_2014.rename(columns={'CornynR_14G_U.S. Sen':'SEN14R','AlameelD_14G_U.S. Sen':'SEN14D'},inplace=True)\n",
    "\n",
    "tx_president_2016.drop(tx_president_2016.columns[[3,4,5]],1,inplace=True)\n",
    "tx_president_2016.rename(columns={'ClintonD_16G_President':'PRES16D','TrumpR_16G_President':'PRES16R'},inplace=True)"
   ]
  },
  {
   "cell_type": "code",
   "execution_count": 35,
   "metadata": {},
   "outputs": [],
   "source": [
    "voter_data_2012.drop(voter_data_2012.columns[[3,4]],1,inplace=True)\n",
    "voter_data_2012.rename(columns={'Voter_Registration':'TOTVR12','Turnout':'TOTTO12'},inplace=True)\n",
    "#print(voter_data_2012.head(2))\n",
    "\n",
    "voter_data_2014.drop(voter_data_2014.columns[[3,4]],1,inplace=True)\n",
    "voter_data_2014.rename(columns={'Voter_Registration':'TOTVR14','Turnout':'TOTTO14'},inplace=True)\n",
    "#print(voter_data_2014.head(2))\n",
    "\n",
    "voter_data_2016.drop(voter_data_2016.columns[[3,4]],1,inplace=True)\n",
    "voter_data_2016.rename(columns={'Voter_Registration':'TOTVR16','Turnout':'TOTTO16'},inplace=True)\n",
    "#print(voter_data_2016.head(2))"
   ]
  },
  {
   "cell_type": "markdown",
   "metadata": {},
   "source": [
    "**Merge Election and Voter Data**\n",
    "\n"
   ]
  },
  {
   "cell_type": "code",
   "execution_count": 67,
   "metadata": {},
   "outputs": [],
   "source": [
    "all_voter_data = [tx_governor_2014,tx_president_2012,tx_president_2016,tx_ussen_2012,tx_ussen_2014,voter_data_2012,voter_data_2014,voter_data_2016]\n",
    "merged_voter_data = reduce(lambda  left,right: pd.merge(left,right,on=['CNTYVTD'], how='outer'), all_voter_data)\n",
    "\n",
    "merged_voter_data = merged_voter_data.astype({\"CNTYVTD\": str})\n",
    "#print(merged_voter_data.dtypes)\n",
    "#print(merged_voter_data.SEN12R.sum())\n",
    "#print(merged_voter_data[\"CNTYVTD\"])"
   ]
  },
  {
   "cell_type": "markdown",
   "metadata": {},
   "source": [
    "**Merge VTD Data**"
   ]
  },
  {
   "cell_type": "code",
   "execution_count": null,
   "metadata": {},
   "outputs": [],
   "source": [
    "vtd_2012[\"newCol\"] = vtd_2012[\"CNTY\"].astype(str) + vtd_2012[\"VTD\"]\n",
    "vtd_2016[\"newCol\"] = vtd_2016[\"CNTY\"].astype(str) + vtd_2016[\"VTD\"]\n",
    "vtd_2012[\"newCol\"] = vtd_2012[\"newCol\"].apply(lambda x: '{0:0>8}'.format(x))\n",
    "vtd_2016[\"newCol\"] = vtd_2016[\"newCol\"].apply(lambda x: '{0:0>8}'.format(x))\n",
    "\n",
    "print(vtd_2012.head())\n",
    "print(vtd_2016.head())\n",
    "\n",
    "merged_vtd = pd.merge(vtd_2016, vtd_2012, on='newCol', how='outer', indicator=True)\n",
    "print(merged_vtd._merge.describe())\n",
    "print(merged_vtd.head())\n",
    "right_only = merged_vtd[merged_vtd[\"_merge\"] == \"right_only\"]\n",
    "print(right_only['newCol'])\n",
    "left_only = merged_vtd[merged_vtd[\"_merge\"] == \"left_only\"]\n",
    "print(left_only['newCol'])"
   ]
  },
  {
   "cell_type": "markdown",
   "metadata": {},
   "source": [
    "**Merge Election and Voter Data with VTD Shapefile**"
   ]
  },
  {
   "cell_type": "code",
   "execution_count": 60,
   "metadata": {},
   "outputs": [
    {
     "name": "stdout",
     "output_type": "stream",
     "text": [
      "0       00010001\n",
      "1       00010002\n",
      "2       00010003\n",
      "3       00010004\n",
      "4       00010005\n",
      "          ...   \n",
      "9077    05070002\n",
      "9078    05070003\n",
      "9079    05070004\n",
      "9080    0507001A\n",
      "9081    0507004A\n",
      "Name: CNTYVTD, Length: 9082, dtype: object\n",
      "CNTY          8952\n",
      "COLOR         8952\n",
      "VTD           8952\n",
      "CNTYVTD       8952\n",
      "VTDKEY        8952\n",
      "CNTYKEY       8952\n",
      "Shape_Leng    8952\n",
      "Shape_Area    8952\n",
      "e_ang         8952\n",
      "e_oth         8952\n",
      "e_hsp         8952\n",
      "e_total       8952\n",
      "e_vap         8952\n",
      "e_blak        8952\n",
      "e_bh          8952\n",
      "e_angvap      8952\n",
      "e_hspvap      8952\n",
      "e_bhvap       8952\n",
      "e_blakvap     8952\n",
      "e_othvap      8952\n",
      "geometry      8952\n",
      "dtype: int64\n",
      "count     9413\n",
      "unique       3\n",
      "top       both\n",
      "freq      8621\n",
      "Name: _merge, dtype: object\n",
      "9082    00010014\n",
      "9083    00050008\n",
      "9084    00270407\n",
      "9085    00291073\n",
      "9086    00291080\n",
      "          ...   \n",
      "9408    04710305\n",
      "9409    04710402\n",
      "9410    04730420\n",
      "9411    04870007\n",
      "9412    04910277\n",
      "Name: CNTYVTD, Length: 331, dtype: object\n",
      "33      0050008A\n",
      "34      0050008B\n",
      "315     0291073A\n",
      "316     0291073B\n",
      "323     0291080A\n",
      "          ...   \n",
      "8937    4910277B\n",
      "8958    04910345\n",
      "8966    04910393\n",
      "8990    04910489\n",
      "8991    04910490\n",
      "Name: CNTYVTD, Length: 461, dtype: object\n"
     ]
    }
   ],
   "source": [
    "print(merged_voter_data[\"CNTYVTD\"])\n",
    "#print(vtd_2012[\"CNTYVTD\"])\n",
    "vtd_2012[\"CNTYVTD\"] = vtd_2012[\"CNTYVTD\"].apply(lambda x: '{0:0>8}'.format(x))\n",
    "merged_voter_data[\"CNTYVTD\"] = merged_voter_data[\"CNTYVTD\"].apply(lambda x: '{0:0>8}'.format(x))\n",
    "print(vtd_2012.count())\n",
    "#print(vtd_2012[\"CNTYVTD\"])\n",
    "merged_vtd_election = pd.merge(merged_voter_data, vtd_2012, on='CNTYVTD', how='outer', indicator=True)\n",
    "print(merged_vtd_election._merge.describe())\n",
    "right_only = merged_vtd_election[merged_vtd_election[\"_merge\"] == \"right_only\"]\n",
    "print(right_only['CNTYVTD'])\n",
    "left_only = merged_vtd_election[merged_vtd_election[\"_merge\"] == \"left_only\"]\n",
    "print(left_only['CNTYVTD'])"
   ]
  },
  {
   "cell_type": "code",
   "execution_count": 51,
   "metadata": {},
   "outputs": [],
   "source": [
    "vtd_election = pd.merge(merged_voter_data, vtd_2012, on='CNTYVTD', how='outer', indicator=True)"
   ]
  },
  {
   "cell_type": "code",
   "execution_count": 19,
   "metadata": {},
   "outputs": [
    {
     "name": "stdout",
     "output_type": "stream",
     "text": [
      "CNTYVTD       11161\n",
      "GOV14R         9082\n",
      "GOV14D         9082\n",
      "PRES12R        9082\n",
      "PRES12D        9082\n",
      "PRES16D        9082\n",
      "PRES16R        9082\n",
      "SEN12R         9082\n",
      "SEN12D         9082\n",
      "SEN14R         9082\n",
      "SEN14D         9082\n",
      "TOTVR12        9082\n",
      "TOTTO12        9082\n",
      "TOTVR14        9082\n",
      "TOTTO14        9082\n",
      "TOTVR16        9082\n",
      "TOTTO16        9082\n",
      "CNTY           8952\n",
      "COLOR          8952\n",
      "VTD            8952\n",
      "VTDKEY         8952\n",
      "CNTYKEY        8952\n",
      "Shape_Leng     8952\n",
      "Shape_Area     8952\n",
      "e_ang          8952\n",
      "e_oth          8952\n",
      "e_hsp          8952\n",
      "e_total        8952\n",
      "e_vap          8952\n",
      "e_blak         8952\n",
      "e_bh           8952\n",
      "e_angvap       8952\n",
      "e_hspvap       8952\n",
      "e_bhvap        8952\n",
      "e_blakvap      8952\n",
      "e_othvap       8952\n",
      "geometry       8952\n",
      "_merge        11161\n",
      "dtype: int64\n"
     ]
    }
   ],
   "source": [
    "print(vtd_election.count())"
   ]
  },
  {
   "cell_type": "code",
   "execution_count": null,
   "metadata": {},
   "outputs": [],
   "source": [
    "vtd_2016[\"geometry\"] = vtd_2016.buffer(0)\n",
    "vtd_2016.crs\n",
    "vtd_2012[\"geometry\"] = vtd_2012.buffer(0)\n",
    "vtd_2012.crs"
   ]
  },
  {
   "cell_type": "code",
   "execution_count": null,
   "metadata": {
    "scrolled": true
   },
   "outputs": [],
   "source": [
    "#print(vtd_2012.head())\n",
    "#print(vtd_2012.count())\n",
    "#print(vtd_2012.dtypes)\n",
    "#Add leading zeros to CNTYVTD\n",
    "#vtd_2012['CNTYVTD'] = vtd_2012['CNTYVTD'].apply(lambda x: '{0:0>7}'.format(x))\n",
    "#print(vtd_2012.CNTYVTD.describe())\n",
    "#print(vtd_assign.head())"
   ]
  },
  {
   "cell_type": "code",
   "execution_count": null,
   "metadata": {},
   "outputs": [],
   "source": [
    "merge_attempt = merged_voter_data.merge(vtd_2012,on=['CNTYVTD'],indicator=True)\n",
    "print(merge_attempt.describe())\n",
    "print(merged_voter_data.describe())\n",
    "print(vtd_2012.describe())\n",
    "\n",
    "print(vtd_2012.e_blak.sum())\n",
    "print(merge_attempt.e_blak.sum())\n",
    "\n",
    "#print(merge_attempt[merge_attempt[\"_merge\"]=='left_only'].head())\n",
    "#print(merge_attempt[merge_attempt[\"_merge\"]=='right_only'].head())\n",
    "#print(merge_attempt[merge_attempt[\"_merge\"]=='both'].head())"
   ]
  },
  {
   "cell_type": "code",
   "execution_count": null,
   "metadata": {},
   "outputs": [],
   "source": [
    "print(us_house.head())\n",
    "print(tx_sen.head())\n",
    "print(tx_house.head())"
   ]
  },
  {
   "cell_type": "markdown",
   "metadata": {},
   "source": [
    "**Merge US House District, TX Sen District, and TX House District Data w/ TX Shapefile**"
   ]
  },
  {
   "cell_type": "code",
   "execution_count": 55,
   "metadata": {},
   "outputs": [
    {
     "ename": "NameError",
     "evalue": "name 'us_house' is not defined",
     "output_type": "error",
     "traceback": [
      "\u001b[0;31m---------------------------------------------------------------------------\u001b[0m",
      "\u001b[0;31mNameError\u001b[0m                                 Traceback (most recent call last)",
      "\u001b[0;32m<ipython-input-55-e37bc3cabd3a>\u001b[0m in \u001b[0;36m<module>\u001b[0;34m\u001b[0m\n\u001b[1;32m      1\u001b[0m \u001b[0mproj\u001b[0m \u001b[0;34m=\u001b[0m \u001b[0mvtd_2016\u001b[0m\u001b[0;34m.\u001b[0m\u001b[0mcrs\u001b[0m\u001b[0;34m\u001b[0m\u001b[0;34m\u001b[0m\u001b[0m\n\u001b[0;32m----> 2\u001b[0;31m \u001b[0mus_house\u001b[0m \u001b[0;34m=\u001b[0m \u001b[0mus_house\u001b[0m\u001b[0;34m.\u001b[0m\u001b[0mto_crs\u001b[0m\u001b[0;34m(\u001b[0m\u001b[0mproj\u001b[0m\u001b[0;34m)\u001b[0m\u001b[0;34m\u001b[0m\u001b[0;34m\u001b[0m\u001b[0m\n\u001b[0m\u001b[1;32m      3\u001b[0m \u001b[0mus_house_assign\u001b[0m \u001b[0;34m=\u001b[0m \u001b[0mmaup\u001b[0m\u001b[0;34m.\u001b[0m\u001b[0massign\u001b[0m\u001b[0;34m(\u001b[0m\u001b[0mvtd_2016\u001b[0m\u001b[0;34m,\u001b[0m\u001b[0mus_house\u001b[0m\u001b[0;34m)\u001b[0m\u001b[0;34m\u001b[0m\u001b[0;34m\u001b[0m\u001b[0m\n\u001b[1;32m      4\u001b[0m \u001b[0mprint\u001b[0m\u001b[0;34m(\u001b[0m\u001b[0mus_house_assign\u001b[0m\u001b[0;34m.\u001b[0m\u001b[0mhead\u001b[0m\u001b[0;34m(\u001b[0m\u001b[0;34m)\u001b[0m\u001b[0;34m)\u001b[0m\u001b[0;34m\u001b[0m\u001b[0;34m\u001b[0m\u001b[0m\n",
      "\u001b[0;31mNameError\u001b[0m: name 'us_house' is not defined"
     ]
    }
   ],
   "source": [
    "proj = vtd_2016.crs\n",
    "us_house = us_house.to_crs(proj)\n",
    "us_house_assign = maup.assign(vtd_2016,us_house)\n",
    "print(us_house_assign.head())"
   ]
  },
  {
   "cell_type": "code",
   "execution_count": null,
   "metadata": {},
   "outputs": [],
   "source": []
  }
 ],
 "metadata": {
  "kernelspec": {
   "display_name": "Python 3",
   "language": "python",
   "name": "python3"
  },
  "language_info": {
   "codemirror_mode": {
    "name": "ipython",
    "version": 3
   },
   "file_extension": ".py",
   "mimetype": "text/x-python",
   "name": "python",
   "nbconvert_exporter": "python",
   "pygments_lexer": "ipython3",
   "version": "3.8.3"
  }
 },
 "nbformat": 4,
 "nbformat_minor": 4
}
