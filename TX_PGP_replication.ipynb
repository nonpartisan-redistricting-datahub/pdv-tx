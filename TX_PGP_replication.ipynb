{
 "cells": [
  {
   "cell_type": "code",
   "execution_count": 2,
   "metadata": {},
   "outputs": [],
   "source": [
    "import matplotlib.pyplot as plt # for plotting maps\n",
    "import maup # mggg's library for proration, see documentation here: https://github.com/mggg/maup\n",
    "import pandas as pd # standard python data library\n",
    "import geopandas as gp # the geo-version of pandas\n",
    "import numpy as np \n",
    "from statistics import mean, median\n",
    "from functools import reduce"
   ]
  },
  {
   "cell_type": "markdown",
   "metadata": {},
   "source": [
    "**Load Original Files**"
   ]
  },
  {
   "cell_type": "markdown",
   "metadata": {},
   "source": [
    "Importing the election results from the TX website (currently stored locally)\n",
    "All of these files have 9082 rows"
   ]
  },
  {
   "cell_type": "code",
   "execution_count": 2,
   "metadata": {},
   "outputs": [],
   "source": [
    "tx_governor_2014 = pd.read_csv('/Users/peterhorton/Documents/Redistricting_Data_Hub/Coding/pgp-tx/Original Files/election results/governor_2014.csv')\n",
    "tx_president_2012 = pd.read_csv('/Users/peterhorton/Documents/Redistricting_Data_Hub/Coding/pgp-tx/Original Files/election results/president_2012.csv')\n",
    "tx_president_2016 = pd.read_csv('/Users/peterhorton/Documents/Redistricting_Data_Hub/Coding/pgp-tx/Original Files/election results/president_2016.csv')\n",
    "tx_ussen_2012 = pd.read_csv('/Users/peterhorton/Documents/Redistricting_Data_Hub/Coding/pgp-tx/Original Files/election results/ussen_2012.csv')\n",
    "tx_ussen_2014 = pd.read_csv('/Users/peterhorton/Documents/Redistricting_Data_Hub/Coding/pgp-tx/Original Files/election results/ussen_2014.csv')"
   ]
  },
  {
   "cell_type": "code",
   "execution_count": 3,
   "metadata": {},
   "outputs": [],
   "source": [
    "tx_governor_2014.drop(tx_governor_2014.columns[[3,4,5]],1,inplace=True)\n",
    "tx_governor_2014.rename(columns={'AbbottR_14G_Governor':'GOV14R','DavisD_14G_Governor':'GOV14D'},inplace=True)\n",
    "\n",
    "tx_president_2012.drop(tx_president_2012.columns[[3,4,5]],1,inplace=True)\n",
    "tx_president_2012.rename(columns={'RomneyR_12G_President':'PRES12R','ObamaD_12G_President':'PRES12D'},inplace=True)\n",
    "\n",
    "tx_ussen_2012.drop(tx_ussen_2012.columns[[3,4]],1,inplace=True)\n",
    "tx_ussen_2012.rename(columns={'CruzR_12G_U.S. Sen':'SEN12R','SadlerD_12G_U.S. Sen':'SEN12D'},inplace=True)\n",
    "\n",
    "tx_ussen_2014.drop(tx_ussen_2014.columns[[3,4,5]],1,inplace=True)\n",
    "tx_ussen_2014.rename(columns={'CornynR_14G_U.S. Sen':'SEN14R','AlameelD_14G_U.S. Sen':'SEN14D'},inplace=True)\n",
    "\n",
    "tx_president_2016.drop(tx_president_2016.columns[[3,4,5]],1,inplace=True)\n",
    "tx_president_2016.rename(columns={'ClintonD_16G_President':'PRES16D','TrumpR_16G_President':'PRES16R'},inplace=True)"
   ]
  },
  {
   "cell_type": "markdown",
   "metadata": {},
   "source": [
    "**Load Voter Data Files**"
   ]
  },
  {
   "cell_type": "markdown",
   "metadata": {},
   "source": [
    "Importing the voter data files from the TX webbsite (currently stored locally). All of these files have 9082 rows"
   ]
  },
  {
   "cell_type": "code",
   "execution_count": 4,
   "metadata": {},
   "outputs": [],
   "source": [
    "voter_data_2012 = pd.read_csv('/Users/peterhorton/Documents/Redistricting_Data_Hub/Coding/pgp-tx/Original Files/voter data/2012_voter_data.csv')\n",
    "voter_data_2014 = pd.read_csv('/Users/peterhorton/Documents/Redistricting_Data_Hub/Coding/pgp-tx/Original Files/voter data/2014_voter_data.csv')\n",
    "voter_data_2016 = pd.read_csv('/Users/peterhorton/Documents/Redistricting_Data_Hub/Coding/pgp-tx/Original Files/voter data/2016_voter_data.csv')"
   ]
  },
  {
   "cell_type": "code",
   "execution_count": 5,
   "metadata": {},
   "outputs": [
    {
     "name": "stdout",
     "output_type": "stream",
     "text": [
      "   CNTYVTD  TOTVR12  TOTTO12\n",
      "0  0010001     1629     1026\n",
      "1  0010002     2224     1418\n",
      "   CNTYVTD  TOTVR14  TOTTO14\n",
      "0  0010001     1712      576\n",
      "1  0010002     2389      786\n",
      "   CNTYVTD  TOTVR16  TOTTO16\n",
      "0  0010001     1799     1030\n",
      "1  0010002     2455     1532\n"
     ]
    }
   ],
   "source": [
    "voter_data_2012.drop(voter_data_2012.columns[[3,4]],1,inplace=True)\n",
    "voter_data_2012.rename(columns={'Voter_Registration':'TOTVR12','Turnout':'TOTTO12'},inplace=True)\n",
    "print(voter_data_2012.head(2))\n",
    "\n",
    "voter_data_2014.drop(voter_data_2014.columns[[3,4]],1,inplace=True)\n",
    "voter_data_2014.rename(columns={'Voter_Registration':'TOTVR14','Turnout':'TOTTO14'},inplace=True)\n",
    "print(voter_data_2014.head(2))\n",
    "\n",
    "voter_data_2016.drop(voter_data_2016.columns[[3,4]],1,inplace=True)\n",
    "voter_data_2016.rename(columns={'Voter_Registration':'TOTVR16','Turnout':'TOTTO16'},inplace=True)\n",
    "print(voter_data_2016.head(2))"
   ]
  },
  {
   "cell_type": "markdown",
   "metadata": {},
   "source": [
    "**Merge All Voter Data**\n",
    "\n"
   ]
  },
  {
   "cell_type": "code",
   "execution_count": 6,
   "metadata": {},
   "outputs": [
    {
     "name": "stdout",
     "output_type": "stream",
     "text": [
      "   CNTYVTD  GOV14R  GOV14D  PRES12R  PRES12D  PRES16D  PRES16R  SEN12R  \\\n",
      "0  0010001     424     130      754      261      262      742     713   \n",
      "1  0010002     663     110     1179      228      181     1318    1072   \n",
      "\n",
      "   SEN12D  SEN14R  SEN14D  TOTVR12  TOTTO12  TOTVR14  TOTTO14  TOTVR16  \\\n",
      "0     285     441     110     1629     1026     1712      576     1799   \n",
      "1     274     677      80     2224     1418     2389      786     2455   \n",
      "\n",
      "   TOTTO16  \n",
      "0     1030  \n",
      "1     1532  \n",
      "CNTYVTD    object\n",
      "GOV14R      int64\n",
      "GOV14D      int64\n",
      "PRES12R     int64\n",
      "PRES12D     int64\n",
      "PRES16D     int64\n",
      "PRES16R     int64\n",
      "SEN12R      int64\n",
      "SEN12D      int64\n",
      "SEN14R      int64\n",
      "SEN14D      int64\n",
      "TOTVR12     int64\n",
      "TOTTO12     int64\n",
      "TOTVR14     int64\n",
      "TOTTO14     int64\n",
      "TOTVR16     int64\n",
      "TOTTO16     int64\n",
      "dtype: object\n",
      "4439084\n",
      "0       0010001\n",
      "1       0010002\n",
      "2       0010003\n",
      "3       0010004\n",
      "4       0010005\n",
      "         ...   \n",
      "9077    5070002\n",
      "9078    5070003\n",
      "9079    5070004\n",
      "9080    507001A\n",
      "9081    507004A\n",
      "Name: CNTYVTD, Length: 9082, dtype: object\n"
     ]
    }
   ],
   "source": [
    "all_voter_data = [tx_governor_2014,tx_president_2012,tx_president_2016,tx_ussen_2012,tx_ussen_2014,voter_data_2012,voter_data_2014,voter_data_2016]\n",
    "merged_voter_data = reduce(lambda  left,right: pd.merge(left,right,on=['CNTYVTD'],\n",
    "                                            how='outer'), all_voter_data)\n",
    "print(merged_voter_data.head(2))\n",
    "print(merged_voter_data.dtypes)\n",
    "print(merged_voter_data.SEN12R.sum())\n",
    "print(merged_voter_data[\"CNTYVTD\"])"
   ]
  },
  {
   "cell_type": "markdown",
   "metadata": {},
   "source": [
    "**Load VTD Files**\n",
    "\n",
    "Importing the various VTD data from the TX website (currently stored locally)\n",
    "There is a different VTD file for each of the 3 years of election results\n",
    "It looks like they are using demographic data from the 2012 file"
   ]
  },
  {
   "cell_type": "code",
   "execution_count": 8,
   "metadata": {},
   "outputs": [],
   "source": [
    "vtd_2012 = gp.read_file('/Users/peterhorton/Documents/Redistricting_Data_Hub/Coding/pgp-tx/Original Files/vtds/vtd12g/VTDs.shp')\n",
    "#vtd_2014 = gp.read_file('/Users/peterhorton/Documents/Redistricting_Data_Hub/Coding/pgp-tx/Original Files/vtds/vtd14g/2014G_VTD.shp')\n",
    "vtd_2016 = gp.read_file('/Users/peterhorton/Documents/Redistricting_Data_Hub/Coding/pgp-tx/Original Files/vtds/vtd16g/vtd16g.shp')"
   ]
  },
  {
   "cell_type": "code",
   "execution_count": 14,
   "metadata": {},
   "outputs": [],
   "source": [
    "vtd_2016[\"geometry\"] = vtd_2016.buffer(0)"
   ]
  },
  {
   "cell_type": "code",
   "execution_count": 9,
   "metadata": {
    "scrolled": true
   },
   "outputs": [
    {
     "name": "stdout",
     "output_type": "stream",
     "text": [
      "   CNTY  COLOR   VTD CNTYVTD  VTDKEY  CNTYKEY    Shape_Leng    Shape_Area  \\\n",
      "0     1      3  0001   10001       1        1  15020.544928  5.616316e+06   \n",
      "1     1      5  0002   10002       2        1  94432.828909  2.562133e+08   \n",
      "2     1      1  0003   10003       3        1  55277.408937  7.084692e+07   \n",
      "3     1      3  0004   10004       4        1  91313.174639  2.411696e+08   \n",
      "4     1      7  0005   10005       5        1  86938.250104  1.689853e+08   \n",
      "\n",
      "   e_ang  e_oth  ...  e_total  e_vap  e_blak  e_bh  e_angvap  e_hspvap  \\\n",
      "0   2053     89  ...     3131   2341     606   989      1677       217   \n",
      "1   3171     64  ...     3744   2732     272   509      2365       135   \n",
      "2   1443     32  ...     1766   1345     140   291      1134        96   \n",
      "3   1962     40  ...     2147   1684      72   145      1553        47   \n",
      "4    454      2  ...      476    366       6    20       349        12   \n",
      "\n",
      "   e_bhvap  e_blakvap  e_othvap  \\\n",
      "0      592        378        72   \n",
      "1      327        197        40   \n",
      "2      191         95        20   \n",
      "3      102         57        29   \n",
      "4       15          3         2   \n",
      "\n",
      "                                            geometry  \n",
      "0  POLYGON ((1413960.808 1073012.816, 1413971.571...  \n",
      "1  POLYGON ((1420165.429 1066385.798, 1420251.968...  \n",
      "2  POLYGON ((1416275.023 1072178.732, 1416410.201...  \n",
      "3  POLYGON ((1435604.819 1074650.256, 1435674.876...  \n",
      "4  POLYGON ((1436888.342 1072498.734, 1436911.364...  \n",
      "\n",
      "[5 rows x 21 columns]\n",
      "CNTY          8952\n",
      "COLOR         8952\n",
      "VTD           8952\n",
      "CNTYVTD       8952\n",
      "VTDKEY        8952\n",
      "CNTYKEY       8952\n",
      "Shape_Leng    8952\n",
      "Shape_Area    8952\n",
      "e_ang         8952\n",
      "e_oth         8952\n",
      "e_hsp         8952\n",
      "e_total       8952\n",
      "e_vap         8952\n",
      "e_blak        8952\n",
      "e_bh          8952\n",
      "e_angvap      8952\n",
      "e_hspvap      8952\n",
      "e_bhvap       8952\n",
      "e_blakvap     8952\n",
      "e_othvap      8952\n",
      "geometry      8952\n",
      "dtype: int64\n",
      "CNTY             int64\n",
      "COLOR            int64\n",
      "VTD             object\n",
      "CNTYVTD         object\n",
      "VTDKEY           int64\n",
      "CNTYKEY          int64\n",
      "Shape_Leng     float64\n",
      "Shape_Area     float64\n",
      "e_ang            int64\n",
      "e_oth            int64\n",
      "e_hsp            int64\n",
      "e_total          int64\n",
      "e_vap            int64\n",
      "e_blak           int64\n",
      "e_bh             int64\n",
      "e_angvap         int64\n",
      "e_hspvap         int64\n",
      "e_bhvap          int64\n",
      "e_blakvap        int64\n",
      "e_othvap         int64\n",
      "geometry      geometry\n",
      "dtype: object\n",
      "count        8952\n",
      "unique       8952\n",
      "top       0390033\n",
      "freq            1\n",
      "Name: CNTYVTD, dtype: object\n"
     ]
    }
   ],
   "source": [
    "print(vtd_2012.head())\n",
    "print(vtd_2012.count())\n",
    "print(vtd_2012.dtypes)\n",
    "#Add leading zeros to CNTYVTD\n",
    "vtd_2012['CNTYVTD'] = vtd_2012['CNTYVTD'].apply(lambda x: '{0:0>7}'.format(x))\n",
    "print(vtd_2012.CNTYVTD.describe())"
   ]
  },
  {
   "cell_type": "code",
   "execution_count": 10,
   "metadata": {},
   "outputs": [
    {
     "name": "stdout",
     "output_type": "stream",
     "text": [
      "            GOV14R       GOV14D      PRES12R      PRES12D      PRES16D  \\\n",
      "count  8611.000000  8611.000000  8611.000000  8611.000000  8611.000000   \n",
      "mean    311.592498   206.482058   509.738242   372.378121   433.585414   \n",
      "std     331.137177   223.417786   529.537923   375.501581   454.061913   \n",
      "min       0.000000     0.000000     0.000000     0.000000     0.000000   \n",
      "25%      61.000000    40.000000   105.000000    79.000000    80.000000   \n",
      "50%     195.000000   139.000000   325.000000   270.000000   296.000000   \n",
      "75%     462.000000   303.000000   763.000000   551.000000   663.500000   \n",
      "max    2348.000000  2211.000000  3571.000000  2823.000000  4479.000000   \n",
      "\n",
      "           PRES16R       SEN12R       SEN12D       SEN14R       SEN14D  ...  \\\n",
      "count  8611.000000  8611.000000  8611.000000  8611.000000  8611.000000  ...   \n",
      "mean    519.588666   495.097201   359.723493   318.838695   179.759726  ...   \n",
      "std     540.882548   512.708903   357.268550   338.617580   200.541684  ...   \n",
      "min       0.000000     0.000000     0.000000     0.000000     0.000000  ...   \n",
      "25%     112.000000   106.000000    82.000000    62.000000    34.000000  ...   \n",
      "50%     335.000000   318.000000   264.000000   199.000000   120.000000  ...   \n",
      "75%     760.000000   736.500000   528.000000   475.000000   261.000000  ...   \n",
      "max    3501.000000  3537.000000  2731.000000  2345.000000  1996.000000  ...   \n",
      "\n",
      "              e_hsp       e_total         e_vap       e_blak          e_bh  \\\n",
      "count   8611.000000   8611.000000   8611.000000  8611.000000   8611.000000   \n",
      "mean    1080.727674   2858.889095   2079.443038   359.201835   1423.013471   \n",
      "std     1504.460058   2435.708379   1732.128209   668.550394   1762.319989   \n",
      "min        0.000000      0.000000      0.000000     0.000000      0.000000   \n",
      "25%      138.000000    892.500000    660.000000    17.000000    209.000000   \n",
      "50%      503.000000   2387.000000   1766.000000    95.000000    765.000000   \n",
      "75%     1393.500000   4213.000000   3091.000000   374.000000   2022.500000   \n",
      "max    17259.000000  22005.000000  15292.000000  7630.000000  19663.000000   \n",
      "\n",
      "          e_angvap      e_hspvap       e_bhvap   e_blakvap     e_othvap  \n",
      "count  8611.000000   8611.000000   8611.000000  8611.00000  8611.000000  \n",
      "mean   1030.160492    702.029729    943.466380   249.17977   105.816165  \n",
      "std    1050.014374    969.976141   1154.637349   469.91877   231.759343  \n",
      "min       0.000000      0.000000      0.000000     0.00000     0.000000  \n",
      "25%     185.000000     87.000000    136.500000    10.00000     8.000000  \n",
      "50%     669.000000    328.000000    508.000000    63.00000    29.000000  \n",
      "75%    1603.000000    912.000000   1350.500000   255.50000    98.000000  \n",
      "max    8234.000000  11562.000000  13309.000000  4847.00000  3550.000000  \n",
      "\n",
      "[8 rows x 34 columns]\n",
      "            GOV14R       GOV14D      PRES12R      PRES12D      PRES16D  \\\n",
      "count  9082.000000  9082.000000  9082.000000  9082.000000  9082.000000   \n",
      "mean    307.889342   202.098436   503.059678   364.193900   426.957278   \n",
      "std     332.385339   221.767743   530.248149   373.710586   452.996132   \n",
      "min       0.000000     0.000000     0.000000     0.000000     0.000000   \n",
      "25%      57.000000    37.000000    95.000000    74.000000    74.000000   \n",
      "50%     189.000000   135.000000   317.500000   260.000000   289.000000   \n",
      "75%     457.000000   298.000000   758.000000   541.000000   654.000000   \n",
      "max    2348.000000  2211.000000  3571.000000  2823.000000  4479.000000   \n",
      "\n",
      "           PRES16R       SEN12R       SEN12D       SEN14R       SEN14D  \\\n",
      "count  9082.000000  9082.000000  9082.000000  9082.000000  9082.000000   \n",
      "mean    515.777142   488.778243   351.737943   315.045585   175.872275   \n",
      "std     545.204799   513.554260   355.738495   339.854052   198.901137   \n",
      "min       0.000000     0.000000     0.000000     0.000000     0.000000   \n",
      "25%     104.250000    97.250000    76.000000    58.000000    31.000000   \n",
      "50%     327.000000   311.000000   256.000000   193.000000   115.000000   \n",
      "75%     757.000000   732.750000   519.000000   472.000000   256.000000   \n",
      "max    3501.000000  3537.000000  2731.000000  2345.000000  1996.000000   \n",
      "\n",
      "           TOTVR12      TOTTO12      TOTVR14      TOTTO14       TOTVR16  \\\n",
      "count  9082.000000  9082.000000  9082.000000  9082.000000   9082.000000   \n",
      "mean   1444.841004   886.282757  1546.781656   522.913675   1663.135213   \n",
      "std    1155.437710   757.719602  1251.170345   473.070904   1368.568970   \n",
      "min       0.000000     0.000000     0.000000     0.000000      0.000000   \n",
      "25%     461.250000   256.000000   488.250000   143.000000    517.000000   \n",
      "50%    1253.500000   712.000000  1325.000000   395.000000   1400.500000   \n",
      "75%    2224.750000  1352.750000  2373.000000   788.750000   2524.000000   \n",
      "max    7205.000000  4463.000000  8149.000000  2964.000000  10109.000000   \n",
      "\n",
      "           TOTTO16  \n",
      "count  9082.000000  \n",
      "mean    995.914556  \n",
      "std     873.896068  \n",
      "min       0.000000  \n",
      "25%     284.000000  \n",
      "50%     786.000000  \n",
      "75%    1485.750000  \n",
      "max    5917.000000  \n",
      "              CNTY        COLOR       VTDKEY      CNTYKEY     Shape_Leng  \\\n",
      "count  8952.000000  8952.000000  8952.000000  8952.000000    8952.000000   \n",
      "mean    228.575067     3.974643  4476.500000   114.787534   31005.866274   \n",
      "std     145.270189     2.000537  2584.364138    72.635095   39795.050251   \n",
      "min       1.000000     1.000000     1.000000     1.000000      16.595351   \n",
      "25%     113.000000     2.000000  2238.750000    57.000000    6223.629488   \n",
      "50%     201.000000     4.000000  4476.500000   101.000000   11784.283141   \n",
      "75%     355.000000     6.000000  6714.250000   178.000000   44889.767402   \n",
      "max     507.000000     7.000000  8952.000000   254.000000  393862.814422   \n",
      "\n",
      "         Shape_Area        e_ang        e_oth         e_hsp       e_total  \\\n",
      "count  8.952000e+03  8952.000000  8952.000000   8952.000000   8952.000000   \n",
      "mean   7.749511e+07  1273.161863   141.641756   1056.849978   2808.932194   \n",
      "std    2.215753e+08  1352.291652   315.400550   1490.026248   2446.285241   \n",
      "min    1.139046e+01     0.000000     0.000000      0.000000      0.000000   \n",
      "25%    1.648074e+06   203.000000     9.000000    126.750000    829.000000   \n",
      "50%    4.843072e+06   788.000000    37.000000    485.000000   2331.000000   \n",
      "75%    6.110166e+07  1970.000000   129.000000   1356.000000   4163.000000   \n",
      "max    5.626104e+09  8990.000000  5095.000000  17259.000000  22005.000000   \n",
      "\n",
      "              e_vap       e_blak          e_bh     e_angvap      e_hspvap  \\\n",
      "count   8952.000000  8952.000000   8952.000000  8952.000000   8952.000000   \n",
      "mean    2041.972408   353.939790   1394.128575  1013.704647    686.231457   \n",
      "std     1738.354434   664.540474   1752.577529  1050.135037    960.526371   \n",
      "min        0.000000     0.000000      0.000000     0.000000      0.000000   \n",
      "25%      619.000000    16.000000    190.000000   167.000000     82.000000   \n",
      "50%     1722.000000    91.000000    734.500000   647.000000    314.000000   \n",
      "75%     3053.250000   368.000000   1971.250000  1580.250000    884.000000   \n",
      "max    15292.000000  7630.000000  19663.000000  8234.000000  11562.000000   \n",
      "\n",
      "            e_bhvap    e_blakvap    e_othvap  \n",
      "count   8952.000000  8952.000000  8952.00000  \n",
      "mean     923.949062   245.337243   104.31870  \n",
      "std     1148.146440   466.588342   230.23972  \n",
      "min        0.000000     0.000000     0.00000  \n",
      "25%      124.000000     9.000000     7.00000  \n",
      "50%      488.000000    61.000000    28.00000  \n",
      "75%     1316.000000   251.000000    96.00000  \n",
      "max    13309.000000  4847.000000  3550.00000  \n",
      "3168469\n",
      "3093087\n"
     ]
    }
   ],
   "source": [
    "merge_attempt = merged_voter_data.merge(vtd_2012,on=['CNTYVTD'],indicator=True)\n",
    "print(merge_attempt.describe())\n",
    "print(merged_voter_data.describe())\n",
    "print(vtd_2012.describe())\n",
    "\n",
    "print(vtd_2012.e_blak.sum())\n",
    "print(merge_attempt.e_blak.sum())\n",
    "\n",
    "#print(merge_attempt[merge_attempt[\"_merge\"]=='left_only'].head())\n",
    "#print(merge_attempt[merge_attempt[\"_merge\"]=='right_only'].head())\n",
    "#print(merge_attempt[merge_attempt[\"_merge\"]=='both'].head())"
   ]
  },
  {
   "cell_type": "markdown",
   "metadata": {},
   "source": [
    "**Load US House District, TX Sen District, and TX House District**\n"
   ]
  },
  {
   "cell_type": "code",
   "execution_count": 3,
   "metadata": {},
   "outputs": [],
   "source": [
    "us_house = gp.read_file('/Users/peterhorton/Documents/Redistricting_Data_Hub/Coding/pgp-tx/Original Files/house_sen/tl_2016_us_cd115/tl_2016_us_cd115.shp')\n",
    "tx_sen = gp.read_file('/Users/peterhorton/Documents/Redistricting_Data_Hub/Coding/pgp-tx/Original Files/house_sen/PLANS172/PLANS172.shp')\n",
    "tx_house = gp.read_file('/Users/peterhorton/Documents/Redistricting_Data_Hub/Coding/pgp-tx/Original Files/house_sen/PLANH407/PLANH407.shp')"
   ]
  },
  {
   "cell_type": "markdown",
   "metadata": {},
   "source": [
    "**Load PGP File**\n",
    "\n",
    "I first want to check if these two files are different\n",
    "Their main output file has 8,941 rows"
   ]
  },
  {
   "cell_type": "code",
   "execution_count": 12,
   "metadata": {},
   "outputs": [],
   "source": [
    "tx_pgp_output = gp.read_file('/Users/peterhorton/Documents/Redistricting_Data_Hub/Coding/pgp-tx/output/TX_vtds.shp')\n",
    "#tx_pgp_vtds = gp.read_file('/Users/peterhorton/Documents/Redistricting_Data_Hub/Coding/pgp-tx/TX_vtds/TX_vtds.shp')"
   ]
  },
  {
   "cell_type": "code",
   "execution_count": 15,
   "metadata": {
    "scrolled": true
   },
   "outputs": [
    {
     "name": "stderr",
     "output_type": "stream",
     "text": [
      "TopologyException: Input geom 0 is invalid: Ring Self-intersection at or near point 1153136.0481999964 456128.66519999877 at 1153136.0481999964 456128.66519999877\n"
     ]
    },
    {
     "ename": "TopologicalError",
     "evalue": "The operation 'GEOSDifference_r' could not be performed. Likely cause is invalidity of the geometry <shapely.geometry.polygon.Polygon object at 0x7fcf0aa75fd0>",
     "output_type": "error",
     "traceback": [
      "\u001b[0;31m---------------------------------------------------------------------------\u001b[0m",
      "\u001b[0;31mTopologicalError\u001b[0m                          Traceback (most recent call last)",
      "\u001b[0;32m<ipython-input-15-934cde2e19b8>\u001b[0m in \u001b[0;36m<module>\u001b[0;34m\u001b[0m\n\u001b[1;32m      1\u001b[0m \u001b[0;31m#tx_pgp_output.difference(tx_pgp_vtds)\u001b[0m\u001b[0;34m\u001b[0m\u001b[0;34m\u001b[0m\u001b[0;34m\u001b[0m\u001b[0m\n\u001b[0;32m----> 2\u001b[0;31m \u001b[0mtx_pgp_output\u001b[0m\u001b[0;34m.\u001b[0m\u001b[0mdifference\u001b[0m\u001b[0;34m(\u001b[0m\u001b[0mvtd_2016\u001b[0m\u001b[0;34m)\u001b[0m\u001b[0;34m\u001b[0m\u001b[0;34m\u001b[0m\u001b[0m\n\u001b[0m",
      "\u001b[0;32m/opt/anaconda3/lib/python3.8/site-packages/geopandas/base.py\u001b[0m in \u001b[0;36mdifference\u001b[0;34m(self, other)\u001b[0m\n\u001b[1;32m    521\u001b[0m             \u001b[0mdifference\u001b[0m \u001b[0mto\u001b[0m\u001b[0;34m.\u001b[0m\u001b[0;34m\u001b[0m\u001b[0;34m\u001b[0m\u001b[0m\n\u001b[1;32m    522\u001b[0m         \"\"\"\n\u001b[0;32m--> 523\u001b[0;31m         \u001b[0;32mreturn\u001b[0m \u001b[0m_binary_geo\u001b[0m\u001b[0;34m(\u001b[0m\u001b[0;34m\"difference\"\u001b[0m\u001b[0;34m,\u001b[0m \u001b[0mself\u001b[0m\u001b[0;34m,\u001b[0m \u001b[0mother\u001b[0m\u001b[0;34m)\u001b[0m\u001b[0;34m\u001b[0m\u001b[0;34m\u001b[0m\u001b[0m\n\u001b[0m\u001b[1;32m    524\u001b[0m \u001b[0;34m\u001b[0m\u001b[0m\n\u001b[1;32m    525\u001b[0m     \u001b[0;32mdef\u001b[0m \u001b[0msymmetric_difference\u001b[0m\u001b[0;34m(\u001b[0m\u001b[0mself\u001b[0m\u001b[0;34m,\u001b[0m \u001b[0mother\u001b[0m\u001b[0;34m)\u001b[0m\u001b[0;34m:\u001b[0m\u001b[0;34m\u001b[0m\u001b[0;34m\u001b[0m\u001b[0m\n",
      "\u001b[0;32m/opt/anaconda3/lib/python3.8/site-packages/geopandas/base.py\u001b[0m in \u001b[0;36m_binary_geo\u001b[0;34m(op, this, other)\u001b[0m\n\u001b[1;32m     58\u001b[0m     \u001b[0;32mfrom\u001b[0m \u001b[0;34m.\u001b[0m\u001b[0mgeoseries\u001b[0m \u001b[0;32mimport\u001b[0m \u001b[0mGeoSeries\u001b[0m\u001b[0;34m\u001b[0m\u001b[0;34m\u001b[0m\u001b[0m\n\u001b[1;32m     59\u001b[0m \u001b[0;34m\u001b[0m\u001b[0m\n\u001b[0;32m---> 60\u001b[0;31m     \u001b[0mgeoms\u001b[0m\u001b[0;34m,\u001b[0m \u001b[0mindex\u001b[0m \u001b[0;34m=\u001b[0m \u001b[0m_delegate_binary_method\u001b[0m\u001b[0;34m(\u001b[0m\u001b[0mop\u001b[0m\u001b[0;34m,\u001b[0m \u001b[0mthis\u001b[0m\u001b[0;34m,\u001b[0m \u001b[0mother\u001b[0m\u001b[0;34m)\u001b[0m\u001b[0;34m\u001b[0m\u001b[0;34m\u001b[0m\u001b[0m\n\u001b[0m\u001b[1;32m     61\u001b[0m     \u001b[0;32mreturn\u001b[0m \u001b[0mGeoSeries\u001b[0m\u001b[0;34m(\u001b[0m\u001b[0mgeoms\u001b[0m\u001b[0;34m.\u001b[0m\u001b[0mdata\u001b[0m\u001b[0;34m,\u001b[0m \u001b[0mindex\u001b[0m\u001b[0;34m=\u001b[0m\u001b[0mindex\u001b[0m\u001b[0;34m,\u001b[0m \u001b[0mcrs\u001b[0m\u001b[0;34m=\u001b[0m\u001b[0mthis\u001b[0m\u001b[0;34m.\u001b[0m\u001b[0mcrs\u001b[0m\u001b[0;34m)\u001b[0m\u001b[0;34m\u001b[0m\u001b[0;34m\u001b[0m\u001b[0m\n\u001b[1;32m     62\u001b[0m \u001b[0;34m\u001b[0m\u001b[0m\n",
      "\u001b[0;32m/opt/anaconda3/lib/python3.8/site-packages/geopandas/base.py\u001b[0m in \u001b[0;36m_delegate_binary_method\u001b[0;34m(op, this, other, *args, **kwargs)\u001b[0m\n\u001b[1;32m     49\u001b[0m         \u001b[0;32mraise\u001b[0m \u001b[0mTypeError\u001b[0m\u001b[0;34m(\u001b[0m\u001b[0mtype\u001b[0m\u001b[0;34m(\u001b[0m\u001b[0mthis\u001b[0m\u001b[0;34m)\u001b[0m\u001b[0;34m,\u001b[0m \u001b[0mtype\u001b[0m\u001b[0;34m(\u001b[0m\u001b[0mother\u001b[0m\u001b[0;34m)\u001b[0m\u001b[0;34m)\u001b[0m\u001b[0;34m\u001b[0m\u001b[0;34m\u001b[0m\u001b[0m\n\u001b[1;32m     50\u001b[0m \u001b[0;34m\u001b[0m\u001b[0m\n\u001b[0;32m---> 51\u001b[0;31m     \u001b[0mdata\u001b[0m \u001b[0;34m=\u001b[0m \u001b[0mgetattr\u001b[0m\u001b[0;34m(\u001b[0m\u001b[0ma_this\u001b[0m\u001b[0;34m,\u001b[0m \u001b[0mop\u001b[0m\u001b[0;34m)\u001b[0m\u001b[0;34m(\u001b[0m\u001b[0mother\u001b[0m\u001b[0;34m,\u001b[0m \u001b[0;34m*\u001b[0m\u001b[0margs\u001b[0m\u001b[0;34m,\u001b[0m \u001b[0;34m**\u001b[0m\u001b[0mkwargs\u001b[0m\u001b[0;34m)\u001b[0m\u001b[0;34m\u001b[0m\u001b[0;34m\u001b[0m\u001b[0m\n\u001b[0m\u001b[1;32m     52\u001b[0m     \u001b[0;32mreturn\u001b[0m \u001b[0mdata\u001b[0m\u001b[0;34m,\u001b[0m \u001b[0mthis\u001b[0m\u001b[0;34m.\u001b[0m\u001b[0mindex\u001b[0m\u001b[0;34m\u001b[0m\u001b[0;34m\u001b[0m\u001b[0m\n\u001b[1;32m     53\u001b[0m \u001b[0;34m\u001b[0m\u001b[0m\n",
      "\u001b[0;32m/opt/anaconda3/lib/python3.8/site-packages/geopandas/array.py\u001b[0m in \u001b[0;36mdifference\u001b[0;34m(self, other)\u001b[0m\n\u001b[1;32m    546\u001b[0m     \u001b[0;32mdef\u001b[0m \u001b[0mdifference\u001b[0m\u001b[0;34m(\u001b[0m\u001b[0mself\u001b[0m\u001b[0;34m,\u001b[0m \u001b[0mother\u001b[0m\u001b[0;34m)\u001b[0m\u001b[0;34m:\u001b[0m\u001b[0;34m\u001b[0m\u001b[0;34m\u001b[0m\u001b[0m\n\u001b[1;32m    547\u001b[0m         return GeometryArray(\n\u001b[0;32m--> 548\u001b[0;31m             \u001b[0mself\u001b[0m\u001b[0;34m.\u001b[0m\u001b[0m_binary_method\u001b[0m\u001b[0;34m(\u001b[0m\u001b[0;34m\"difference\"\u001b[0m\u001b[0;34m,\u001b[0m \u001b[0mself\u001b[0m\u001b[0;34m,\u001b[0m \u001b[0mother\u001b[0m\u001b[0;34m)\u001b[0m\u001b[0;34m,\u001b[0m \u001b[0mcrs\u001b[0m\u001b[0;34m=\u001b[0m\u001b[0mself\u001b[0m\u001b[0;34m.\u001b[0m\u001b[0mcrs\u001b[0m\u001b[0;34m\u001b[0m\u001b[0;34m\u001b[0m\u001b[0m\n\u001b[0m\u001b[1;32m    549\u001b[0m         )\n\u001b[1;32m    550\u001b[0m \u001b[0;34m\u001b[0m\u001b[0m\n",
      "\u001b[0;32m/opt/anaconda3/lib/python3.8/site-packages/geopandas/array.py\u001b[0m in \u001b[0;36m_binary_method\u001b[0;34m(op, left, right, **kwargs)\u001b[0m\n\u001b[1;32m    483\u001b[0m             \u001b[0mright\u001b[0m \u001b[0;34m=\u001b[0m \u001b[0mright\u001b[0m\u001b[0;34m.\u001b[0m\u001b[0mdata\u001b[0m\u001b[0;34m\u001b[0m\u001b[0;34m\u001b[0m\u001b[0m\n\u001b[1;32m    484\u001b[0m \u001b[0;34m\u001b[0m\u001b[0m\n\u001b[0;32m--> 485\u001b[0;31m         \u001b[0;32mreturn\u001b[0m \u001b[0mgetattr\u001b[0m\u001b[0;34m(\u001b[0m\u001b[0mvectorized\u001b[0m\u001b[0;34m,\u001b[0m \u001b[0mop\u001b[0m\u001b[0;34m)\u001b[0m\u001b[0;34m(\u001b[0m\u001b[0mleft\u001b[0m\u001b[0;34m.\u001b[0m\u001b[0mdata\u001b[0m\u001b[0;34m,\u001b[0m \u001b[0mright\u001b[0m\u001b[0;34m,\u001b[0m \u001b[0;34m**\u001b[0m\u001b[0mkwargs\u001b[0m\u001b[0;34m)\u001b[0m\u001b[0;34m\u001b[0m\u001b[0;34m\u001b[0m\u001b[0m\n\u001b[0m\u001b[1;32m    486\u001b[0m \u001b[0;34m\u001b[0m\u001b[0m\n\u001b[1;32m    487\u001b[0m     \u001b[0;32mdef\u001b[0m \u001b[0mcovers\u001b[0m\u001b[0;34m(\u001b[0m\u001b[0mself\u001b[0m\u001b[0;34m,\u001b[0m \u001b[0mother\u001b[0m\u001b[0;34m)\u001b[0m\u001b[0;34m:\u001b[0m\u001b[0;34m\u001b[0m\u001b[0;34m\u001b[0m\u001b[0m\n",
      "\u001b[0;32m/opt/anaconda3/lib/python3.8/site-packages/geopandas/_vectorized.py\u001b[0m in \u001b[0;36mdifference\u001b[0;34m(data, other)\u001b[0m\n\u001b[1;32m    714\u001b[0m         \u001b[0;32mreturn\u001b[0m \u001b[0m_binary_method\u001b[0m\u001b[0;34m(\u001b[0m\u001b[0;34m\"difference\"\u001b[0m\u001b[0;34m,\u001b[0m \u001b[0mdata\u001b[0m\u001b[0;34m,\u001b[0m \u001b[0mother\u001b[0m\u001b[0;34m)\u001b[0m\u001b[0;34m\u001b[0m\u001b[0;34m\u001b[0m\u001b[0m\n\u001b[1;32m    715\u001b[0m     \u001b[0;32melse\u001b[0m\u001b[0;34m:\u001b[0m\u001b[0;34m\u001b[0m\u001b[0;34m\u001b[0m\u001b[0m\n\u001b[0;32m--> 716\u001b[0;31m         \u001b[0;32mreturn\u001b[0m \u001b[0m_binary_geo\u001b[0m\u001b[0;34m(\u001b[0m\u001b[0;34m\"difference\"\u001b[0m\u001b[0;34m,\u001b[0m \u001b[0mdata\u001b[0m\u001b[0;34m,\u001b[0m \u001b[0mother\u001b[0m\u001b[0;34m)\u001b[0m\u001b[0;34m\u001b[0m\u001b[0;34m\u001b[0m\u001b[0m\n\u001b[0m\u001b[1;32m    717\u001b[0m \u001b[0;34m\u001b[0m\u001b[0m\n\u001b[1;32m    718\u001b[0m \u001b[0;34m\u001b[0m\u001b[0m\n",
      "\u001b[0;32m/opt/anaconda3/lib/python3.8/site-packages/geopandas/_vectorized.py\u001b[0m in \u001b[0;36m_binary_geo\u001b[0;34m(op, left, right)\u001b[0m\n\u001b[1;32m    293\u001b[0m             \u001b[0;32mraise\u001b[0m \u001b[0mValueError\u001b[0m\u001b[0;34m(\u001b[0m\u001b[0mmsg\u001b[0m\u001b[0;34m)\u001b[0m\u001b[0;34m\u001b[0m\u001b[0;34m\u001b[0m\u001b[0m\n\u001b[1;32m    294\u001b[0m         \u001b[0mdata\u001b[0m \u001b[0;34m=\u001b[0m \u001b[0mnp\u001b[0m\u001b[0;34m.\u001b[0m\u001b[0mempty\u001b[0m\u001b[0;34m(\u001b[0m\u001b[0mlen\u001b[0m\u001b[0;34m(\u001b[0m\u001b[0mleft\u001b[0m\u001b[0;34m)\u001b[0m\u001b[0;34m,\u001b[0m \u001b[0mdtype\u001b[0m\u001b[0;34m=\u001b[0m\u001b[0mobject\u001b[0m\u001b[0;34m)\u001b[0m\u001b[0;34m\u001b[0m\u001b[0;34m\u001b[0m\u001b[0m\n\u001b[0;32m--> 295\u001b[0;31m         data[:] = [\n\u001b[0m\u001b[1;32m    296\u001b[0m             \u001b[0mgetattr\u001b[0m\u001b[0;34m(\u001b[0m\u001b[0mthis_elem\u001b[0m\u001b[0;34m,\u001b[0m \u001b[0mop\u001b[0m\u001b[0;34m)\u001b[0m\u001b[0;34m(\u001b[0m\u001b[0mother_elem\u001b[0m\u001b[0;34m)\u001b[0m\u001b[0;34m\u001b[0m\u001b[0;34m\u001b[0m\u001b[0m\n\u001b[1;32m    297\u001b[0m             \u001b[0;32mif\u001b[0m \u001b[0mthis_elem\u001b[0m \u001b[0;32mis\u001b[0m \u001b[0;32mnot\u001b[0m \u001b[0;32mNone\u001b[0m \u001b[0;32mand\u001b[0m \u001b[0mother_elem\u001b[0m \u001b[0;32mis\u001b[0m \u001b[0;32mnot\u001b[0m \u001b[0;32mNone\u001b[0m\u001b[0;34m\u001b[0m\u001b[0;34m\u001b[0m\u001b[0m\n",
      "\u001b[0;32m/opt/anaconda3/lib/python3.8/site-packages/geopandas/_vectorized.py\u001b[0m in \u001b[0;36m<listcomp>\u001b[0;34m(.0)\u001b[0m\n\u001b[1;32m    294\u001b[0m         \u001b[0mdata\u001b[0m \u001b[0;34m=\u001b[0m \u001b[0mnp\u001b[0m\u001b[0;34m.\u001b[0m\u001b[0mempty\u001b[0m\u001b[0;34m(\u001b[0m\u001b[0mlen\u001b[0m\u001b[0;34m(\u001b[0m\u001b[0mleft\u001b[0m\u001b[0;34m)\u001b[0m\u001b[0;34m,\u001b[0m \u001b[0mdtype\u001b[0m\u001b[0;34m=\u001b[0m\u001b[0mobject\u001b[0m\u001b[0;34m)\u001b[0m\u001b[0;34m\u001b[0m\u001b[0;34m\u001b[0m\u001b[0m\n\u001b[1;32m    295\u001b[0m         data[:] = [\n\u001b[0;32m--> 296\u001b[0;31m             \u001b[0mgetattr\u001b[0m\u001b[0;34m(\u001b[0m\u001b[0mthis_elem\u001b[0m\u001b[0;34m,\u001b[0m \u001b[0mop\u001b[0m\u001b[0;34m)\u001b[0m\u001b[0;34m(\u001b[0m\u001b[0mother_elem\u001b[0m\u001b[0;34m)\u001b[0m\u001b[0;34m\u001b[0m\u001b[0;34m\u001b[0m\u001b[0m\n\u001b[0m\u001b[1;32m    297\u001b[0m             \u001b[0;32mif\u001b[0m \u001b[0mthis_elem\u001b[0m \u001b[0;32mis\u001b[0m \u001b[0;32mnot\u001b[0m \u001b[0;32mNone\u001b[0m \u001b[0;32mand\u001b[0m \u001b[0mother_elem\u001b[0m \u001b[0;32mis\u001b[0m \u001b[0;32mnot\u001b[0m \u001b[0;32mNone\u001b[0m\u001b[0;34m\u001b[0m\u001b[0;34m\u001b[0m\u001b[0m\n\u001b[1;32m    298\u001b[0m             \u001b[0;32melse\u001b[0m \u001b[0;32mNone\u001b[0m\u001b[0;34m\u001b[0m\u001b[0;34m\u001b[0m\u001b[0m\n",
      "\u001b[0;32m/opt/anaconda3/lib/python3.8/site-packages/shapely/geometry/base.py\u001b[0m in \u001b[0;36mdifference\u001b[0;34m(self, other)\u001b[0m\n\u001b[1;32m    670\u001b[0m     \u001b[0;32mdef\u001b[0m \u001b[0mdifference\u001b[0m\u001b[0;34m(\u001b[0m\u001b[0mself\u001b[0m\u001b[0;34m,\u001b[0m \u001b[0mother\u001b[0m\u001b[0;34m)\u001b[0m\u001b[0;34m:\u001b[0m\u001b[0;34m\u001b[0m\u001b[0;34m\u001b[0m\u001b[0m\n\u001b[1;32m    671\u001b[0m         \u001b[0;34m\"\"\"Returns the difference of the geometries\"\"\"\u001b[0m\u001b[0;34m\u001b[0m\u001b[0;34m\u001b[0m\u001b[0m\n\u001b[0;32m--> 672\u001b[0;31m         \u001b[0;32mreturn\u001b[0m \u001b[0mgeom_factory\u001b[0m\u001b[0;34m(\u001b[0m\u001b[0mself\u001b[0m\u001b[0;34m.\u001b[0m\u001b[0mimpl\u001b[0m\u001b[0;34m[\u001b[0m\u001b[0;34m'difference'\u001b[0m\u001b[0;34m]\u001b[0m\u001b[0;34m(\u001b[0m\u001b[0mself\u001b[0m\u001b[0;34m,\u001b[0m \u001b[0mother\u001b[0m\u001b[0;34m)\u001b[0m\u001b[0;34m)\u001b[0m\u001b[0;34m\u001b[0m\u001b[0;34m\u001b[0m\u001b[0m\n\u001b[0m\u001b[1;32m    673\u001b[0m \u001b[0;34m\u001b[0m\u001b[0m\n\u001b[1;32m    674\u001b[0m     \u001b[0;32mdef\u001b[0m \u001b[0mintersection\u001b[0m\u001b[0;34m(\u001b[0m\u001b[0mself\u001b[0m\u001b[0;34m,\u001b[0m \u001b[0mother\u001b[0m\u001b[0;34m)\u001b[0m\u001b[0;34m:\u001b[0m\u001b[0;34m\u001b[0m\u001b[0;34m\u001b[0m\u001b[0m\n",
      "\u001b[0;32m/opt/anaconda3/lib/python3.8/site-packages/shapely/topology.py\u001b[0m in \u001b[0;36m__call__\u001b[0;34m(self, this, other, *args)\u001b[0m\n\u001b[1;32m     68\u001b[0m             err = TopologicalError(\n\u001b[1;32m     69\u001b[0m                     \"This operation could not be performed. Reason: unknown\")\n\u001b[0;32m---> 70\u001b[0;31m             \u001b[0mself\u001b[0m\u001b[0;34m.\u001b[0m\u001b[0m_check_topology\u001b[0m\u001b[0;34m(\u001b[0m\u001b[0merr\u001b[0m\u001b[0;34m,\u001b[0m \u001b[0mthis\u001b[0m\u001b[0;34m,\u001b[0m \u001b[0mother\u001b[0m\u001b[0;34m)\u001b[0m\u001b[0;34m\u001b[0m\u001b[0;34m\u001b[0m\u001b[0m\n\u001b[0m\u001b[1;32m     71\u001b[0m         \u001b[0;32mreturn\u001b[0m \u001b[0mproduct\u001b[0m\u001b[0;34m\u001b[0m\u001b[0;34m\u001b[0m\u001b[0m\n\u001b[1;32m     72\u001b[0m \u001b[0;34m\u001b[0m\u001b[0m\n",
      "\u001b[0;32m/opt/anaconda3/lib/python3.8/site-packages/shapely/topology.py\u001b[0m in \u001b[0;36m_check_topology\u001b[0;34m(self, err, *geoms)\u001b[0m\n\u001b[1;32m     33\u001b[0m         \u001b[0;32mfor\u001b[0m \u001b[0mgeom\u001b[0m \u001b[0;32min\u001b[0m \u001b[0mgeoms\u001b[0m\u001b[0;34m:\u001b[0m\u001b[0;34m\u001b[0m\u001b[0;34m\u001b[0m\u001b[0m\n\u001b[1;32m     34\u001b[0m             \u001b[0;32mif\u001b[0m \u001b[0;32mnot\u001b[0m \u001b[0mgeom\u001b[0m\u001b[0;34m.\u001b[0m\u001b[0mis_valid\u001b[0m\u001b[0;34m:\u001b[0m\u001b[0;34m\u001b[0m\u001b[0;34m\u001b[0m\u001b[0m\n\u001b[0;32m---> 35\u001b[0;31m                 raise TopologicalError(\n\u001b[0m\u001b[1;32m     36\u001b[0m                     \u001b[0;34m\"The operation '%s' could not be performed. \"\u001b[0m\u001b[0;34m\u001b[0m\u001b[0;34m\u001b[0m\u001b[0m\n\u001b[1;32m     37\u001b[0m                     \"Likely cause is invalidity of the geometry %s\" % (\n",
      "\u001b[0;31mTopologicalError\u001b[0m: The operation 'GEOSDifference_r' could not be performed. Likely cause is invalidity of the geometry <shapely.geometry.polygon.Polygon object at 0x7fcf0aa75fd0>"
     ]
    }
   ],
   "source": [
    "#tx_pgp_output.difference(tx_pgp_vtds)\n",
    "tx_pgp_output.difference(vtd_2016)\n"
   ]
  },
  {
   "cell_type": "code",
   "execution_count": 125,
   "metadata": {},
   "outputs": [
    {
     "name": "stdout",
     "output_type": "stream",
     "text": [
      "  CNTYVTD   VTD   WHITE  OTHER  HISPANIC  TOTPOP     VAP  BLACK  BLKHISP  \\\n",
      "0   10001  0001  2053.0   89.0     401.0  3131.0  2341.0  606.0    989.0   \n",
      "1   10002  0002  3171.0   64.0     245.0  3744.0  2732.0  272.0    509.0   \n",
      "\n",
      "     WVAP  ...  PRES16D  PRES16R  TOTVR16  TOTTO16 USCD  SEND  HD  AREA  \\\n",
      "0  1677.0  ...      262      742     1799     1030   05     3   8     6   \n",
      "1  2365.0  ...      181     1318     2455     1532   05     3   8   259   \n",
      "\n",
      "   PERIM                                           geometry  \n",
      "0     15  POLYGON ((1413960.808 1073012.816, 1413971.571...  \n",
      "1     95  POLYGON ((1420165.429 1066385.798, 1420251.968...  \n",
      "\n",
      "[2 rows x 38 columns]\n",
      "3168469.0\n"
     ]
    }
   ],
   "source": [
    "print(tx_pgp_output.head(2))\n",
    "tx_pgp_output.count()\n",
    "print(tx_pgp_output.BLACK.sum())"
   ]
  },
  {
   "cell_type": "code",
   "execution_count": 127,
   "metadata": {
    "scrolled": true
   },
   "outputs": [
    {
     "data": {
      "text/plain": [
       "4439084"
      ]
     },
     "execution_count": 127,
     "metadata": {},
     "output_type": "execute_result"
    }
   ],
   "source": [
    "tx_pgp_output.SEN12R.sum()"
   ]
  },
  {
   "cell_type": "code",
   "execution_count": null,
   "metadata": {},
   "outputs": [],
   "source": []
  }
 ],
 "metadata": {
  "kernelspec": {
   "display_name": "Python 3",
   "language": "python",
   "name": "python3"
  },
  "language_info": {
   "codemirror_mode": {
    "name": "ipython",
    "version": 3
   },
   "file_extension": ".py",
   "mimetype": "text/x-python",
   "name": "python",
   "nbconvert_exporter": "python",
   "pygments_lexer": "ipython3",
   "version": "3.8.3"
  }
 },
 "nbformat": 4,
 "nbformat_minor": 4
}
