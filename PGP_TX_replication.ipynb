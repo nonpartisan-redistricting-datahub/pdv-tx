{
 "cells": [
  {
   "cell_type": "code",
   "execution_count": 1,
   "metadata": {},
   "outputs": [],
   "source": [
    "import matplotlib.pyplot as plt # for plotting maps\n",
    "import maup # mggg's library for proration, see documentation here: https://github.com/mggg/maup\n",
    "import pandas as pd # standard python data library\n",
    "import geopandas as gp # the geo-version of pandas\n",
    "import numpy as np \n",
    "from statistics import mean, median\n",
    "from functools import reduce"
   ]
  },
  {
   "cell_type": "markdown",
   "metadata": {},
   "source": [
    "**Load Election Results and Turnout Data**"
   ]
  },
  {
   "cell_type": "markdown",
   "metadata": {},
   "source": [
    "Importing the results from a file that connects the elections to 2016 VTDs"
   ]
  },
  {
   "cell_type": "code",
   "execution_count": 3,
   "metadata": {},
   "outputs": [],
   "source": [
    "returns_2012 = pd.read_csv('/Users/peterhorton/Documents/Redistricting_Data_Hub/Coding/pgp-tx/Better Files/ftp_election_data_16g/2012_General_Election_Returns.csv')\n",
    "returns_2014 = pd.read_csv('/Users/peterhorton/Documents/Redistricting_Data_Hub/Coding/pgp-tx/Better Files/ftp_election_data_16g/2014_General_Election_Returns.csv')\n",
    "returns_2016 = pd.read_csv('/Users/peterhorton/Documents/Redistricting_Data_Hub/Coding/pgp-tx/Better Files/ftp_election_data_16g/2016_General_Election_Returns.csv')"
   ]
  },
  {
   "cell_type": "code",
   "execution_count": 4,
   "metadata": {},
   "outputs": [],
   "source": [
    "VRTO_2012 = pd.read_csv('/Users/peterhorton/Documents/Redistricting_Data_Hub/Coding/pgp-tx/Better Files/ftp_election_data_16g/2012_General_Election_VRTO.csv')\n",
    "VRTO_2014 = pd.read_csv('/Users/peterhorton/Documents/Redistricting_Data_Hub/Coding/pgp-tx/Better Files/ftp_election_data_16g/2014_General_Election_VRTO.csv')\n",
    "VRTO_2016 = pd.read_csv('/Users/peterhorton/Documents/Redistricting_Data_Hub/Coding/pgp-tx/Better Files/ftp_election_data_16g/2016_General_Election_VRTO.csv')"
   ]
  },
  {
   "cell_type": "markdown",
   "metadata": {},
   "source": [
    "**Load VTD Shapefile**"
   ]
  },
  {
   "cell_type": "markdown",
   "metadata": {},
   "source": [
    "2016 VTD Shapefile is used for these results"
   ]
  },
  {
   "cell_type": "code",
   "execution_count": 128,
   "metadata": {},
   "outputs": [],
   "source": [
    "vtd_2016 = gp.read_file('/Users/peterhorton/Documents/Redistricting_Data_Hub/Coding/pgp-tx/Better Files/vtd16g/vtd16g.shp')"
   ]
  },
  {
   "cell_type": "code",
   "execution_count": 129,
   "metadata": {},
   "outputs": [],
   "source": []
  },
  {
   "cell_type": "markdown",
   "metadata": {},
   "source": [
    "**Load Census Data**"
   ]
  },
  {
   "cell_type": "markdown",
   "metadata": {},
   "source": [
    "2010 Census Data tied to 2016 VTDs"
   ]
  },
  {
   "cell_type": "code",
   "execution_count": 107,
   "metadata": {},
   "outputs": [],
   "source": [
    "census_data = pd.read_excel('/Users/peterhorton/Documents/Redistricting_Data_Hub/Coding/pgp-tx/Better Files/Pop2010_VTD_2016G.xlsx')"
   ]
  },
  {
   "cell_type": "markdown",
   "metadata": {},
   "source": [
    "**Load TX-House, TX-Sen, and US-House info**"
   ]
  },
  {
   "cell_type": "code",
   "execution_count": 179,
   "metadata": {},
   "outputs": [
    {
     "name": "stdout",
     "output_type": "stream",
     "text": [
      "District    31\n",
      "geometry    31\n",
      "dtype: int64\n",
      "District    150\n",
      "geometry    150\n",
      "dtype: int64\n"
     ]
    }
   ],
   "source": [
    "us_house = gp.read_file('/Users/peterhorton/Documents/Redistricting_Data_Hub/Coding/pgp-tx/Original Files/house_sen/tl_2016_us_cd115/tl_2016_us_cd115.shp')\n",
    "tx_sen = gp.read_file('/Users/peterhorton/Documents/Redistricting_Data_Hub/Coding/pgp-tx/Original Files/house_sen/PLANS172/PLANS172.shp')\n",
    "tx_house = gp.read_file('/Users/peterhorton/Documents/Redistricting_Data_Hub/Coding/pgp-tx/Original Files/house_sen/PLANH407/PLANH407.shp')\n",
    "print(tx_sen.count())\n",
    "print(tx_house.count())"
   ]
  },
  {
   "cell_type": "markdown",
   "metadata": {},
   "source": [
    "**Load PGP File**"
   ]
  },
  {
   "cell_type": "code",
   "execution_count": 112,
   "metadata": {},
   "outputs": [
    {
     "name": "stdout",
     "output_type": "stream",
     "text": [
      "CNTYVTD     8941\n",
      "VTD         8941\n",
      "WHITE       8941\n",
      "OTHER       8941\n",
      "HISPANIC    8941\n",
      "TOTPOP      8941\n",
      "VAP         8941\n",
      "BLACK       8941\n",
      "BLKHISP     8941\n",
      "WVAP        8941\n",
      "HISPVAP     8941\n",
      "BHVAP       8941\n",
      "BVAP        8941\n",
      "OTHVAP      8941\n",
      "COUNTY      8941\n",
      "FIPS        8941\n",
      "PRES12R     8941\n",
      "PRES12D     8941\n",
      "SEN12R      8941\n",
      "SEN12D      8941\n",
      "TOTVR12     8941\n",
      "TOTTO12     8941\n",
      "SEN14R      8941\n",
      "SEN14D      8941\n",
      "GOV14R      8941\n",
      "GOV14D      8941\n",
      "TOTVR14     8941\n",
      "TOTTO14     8941\n",
      "PRES16D     8941\n",
      "PRES16R     8941\n",
      "TOTVR16     8941\n",
      "TOTTO16     8941\n",
      "USCD        8941\n",
      "SEND        8941\n",
      "HD          8941\n",
      "AREA        8941\n",
      "PERIM       8941\n",
      "geometry    8941\n",
      "dtype: int64\n",
      "  CNTYVTD   VTD   WHITE  OTHER  HISPANIC  TOTPOP     VAP  BLACK  BLKHISP  \\\n",
      "0   10001  0001  2053.0   89.0     401.0  3131.0  2341.0  606.0    989.0   \n",
      "1   10002  0002  3171.0   64.0     245.0  3744.0  2732.0  272.0    509.0   \n",
      "2   10003  0003  1443.0   32.0     151.0  1766.0  1345.0  140.0    291.0   \n",
      "3   10004  0004  1962.0   40.0      78.0  2147.0  1684.0   72.0    145.0   \n",
      "4   10005  0005   454.0    2.0      14.0   476.0   366.0    6.0     20.0   \n",
      "\n",
      "     WVAP  ...  PRES16D  PRES16R  TOTVR16  TOTTO16 USCD  SEND  HD  AREA  \\\n",
      "0  1677.0  ...      262      742     1799     1030   05     3   8     6   \n",
      "1  2365.0  ...      181     1318     2455     1532   05     3   8   259   \n",
      "2  1134.0  ...       94      663     1195      776   05     3   8    72   \n",
      "3  1553.0  ...       96      869     1525      985   05     3   8   244   \n",
      "4   349.0  ...        9      180      282      191   05     3   8   171   \n",
      "\n",
      "   PERIM                                           geometry  \n",
      "0     15  POLYGON ((1413960.808 1073012.816, 1413971.571...  \n",
      "1     95  POLYGON ((1420165.429 1066385.798, 1420251.968...  \n",
      "2     55  POLYGON ((1416275.023 1072178.732, 1416410.201...  \n",
      "3     92  POLYGON ((1435604.819 1074650.256, 1435674.876...  \n",
      "4     87  POLYGON ((1436888.342 1072498.734, 1436911.364...  \n",
      "\n",
      "[5 rows x 38 columns]\n"
     ]
    }
   ],
   "source": [
    "tx_pgp_output = gp.read_file('/Users/peterhorton/Documents/Redistricting_Data_Hub/Coding/pgp-tx/Better Files/TX_vtds/TX_vtds.shp')\n",
    "print(tx_pgp_output.count())\n",
    "print(tx_pgp_output.head())"
   ]
  },
  {
   "cell_type": "markdown",
   "metadata": {},
   "source": [
    "**Pivot Election Data**"
   ]
  },
  {
   "cell_type": "code",
   "execution_count": 116,
   "metadata": {},
   "outputs": [],
   "source": [
    "office_list_2012 = [\"U.S. Sen\",\"President\"]\n",
    "party_list = [\"R\",\"D\"]\n",
    "returns_2012_filtered = returns_2012[returns_2012['Office'].isin(office_list_2012)]\n",
    "returns_2012_filtered = returns_2012_filtered[returns_2012_filtered['Party'].isin(party_list)]\n",
    "pivoted_2012 = pd.pivot_table(returns_2012_filtered, values=['Votes'], index=[\"cntyvtd\"],columns=[\"Office\",\"Party\"])\n",
    "pivoted_2012.columns = [\"PRES12D\",\"PRES12R\",\"SEN12D\",\"SEN12R\"]\n",
    "pivoted_2012.index.names = [\"CNTYVTD\"]\n",
    "#print(pivoted_2012.head())\n",
    "#print(pivoted_2012.count())"
   ]
  },
  {
   "cell_type": "code",
   "execution_count": 117,
   "metadata": {},
   "outputs": [],
   "source": [
    "office_list_2014 = [\"U.S. Sen\",\"Governor\"]\n",
    "party_list = [\"R\",\"D\"]\n",
    "returns_2014_filtered = returns_2014[returns_2014['Office'].isin(office_list_2014)]\n",
    "returns_2014_filtered = returns_2014_filtered[returns_2014_filtered['Party'].isin(party_list)]\n",
    "pivoted_2014 = pd.pivot_table(returns_2014_filtered, values=['Votes'], index=[\"cntyvtd\"],columns=[\"Office\",\"Party\"])\n",
    "pivoted_2014.columns = [\"GOV14D\",\"GOV14R\",\"SEN14D\",\"SEN14R\"]\n",
    "pivoted_2014.index.names = [\"CNTYVTD\"]\n",
    "#print(pivoted_2014.head())\n",
    "#print(pivoted_2014.count())"
   ]
  },
  {
   "cell_type": "code",
   "execution_count": 118,
   "metadata": {},
   "outputs": [],
   "source": [
    "office_list_2016 = [\"President\"]\n",
    "party_list = [\"R\",\"D\"]\n",
    "returns_2016_filtered = returns_2016[returns_2016['Office'].isin(office_list_2016)]\n",
    "returns_2016_filtered = returns_2016_filtered[returns_2016_filtered['Party'].isin(party_list)]\n",
    "pivoted_2016 = pd.pivot_table(returns_2016_filtered, values=['Votes'], index=[\"cntyvtd\"],columns=[\"Office\",\"Party\"])\n",
    "pivoted_2016.columns = [\"PRES16D\",\"PRES16R\"]\n",
    "pivoted_2016.index.names = [\"CNTYVTD\"]\n",
    "#print(pivoted_2016.head())\n",
    "#print(pivoted_2016.count())"
   ]
  },
  {
   "cell_type": "markdown",
   "metadata": {},
   "source": [
    "**Clean Turnout Data**"
   ]
  },
  {
   "cell_type": "code",
   "execution_count": 100,
   "metadata": {},
   "outputs": [],
   "source": [
    "VRTO_2012_filtered = VRTO_2012[[\"CNTYVTD\",\"TotalVR\",\"TotalTO\"]]\n",
    "VRTO_2012_filtered = VRTO_2012_filtered.rename(columns={\"TotalVR\": \"TOTVR12\", \"TotalTO\": \"TOTTO12\"})\n",
    "VRTO_2014_filtered = VRTO_2014[[\"CNTYVTD\",\"TotalVR\",\"TotalTO\"]]\n",
    "VRTO_2014_filtered = VRTO_2014_filtered.rename(columns={\"TotalVR\": \"TOTVR14\", \"TotalTO\": \"TOTTO14\"})\n",
    "VRTO_2016_filtered = VRTO_2016[[\"CNTYVTD\",\"TotalVR\",\"TotalTO\"]]\n",
    "VRTO_2016_filtered = VRTO_2016_filtered.rename(columns={\"TotalVR\": \"TOTVR16\", \"TotalTO\": \"TOTTO16\"})"
   ]
  },
  {
   "cell_type": "markdown",
   "metadata": {},
   "source": [
    "**Clean Census Data**"
   ]
  },
  {
   "cell_type": "code",
   "execution_count": 119,
   "metadata": {},
   "outputs": [],
   "source": [
    "census_data = census_data[[\"VTD\",\"CNTYVTD\",\"e_ang\",\"e_oth\",\"e_hsp\",\"e_total\",\"e_vap\",\"e_blak\",\"e_bh\",\"e_angvap\",\"e_hspvap\",\"e_bhvap\",\"e_blakvap\",\"e_othvap\"]]"
   ]
  },
  {
   "cell_type": "markdown",
   "metadata": {},
   "source": [
    "**Combine Turnout, Election, and Census Data**"
   ]
  },
  {
   "cell_type": "code",
   "execution_count": 131,
   "metadata": {},
   "outputs": [
    {
     "name": "stdout",
     "output_type": "stream",
     "text": [
      "VTD_x         8941\n",
      "CNTYVTD       8941\n",
      "e_ang         8941\n",
      "e_oth         8941\n",
      "e_hsp         8941\n",
      "e_total       8941\n",
      "e_vap         8941\n",
      "e_blak        8941\n",
      "e_bh          8941\n",
      "e_angvap      8941\n",
      "e_hspvap      8941\n",
      "e_bhvap       8941\n",
      "e_blakvap     8941\n",
      "e_othvap      8941\n",
      "PRES12D       8941\n",
      "PRES12R       8941\n",
      "SEN12D        8941\n",
      "SEN12R        8941\n",
      "TOTVR12       8941\n",
      "TOTTO12       8941\n",
      "GOV14D        8941\n",
      "GOV14R        8941\n",
      "SEN14D        8941\n",
      "SEN14R        8941\n",
      "TOTVR14       8941\n",
      "TOTTO14       8941\n",
      "PRES16D       8941\n",
      "PRES16R       8941\n",
      "TOTVR16       8941\n",
      "TOTTO16       8941\n",
      "CNTY          8941\n",
      "COLOR         8941\n",
      "VTD_y         8941\n",
      "VTDKEY        8941\n",
      "Shape_area    8941\n",
      "Shape_len     8941\n",
      "geometry      8941\n",
      "dtype: int64\n"
     ]
    }
   ],
   "source": [
    "all_voter_data = [census_data,pivoted_2012,VRTO_2012_filtered,pivoted_2014,VRTO_2014_filtered,pivoted_2016,VRTO_2016_filtered,vtd_2016]\n",
    "merged_voter_data = reduce(lambda  left,right: pd.merge(left,right,on=['CNTYVTD'], how='outer'), all_voter_data)\n",
    "print(merged_voter_data.count())"
   ]
  },
  {
   "cell_type": "markdown",
   "metadata": {},
   "source": [
    "**Assign to House Districts**"
   ]
  },
  {
   "cell_type": "code",
   "execution_count": 180,
   "metadata": {
    "scrolled": true
   },
   "outputs": [
    {
     "name": "stdout",
     "output_type": "stream",
     "text": [
      "    STATEFP CD115FP GEOID                  NAMELSAD LSAD CDSESSN  MTFCC  \\\n",
      "44       48      01  4801  Congressional District 1   C2     115  G5200   \n",
      "87       48      02  4802  Congressional District 2   C2     115  G5200   \n",
      "125      48      03  4803  Congressional District 3   C2     115  G5200   \n",
      "161      48      04  4804  Congressional District 4   C2     115  G5200   \n",
      "191      48      05  4805  Congressional District 5   C2     115  G5200   \n",
      "\n",
      "    FUNCSTAT        ALAND      AWATER     INTPTLAT      INTPTLON  \\\n",
      "44         N  20379602044   951776362  +31.9516781  -094.5520460   \n",
      "87         N    799720185    54789657  +30.0473686  -095.1782923   \n",
      "125        N   1245661528    97740060  +33.1594063  -096.6130717   \n",
      "161        N  26237731127  1010312804  +33.2982880  -095.4180633   \n",
      "191        N  13064499072   494023014  +32.2257951  -095.7316676   \n",
      "\n",
      "                                              geometry  \n",
      "44   POLYGON ((1412302.784 1176455.798, 1412346.279...  \n",
      "87   POLYGON ((1419867.628 862441.795, 1419867.611 ...  \n",
      "125  POLYGON ((1294427.044 1206789.827, 1294426.917...  \n",
      "161  POLYGON ((1282379.852 1301249.042, 1282379.702...  \n",
      "191  POLYGON ((1302160.384 1192639.364, 1302164.976...  \n",
      "epsg:3081\n",
      "STATEFP     36\n",
      "CD115FP     36\n",
      "GEOID       36\n",
      "NAMELSAD    36\n",
      "LSAD        36\n",
      "CDSESSN     36\n",
      "MTFCC       36\n",
      "FUNCSTAT    36\n",
      "ALAND       36\n",
      "AWATER      36\n",
      "INTPTLAT    36\n",
      "INTPTLON    36\n",
      "geometry    36\n",
      "dtype: int64\n"
     ]
    }
   ],
   "source": [
    "import warnings; warnings.filterwarnings('ignore', 'GeoSeries.isna', UserWarning)\n",
    "merged_voter_data = gp.GeoDataFrame(merged_voter_data, geometry='geometry')\n",
    "\n",
    "proj = vtd_2016.crs\n",
    "vtd_2016 = vtd_2016.to_crs(proj)\n",
    "\n",
    "merged_voter_data.set_crs(proj)\n",
    "merged_voter_data[\"geometry\"] = merged_voter_data.buffer(0)\n",
    "\n",
    "tx_sen.set_crs(proj)\n",
    "tx_sen[\"geometry\"] = tx_sen.buffer(0)\n",
    "\n",
    "tx_house.set_crs(proj)\n",
    "tx_house[\"geometry\"] = tx_house.buffer(0)\n",
    "\n",
    "us_house = us_house.to_crs(epsg=3081)\n",
    "us_house[\"geometry\"] = us_house.buffer(0)\n",
    "\n",
    "us_house = us_house[us_house['STATEFP']=='48']\n",
    "print(us_house.head())\n",
    "print(us_house.crs)\n",
    "print(us_house.count())"
   ]
  },
  {
   "cell_type": "code",
   "execution_count": 177,
   "metadata": {},
   "outputs": [],
   "source": [
    "import warnings; warnings.filterwarnings('ignore', 'GeoSeries.isna', UserWarning)\n",
    "tx_sen_assign = maup.assign(merged_voter_data, tx_sen)\n",
    "tx_house_assign = maup.assign(merged_voter_data, tx_house)\n"
   ]
  },
  {
   "cell_type": "code",
   "execution_count": 174,
   "metadata": {},
   "outputs": [],
   "source": [
    "import warnings; warnings.filterwarnings('ignore', 'GeoSeries.isna', UserWarning)\n",
    "us_house_assign = maup.assign(merged_voter_data, us_house)"
   ]
  },
  {
   "cell_type": "code",
   "execution_count": 176,
   "metadata": {},
   "outputs": [
    {
     "name": "stdout",
     "output_type": "stream",
     "text": [
      "0    23\n",
      "1    17\n",
      "2    30\n",
      "3    20\n",
      "4    24\n",
      "dtype: int64\n",
      "0     19\n",
      "1     29\n",
      "2     86\n",
      "3     41\n",
      "4    120\n",
      "dtype: int64\n",
      "0    391\n",
      "1    399\n",
      "2    328\n",
      "3    401\n",
      "4    375\n",
      "dtype: int64\n",
      "  VTD_x  CNTYVTD  e_ang  e_oth  e_hsp  e_total  e_vap  e_blak  e_bh  e_angvap  \\\n",
      "0  0008   530008   1117     19    131     1269    993       2   133       901   \n",
      "1  0024  4690024   1357      8    276     1679   1260      38   314      1044   \n",
      "2  0302  4210302    372     10    125      510    364       3   128       272   \n",
      "3  0340  4790340    336     87   2839     3274   2460      17  2851       275   \n",
      "4  4046   294046   2038    225   1012     3644   3083     416  1381      1839   \n",
      "\n",
      "   ...  CNTY  COLOR  VTD_y  VTDKEY    Shape_area      Shape_len  \\\n",
      "0  ...    53      2   0008       0  6.717692e+07   55772.006345   \n",
      "1  ...   469      2   0024       0  5.426296e+07   50831.107001   \n",
      "2  ...   421      6   0302       0  4.890835e+08  115435.448089   \n",
      "3  ...   479      1   0340       0  1.949293e+06    5991.528062   \n",
      "4  ...    29      5   4046       0  2.356032e+06    6851.937823   \n",
      "\n",
      "                                            geometry  SEND  USCD   HD  \n",
      "0  POLYGON ((1159123.585 956882.966, 1159183.604 ...    19    23  391  \n",
      "1  POLYGON ((1292779.280 755618.564, 1292761.756 ...    29    17  399  \n",
      "2  POLYGON ((835910.171 1592476.454, 835993.315 1...    86    30  328  \n",
      "3  POLYGON ((1052058.489 602069.618, 1052032.480 ...    41    20  401  \n",
      "4  POLYGON ((1151858.098 818462.053, 1151860.759 ...   120    24  375  \n",
      "\n",
      "[5 rows x 40 columns]\n"
     ]
    }
   ],
   "source": [
    "print(tx_sen_assign.head())\n",
    "print(tx_house_assign.head())\n",
    "print(us_house_assign.head())\n",
    "\n",
    "merged_voter_data['USCD']=us_house_assign\n",
    "merged_voter_data['SEND']=tx_house_assign\n",
    "merged_voter_data['HD']=tx_house_assign\n",
    "\n",
    "print(merged_voter_data.head())"
   ]
  },
  {
   "cell_type": "code",
   "execution_count": null,
   "metadata": {},
   "outputs": [],
   "source": []
  }
 ],
 "metadata": {
  "kernelspec": {
   "display_name": "Python 3",
   "language": "python",
   "name": "python3"
  },
  "language_info": {
   "codemirror_mode": {
    "name": "ipython",
    "version": 3
   },
   "file_extension": ".py",
   "mimetype": "text/x-python",
   "name": "python",
   "nbconvert_exporter": "python",
   "pygments_lexer": "ipython3",
   "version": "3.8.3"
  }
 },
 "nbformat": 4,
 "nbformat_minor": 4
}
