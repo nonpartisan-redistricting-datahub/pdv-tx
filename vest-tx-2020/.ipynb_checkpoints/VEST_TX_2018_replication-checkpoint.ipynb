{
 "cells": [
  {
   "cell_type": "code",
   "execution_count": 1,
   "metadata": {},
   "outputs": [],
   "source": [
    "import matplotlib.pyplot as plt # for plotting maps\n",
    "import pandas as pd # standard python data library\n",
    "import geopandas as gp # the geo-version of pandas\n",
    "import numpy as np \n",
    "from statistics import mean, median\n",
    "from functools import reduce\n",
    "import sys\n",
    "import os\n",
    "import glob"
   ]
  },
  {
   "cell_type": "markdown",
   "metadata": {},
   "source": [
    "# VEST TX 2018\n",
    "---\n",
    "## VEST's Documentation\n",
    "\n",
    "Election results and precinct shapefile from the Texas Legislative Council (https://data.capitol.texas.gov/). The precinct data files available for download at the TXLC Capitol Data Portal are allocated to Census VTD geography based on Voting Age Population from the 2010 Census. The unallocated precinct results and registration statistics were generously provided by TXLC staff to instead merge with the precinct boundaries.\n",
    "\n",
    "The shapefile includes unallocated Voter Registration (VR) and Spanish Surname Voter Registration (SSVR) for the November 2018 general election. Any VR data analysis of these unallocated precinct results should utilize this unallocated VR data rather than the VR data allocated by VTD available for download at CDP. SSVR is denoted as a percentile of total VR for each precinct.\n",
    "\n",
    "Precinct results for the following counties were replaced in whole or in part with county source files or with precinct data provided via the Secretary of State: Atascosa, Bexar, Blanco, Borden, Bowie, Brewster, Brown, Carson, Cherokee, Cochran, Comanche, Cooke, Culberson, Duval, Fort Bend, Gillespie, Hartley, Haskell, Hays, Hood, Jefferson, Jim Hogg, Johnson, Lamar, Matagorda, Midland, Nolan, Ochiltree, Robertson, Rockwall, Rusk, Starr, Terrell, Tyler.\n",
    "\n",
    "Precinct 4/6 in Gonzales was merged prior to 2008. Gonzales 4 was the city of Nixon while Gonzales 6 was the surrounding county precinct. However, they reappear as separate line items in the 2018 general election county report. Since these are otherwise regarded as a unitary precinct and it is unclear that the separate 2018 line items correspond to the obsolete boundaries the results for Gonzales 4/6 were combined in the shapefile.\n",
    "\n",
    "Precinct totals for the counties listed below do not add up to the Secretary of State County Canvass for one or more offices. Most commonly this is due to omission of some ballots counted after election day from either the county precinct reports or from summary results certified to the state. In some cases these involve data entry errors where numbers were transposed, dropped, or added in one or more precincts or in countywide summations. In some cases corrections to the initial precinct results were made after the certification deadline.\n",
    "\n",
    "Armstrong, Bailey, Bandera, Baylor, Calhoun, Childress, Cochran, Collingsworth, Cottle, Culberson, Dimmit, Fayette, Galveston, Goliad, Gonzales, Hall, Hartley, Haskell, Hockley, Hudspeth, Jackson, Kent, Live Oak, Loving, McCulloch, Moore, Morris, Motley, Presidio, Reeves, Runnells, San Saba, Somervell, Starr, Stephens, Terrell, Titus, Waller, Ward, Wichita, Willacy, Winkler, Zavala.\n",
    "\n",
    "Most of the discrepancies are in single digits or low double digits. The exceptions are an 80 vote overreport from Jackson for Ted Cruz (R) for U.S. Senate, a 2000 vote overreport from Galveston for Ken Paxton (R) for Attorney General, a 273 vote underreport from Somervell for Justin Nelson (D) for Attorney General, a 2000 vote underreport from Starr for Jimmy Blacklock (R) for Supreme Court Justice 2, an 8470 vote underreport from Wichita for Steven Kirkland (D) for Supreme Court Justice 2, a 90 vote underreport from Moore for Michelle Slaughter (R) for Criminal Appeals Judge 8, a 10229 vote underreport from Waller for Michelle Slaughter (R) for Criminal Appeals Judge 8, and a 2934 vote underreport from Waller for Mark Ash (L) for Criminal Appeals Judge 8.\n",
    "\n",
    "Votes reported countywide were distributed by candidate to precincts based on the precinct-level reported vote. This includes all early ballots in Collingsworth, Crockett, Dawson, Hudspeth, Kent, McMullen, and Trinity. Mail ballots in Armstrong. Federal and/or limited ballots in Bexar, Brazos, Hays, Jefferson, and Rockwall. Provisional and military ballots in Bowie.\n",
    "\n",
    "The following counties reported combined results for some precincts. As these specific precincts align with VTD boundaries the combined results were replaced with the VTD allocated precinct results from the TXLC Capitol Data Portal. Any data corrections or distributions noted above were transferred accordingly.\n",
    "\n",
    "Bowie: 1A/4E, 1B/2A, 2B/4D/5A, 2D/4A/4C/5B, 13/30, 21/22, 24/25\n",
    "Dallam: 2/8, 3/5/9\n",
    "Howard: 11-16/103-105, 24-26/205, 32-35/304, 42-46/404-405, 207-208, 408/409\n",
    "Kleberg: 33/34\n",
    "Lamb: 7/8\n",
    "Lynn: 2/8, 3/10, 4/11\n",
    "McMullen: 2A/2B, 4A/4B\n",
    "Newton: 11/13/21\n",
    "Real: 4/7\n",
    "Red River: 1/11, 17/18, 27/30\n",
    "San Saba: 2A/2B, 3A/3B, 4A/4B\n",
    "\n",
    "* G18VR - Voter registration\n",
    "* G18SSVR - Spanish surname voter registration\n",
    "\n",
    "\n",
    "* G18USSRCRU - Ted Cruz (Republican Party)\n",
    "* G18USSDORO - Beto O'Rourke (Democratic Party)\n",
    "* G18USSLDIK - Neal M. Dikeman (Libertarian Party)\n",
    "\n",
    "\n",
    "* G18GOVRABB - Greg Abbott (Republican Party)\n",
    "* G18GOVDVAL - Lupe Valdez (Democratic Party)\n",
    "* G18GOVLTIP - Mark Jay Tippetts (Libertarian Party)\n",
    "\n",
    "\n",
    "* G18LTGRPAT - Dan Patrick (Republican Party)\n",
    "* G18LTGDCOL - Mike Collier (Democratic Party)\n",
    "* G18LTGLMCK - Kerry Douglas McKennon (Libertarian Party)\n",
    "\n",
    "\n",
    "* G18ATGRPAX - Ken Paxton (Republican Party)\n",
    "* G18ATGDNEL - Justin Nelson (Democratic Party)\n",
    "* G18ATGLHAR - Michael Ray Harris (Libertarian Party)\n",
    "\n",
    "\n",
    "* G18COMRHEG - Glenn Hegar (Republican Party)\n",
    "* G18COMDCHE - Joi Chevalier (Democratic Party)\n",
    "* G18COMLSAN - Ben Sanders (Libertarian Party)\n",
    "\n",
    "\n",
    "* G18LANRBUS - George P. Bush (Republican Party)\n",
    "* G18LANDSUA - Miguel Suazo (Democratic Party)\n",
    "* G18LANLPIN - Matt Pina (Libertarian Party)\n",
    "\n",
    "\n",
    "* G18AGRRMIL - Sid Miller (Republican Party)\n",
    "* G18AGRDOLS - Kim Olson (Democratic Party)\n",
    "* G18AGRLCAR - Richard Carpenter (Libertarian Party)\n",
    "\n",
    "\n",
    "* G18RRCRCRA - Christi Craddick (Republican Party)\n",
    "* G18RRCDMCA - Roman McAllen (Democratic Party)\n",
    "* G18RRCLWRI - Mike Wright (Libertarian Party)\n",
    "\n",
    "\n",
    "* G18SSCRBLA - Jimmy Blacklock (Republican Party)\n",
    "* G18SSCDKIR - Stever Kirkland (Democratic Party)\n",
    "\n",
    "\n",
    "* G18SSCRDEV - John Devine (Republican Party)\n",
    "* G18SSCDSAN - R.K. Sandill (Democratic Party)\n",
    "\n",
    "\n",
    "* G18SSCRBRO - Jeff Brown (Republican Party)\n",
    "* G18SSCDCHE - Kathy Cheng (Democratic Party)\n",
    "\n",
    "\n",
    "* G18SCCRKEL - Sharon Keller (Republican Party)\n",
    "* G18SCCDJAC - Maria T. (Terri) Jackson (Democratic Party)\n",
    "* G18SCCLSTR - William Bryan Strange III (Libertarian Party)\n",
    "\n",
    "\n",
    "* G18SCCRHER - Barbara Parker Hervey (Republican Party)\n",
    "* G18SCCDFRA - Romana Franklin (Democratic Party)\n",
    "\n",
    "\n",
    "* G18SCCRSLA - Michelle Slaughter (Republican Party)\n",
    "* G18SCCLASH - Mark Ash (Libertarian Party)"
   ]
  },
  {
   "cell_type": "markdown",
   "metadata": {},
   "source": [
    "# Election Results"
   ]
  },
  {
   "cell_type": "markdown",
   "metadata": {},
   "source": [
    "## Load Election Results"
   ]
  },
  {
   "cell_type": "markdown",
   "metadata": {},
   "source": [
    "This data file reports elections from 2018 on a map of TX's 2016 VTDs. The TX Capitol Data Portal Website has this data online already.  \n",
    "\n",
    "Election results and turnout data are stored in separate files. "
   ]
  },
  {
   "cell_type": "code",
   "execution_count": 2,
   "metadata": {},
   "outputs": [],
   "source": [
    "all_files = glob.glob(\"./raw-from-source/Election_Results/*.csv\") \n",
    "df = pd.concat((pd.read_csv(f, header = 0) for f in all_files), axis = 1)"
   ]
  },
  {
   "cell_type": "code",
   "execution_count": 3,
   "metadata": {},
   "outputs": [],
   "source": [
    "returns_2018 = df.loc[:,~df.columns.duplicated()]"
   ]
  },
  {
   "cell_type": "code",
   "execution_count": 4,
   "metadata": {},
   "outputs": [],
   "source": [
    "# Rename the columns to match VEST\n",
    "returns_2018 = returns_2018.rename(columns = {'MillerR_18G_Ag Comm':'G18AGRRMIL', \n",
    "                                 'OlsonD_18G_Ag Comm':'G18AGRDOLS',\n",
    "                                 'CarpenterL_18G_Ag Comm':'G18AGRLCAR', \n",
    "                                 'PaxtonR_18G_Attorney Gen':'G18ATGRPAX',\n",
    "                                 'NelsonD_18G_Attorney Gen':'G18ATGDNEL', \n",
    "                                 'HarrisL_18G_Attorney Gen':'G18ATGLHAR',\n",
    "                                 'HerveyR_18G_CCA 7':'G18SCCRHER', \n",
    "                                 'FranklinD_18G_CCA 7':'G18SCCDFRA', \n",
    "                                 'SlaughterR_18G_CCA 8':'G18SCCRSLA',\n",
    "                                 'AshL_18G_CCA 8':'G18SCCLASH', \n",
    "                                 'KellerR_18G_CCA Pres Judge':'G18SCCRKEL',\n",
    "                                 'StrangeL_18G_CCA Pres Judge':'G18SCCLSTR', \n",
    "                                 'JacksonD_18G_CCA Pres Judge':'G18SCCDJAC',\n",
    "                                 'HegarR_18G_Comptroller':'G18COMRHEG', \n",
    "                                 'ChevalierD_18G_Comptroller':'G18COMDCHE',\n",
    "                                 'SandersL_18G_Comptroller':'G18COMLSAN', \n",
    "                                 'AbbottR_18G_Governor':'G18GOVRABB',\n",
    "                                 'ValdezD_18G_Governor':'G18GOVDVAL', \n",
    "                                 'TippettsL_18G_Governor':'G18GOVLTIP', \n",
    "                                 'BushR_18G_Land Comm':'G18LANRBUS',\n",
    "                                 'SuazoD_18G_Land Comm':'G18LANDSUA', \n",
    "                                 'PinaL_18G_Land Comm':'G18LANLPIN',\n",
    "                                 'PatrickR_18G_Lt. Governor':'G18LTGRPAT', \n",
    "                                 'CollierD_18G_Lt. Governor':'G18LTGDCOL',\n",
    "                                 'McKennonL_18G_Lt. Governor':'G18LTGLMCK', \n",
    "                                 'CraddickR_18G_RR Comm 1':'G18RRCRCRA',\n",
    "                                 'McAllenD_18G_RR Comm 1':'G18RRCDMCA', \n",
    "                                 'WrightL_18G_RR Comm 1':'G18RRCLWRI',\n",
    "                                 'BlacklockR_18G_Sup Ct 2':'G18SSCRBLA', \n",
    "                                 'KirklandD_18G_Sup Ct 2':'G18SSCDKIR',\n",
    "                                 'DevineR_18G_Sup Ct 4':'G18SSCRDEV', \n",
    "                                 'SandillD_18G_Sup Ct 4':'G18SSCDSAN', \n",
    "                                 'BrownR_18G_Sup Ct 6':'G18SSCRBRO',\n",
    "                                 'ChengD_18G_Sup Ct 6':'G18SSCDCHE', \n",
    "                                 'CruzR_18G_U.S. Sen':'G18USSRCRU', \n",
    "                                 \"O'RourkeD_18G_U.S. Sen\":'G18USSDORO',\n",
    "                                 'DikemanL_18G_U.S. Sen':'G18USSLDIK'})\n",
    "# Reorder the columns to match VEST\n",
    "returns_2018 = returns_2018[['CNTYVTD', 'VTDKEY',\n",
    "       'G18USSRCRU', 'G18USSDORO', 'G18USSLDIK', 'G18GOVRABB', 'G18GOVDVAL',\n",
    "       'G18GOVLTIP', 'G18LTGRPAT', 'G18LTGDCOL', 'G18LTGLMCK', 'G18ATGRPAX',\n",
    "       'G18ATGDNEL', 'G18ATGLHAR', 'G18COMRHEG', 'G18COMDCHE', 'G18COMLSAN',\n",
    "       'G18LANRBUS', 'G18LANDSUA', 'G18LANLPIN', 'G18AGRRMIL', 'G18AGRDOLS',\n",
    "       'G18AGRLCAR', 'G18RRCRCRA', 'G18RRCDMCA', 'G18RRCLWRI', 'G18SSCRBLA',\n",
    "       'G18SSCDKIR', 'G18SSCRDEV', 'G18SSCDSAN', 'G18SSCRBRO', 'G18SSCDCHE',\n",
    "       'G18SCCRKEL', 'G18SCCDJAC', 'G18SCCLSTR', 'G18SCCRHER', 'G18SCCDFRA',\n",
    "       'G18SCCRSLA', 'G18SCCLASH']]"
   ]
  },
  {
   "cell_type": "code",
   "execution_count": 5,
   "metadata": {},
   "outputs": [],
   "source": [
    "# Set CNTYVTD as index\n",
    "returns_2018.set_index('CNTYVTD', inplace=True)\n",
    "\n",
    "# Drop VTDKEY\n",
    "returns_2018 = returns_2018.drop('VTDKEY', axis = 1)"
   ]
  },
  {
   "cell_type": "code",
   "execution_count": 6,
   "metadata": {},
   "outputs": [
    {
     "data": {
      "text/html": [
       "<div>\n",
       "<style scoped>\n",
       "    .dataframe tbody tr th:only-of-type {\n",
       "        vertical-align: middle;\n",
       "    }\n",
       "\n",
       "    .dataframe tbody tr th {\n",
       "        vertical-align: top;\n",
       "    }\n",
       "\n",
       "    .dataframe thead th {\n",
       "        text-align: right;\n",
       "    }\n",
       "</style>\n",
       "<table border=\"1\" class=\"dataframe\">\n",
       "  <thead>\n",
       "    <tr style=\"text-align: right;\">\n",
       "      <th></th>\n",
       "      <th>G18USSRCRU</th>\n",
       "      <th>G18USSDORO</th>\n",
       "      <th>G18USSLDIK</th>\n",
       "      <th>G18GOVRABB</th>\n",
       "      <th>G18GOVDVAL</th>\n",
       "      <th>G18GOVLTIP</th>\n",
       "      <th>G18LTGRPAT</th>\n",
       "      <th>G18LTGDCOL</th>\n",
       "      <th>G18LTGLMCK</th>\n",
       "      <th>G18ATGRPAX</th>\n",
       "      <th>...</th>\n",
       "      <th>G18SSCDSAN</th>\n",
       "      <th>G18SSCRBRO</th>\n",
       "      <th>G18SSCDCHE</th>\n",
       "      <th>G18SCCRKEL</th>\n",
       "      <th>G18SCCDJAC</th>\n",
       "      <th>G18SCCLSTR</th>\n",
       "      <th>G18SCCRHER</th>\n",
       "      <th>G18SCCDFRA</th>\n",
       "      <th>G18SCCRSLA</th>\n",
       "      <th>G18SCCLASH</th>\n",
       "    </tr>\n",
       "    <tr>\n",
       "      <th>CNTYVTD</th>\n",
       "      <th></th>\n",
       "      <th></th>\n",
       "      <th></th>\n",
       "      <th></th>\n",
       "      <th></th>\n",
       "      <th></th>\n",
       "      <th></th>\n",
       "      <th></th>\n",
       "      <th></th>\n",
       "      <th></th>\n",
       "      <th></th>\n",
       "      <th></th>\n",
       "      <th></th>\n",
       "      <th></th>\n",
       "      <th></th>\n",
       "      <th></th>\n",
       "      <th></th>\n",
       "      <th></th>\n",
       "      <th></th>\n",
       "      <th></th>\n",
       "      <th></th>\n",
       "    </tr>\n",
       "  </thead>\n",
       "  <tbody>\n",
       "    <tr>\n",
       "      <th>0010001</th>\n",
       "      <td>659</td>\n",
       "      <td>261</td>\n",
       "      <td>6</td>\n",
       "      <td>699</td>\n",
       "      <td>214</td>\n",
       "      <td>11</td>\n",
       "      <td>634</td>\n",
       "      <td>260</td>\n",
       "      <td>26</td>\n",
       "      <td>637</td>\n",
       "      <td>...</td>\n",
       "      <td>235</td>\n",
       "      <td>669</td>\n",
       "      <td>239</td>\n",
       "      <td>651</td>\n",
       "      <td>237</td>\n",
       "      <td>19</td>\n",
       "      <td>670</td>\n",
       "      <td>237</td>\n",
       "      <td>689</td>\n",
       "      <td>143</td>\n",
       "    </tr>\n",
       "    <tr>\n",
       "      <th>0010002</th>\n",
       "      <td>1062</td>\n",
       "      <td>168</td>\n",
       "      <td>7</td>\n",
       "      <td>1090</td>\n",
       "      <td>134</td>\n",
       "      <td>13</td>\n",
       "      <td>1052</td>\n",
       "      <td>163</td>\n",
       "      <td>16</td>\n",
       "      <td>1041</td>\n",
       "      <td>...</td>\n",
       "      <td>156</td>\n",
       "      <td>1064</td>\n",
       "      <td>155</td>\n",
       "      <td>1052</td>\n",
       "      <td>160</td>\n",
       "      <td>11</td>\n",
       "      <td>1066</td>\n",
       "      <td>156</td>\n",
       "      <td>1063</td>\n",
       "      <td>84</td>\n",
       "    </tr>\n",
       "    <tr>\n",
       "      <th>0010003</th>\n",
       "      <td>571</td>\n",
       "      <td>99</td>\n",
       "      <td>4</td>\n",
       "      <td>593</td>\n",
       "      <td>80</td>\n",
       "      <td>2</td>\n",
       "      <td>563</td>\n",
       "      <td>100</td>\n",
       "      <td>7</td>\n",
       "      <td>554</td>\n",
       "      <td>...</td>\n",
       "      <td>98</td>\n",
       "      <td>564</td>\n",
       "      <td>91</td>\n",
       "      <td>558</td>\n",
       "      <td>96</td>\n",
       "      <td>6</td>\n",
       "      <td>567</td>\n",
       "      <td>93</td>\n",
       "      <td>572</td>\n",
       "      <td>53</td>\n",
       "    </tr>\n",
       "    <tr>\n",
       "      <th>0010004</th>\n",
       "      <td>752</td>\n",
       "      <td>97</td>\n",
       "      <td>3</td>\n",
       "      <td>767</td>\n",
       "      <td>77</td>\n",
       "      <td>9</td>\n",
       "      <td>732</td>\n",
       "      <td>103</td>\n",
       "      <td>11</td>\n",
       "      <td>732</td>\n",
       "      <td>...</td>\n",
       "      <td>93</td>\n",
       "      <td>737</td>\n",
       "      <td>94</td>\n",
       "      <td>733</td>\n",
       "      <td>93</td>\n",
       "      <td>11</td>\n",
       "      <td>739</td>\n",
       "      <td>98</td>\n",
       "      <td>749</td>\n",
       "      <td>48</td>\n",
       "    </tr>\n",
       "    <tr>\n",
       "      <th>0010005</th>\n",
       "      <td>179</td>\n",
       "      <td>11</td>\n",
       "      <td>1</td>\n",
       "      <td>182</td>\n",
       "      <td>8</td>\n",
       "      <td>1</td>\n",
       "      <td>176</td>\n",
       "      <td>12</td>\n",
       "      <td>3</td>\n",
       "      <td>174</td>\n",
       "      <td>...</td>\n",
       "      <td>12</td>\n",
       "      <td>177</td>\n",
       "      <td>12</td>\n",
       "      <td>175</td>\n",
       "      <td>13</td>\n",
       "      <td>3</td>\n",
       "      <td>179</td>\n",
       "      <td>11</td>\n",
       "      <td>181</td>\n",
       "      <td>8</td>\n",
       "    </tr>\n",
       "  </tbody>\n",
       "</table>\n",
       "<p>5 rows × 37 columns</p>\n",
       "</div>"
      ],
      "text/plain": [
       "         G18USSRCRU  G18USSDORO  G18USSLDIK  G18GOVRABB  G18GOVDVAL  \\\n",
       "CNTYVTD                                                               \n",
       "0010001         659         261           6         699         214   \n",
       "0010002        1062         168           7        1090         134   \n",
       "0010003         571          99           4         593          80   \n",
       "0010004         752          97           3         767          77   \n",
       "0010005         179          11           1         182           8   \n",
       "\n",
       "         G18GOVLTIP  G18LTGRPAT  G18LTGDCOL  G18LTGLMCK  G18ATGRPAX  ...  \\\n",
       "CNTYVTD                                                              ...   \n",
       "0010001          11         634         260          26         637  ...   \n",
       "0010002          13        1052         163          16        1041  ...   \n",
       "0010003           2         563         100           7         554  ...   \n",
       "0010004           9         732         103          11         732  ...   \n",
       "0010005           1         176          12           3         174  ...   \n",
       "\n",
       "         G18SSCDSAN  G18SSCRBRO  G18SSCDCHE  G18SCCRKEL  G18SCCDJAC  \\\n",
       "CNTYVTD                                                               \n",
       "0010001         235         669         239         651         237   \n",
       "0010002         156        1064         155        1052         160   \n",
       "0010003          98         564          91         558          96   \n",
       "0010004          93         737          94         733          93   \n",
       "0010005          12         177          12         175          13   \n",
       "\n",
       "         G18SCCLSTR  G18SCCRHER  G18SCCDFRA  G18SCCRSLA  G18SCCLASH  \n",
       "CNTYVTD                                                              \n",
       "0010001          19         670         237         689         143  \n",
       "0010002          11        1066         156        1063          84  \n",
       "0010003           6         567          93         572          53  \n",
       "0010004          11         739          98         749          48  \n",
       "0010005           3         179          11         181           8  \n",
       "\n",
       "[5 rows x 37 columns]"
      ]
     },
     "execution_count": 6,
     "metadata": {},
     "output_type": "execute_result"
    }
   ],
   "source": [
    "returns_2018.head()"
   ]
  },
  {
   "cell_type": "markdown",
   "metadata": {},
   "source": [
    "These sums look right against official totals. "
   ]
  },
  {
   "cell_type": "code",
   "execution_count": 7,
   "metadata": {},
   "outputs": [
    {
     "data": {
      "text/plain": [
       "(9157, 37)"
      ]
     },
     "execution_count": 7,
     "metadata": {},
     "output_type": "execute_result"
    }
   ],
   "source": [
    "returns_2018.shape"
   ]
  },
  {
   "cell_type": "markdown",
   "metadata": {},
   "source": [
    "# VTD Shapefile"
   ]
  },
  {
   "cell_type": "markdown",
   "metadata": {},
   "source": [
    "## Load TX Raw Shapefile"
   ]
  },
  {
   "cell_type": "markdown",
   "metadata": {},
   "source": [
    "2016 General Election VTD Shapefile is used for these results"
   ]
  },
  {
   "cell_type": "code",
   "execution_count": 8,
   "metadata": {},
   "outputs": [],
   "source": [
    "vtd_2018 = gp.read_file('./raw-from-source/vtd18g/vtd18g.shp')"
   ]
  },
  {
   "cell_type": "code",
   "execution_count": 9,
   "metadata": {},
   "outputs": [
    {
     "data": {
      "text/html": [
       "<div>\n",
       "<style scoped>\n",
       "    .dataframe tbody tr th:only-of-type {\n",
       "        vertical-align: middle;\n",
       "    }\n",
       "\n",
       "    .dataframe tbody tr th {\n",
       "        vertical-align: top;\n",
       "    }\n",
       "\n",
       "    .dataframe thead th {\n",
       "        text-align: right;\n",
       "    }\n",
       "</style>\n",
       "<table border=\"1\" class=\"dataframe\">\n",
       "  <thead>\n",
       "    <tr style=\"text-align: right;\">\n",
       "      <th></th>\n",
       "      <th>CNTY</th>\n",
       "      <th>COLOR</th>\n",
       "      <th>VTD</th>\n",
       "      <th>CNTYVTD</th>\n",
       "      <th>VTDKEY</th>\n",
       "      <th>Shape_area</th>\n",
       "      <th>Shape_len</th>\n",
       "      <th>geometry</th>\n",
       "    </tr>\n",
       "  </thead>\n",
       "  <tbody>\n",
       "    <tr>\n",
       "      <th>0</th>\n",
       "      <td>201</td>\n",
       "      <td>6</td>\n",
       "      <td>0922</td>\n",
       "      <td>2010922</td>\n",
       "      <td>0</td>\n",
       "      <td>11.391193</td>\n",
       "      <td>16.595654</td>\n",
       "      <td>POLYGON ((1445588.123 850598.115, 1445585.855 ...</td>\n",
       "    </tr>\n",
       "    <tr>\n",
       "      <th>1</th>\n",
       "      <td>201</td>\n",
       "      <td>6</td>\n",
       "      <td>0527B</td>\n",
       "      <td>2010527B</td>\n",
       "      <td>0</td>\n",
       "      <td>17.756082</td>\n",
       "      <td>19.819107</td>\n",
       "      <td>POLYGON ((1465923.793 853092.719, 1465918.015 ...</td>\n",
       "    </tr>\n",
       "    <tr>\n",
       "      <th>2</th>\n",
       "      <td>113</td>\n",
       "      <td>7</td>\n",
       "      <td>4000C</td>\n",
       "      <td>1134000C</td>\n",
       "      <td>0</td>\n",
       "      <td>68.654292</td>\n",
       "      <td>41.345026</td>\n",
       "      <td>POLYGON ((1286620.316 1193932.365, 1286635.667...</td>\n",
       "    </tr>\n",
       "    <tr>\n",
       "      <th>3</th>\n",
       "      <td>55</td>\n",
       "      <td>7</td>\n",
       "      <td>0116</td>\n",
       "      <td>550116</td>\n",
       "      <td>0</td>\n",
       "      <td>57.124255</td>\n",
       "      <td>51.008696</td>\n",
       "      <td>POLYGON ((1219808.808 859997.884, 1219822.067 ...</td>\n",
       "    </tr>\n",
       "    <tr>\n",
       "      <th>4</th>\n",
       "      <td>113</td>\n",
       "      <td>7</td>\n",
       "      <td>4650</td>\n",
       "      <td>1134650</td>\n",
       "      <td>0</td>\n",
       "      <td>151.558435</td>\n",
       "      <td>56.692727</td>\n",
       "      <td>POLYGON ((1286666.265 1183249.708, 1286666.916...</td>\n",
       "    </tr>\n",
       "  </tbody>\n",
       "</table>\n",
       "</div>"
      ],
      "text/plain": [
       "   CNTY  COLOR    VTD   CNTYVTD  VTDKEY  Shape_area  Shape_len  \\\n",
       "0   201      6   0922   2010922       0   11.391193  16.595654   \n",
       "1   201      6  0527B  2010527B       0   17.756082  19.819107   \n",
       "2   113      7  4000C  1134000C       0   68.654292  41.345026   \n",
       "3    55      7   0116    550116       0   57.124255  51.008696   \n",
       "4   113      7   4650   1134650       0  151.558435  56.692727   \n",
       "\n",
       "                                            geometry  \n",
       "0  POLYGON ((1445588.123 850598.115, 1445585.855 ...  \n",
       "1  POLYGON ((1465923.793 853092.719, 1465918.015 ...  \n",
       "2  POLYGON ((1286620.316 1193932.365, 1286635.667...  \n",
       "3  POLYGON ((1219808.808 859997.884, 1219822.067 ...  \n",
       "4  POLYGON ((1286666.265 1183249.708, 1286666.916...  "
      ]
     },
     "execution_count": 9,
     "metadata": {},
     "output_type": "execute_result"
    }
   ],
   "source": [
    "vtd_2018.head()"
   ]
  },
  {
   "cell_type": "code",
   "execution_count": 10,
   "metadata": {},
   "outputs": [
    {
     "data": {
      "text/plain": [
       "(9082, 8)"
      ]
     },
     "execution_count": 10,
     "metadata": {},
     "output_type": "execute_result"
    }
   ],
   "source": [
    "vtd_2018.shape"
   ]
  },
  {
   "cell_type": "code",
   "execution_count": 11,
   "metadata": {},
   "outputs": [
    {
     "data": {
      "text/plain": [
       "<Projected CRS: PROJCS[\"NAD_1983_Lambert_Conformal_Conic\",GEOGCS[\" ...>\n",
       "Name: NAD_1983_Lambert_Conformal_Conic\n",
       "Axis Info [cartesian]:\n",
       "- [east]: Easting (metre)\n",
       "- [north]: Northing (metre)\n",
       "Area of Use:\n",
       "- undefined\n",
       "Coordinate Operation:\n",
       "- name: unnamed\n",
       "- method: Lambert Conic Conformal (2SP)\n",
       "Datum: North American Datum 1983\n",
       "- Ellipsoid: GRS 1980\n",
       "- Prime Meridian: Greenwich"
      ]
     },
     "execution_count": 11,
     "metadata": {},
     "output_type": "execute_result"
    }
   ],
   "source": [
    "vtd_2018.crs"
   ]
  },
  {
   "cell_type": "code",
   "execution_count": 12,
   "metadata": {},
   "outputs": [
    {
     "data": {
      "text/plain": [
       "<AxesSubplot:>"
      ]
     },
     "execution_count": 12,
     "metadata": {},
     "output_type": "execute_result"
    },
    {
     "data": {
      "image/png": "[encoded data removed]",
      "text/plain": [
       "<Figure size 432x288 with 1 Axes>"
      ]
     },
     "metadata": {
      "needs_background": "light"
     },
     "output_type": "display_data"
    }
   ],
   "source": [
    "vtd_2018.boundary.plot()"
   ]
  },
  {
   "cell_type": "markdown",
   "metadata": {},
   "source": [
    "## Load VEST Final Shapefile"
   ]
  },
  {
   "cell_type": "code",
   "execution_count": 13,
   "metadata": {},
   "outputs": [],
   "source": [
    "tx_vest = gp.read_file('./raw-from-source/VEST/tx_2018/tx_2018.shp')"
   ]
  },
  {
   "cell_type": "code",
   "execution_count": 14,
   "metadata": {},
   "outputs": [
    {
     "data": {
      "text/html": [
       "<div>\n",
       "<style scoped>\n",
       "    .dataframe tbody tr th:only-of-type {\n",
       "        vertical-align: middle;\n",
       "    }\n",
       "\n",
       "    .dataframe tbody tr th {\n",
       "        vertical-align: top;\n",
       "    }\n",
       "\n",
       "    .dataframe thead th {\n",
       "        text-align: right;\n",
       "    }\n",
       "</style>\n",
       "<table border=\"1\" class=\"dataframe\">\n",
       "  <thead>\n",
       "    <tr style=\"text-align: right;\">\n",
       "      <th></th>\n",
       "      <th>CNTY</th>\n",
       "      <th>COLOR</th>\n",
       "      <th>PREC</th>\n",
       "      <th>PCTKEY</th>\n",
       "      <th>CNTYKEY</th>\n",
       "      <th>G18VR</th>\n",
       "      <th>G18SSVR</th>\n",
       "      <th>G18USSRCRU</th>\n",
       "      <th>G18USSDORO</th>\n",
       "      <th>G18USSLDIK</th>\n",
       "      <th>...</th>\n",
       "      <th>G18SSCRBRO</th>\n",
       "      <th>G18SSCDCHE</th>\n",
       "      <th>G18SCCRKEL</th>\n",
       "      <th>G18SCCDJAC</th>\n",
       "      <th>G18SCCLSTR</th>\n",
       "      <th>G18SCCRHER</th>\n",
       "      <th>G18SCCDFRA</th>\n",
       "      <th>G18SCCRSLA</th>\n",
       "      <th>G18SCCLASH</th>\n",
       "      <th>geometry</th>\n",
       "    </tr>\n",
       "  </thead>\n",
       "  <tbody>\n",
       "    <tr>\n",
       "      <th>0</th>\n",
       "      <td>113</td>\n",
       "      <td>1</td>\n",
       "      <td>1104</td>\n",
       "      <td>1131104</td>\n",
       "      <td>57</td>\n",
       "      <td>2673</td>\n",
       "      <td>36.7</td>\n",
       "      <td>106</td>\n",
       "      <td>924</td>\n",
       "      <td>5</td>\n",
       "      <td>...</td>\n",
       "      <td>116</td>\n",
       "      <td>897</td>\n",
       "      <td>112</td>\n",
       "      <td>889</td>\n",
       "      <td>17</td>\n",
       "      <td>118</td>\n",
       "      <td>897</td>\n",
       "      <td>157</td>\n",
       "      <td>292</td>\n",
       "      <td>POLYGON ((1314208.406 1178220.110, 1314211.847...</td>\n",
       "    </tr>\n",
       "    <tr>\n",
       "      <th>1</th>\n",
       "      <td>201</td>\n",
       "      <td>5</td>\n",
       "      <td>0312</td>\n",
       "      <td>2010312</td>\n",
       "      <td>101</td>\n",
       "      <td>3985</td>\n",
       "      <td>11.5</td>\n",
       "      <td>926</td>\n",
       "      <td>1096</td>\n",
       "      <td>12</td>\n",
       "      <td>...</td>\n",
       "      <td>1014</td>\n",
       "      <td>1009</td>\n",
       "      <td>947</td>\n",
       "      <td>1045</td>\n",
       "      <td>28</td>\n",
       "      <td>1021</td>\n",
       "      <td>993</td>\n",
       "      <td>1082</td>\n",
       "      <td>372</td>\n",
       "      <td>POLYGON ((1432565.993 851290.217, 1432575.099 ...</td>\n",
       "    </tr>\n",
       "    <tr>\n",
       "      <th>2</th>\n",
       "      <td>351</td>\n",
       "      <td>1</td>\n",
       "      <td>0003</td>\n",
       "      <td>3510003</td>\n",
       "      <td>176</td>\n",
       "      <td>634</td>\n",
       "      <td>1.6</td>\n",
       "      <td>325</td>\n",
       "      <td>31</td>\n",
       "      <td>3</td>\n",
       "      <td>...</td>\n",
       "      <td>324</td>\n",
       "      <td>27</td>\n",
       "      <td>315</td>\n",
       "      <td>29</td>\n",
       "      <td>9</td>\n",
       "      <td>324</td>\n",
       "      <td>27</td>\n",
       "      <td>324</td>\n",
       "      <td>20</td>\n",
       "      <td>POLYGON ((1602738.373 1008175.555, 1602745.401...</td>\n",
       "    </tr>\n",
       "    <tr>\n",
       "      <th>3</th>\n",
       "      <td>181</td>\n",
       "      <td>5</td>\n",
       "      <td>0304</td>\n",
       "      <td>1810304</td>\n",
       "      <td>91</td>\n",
       "      <td>3001</td>\n",
       "      <td>4.3</td>\n",
       "      <td>1034</td>\n",
       "      <td>574</td>\n",
       "      <td>22</td>\n",
       "      <td>...</td>\n",
       "      <td>1085</td>\n",
       "      <td>513</td>\n",
       "      <td>1044</td>\n",
       "      <td>519</td>\n",
       "      <td>36</td>\n",
       "      <td>1074</td>\n",
       "      <td>519</td>\n",
       "      <td>1116</td>\n",
       "      <td>243</td>\n",
       "      <td>POLYGON ((1312523.436 1279889.507, 1312544.741...</td>\n",
       "    </tr>\n",
       "    <tr>\n",
       "      <th>4</th>\n",
       "      <td>201</td>\n",
       "      <td>2</td>\n",
       "      <td>0877</td>\n",
       "      <td>2010877</td>\n",
       "      <td>101</td>\n",
       "      <td>4541</td>\n",
       "      <td>25.5</td>\n",
       "      <td>702</td>\n",
       "      <td>1550</td>\n",
       "      <td>16</td>\n",
       "      <td>...</td>\n",
       "      <td>723</td>\n",
       "      <td>1529</td>\n",
       "      <td>715</td>\n",
       "      <td>1507</td>\n",
       "      <td>38</td>\n",
       "      <td>734</td>\n",
       "      <td>1521</td>\n",
       "      <td>856</td>\n",
       "      <td>528</td>\n",
       "      <td>POLYGON ((1409146.792 864246.161, 1409155.944 ...</td>\n",
       "    </tr>\n",
       "  </tbody>\n",
       "</table>\n",
       "<p>5 rows × 45 columns</p>\n",
       "</div>"
      ],
      "text/plain": [
       "   CNTY  COLOR  PREC   PCTKEY  CNTYKEY  G18VR  G18SSVR  G18USSRCRU  \\\n",
       "0   113      1  1104  1131104       57   2673     36.7         106   \n",
       "1   201      5  0312  2010312      101   3985     11.5         926   \n",
       "2   351      1  0003  3510003      176    634      1.6         325   \n",
       "3   181      5  0304  1810304       91   3001      4.3        1034   \n",
       "4   201      2  0877  2010877      101   4541     25.5         702   \n",
       "\n",
       "   G18USSDORO  G18USSLDIK  ...  G18SSCRBRO  G18SSCDCHE  G18SCCRKEL  \\\n",
       "0         924           5  ...         116         897         112   \n",
       "1        1096          12  ...        1014        1009         947   \n",
       "2          31           3  ...         324          27         315   \n",
       "3         574          22  ...        1085         513        1044   \n",
       "4        1550          16  ...         723        1529         715   \n",
       "\n",
       "   G18SCCDJAC  G18SCCLSTR  G18SCCRHER  G18SCCDFRA  G18SCCRSLA  G18SCCLASH  \\\n",
       "0         889          17         118         897         157         292   \n",
       "1        1045          28        1021         993        1082         372   \n",
       "2          29           9         324          27         324          20   \n",
       "3         519          36        1074         519        1116         243   \n",
       "4        1507          38         734        1521         856         528   \n",
       "\n",
       "                                            geometry  \n",
       "0  POLYGON ((1314208.406 1178220.110, 1314211.847...  \n",
       "1  POLYGON ((1432565.993 851290.217, 1432575.099 ...  \n",
       "2  POLYGON ((1602738.373 1008175.555, 1602745.401...  \n",
       "3  POLYGON ((1312523.436 1279889.507, 1312544.741...  \n",
       "4  POLYGON ((1409146.792 864246.161, 1409155.944 ...  \n",
       "\n",
       "[5 rows x 45 columns]"
      ]
     },
     "execution_count": 14,
     "metadata": {},
     "output_type": "execute_result"
    }
   ],
   "source": [
    "tx_vest.head()"
   ]
  },
  {
   "cell_type": "code",
   "execution_count": 15,
   "metadata": {},
   "outputs": [
    {
     "data": {
      "text/plain": [
       "(8936, 45)"
      ]
     },
     "execution_count": 15,
     "metadata": {},
     "output_type": "execute_result"
    }
   ],
   "source": [
    "tx_vest.shape"
   ]
  },
  {
   "cell_type": "code",
   "execution_count": 16,
   "metadata": {},
   "outputs": [
    {
     "data": {
      "text/plain": [
       "<Projected CRS: PROJCS[\"NAD_1983_Lambert_Conformal_Conic\",GEOGCS[\" ...>\n",
       "Name: NAD_1983_Lambert_Conformal_Conic\n",
       "Axis Info [cartesian]:\n",
       "- [east]: Easting (metre)\n",
       "- [north]: Northing (metre)\n",
       "Area of Use:\n",
       "- undefined\n",
       "Coordinate Operation:\n",
       "- name: unnamed\n",
       "- method: Lambert Conic Conformal (2SP)\n",
       "Datum: North American Datum 1983\n",
       "- Ellipsoid: GRS 1980\n",
       "- Prime Meridian: Greenwich"
      ]
     },
     "execution_count": 16,
     "metadata": {},
     "output_type": "execute_result"
    }
   ],
   "source": [
    "tx_vest.crs"
   ]
  },
  {
   "cell_type": "code",
   "execution_count": 17,
   "metadata": {},
   "outputs": [
    {
     "data": {
      "text/plain": [
       "<AxesSubplot:>"
      ]
     },
     "execution_count": 17,
     "metadata": {},
     "output_type": "execute_result"
    },
    {
     "data": {
      "image/png": "[encoded data removed]",
      "text/plain": [
       "<Figure size 432x288 with 1 Axes>"
      ]
     },
     "metadata": {
      "needs_background": "light"
     },
     "output_type": "display_data"
    }
   ],
   "source": [
    "tx_vest.boundary.plot()"
   ]
  },
  {
   "cell_type": "markdown",
   "metadata": {},
   "source": [
    "# Joining"
   ]
  },
  {
   "cell_type": "markdown",
   "metadata": {},
   "source": [
    "## Join Election Results to VTD File"
   ]
  },
  {
   "cell_type": "code",
   "execution_count": 18,
   "metadata": {},
   "outputs": [
    {
     "data": {
      "text/html": [
       "<div>\n",
       "<style scoped>\n",
       "    .dataframe tbody tr th:only-of-type {\n",
       "        vertical-align: middle;\n",
       "    }\n",
       "\n",
       "    .dataframe tbody tr th {\n",
       "        vertical-align: top;\n",
       "    }\n",
       "\n",
       "    .dataframe thead th {\n",
       "        text-align: right;\n",
       "    }\n",
       "</style>\n",
       "<table border=\"1\" class=\"dataframe\">\n",
       "  <thead>\n",
       "    <tr style=\"text-align: right;\">\n",
       "      <th></th>\n",
       "      <th>G18USSRCRU</th>\n",
       "      <th>G18USSDORO</th>\n",
       "      <th>G18USSLDIK</th>\n",
       "      <th>G18GOVRABB</th>\n",
       "      <th>G18GOVDVAL</th>\n",
       "      <th>G18GOVLTIP</th>\n",
       "      <th>G18LTGRPAT</th>\n",
       "      <th>G18LTGDCOL</th>\n",
       "      <th>G18LTGLMCK</th>\n",
       "      <th>G18ATGRPAX</th>\n",
       "      <th>...</th>\n",
       "      <th>G18SSCDSAN</th>\n",
       "      <th>G18SSCRBRO</th>\n",
       "      <th>G18SSCDCHE</th>\n",
       "      <th>G18SCCRKEL</th>\n",
       "      <th>G18SCCDJAC</th>\n",
       "      <th>G18SCCLSTR</th>\n",
       "      <th>G18SCCRHER</th>\n",
       "      <th>G18SCCDFRA</th>\n",
       "      <th>G18SCCRSLA</th>\n",
       "      <th>G18SCCLASH</th>\n",
       "    </tr>\n",
       "    <tr>\n",
       "      <th>CNTYVTD</th>\n",
       "      <th></th>\n",
       "      <th></th>\n",
       "      <th></th>\n",
       "      <th></th>\n",
       "      <th></th>\n",
       "      <th></th>\n",
       "      <th></th>\n",
       "      <th></th>\n",
       "      <th></th>\n",
       "      <th></th>\n",
       "      <th></th>\n",
       "      <th></th>\n",
       "      <th></th>\n",
       "      <th></th>\n",
       "      <th></th>\n",
       "      <th></th>\n",
       "      <th></th>\n",
       "      <th></th>\n",
       "      <th></th>\n",
       "      <th></th>\n",
       "      <th></th>\n",
       "    </tr>\n",
       "  </thead>\n",
       "  <tbody>\n",
       "    <tr>\n",
       "      <th>0010001</th>\n",
       "      <td>659</td>\n",
       "      <td>261</td>\n",
       "      <td>6</td>\n",
       "      <td>699</td>\n",
       "      <td>214</td>\n",
       "      <td>11</td>\n",
       "      <td>634</td>\n",
       "      <td>260</td>\n",
       "      <td>26</td>\n",
       "      <td>637</td>\n",
       "      <td>...</td>\n",
       "      <td>235</td>\n",
       "      <td>669</td>\n",
       "      <td>239</td>\n",
       "      <td>651</td>\n",
       "      <td>237</td>\n",
       "      <td>19</td>\n",
       "      <td>670</td>\n",
       "      <td>237</td>\n",
       "      <td>689</td>\n",
       "      <td>143</td>\n",
       "    </tr>\n",
       "  </tbody>\n",
       "</table>\n",
       "<p>1 rows × 37 columns</p>\n",
       "</div>"
      ],
      "text/plain": [
       "         G18USSRCRU  G18USSDORO  G18USSLDIK  G18GOVRABB  G18GOVDVAL  \\\n",
       "CNTYVTD                                                               \n",
       "0010001         659         261           6         699         214   \n",
       "\n",
       "         G18GOVLTIP  G18LTGRPAT  G18LTGDCOL  G18LTGLMCK  G18ATGRPAX  ...  \\\n",
       "CNTYVTD                                                              ...   \n",
       "0010001          11         634         260          26         637  ...   \n",
       "\n",
       "         G18SSCDSAN  G18SSCRBRO  G18SSCDCHE  G18SCCRKEL  G18SCCDJAC  \\\n",
       "CNTYVTD                                                               \n",
       "0010001         235         669         239         651         237   \n",
       "\n",
       "         G18SCCLSTR  G18SCCRHER  G18SCCDFRA  G18SCCRSLA  G18SCCLASH  \n",
       "CNTYVTD                                                              \n",
       "0010001          19         670         237         689         143  \n",
       "\n",
       "[1 rows x 37 columns]"
      ]
     },
     "execution_count": 18,
     "metadata": {},
     "output_type": "execute_result"
    }
   ],
   "source": [
    "returns_2018.head(1)"
   ]
  },
  {
   "cell_type": "code",
   "execution_count": 19,
   "metadata": {},
   "outputs": [],
   "source": [
    "tx_rdh = returns_2018.merge(vtd_2018, how = 'left', on = 'CNTYVTD', indicator = True)"
   ]
  },
  {
   "cell_type": "code",
   "execution_count": 20,
   "metadata": {},
   "outputs": [
    {
     "data": {
      "text/html": [
       "<div>\n",
       "<style scoped>\n",
       "    .dataframe tbody tr th:only-of-type {\n",
       "        vertical-align: middle;\n",
       "    }\n",
       "\n",
       "    .dataframe tbody tr th {\n",
       "        vertical-align: top;\n",
       "    }\n",
       "\n",
       "    .dataframe thead th {\n",
       "        text-align: right;\n",
       "    }\n",
       "</style>\n",
       "<table border=\"1\" class=\"dataframe\">\n",
       "  <thead>\n",
       "    <tr style=\"text-align: right;\">\n",
       "      <th></th>\n",
       "      <th>CNTYVTD</th>\n",
       "      <th>G18USSRCRU</th>\n",
       "      <th>G18USSDORO</th>\n",
       "      <th>G18USSLDIK</th>\n",
       "      <th>G18GOVRABB</th>\n",
       "      <th>G18GOVDVAL</th>\n",
       "      <th>G18GOVLTIP</th>\n",
       "      <th>G18LTGRPAT</th>\n",
       "      <th>G18LTGDCOL</th>\n",
       "      <th>G18LTGLMCK</th>\n",
       "      <th>...</th>\n",
       "      <th>G18SCCDFRA</th>\n",
       "      <th>G18SCCRSLA</th>\n",
       "      <th>G18SCCLASH</th>\n",
       "      <th>CNTY</th>\n",
       "      <th>COLOR</th>\n",
       "      <th>VTD</th>\n",
       "      <th>VTDKEY</th>\n",
       "      <th>Shape_area</th>\n",
       "      <th>Shape_len</th>\n",
       "      <th>geometry</th>\n",
       "    </tr>\n",
       "    <tr>\n",
       "      <th>_merge</th>\n",
       "      <th></th>\n",
       "      <th></th>\n",
       "      <th></th>\n",
       "      <th></th>\n",
       "      <th></th>\n",
       "      <th></th>\n",
       "      <th></th>\n",
       "      <th></th>\n",
       "      <th></th>\n",
       "      <th></th>\n",
       "      <th></th>\n",
       "      <th></th>\n",
       "      <th></th>\n",
       "      <th></th>\n",
       "      <th></th>\n",
       "      <th></th>\n",
       "      <th></th>\n",
       "      <th></th>\n",
       "      <th></th>\n",
       "      <th></th>\n",
       "      <th></th>\n",
       "    </tr>\n",
       "  </thead>\n",
       "  <tbody>\n",
       "    <tr>\n",
       "      <th>left_only</th>\n",
       "      <td>2181</td>\n",
       "      <td>2181</td>\n",
       "      <td>2181</td>\n",
       "      <td>2181</td>\n",
       "      <td>2181</td>\n",
       "      <td>2181</td>\n",
       "      <td>2181</td>\n",
       "      <td>2181</td>\n",
       "      <td>2181</td>\n",
       "      <td>2181</td>\n",
       "      <td>...</td>\n",
       "      <td>2181</td>\n",
       "      <td>2181</td>\n",
       "      <td>2181</td>\n",
       "      <td>0</td>\n",
       "      <td>0</td>\n",
       "      <td>0</td>\n",
       "      <td>0</td>\n",
       "      <td>0</td>\n",
       "      <td>0</td>\n",
       "      <td>0</td>\n",
       "    </tr>\n",
       "    <tr>\n",
       "      <th>right_only</th>\n",
       "      <td>0</td>\n",
       "      <td>0</td>\n",
       "      <td>0</td>\n",
       "      <td>0</td>\n",
       "      <td>0</td>\n",
       "      <td>0</td>\n",
       "      <td>0</td>\n",
       "      <td>0</td>\n",
       "      <td>0</td>\n",
       "      <td>0</td>\n",
       "      <td>...</td>\n",
       "      <td>0</td>\n",
       "      <td>0</td>\n",
       "      <td>0</td>\n",
       "      <td>0</td>\n",
       "      <td>0</td>\n",
       "      <td>0</td>\n",
       "      <td>0</td>\n",
       "      <td>0</td>\n",
       "      <td>0</td>\n",
       "      <td>0</td>\n",
       "    </tr>\n",
       "    <tr>\n",
       "      <th>both</th>\n",
       "      <td>6976</td>\n",
       "      <td>6976</td>\n",
       "      <td>6976</td>\n",
       "      <td>6976</td>\n",
       "      <td>6976</td>\n",
       "      <td>6976</td>\n",
       "      <td>6976</td>\n",
       "      <td>6976</td>\n",
       "      <td>6976</td>\n",
       "      <td>6976</td>\n",
       "      <td>...</td>\n",
       "      <td>6976</td>\n",
       "      <td>6976</td>\n",
       "      <td>6976</td>\n",
       "      <td>6976</td>\n",
       "      <td>6976</td>\n",
       "      <td>6976</td>\n",
       "      <td>6976</td>\n",
       "      <td>6976</td>\n",
       "      <td>6976</td>\n",
       "      <td>6976</td>\n",
       "    </tr>\n",
       "  </tbody>\n",
       "</table>\n",
       "<p>3 rows × 45 columns</p>\n",
       "</div>"
      ],
      "text/plain": [
       "            CNTYVTD  G18USSRCRU  G18USSDORO  G18USSLDIK  G18GOVRABB  \\\n",
       "_merge                                                                \n",
       "left_only      2181        2181        2181        2181        2181   \n",
       "right_only        0           0           0           0           0   \n",
       "both           6976        6976        6976        6976        6976   \n",
       "\n",
       "            G18GOVDVAL  G18GOVLTIP  G18LTGRPAT  G18LTGDCOL  G18LTGLMCK  ...  \\\n",
       "_merge                                                                  ...   \n",
       "left_only         2181        2181        2181        2181        2181  ...   \n",
       "right_only           0           0           0           0           0  ...   \n",
       "both              6976        6976        6976        6976        6976  ...   \n",
       "\n",
       "            G18SCCDFRA  G18SCCRSLA  G18SCCLASH  CNTY  COLOR   VTD  VTDKEY  \\\n",
       "_merge                                                                      \n",
       "left_only         2181        2181        2181     0      0     0       0   \n",
       "right_only           0           0           0     0      0     0       0   \n",
       "both              6976        6976        6976  6976   6976  6976    6976   \n",
       "\n",
       "            Shape_area  Shape_len  geometry  \n",
       "_merge                                       \n",
       "left_only            0          0         0  \n",
       "right_only           0          0         0  \n",
       "both              6976       6976      6976  \n",
       "\n",
       "[3 rows x 45 columns]"
      ]
     },
     "execution_count": 20,
     "metadata": {},
     "output_type": "execute_result"
    }
   ],
   "source": [
    "tx_rdh.groupby('_merge').count()"
   ]
  },
  {
   "cell_type": "markdown",
   "metadata": {},
   "source": [
    "So the TX election results and VTD files merged no problem"
   ]
  },
  {
   "cell_type": "code",
   "execution_count": 21,
   "metadata": {},
   "outputs": [
    {
     "data": {
      "text/html": [
       "<div>\n",
       "<style scoped>\n",
       "    .dataframe tbody tr th:only-of-type {\n",
       "        vertical-align: middle;\n",
       "    }\n",
       "\n",
       "    .dataframe tbody tr th {\n",
       "        vertical-align: top;\n",
       "    }\n",
       "\n",
       "    .dataframe thead th {\n",
       "        text-align: right;\n",
       "    }\n",
       "</style>\n",
       "<table border=\"1\" class=\"dataframe\">\n",
       "  <thead>\n",
       "    <tr style=\"text-align: right;\">\n",
       "      <th></th>\n",
       "      <th>CNTYVTD</th>\n",
       "      <th>G18USSRCRU</th>\n",
       "      <th>G18USSDORO</th>\n",
       "      <th>G18USSLDIK</th>\n",
       "      <th>G18GOVRABB</th>\n",
       "      <th>G18GOVDVAL</th>\n",
       "      <th>G18GOVLTIP</th>\n",
       "      <th>G18LTGRPAT</th>\n",
       "      <th>G18LTGDCOL</th>\n",
       "      <th>G18LTGLMCK</th>\n",
       "      <th>...</th>\n",
       "      <th>G18SCCRSLA</th>\n",
       "      <th>G18SCCLASH</th>\n",
       "      <th>CNTY</th>\n",
       "      <th>COLOR</th>\n",
       "      <th>VTD</th>\n",
       "      <th>VTDKEY</th>\n",
       "      <th>Shape_area</th>\n",
       "      <th>Shape_len</th>\n",
       "      <th>geometry</th>\n",
       "      <th>_merge</th>\n",
       "    </tr>\n",
       "  </thead>\n",
       "  <tbody>\n",
       "    <tr>\n",
       "      <th>0</th>\n",
       "      <td>0010001</td>\n",
       "      <td>659</td>\n",
       "      <td>261</td>\n",
       "      <td>6</td>\n",
       "      <td>699</td>\n",
       "      <td>214</td>\n",
       "      <td>11</td>\n",
       "      <td>634</td>\n",
       "      <td>260</td>\n",
       "      <td>26</td>\n",
       "      <td>...</td>\n",
       "      <td>689</td>\n",
       "      <td>143</td>\n",
       "      <td>NaN</td>\n",
       "      <td>NaN</td>\n",
       "      <td>NaN</td>\n",
       "      <td>NaN</td>\n",
       "      <td>NaN</td>\n",
       "      <td>NaN</td>\n",
       "      <td>None</td>\n",
       "      <td>left_only</td>\n",
       "    </tr>\n",
       "  </tbody>\n",
       "</table>\n",
       "<p>1 rows × 46 columns</p>\n",
       "</div>"
      ],
      "text/plain": [
       "   CNTYVTD  G18USSRCRU  G18USSDORO  G18USSLDIK  G18GOVRABB  G18GOVDVAL  \\\n",
       "0  0010001         659         261           6         699         214   \n",
       "\n",
       "   G18GOVLTIP  G18LTGRPAT  G18LTGDCOL  G18LTGLMCK  ...  G18SCCRSLA  \\\n",
       "0          11         634         260          26  ...         689   \n",
       "\n",
       "   G18SCCLASH  CNTY  COLOR  VTD  VTDKEY  Shape_area  Shape_len  geometry  \\\n",
       "0         143   NaN    NaN  NaN     NaN         NaN        NaN      None   \n",
       "\n",
       "      _merge  \n",
       "0  left_only  \n",
       "\n",
       "[1 rows x 46 columns]"
      ]
     },
     "execution_count": 21,
     "metadata": {},
     "output_type": "execute_result"
    }
   ],
   "source": [
    "tx_rdh.head(1)"
   ]
  },
  {
   "cell_type": "code",
   "execution_count": 22,
   "metadata": {},
   "outputs": [],
   "source": [
    "tx_rdh.drop(columns=['_merge'], inplace = True)"
   ]
  },
  {
   "cell_type": "markdown",
   "metadata": {},
   "source": [
    "## Join RDH File to VEST File"
   ]
  },
  {
   "cell_type": "markdown",
   "metadata": {},
   "source": [
    "### Join Attempt #1"
   ]
  },
  {
   "cell_type": "code",
   "execution_count": 23,
   "metadata": {},
   "outputs": [
    {
     "data": {
      "text/html": [
       "<div>\n",
       "<style scoped>\n",
       "    .dataframe tbody tr th:only-of-type {\n",
       "        vertical-align: middle;\n",
       "    }\n",
       "\n",
       "    .dataframe tbody tr th {\n",
       "        vertical-align: top;\n",
       "    }\n",
       "\n",
       "    .dataframe thead th {\n",
       "        text-align: right;\n",
       "    }\n",
       "</style>\n",
       "<table border=\"1\" class=\"dataframe\">\n",
       "  <thead>\n",
       "    <tr style=\"text-align: right;\">\n",
       "      <th></th>\n",
       "      <th>CNTY</th>\n",
       "      <th>COLOR</th>\n",
       "      <th>PREC</th>\n",
       "      <th>PCTKEY</th>\n",
       "      <th>CNTYKEY</th>\n",
       "      <th>G18VR</th>\n",
       "      <th>G18SSVR</th>\n",
       "      <th>G18USSRCRU</th>\n",
       "      <th>G18USSDORO</th>\n",
       "      <th>G18USSLDIK</th>\n",
       "      <th>...</th>\n",
       "      <th>G18SSCRBRO</th>\n",
       "      <th>G18SSCDCHE</th>\n",
       "      <th>G18SCCRKEL</th>\n",
       "      <th>G18SCCDJAC</th>\n",
       "      <th>G18SCCLSTR</th>\n",
       "      <th>G18SCCRHER</th>\n",
       "      <th>G18SCCDFRA</th>\n",
       "      <th>G18SCCRSLA</th>\n",
       "      <th>G18SCCLASH</th>\n",
       "      <th>geometry</th>\n",
       "    </tr>\n",
       "  </thead>\n",
       "  <tbody>\n",
       "    <tr>\n",
       "      <th>0</th>\n",
       "      <td>113</td>\n",
       "      <td>1</td>\n",
       "      <td>1104</td>\n",
       "      <td>1131104</td>\n",
       "      <td>57</td>\n",
       "      <td>2673</td>\n",
       "      <td>36.7</td>\n",
       "      <td>106</td>\n",
       "      <td>924</td>\n",
       "      <td>5</td>\n",
       "      <td>...</td>\n",
       "      <td>116</td>\n",
       "      <td>897</td>\n",
       "      <td>112</td>\n",
       "      <td>889</td>\n",
       "      <td>17</td>\n",
       "      <td>118</td>\n",
       "      <td>897</td>\n",
       "      <td>157</td>\n",
       "      <td>292</td>\n",
       "      <td>POLYGON ((1314208.406 1178220.110, 1314211.847...</td>\n",
       "    </tr>\n",
       "  </tbody>\n",
       "</table>\n",
       "<p>1 rows × 45 columns</p>\n",
       "</div>"
      ],
      "text/plain": [
       "   CNTY  COLOR  PREC   PCTKEY  CNTYKEY  G18VR  G18SSVR  G18USSRCRU  \\\n",
       "0   113      1  1104  1131104       57   2673     36.7         106   \n",
       "\n",
       "   G18USSDORO  G18USSLDIK  ...  G18SSCRBRO  G18SSCDCHE  G18SCCRKEL  \\\n",
       "0         924           5  ...         116         897         112   \n",
       "\n",
       "   G18SCCDJAC  G18SCCLSTR  G18SCCRHER  G18SCCDFRA  G18SCCRSLA  G18SCCLASH  \\\n",
       "0         889          17         118         897         157         292   \n",
       "\n",
       "                                            geometry  \n",
       "0  POLYGON ((1314208.406 1178220.110, 1314211.847...  \n",
       "\n",
       "[1 rows x 45 columns]"
      ]
     },
     "execution_count": 23,
     "metadata": {},
     "output_type": "execute_result"
    }
   ],
   "source": [
    "tx_vest.head(1)"
   ]
  },
  {
   "cell_type": "code",
   "execution_count": 24,
   "metadata": {},
   "outputs": [],
   "source": [
    "overlap = tx_rdh.merge(tx_vest, how = 'outer', left_on = 'CNTYVTD', right_on = 'PCTKEY', indicator = True)"
   ]
  },
  {
   "cell_type": "code",
   "execution_count": 25,
   "metadata": {},
   "outputs": [
    {
     "data": {
      "text/html": [
       "<div>\n",
       "<style scoped>\n",
       "    .dataframe tbody tr th:only-of-type {\n",
       "        vertical-align: middle;\n",
       "    }\n",
       "\n",
       "    .dataframe tbody tr th {\n",
       "        vertical-align: top;\n",
       "    }\n",
       "\n",
       "    .dataframe thead th {\n",
       "        text-align: right;\n",
       "    }\n",
       "</style>\n",
       "<table border=\"1\" class=\"dataframe\">\n",
       "  <thead>\n",
       "    <tr style=\"text-align: right;\">\n",
       "      <th></th>\n",
       "      <th>CNTYVTD</th>\n",
       "      <th>G18USSRCRU_x</th>\n",
       "      <th>G18USSDORO_x</th>\n",
       "      <th>G18USSLDIK_x</th>\n",
       "      <th>G18GOVRABB_x</th>\n",
       "      <th>G18GOVDVAL_x</th>\n",
       "      <th>G18GOVLTIP_x</th>\n",
       "      <th>G18LTGRPAT_x</th>\n",
       "      <th>G18LTGDCOL_x</th>\n",
       "      <th>G18LTGLMCK_x</th>\n",
       "      <th>...</th>\n",
       "      <th>G18SSCRBRO_y</th>\n",
       "      <th>G18SSCDCHE_y</th>\n",
       "      <th>G18SCCRKEL_y</th>\n",
       "      <th>G18SCCDJAC_y</th>\n",
       "      <th>G18SCCLSTR_y</th>\n",
       "      <th>G18SCCRHER_y</th>\n",
       "      <th>G18SCCDFRA_y</th>\n",
       "      <th>G18SCCRSLA_y</th>\n",
       "      <th>G18SCCLASH_y</th>\n",
       "      <th>geometry_y</th>\n",
       "    </tr>\n",
       "    <tr>\n",
       "      <th>_merge</th>\n",
       "      <th></th>\n",
       "      <th></th>\n",
       "      <th></th>\n",
       "      <th></th>\n",
       "      <th></th>\n",
       "      <th></th>\n",
       "      <th></th>\n",
       "      <th></th>\n",
       "      <th></th>\n",
       "      <th></th>\n",
       "      <th></th>\n",
       "      <th></th>\n",
       "      <th></th>\n",
       "      <th></th>\n",
       "      <th></th>\n",
       "      <th></th>\n",
       "      <th></th>\n",
       "      <th></th>\n",
       "      <th></th>\n",
       "      <th></th>\n",
       "      <th></th>\n",
       "    </tr>\n",
       "  </thead>\n",
       "  <tbody>\n",
       "    <tr>\n",
       "      <th>left_only</th>\n",
       "      <td>2227</td>\n",
       "      <td>2227</td>\n",
       "      <td>2227</td>\n",
       "      <td>2227</td>\n",
       "      <td>2227</td>\n",
       "      <td>2227</td>\n",
       "      <td>2227</td>\n",
       "      <td>2227</td>\n",
       "      <td>2227</td>\n",
       "      <td>2227</td>\n",
       "      <td>...</td>\n",
       "      <td>0</td>\n",
       "      <td>0</td>\n",
       "      <td>0</td>\n",
       "      <td>0</td>\n",
       "      <td>0</td>\n",
       "      <td>0</td>\n",
       "      <td>0</td>\n",
       "      <td>0</td>\n",
       "      <td>0</td>\n",
       "      <td>0</td>\n",
       "    </tr>\n",
       "    <tr>\n",
       "      <th>right_only</th>\n",
       "      <td>0</td>\n",
       "      <td>0</td>\n",
       "      <td>0</td>\n",
       "      <td>0</td>\n",
       "      <td>0</td>\n",
       "      <td>0</td>\n",
       "      <td>0</td>\n",
       "      <td>0</td>\n",
       "      <td>0</td>\n",
       "      <td>0</td>\n",
       "      <td>...</td>\n",
       "      <td>2006</td>\n",
       "      <td>2006</td>\n",
       "      <td>2006</td>\n",
       "      <td>2006</td>\n",
       "      <td>2006</td>\n",
       "      <td>2006</td>\n",
       "      <td>2006</td>\n",
       "      <td>2006</td>\n",
       "      <td>2006</td>\n",
       "      <td>2006</td>\n",
       "    </tr>\n",
       "    <tr>\n",
       "      <th>both</th>\n",
       "      <td>6930</td>\n",
       "      <td>6930</td>\n",
       "      <td>6930</td>\n",
       "      <td>6930</td>\n",
       "      <td>6930</td>\n",
       "      <td>6930</td>\n",
       "      <td>6930</td>\n",
       "      <td>6930</td>\n",
       "      <td>6930</td>\n",
       "      <td>6930</td>\n",
       "      <td>...</td>\n",
       "      <td>6930</td>\n",
       "      <td>6930</td>\n",
       "      <td>6930</td>\n",
       "      <td>6930</td>\n",
       "      <td>6930</td>\n",
       "      <td>6930</td>\n",
       "      <td>6930</td>\n",
       "      <td>6930</td>\n",
       "      <td>6930</td>\n",
       "      <td>6930</td>\n",
       "    </tr>\n",
       "  </tbody>\n",
       "</table>\n",
       "<p>3 rows × 90 columns</p>\n",
       "</div>"
      ],
      "text/plain": [
       "            CNTYVTD  G18USSRCRU_x  G18USSDORO_x  G18USSLDIK_x  G18GOVRABB_x  \\\n",
       "_merge                                                                        \n",
       "left_only      2227          2227          2227          2227          2227   \n",
       "right_only        0             0             0             0             0   \n",
       "both           6930          6930          6930          6930          6930   \n",
       "\n",
       "            G18GOVDVAL_x  G18GOVLTIP_x  G18LTGRPAT_x  G18LTGDCOL_x  \\\n",
       "_merge                                                               \n",
       "left_only           2227          2227          2227          2227   \n",
       "right_only             0             0             0             0   \n",
       "both                6930          6930          6930          6930   \n",
       "\n",
       "            G18LTGLMCK_x  ...  G18SSCRBRO_y  G18SSCDCHE_y  G18SCCRKEL_y  \\\n",
       "_merge                    ...                                             \n",
       "left_only           2227  ...             0             0             0   \n",
       "right_only             0  ...          2006          2006          2006   \n",
       "both                6930  ...          6930          6930          6930   \n",
       "\n",
       "            G18SCCDJAC_y  G18SCCLSTR_y  G18SCCRHER_y  G18SCCDFRA_y  \\\n",
       "_merge                                                               \n",
       "left_only              0             0             0             0   \n",
       "right_only          2006          2006          2006          2006   \n",
       "both                6930          6930          6930          6930   \n",
       "\n",
       "            G18SCCRSLA_y  G18SCCLASH_y  geometry_y  \n",
       "_merge                                              \n",
       "left_only              0             0           0  \n",
       "right_only          2006          2006        2006  \n",
       "both                6930          6930        6930  \n",
       "\n",
       "[3 rows x 90 columns]"
      ]
     },
     "execution_count": 25,
     "metadata": {},
     "output_type": "execute_result"
    }
   ],
   "source": [
    "overlap.groupby('_merge').count()"
   ]
  },
  {
   "cell_type": "markdown",
   "metadata": {},
   "source": [
    "Look at the precincts that didn't join"
   ]
  },
  {
   "cell_type": "code",
   "execution_count": 26,
   "metadata": {},
   "outputs": [
    {
     "data": {
      "text/html": [
       "<div>\n",
       "<style scoped>\n",
       "    .dataframe tbody tr th:only-of-type {\n",
       "        vertical-align: middle;\n",
       "    }\n",
       "\n",
       "    .dataframe tbody tr th {\n",
       "        vertical-align: top;\n",
       "    }\n",
       "\n",
       "    .dataframe thead th {\n",
       "        text-align: right;\n",
       "    }\n",
       "</style>\n",
       "<table border=\"1\" class=\"dataframe\">\n",
       "  <thead>\n",
       "    <tr style=\"text-align: right;\">\n",
       "      <th></th>\n",
       "      <th>CNTYVTD</th>\n",
       "      <th>G18USSRCRU_x</th>\n",
       "    </tr>\n",
       "  </thead>\n",
       "  <tbody>\n",
       "    <tr>\n",
       "      <th>0</th>\n",
       "      <td>0010001</td>\n",
       "      <td>659.0</td>\n",
       "    </tr>\n",
       "    <tr>\n",
       "      <th>1</th>\n",
       "      <td>0010002</td>\n",
       "      <td>1062.0</td>\n",
       "    </tr>\n",
       "    <tr>\n",
       "      <th>2</th>\n",
       "      <td>0010003</td>\n",
       "      <td>571.0</td>\n",
       "    </tr>\n",
       "    <tr>\n",
       "      <th>3</th>\n",
       "      <td>0010004</td>\n",
       "      <td>752.0</td>\n",
       "    </tr>\n",
       "    <tr>\n",
       "      <th>4</th>\n",
       "      <td>0010005</td>\n",
       "      <td>179.0</td>\n",
       "    </tr>\n",
       "    <tr>\n",
       "      <th>...</th>\n",
       "      <td>...</td>\n",
       "      <td>...</td>\n",
       "    </tr>\n",
       "    <tr>\n",
       "      <th>8962</th>\n",
       "      <td>4890002B</td>\n",
       "      <td>198.0</td>\n",
       "    </tr>\n",
       "    <tr>\n",
       "      <th>9025</th>\n",
       "      <td>4910333A</td>\n",
       "      <td>1138.0</td>\n",
       "    </tr>\n",
       "    <tr>\n",
       "      <th>9026</th>\n",
       "      <td>4910333B</td>\n",
       "      <td>7.0</td>\n",
       "    </tr>\n",
       "    <tr>\n",
       "      <th>9095</th>\n",
       "      <td>4970007A</td>\n",
       "      <td>333.0</td>\n",
       "    </tr>\n",
       "    <tr>\n",
       "      <th>9096</th>\n",
       "      <td>4970007B</td>\n",
       "      <td>334.0</td>\n",
       "    </tr>\n",
       "  </tbody>\n",
       "</table>\n",
       "<p>2227 rows × 2 columns</p>\n",
       "</div>"
      ],
      "text/plain": [
       "       CNTYVTD  G18USSRCRU_x\n",
       "0      0010001         659.0\n",
       "1      0010002        1062.0\n",
       "2      0010003         571.0\n",
       "3      0010004         752.0\n",
       "4      0010005         179.0\n",
       "...        ...           ...\n",
       "8962  4890002B         198.0\n",
       "9025  4910333A        1138.0\n",
       "9026  4910333B           7.0\n",
       "9095  4970007A         333.0\n",
       "9096  4970007B         334.0\n",
       "\n",
       "[2227 rows x 2 columns]"
      ]
     },
     "execution_count": 26,
     "metadata": {},
     "output_type": "execute_result"
    }
   ],
   "source": [
    "# with pd.option_context('display.max_rows', 500):\n",
    "#     print(overlap.loc[overlap['_merge'] == 'left_only'][['CNTYVTD','G16PREDCli_x']].sort_values(by='CNTYVTD'))\n",
    "overlap.loc[overlap['_merge'] == 'left_only'][['CNTYVTD','G18USSRCRU_x']].sort_values(by='CNTYVTD')"
   ]
  },
  {
   "cell_type": "code",
   "execution_count": 27,
   "metadata": {},
   "outputs": [
    {
     "data": {
      "text/html": [
       "<div>\n",
       "<style scoped>\n",
       "    .dataframe tbody tr th:only-of-type {\n",
       "        vertical-align: middle;\n",
       "    }\n",
       "\n",
       "    .dataframe tbody tr th {\n",
       "        vertical-align: top;\n",
       "    }\n",
       "\n",
       "    .dataframe thead th {\n",
       "        text-align: right;\n",
       "    }\n",
       "</style>\n",
       "<table border=\"1\" class=\"dataframe\">\n",
       "  <thead>\n",
       "    <tr style=\"text-align: right;\">\n",
       "      <th></th>\n",
       "      <th>PCTKEY</th>\n",
       "      <th>G18USSRCRU_y</th>\n",
       "    </tr>\n",
       "  </thead>\n",
       "  <tbody>\n",
       "    <tr>\n",
       "      <th>10294</th>\n",
       "      <td>10001</td>\n",
       "      <td>659.0</td>\n",
       "    </tr>\n",
       "    <tr>\n",
       "      <th>10030</th>\n",
       "      <td>10002</td>\n",
       "      <td>1062.0</td>\n",
       "    </tr>\n",
       "    <tr>\n",
       "      <th>10293</th>\n",
       "      <td>10003</td>\n",
       "      <td>571.0</td>\n",
       "    </tr>\n",
       "    <tr>\n",
       "      <th>10032</th>\n",
       "      <td>10004</td>\n",
       "      <td>752.0</td>\n",
       "    </tr>\n",
       "    <tr>\n",
       "      <th>10297</th>\n",
       "      <td>10005</td>\n",
       "      <td>179.0</td>\n",
       "    </tr>\n",
       "    <tr>\n",
       "      <th>...</th>\n",
       "      <td>...</td>\n",
       "      <td>...</td>\n",
       "    </tr>\n",
       "    <tr>\n",
       "      <th>9554</th>\n",
       "      <td>990412</td>\n",
       "      <td>856.0</td>\n",
       "    </tr>\n",
       "    <tr>\n",
       "      <th>9918</th>\n",
       "      <td>990413</td>\n",
       "      <td>965.0</td>\n",
       "    </tr>\n",
       "    <tr>\n",
       "      <th>9555</th>\n",
       "      <td>990414</td>\n",
       "      <td>230.0</td>\n",
       "    </tr>\n",
       "    <tr>\n",
       "      <th>9557</th>\n",
       "      <td>990415</td>\n",
       "      <td>117.0</td>\n",
       "    </tr>\n",
       "    <tr>\n",
       "      <th>9916</th>\n",
       "      <td>990416</td>\n",
       "      <td>536.0</td>\n",
       "    </tr>\n",
       "  </tbody>\n",
       "</table>\n",
       "<p>2006 rows × 2 columns</p>\n",
       "</div>"
      ],
      "text/plain": [
       "       PCTKEY  G18USSRCRU_y\n",
       "10294   10001         659.0\n",
       "10030   10002        1062.0\n",
       "10293   10003         571.0\n",
       "10032   10004         752.0\n",
       "10297   10005         179.0\n",
       "...       ...           ...\n",
       "9554   990412         856.0\n",
       "9918   990413         965.0\n",
       "9555   990414         230.0\n",
       "9557   990415         117.0\n",
       "9916   990416         536.0\n",
       "\n",
       "[2006 rows x 2 columns]"
      ]
     },
     "execution_count": 27,
     "metadata": {},
     "output_type": "execute_result"
    }
   ],
   "source": [
    "overlap.loc[overlap['_merge'] == 'right_only'][['PCTKEY','G18USSRCRU_y']].sort_values(by='PCTKEY')"
   ]
  },
  {
   "cell_type": "markdown",
   "metadata": {},
   "source": [
    "Interesting, so VEST cleaned up the A,B,C precincts that didn't have election results... did they merge those geographies? "
   ]
  },
  {
   "cell_type": "code",
   "execution_count": 28,
   "metadata": {},
   "outputs": [
    {
     "data": {
      "text/plain": [
       "<AxesSubplot:>"
      ]
     },
     "execution_count": 28,
     "metadata": {},
     "output_type": "execute_result"
    },
    {
     "data": {
      "image/png": "[encoded data removed]",
      "text/plain": [
       "<Figure size 432x288 with 1 Axes>"
      ]
     },
     "metadata": {
      "needs_background": "light"
     },
     "output_type": "display_data"
    }
   ],
   "source": [
    "vtd_2018.loc[(vtd_2018['CNTYVTD'].str.contains('4910333A'))].boundary.plot()"
   ]
  },
  {
   "cell_type": "code",
   "execution_count": 29,
   "metadata": {},
   "outputs": [
    {
     "data": {
      "text/plain": [
       "<AxesSubplot:>"
      ]
     },
     "execution_count": 29,
     "metadata": {},
     "output_type": "execute_result"
    },
    {
     "data": {
      "image/png": "[encoded data removed]",
      "text/plain": [
       "<Figure size 432x288 with 1 Axes>"
      ]
     },
     "metadata": {
      "needs_background": "light"
     },
     "output_type": "display_data"
    }
   ],
   "source": [
    "vtd_2018.loc[(vtd_2018['CNTYVTD'].str.contains('4910333'))].boundary.plot()"
   ]
  },
  {
   "cell_type": "code",
   "execution_count": 30,
   "metadata": {},
   "outputs": [
    {
     "data": {
      "text/plain": [
       "<AxesSubplot:>"
      ]
     },
     "execution_count": 30,
     "metadata": {},
     "output_type": "execute_result"
    },
    {
     "data": {
      "image/png": "[encoded data removed]",
      "text/plain": [
       "<Figure size 432x288 with 1 Axes>"
      ]
     },
     "metadata": {
      "needs_background": "light"
     },
     "output_type": "display_data"
    }
   ],
   "source": [
    "tx_vest.loc[tx_vest.PCTKEY == '4910333'].boundary.plot()"
   ]
  },
  {
   "cell_type": "markdown",
   "metadata": {},
   "source": [
    "Based on this spot check, it does look like they merged those geographies. We will try to replicate this but we don't know why they did it"
   ]
  },
  {
   "cell_type": "code",
   "execution_count": 31,
   "metadata": {},
   "outputs": [
    {
     "data": {
      "text/html": [
       "<div>\n",
       "<style scoped>\n",
       "    .dataframe tbody tr th:only-of-type {\n",
       "        vertical-align: middle;\n",
       "    }\n",
       "\n",
       "    .dataframe tbody tr th {\n",
       "        vertical-align: top;\n",
       "    }\n",
       "\n",
       "    .dataframe thead th {\n",
       "        text-align: right;\n",
       "    }\n",
       "</style>\n",
       "<table border=\"1\" class=\"dataframe\">\n",
       "  <thead>\n",
       "    <tr style=\"text-align: right;\">\n",
       "      <th></th>\n",
       "      <th>CNTYVTD</th>\n",
       "      <th>G18USSRCRU</th>\n",
       "      <th>G18USSDORO</th>\n",
       "      <th>G18USSLDIK</th>\n",
       "      <th>G18GOVRABB</th>\n",
       "      <th>G18GOVDVAL</th>\n",
       "      <th>G18GOVLTIP</th>\n",
       "      <th>G18LTGRPAT</th>\n",
       "      <th>G18LTGDCOL</th>\n",
       "      <th>G18LTGLMCK</th>\n",
       "      <th>...</th>\n",
       "      <th>G18SCCDFRA</th>\n",
       "      <th>G18SCCRSLA</th>\n",
       "      <th>G18SCCLASH</th>\n",
       "      <th>CNTY</th>\n",
       "      <th>COLOR</th>\n",
       "      <th>VTD</th>\n",
       "      <th>VTDKEY</th>\n",
       "      <th>Shape_area</th>\n",
       "      <th>Shape_len</th>\n",
       "      <th>geometry</th>\n",
       "    </tr>\n",
       "  </thead>\n",
       "  <tbody>\n",
       "    <tr>\n",
       "      <th>0</th>\n",
       "      <td>0010001</td>\n",
       "      <td>659</td>\n",
       "      <td>261</td>\n",
       "      <td>6</td>\n",
       "      <td>699</td>\n",
       "      <td>214</td>\n",
       "      <td>11</td>\n",
       "      <td>634</td>\n",
       "      <td>260</td>\n",
       "      <td>26</td>\n",
       "      <td>...</td>\n",
       "      <td>237</td>\n",
       "      <td>689</td>\n",
       "      <td>143</td>\n",
       "      <td>NaN</td>\n",
       "      <td>NaN</td>\n",
       "      <td>NaN</td>\n",
       "      <td>NaN</td>\n",
       "      <td>NaN</td>\n",
       "      <td>NaN</td>\n",
       "      <td>None</td>\n",
       "    </tr>\n",
       "    <tr>\n",
       "      <th>1</th>\n",
       "      <td>0010002</td>\n",
       "      <td>1062</td>\n",
       "      <td>168</td>\n",
       "      <td>7</td>\n",
       "      <td>1090</td>\n",
       "      <td>134</td>\n",
       "      <td>13</td>\n",
       "      <td>1052</td>\n",
       "      <td>163</td>\n",
       "      <td>16</td>\n",
       "      <td>...</td>\n",
       "      <td>156</td>\n",
       "      <td>1063</td>\n",
       "      <td>84</td>\n",
       "      <td>NaN</td>\n",
       "      <td>NaN</td>\n",
       "      <td>NaN</td>\n",
       "      <td>NaN</td>\n",
       "      <td>NaN</td>\n",
       "      <td>NaN</td>\n",
       "      <td>None</td>\n",
       "    </tr>\n",
       "    <tr>\n",
       "      <th>2</th>\n",
       "      <td>0010003</td>\n",
       "      <td>571</td>\n",
       "      <td>99</td>\n",
       "      <td>4</td>\n",
       "      <td>593</td>\n",
       "      <td>80</td>\n",
       "      <td>2</td>\n",
       "      <td>563</td>\n",
       "      <td>100</td>\n",
       "      <td>7</td>\n",
       "      <td>...</td>\n",
       "      <td>93</td>\n",
       "      <td>572</td>\n",
       "      <td>53</td>\n",
       "      <td>NaN</td>\n",
       "      <td>NaN</td>\n",
       "      <td>NaN</td>\n",
       "      <td>NaN</td>\n",
       "      <td>NaN</td>\n",
       "      <td>NaN</td>\n",
       "      <td>None</td>\n",
       "    </tr>\n",
       "  </tbody>\n",
       "</table>\n",
       "<p>3 rows × 45 columns</p>\n",
       "</div>"
      ],
      "text/plain": [
       "   CNTYVTD  G18USSRCRU  G18USSDORO  G18USSLDIK  G18GOVRABB  G18GOVDVAL  \\\n",
       "0  0010001         659         261           6         699         214   \n",
       "1  0010002        1062         168           7        1090         134   \n",
       "2  0010003         571          99           4         593          80   \n",
       "\n",
       "   G18GOVLTIP  G18LTGRPAT  G18LTGDCOL  G18LTGLMCK  ...  G18SCCDFRA  \\\n",
       "0          11         634         260          26  ...         237   \n",
       "1          13        1052         163          16  ...         156   \n",
       "2           2         563         100           7  ...          93   \n",
       "\n",
       "   G18SCCRSLA  G18SCCLASH  CNTY  COLOR  VTD  VTDKEY  Shape_area  Shape_len  \\\n",
       "0         689         143   NaN    NaN  NaN     NaN         NaN        NaN   \n",
       "1        1063          84   NaN    NaN  NaN     NaN         NaN        NaN   \n",
       "2         572          53   NaN    NaN  NaN     NaN         NaN        NaN   \n",
       "\n",
       "   geometry  \n",
       "0      None  \n",
       "1      None  \n",
       "2      None  \n",
       "\n",
       "[3 rows x 45 columns]"
      ]
     },
     "execution_count": 31,
     "metadata": {},
     "output_type": "execute_result"
    }
   ],
   "source": [
    "tx_rdh[tx_rdh.CNTYVTD.isin(overlap.loc[overlap['_merge'] == 'left_only']['CNTYVTD'])].head(3)"
   ]
  },
  {
   "cell_type": "code",
   "execution_count": 32,
   "metadata": {},
   "outputs": [
    {
     "data": {
      "text/plain": [
       "(2227, 45)"
      ]
     },
     "execution_count": 32,
     "metadata": {},
     "output_type": "execute_result"
    }
   ],
   "source": [
    "tx_rdh[tx_rdh.CNTYVTD.isin(overlap.loc[overlap['_merge'] == 'left_only']['CNTYVTD'])].shape"
   ]
  },
  {
   "cell_type": "code",
   "execution_count": 33,
   "metadata": {},
   "outputs": [],
   "source": [
    "tx_rdh_v2 = tx_rdh.copy()"
   ]
  },
  {
   "cell_type": "code",
   "execution_count": 34,
   "metadata": {},
   "outputs": [],
   "source": [
    "tx_rdh = tx_rdh_v2.copy()"
   ]
  },
  {
   "cell_type": "code",
   "execution_count": 35,
   "metadata": {},
   "outputs": [
    {
     "data": {
      "text/plain": [
       "Index(['CNTYVTD', 'G18USSRCRU', 'G18USSDORO', 'G18USSLDIK', 'G18GOVRABB',\n",
       "       'G18GOVDVAL', 'G18GOVLTIP', 'G18LTGRPAT', 'G18LTGDCOL', 'G18LTGLMCK',\n",
       "       'G18ATGRPAX', 'G18ATGDNEL', 'G18ATGLHAR', 'G18COMRHEG', 'G18COMDCHE',\n",
       "       'G18COMLSAN', 'G18LANRBUS', 'G18LANDSUA', 'G18LANLPIN', 'G18AGRRMIL',\n",
       "       'G18AGRDOLS', 'G18AGRLCAR', 'G18RRCRCRA', 'G18RRCDMCA', 'G18RRCLWRI',\n",
       "       'G18SSCRBLA', 'G18SSCDKIR', 'G18SSCRDEV', 'G18SSCDSAN', 'G18SSCRBRO',\n",
       "       'G18SSCDCHE', 'G18SCCRKEL', 'G18SCCDJAC', 'G18SCCLSTR', 'G18SCCRHER',\n",
       "       'G18SCCDFRA', 'G18SCCRSLA', 'G18SCCLASH', 'CNTY', 'COLOR', 'VTD',\n",
       "       'VTDKEY', 'Shape_area', 'Shape_len', 'geometry'],\n",
       "      dtype='object')"
      ]
     },
     "execution_count": 35,
     "metadata": {},
     "output_type": "execute_result"
    }
   ],
   "source": [
    "tx_rdh.columns"
   ]
  },
  {
   "cell_type": "markdown",
   "metadata": {},
   "source": [
    "Merge election results columns"
   ]
  },
  {
   "cell_type": "code",
   "execution_count": 36,
   "metadata": {},
   "outputs": [],
   "source": [
    "returns_2018.reset_index(inplace = True)"
   ]
  },
  {
   "cell_type": "code",
   "execution_count": 37,
   "metadata": {},
   "outputs": [
    {
     "data": {
      "text/html": [
       "<div>\n",
       "<style scoped>\n",
       "    .dataframe tbody tr th:only-of-type {\n",
       "        vertical-align: middle;\n",
       "    }\n",
       "\n",
       "    .dataframe tbody tr th {\n",
       "        vertical-align: top;\n",
       "    }\n",
       "\n",
       "    .dataframe thead th {\n",
       "        text-align: right;\n",
       "    }\n",
       "</style>\n",
       "<table border=\"1\" class=\"dataframe\">\n",
       "  <thead>\n",
       "    <tr style=\"text-align: right;\">\n",
       "      <th></th>\n",
       "      <th>CNTYVTD</th>\n",
       "      <th>G18USSRCRU</th>\n",
       "      <th>G18USSDORO</th>\n",
       "      <th>G18USSLDIK</th>\n",
       "      <th>G18GOVRABB</th>\n",
       "      <th>G18GOVDVAL</th>\n",
       "      <th>G18GOVLTIP</th>\n",
       "      <th>G18LTGRPAT</th>\n",
       "      <th>G18LTGDCOL</th>\n",
       "      <th>G18LTGLMCK</th>\n",
       "      <th>...</th>\n",
       "      <th>G18SSCDSAN</th>\n",
       "      <th>G18SSCRBRO</th>\n",
       "      <th>G18SSCDCHE</th>\n",
       "      <th>G18SCCRKEL</th>\n",
       "      <th>G18SCCDJAC</th>\n",
       "      <th>G18SCCLSTR</th>\n",
       "      <th>G18SCCRHER</th>\n",
       "      <th>G18SCCDFRA</th>\n",
       "      <th>G18SCCRSLA</th>\n",
       "      <th>G18SCCLASH</th>\n",
       "    </tr>\n",
       "  </thead>\n",
       "  <tbody>\n",
       "  </tbody>\n",
       "</table>\n",
       "<p>0 rows × 38 columns</p>\n",
       "</div>"
      ],
      "text/plain": [
       "Empty DataFrame\n",
       "Columns: [CNTYVTD, G18USSRCRU, G18USSDORO, G18USSLDIK, G18GOVRABB, G18GOVDVAL, G18GOVLTIP, G18LTGRPAT, G18LTGDCOL, G18LTGLMCK, G18ATGRPAX, G18ATGDNEL, G18ATGLHAR, G18COMRHEG, G18COMDCHE, G18COMLSAN, G18LANRBUS, G18LANDSUA, G18LANLPIN, G18AGRRMIL, G18AGRDOLS, G18AGRLCAR, G18RRCRCRA, G18RRCDMCA, G18RRCLWRI, G18SSCRBLA, G18SSCDKIR, G18SSCRDEV, G18SSCDSAN, G18SSCRBRO, G18SSCDCHE, G18SCCRKEL, G18SCCDJAC, G18SCCLSTR, G18SCCRHER, G18SCCDFRA, G18SCCRSLA, G18SCCLASH]\n",
       "Index: []\n",
       "\n",
       "[0 rows x 38 columns]"
      ]
     },
     "execution_count": 37,
     "metadata": {},
     "output_type": "execute_result"
    }
   ],
   "source": [
    "returns_2018[(returns_2018.CNTYVTD.isin(overlap.loc[overlap['_merge'] == 'left_only']['CNTYVTD'])) & (returns_2018.CNTYVTD.str.startswith('2010143'))]"
   ]
  },
  {
   "cell_type": "code",
   "execution_count": 38,
   "metadata": {},
   "outputs": [
    {
     "data": {
      "text/plain": [
       "[0.0,\n",
       " 0.0,\n",
       " 0.0,\n",
       " 0.0,\n",
       " 0.0,\n",
       " 0.0,\n",
       " 0.0,\n",
       " 0.0,\n",
       " 0.0,\n",
       " 0.0,\n",
       " 0.0,\n",
       " 0.0,\n",
       " 0.0,\n",
       " 0.0,\n",
       " 0.0,\n",
       " 0.0,\n",
       " 0.0,\n",
       " 0.0,\n",
       " 0.0,\n",
       " 0.0,\n",
       " 0.0,\n",
       " 0.0,\n",
       " 0.0,\n",
       " 0.0,\n",
       " 0.0,\n",
       " 0.0,\n",
       " 0.0,\n",
       " 0.0,\n",
       " 0.0,\n",
       " 0.0,\n",
       " 0.0,\n",
       " 0.0,\n",
       " 0.0,\n",
       " 0.0,\n",
       " 0.0,\n",
       " 0.0,\n",
       " 0.0]"
      ]
     },
     "execution_count": 38,
     "metadata": {},
     "output_type": "execute_result"
    }
   ],
   "source": [
    "temp_list = returns_2018[(returns_2018.CNTYVTD.isin(overlap.loc[overlap['_merge'] == 'left_only']['CNTYVTD'])) & (returns_2018.CNTYVTD.str.startswith('2010143'))].sum(numeric_only = True).to_list()\n",
    "temp_list"
   ]
  },
  {
   "cell_type": "code",
   "execution_count": 39,
   "metadata": {},
   "outputs": [
    {
     "data": {
      "text/plain": [
       "Index(['CNTYVTD', 'G18USSRCRU', 'G18USSDORO', 'G18USSLDIK', 'G18GOVRABB',\n",
       "       'G18GOVDVAL', 'G18GOVLTIP', 'G18LTGRPAT', 'G18LTGDCOL', 'G18LTGLMCK',\n",
       "       'G18ATGRPAX', 'G18ATGDNEL', 'G18ATGLHAR', 'G18COMRHEG', 'G18COMDCHE',\n",
       "       'G18COMLSAN', 'G18LANRBUS', 'G18LANDSUA', 'G18LANLPIN', 'G18AGRRMIL',\n",
       "       'G18AGRDOLS', 'G18AGRLCAR', 'G18RRCRCRA', 'G18RRCDMCA', 'G18RRCLWRI',\n",
       "       'G18SSCRBLA', 'G18SSCDKIR', 'G18SSCRDEV', 'G18SSCDSAN', 'G18SSCRBRO',\n",
       "       'G18SSCDCHE', 'G18SCCRKEL', 'G18SCCDJAC', 'G18SCCLSTR', 'G18SCCRHER',\n",
       "       'G18SCCDFRA', 'G18SCCRSLA', 'G18SCCLASH'],\n",
       "      dtype='object')"
      ]
     },
     "execution_count": 39,
     "metadata": {},
     "output_type": "execute_result"
    }
   ],
   "source": [
    "returns_2018.columns"
   ]
  },
  {
   "cell_type": "code",
   "execution_count": 40,
   "metadata": {},
   "outputs": [
    {
     "data": {
      "text/html": [
       "<div>\n",
       "<style scoped>\n",
       "    .dataframe tbody tr th:only-of-type {\n",
       "        vertical-align: middle;\n",
       "    }\n",
       "\n",
       "    .dataframe tbody tr th {\n",
       "        vertical-align: top;\n",
       "    }\n",
       "\n",
       "    .dataframe thead th {\n",
       "        text-align: right;\n",
       "    }\n",
       "</style>\n",
       "<table border=\"1\" class=\"dataframe\">\n",
       "  <thead>\n",
       "    <tr style=\"text-align: right;\">\n",
       "      <th></th>\n",
       "      <th>G18USSRCRU</th>\n",
       "      <th>G18USSDORO</th>\n",
       "      <th>G18USSLDIK</th>\n",
       "      <th>G18GOVRABB</th>\n",
       "      <th>G18GOVDVAL</th>\n",
       "      <th>G18GOVLTIP</th>\n",
       "      <th>G18LTGRPAT</th>\n",
       "      <th>G18LTGDCOL</th>\n",
       "      <th>G18LTGLMCK</th>\n",
       "      <th>G18ATGRPAX</th>\n",
       "      <th>...</th>\n",
       "      <th>G18SSCDSAN</th>\n",
       "      <th>G18SSCRBRO</th>\n",
       "      <th>G18SSCDCHE</th>\n",
       "      <th>G18SCCRKEL</th>\n",
       "      <th>G18SCCDJAC</th>\n",
       "      <th>G18SCCLSTR</th>\n",
       "      <th>G18SCCRHER</th>\n",
       "      <th>G18SCCDFRA</th>\n",
       "      <th>G18SCCRSLA</th>\n",
       "      <th>G18SCCLASH</th>\n",
       "    </tr>\n",
       "  </thead>\n",
       "  <tbody>\n",
       "    <tr>\n",
       "      <th>0</th>\n",
       "      <td>0.0</td>\n",
       "      <td>0.0</td>\n",
       "      <td>0.0</td>\n",
       "      <td>0.0</td>\n",
       "      <td>0.0</td>\n",
       "      <td>0.0</td>\n",
       "      <td>0.0</td>\n",
       "      <td>0.0</td>\n",
       "      <td>0.0</td>\n",
       "      <td>0.0</td>\n",
       "      <td>...</td>\n",
       "      <td>0.0</td>\n",
       "      <td>0.0</td>\n",
       "      <td>0.0</td>\n",
       "      <td>0.0</td>\n",
       "      <td>0.0</td>\n",
       "      <td>0.0</td>\n",
       "      <td>0.0</td>\n",
       "      <td>0.0</td>\n",
       "      <td>0.0</td>\n",
       "      <td>0.0</td>\n",
       "    </tr>\n",
       "  </tbody>\n",
       "</table>\n",
       "<p>1 rows × 37 columns</p>\n",
       "</div>"
      ],
      "text/plain": [
       "   G18USSRCRU  G18USSDORO  G18USSLDIK  G18GOVRABB  G18GOVDVAL  G18GOVLTIP  \\\n",
       "0         0.0         0.0         0.0         0.0         0.0         0.0   \n",
       "\n",
       "   G18LTGRPAT  G18LTGDCOL  G18LTGLMCK  G18ATGRPAX  ...  G18SSCDSAN  \\\n",
       "0         0.0         0.0         0.0         0.0  ...         0.0   \n",
       "\n",
       "   G18SSCRBRO  G18SSCDCHE  G18SCCRKEL  G18SCCDJAC  G18SCCLSTR  G18SCCRHER  \\\n",
       "0         0.0         0.0         0.0         0.0         0.0         0.0   \n",
       "\n",
       "   G18SCCDFRA  G18SCCRSLA  G18SCCLASH  \n",
       "0         0.0         0.0         0.0  \n",
       "\n",
       "[1 rows x 37 columns]"
      ]
     },
     "execution_count": 40,
     "metadata": {},
     "output_type": "execute_result"
    }
   ],
   "source": [
    "temp = pd.DataFrame([temp_list], columns = ['G18USSRCRU', 'G18USSDORO', 'G18USSLDIK',\n",
    "       'G18GOVRABB', 'G18GOVDVAL', 'G18GOVLTIP', 'G18LTGRPAT', 'G18LTGDCOL',\n",
    "       'G18LTGLMCK', 'G18ATGRPAX', 'G18ATGDNEL', 'G18ATGLHAR', 'G18COMRHEG',\n",
    "       'G18COMDCHE', 'G18COMLSAN', 'G18LANRBUS', 'G18LANDSUA', 'G18LANLPIN',\n",
    "       'G18AGRRMIL', 'G18AGRDOLS', 'G18AGRLCAR', 'G18RRCRCRA', 'G18RRCDMCA',\n",
    "       'G18RRCLWRI', 'G18SSCRBLA', 'G18SSCDKIR', 'G18SSCRDEV', 'G18SSCDSAN',\n",
    "       'G18SSCRBRO', 'G18SSCDCHE', 'G18SCCRKEL', 'G18SCCDJAC', 'G18SCCLSTR',\n",
    "       'G18SCCRHER', 'G18SCCDFRA', 'G18SCCRSLA', 'G18SCCLASH'])\n",
    "temp"
   ]
  },
  {
   "cell_type": "markdown",
   "metadata": {},
   "source": [
    "The following code goes through the precincts that did not join, and merges the geographies and aggregates the election results. The code is ugly because there's no universal solution, because some precincts have A,B,C,D,E,F that need to be merged.\n",
    "\n",
    "At the end, this code prints out the county/precinct pairs that were merged. "
   ]
  },
  {
   "cell_type": "code",
   "execution_count": null,
   "metadata": {},
   "outputs": [],
   "source": [
    "tx_rdh.sum()"
   ]
  },
  {
   "cell_type": "code",
   "execution_count": 41,
   "metadata": {},
   "outputs": [],
   "source": [
    "count = 0 \n",
    "rdh_vtd_dissolved = []\n",
    "temp_df = gp.GeoDataFrame()\n",
    "for index, row in tx_rdh[tx_rdh.CNTYVTD.isin(overlap.loc[overlap['_merge'] == 'left_only']['CNTYVTD'])].iterrows():\n",
    "#     print(row['CNTYVTD'])\n",
    "    unique_id = row['CNTYVTD'].replace('A','').replace('B','').replace('C','').replace('D','').replace('E','').replace('F','')\n",
    "    rdh_vtd_dissolved.append((row['CNTY'], unique_id))    \n",
    "    \n",
    "    if count == 0: \n",
    "        group_unique_id = unique_id\n",
    "    else: \n",
    "        if unique_id != group_unique_id: \n",
    "            temp_dissolved = temp_df.dissolve(by='CNTY')\n",
    "            temp_dissolved.reset_index(inplace = True)\n",
    "            temp_dissolved['CNTYVTD'] = temp_dissolved['CNTYVTD'].str.replace('A','')\n",
    "            \n",
    "            # merge election results\n",
    "            temp_list = returns_2018[(returns_2018.CNTYVTD.isin(overlap.loc[overlap['_merge'] == 'left_only']['CNTYVTD'])) & (returns_2018.CNTYVTD.str.startswith(group_unique_id))].sum(numeric_only = True).to_list()\n",
    "            temp_election_results = pd.DataFrame([temp_list], columns = ['G18USSRCRU', 'G18USSDORO', 'G18USSLDIK',\n",
    "       'G18GOVRABB', 'G18GOVDVAL', 'G18GOVLTIP', 'G18LTGRPAT', 'G18LTGDCOL',\n",
    "       'G18LTGLMCK', 'G18ATGRPAX', 'G18ATGDNEL', 'G18ATGLHAR', 'G18COMRHEG',\n",
    "       'G18COMDCHE', 'G18COMLSAN', 'G18LANRBUS', 'G18LANDSUA', 'G18LANLPIN',\n",
    "       'G18AGRRMIL', 'G18AGRDOLS', 'G18AGRLCAR', 'G18RRCRCRA', 'G18RRCDMCA',\n",
    "       'G18RRCLWRI', 'G18SSCRBLA', 'G18SSCDKIR', 'G18SSCRDEV', 'G18SSCDSAN',\n",
    "       'G18SSCRBRO', 'G18SSCDCHE', 'G18SCCRKEL', 'G18SCCDJAC', 'G18SCCLSTR',\n",
    "       'G18SCCRHER', 'G18SCCDFRA', 'G18SCCRSLA', 'G18SCCLASH'])\n",
    "\n",
    "            temp_dissolved[['G18USSRCRU', 'G18USSDORO', 'G18USSLDIK',\n",
    "       'G18GOVRABB', 'G18GOVDVAL', 'G18GOVLTIP', 'G18LTGRPAT', 'G18LTGDCOL',\n",
    "       'G18LTGLMCK', 'G18ATGRPAX', 'G18ATGDNEL', 'G18ATGLHAR', 'G18COMRHEG',\n",
    "       'G18COMDCHE', 'G18COMLSAN', 'G18LANRBUS', 'G18LANDSUA', 'G18LANLPIN',\n",
    "       'G18AGRRMIL', 'G18AGRDOLS', 'G18AGRLCAR', 'G18RRCRCRA', 'G18RRCDMCA',\n",
    "       'G18RRCLWRI', 'G18SSCRBLA', 'G18SSCDKIR', 'G18SSCRDEV', 'G18SSCDSAN',\n",
    "       'G18SSCRBRO', 'G18SSCDCHE', 'G18SCCRKEL', 'G18SCCDJAC', 'G18SCCLSTR',\n",
    "       'G18SCCRHER', 'G18SCCDFRA', 'G18SCCRSLA', 'G18SCCLASH']] = temp_election_results[['G18USSRCRU', 'G18USSDORO', 'G18USSLDIK',\n",
    "       'G18GOVRABB', 'G18GOVDVAL', 'G18GOVLTIP', 'G18LTGRPAT', 'G18LTGDCOL',\n",
    "       'G18LTGLMCK', 'G18ATGRPAX', 'G18ATGDNEL', 'G18ATGLHAR', 'G18COMRHEG',\n",
    "       'G18COMDCHE', 'G18COMLSAN', 'G18LANRBUS', 'G18LANDSUA', 'G18LANLPIN',\n",
    "       'G18AGRRMIL', 'G18AGRDOLS', 'G18AGRLCAR', 'G18RRCRCRA', 'G18RRCDMCA',\n",
    "       'G18RRCLWRI', 'G18SSCRBLA', 'G18SSCDKIR', 'G18SSCRDEV', 'G18SSCDSAN',\n",
    "       'G18SSCRBRO', 'G18SSCDCHE', 'G18SCCRKEL', 'G18SCCDJAC', 'G18SCCLSTR',\n",
    "       'G18SCCRHER', 'G18SCCDFRA', 'G18SCCRSLA', 'G18SCCLASH']]\n",
    "            \n",
    "            tx_rdh = tx_rdh.append(temp_dissolved)\n",
    "            \n",
    "            temp_df = gp.GeoDataFrame()\n",
    "            group_unique_id = unique_id\n",
    "    \n",
    "    temp_df = temp_df.append(row)\n",
    "    tx_rdh.drop([index],inplace = True)\n",
    "\n",
    "    count += 1\n",
    "    "
   ]
  },
  {
   "cell_type": "code",
   "execution_count": 42,
   "metadata": {},
   "outputs": [
    {
     "data": {
      "text/plain": [
       "[667,\n",
       " 214,\n",
       " 9,\n",
       " 710,\n",
       " 160,\n",
       " 13,\n",
       " 634,\n",
       " 228,\n",
       " 19,\n",
       " 647,\n",
       " 207,\n",
       " 26,\n",
       " 677,\n",
       " 166,\n",
       " 22,\n",
       " 697,\n",
       " 151,\n",
       " 29,\n",
       " 656,\n",
       " 197,\n",
       " 17,\n",
       " 679,\n",
       " 165,\n",
       " 26,\n",
       " 683,\n",
       " 181,\n",
       " 686,\n",
       " 174,\n",
       " 682,\n",
       " 178,\n",
       " 668,\n",
       " 173,\n",
       " 20,\n",
       " 691,\n",
       " 168,\n",
       " 706,\n",
       " 92]"
      ]
     },
     "execution_count": 42,
     "metadata": {},
     "output_type": "execute_result"
    }
   ],
   "source": [
    "# do the last one out of the loop\n",
    "temp_dissolved = temp_df.dissolve(by='CNTY')\n",
    "temp_dissolved.reset_index(inplace = True)\n",
    "temp_dissolved['CNTYVTD'] = temp_dissolved['CNTYVTD'].str.replace('A','')\n",
    "temp_list = returns_2018[(returns_2018.CNTYVTD.isin(overlap.loc[overlap['_merge'] == 'left_only']['CNTYVTD'])) & (returns_2018.CNTYVTD.str.contains(group_unique_id))].sum(numeric_only = True).to_list()\n",
    "temp_list"
   ]
  },
  {
   "cell_type": "code",
   "execution_count": 43,
   "metadata": {},
   "outputs": [
    {
     "name": "stdout",
     "output_type": "stream",
     "text": [
      "Precincts in the RDH file that were dissolved:  {(nan, '0294184'), (nan, '0291146'), (nan, '0410090'), (nan, '0250004'), (nan, '0850016'), (nan, '0930013'), (nan, '0294213'), (113.0, '1133940'), (nan, '0050010'), (nan, '0050010'), (nan, '0293074'), (nan, '0293077'), (nan, '0292117'), (nan, '0294172'), (nan, '0293186'), (nan, '0910407'), (nan, '0850061'), (nan, '0390064'), (nan, '397001'), (nan, '397001'), (nan, '0050035'), (nan, '0291136'), (nan, '0710002'), (nan, '4394724'), (nan, '0294188'), (nan, '037005'), (nan, '037005'), (nan, '037005'), (nan, '0610095'), (nan, '0670018'), (nan, '0292043'), (nan, '0970012'), (nan, '0293179'), (nan, '0294120'), (nan, '0410080'), (nan, '0293024'), (nan, '0291090'), (nan, '0110402'), (nan, '0690301'), (nan, '0610070'), (nan, '0610080'), (nan, '0670009'), (nan, '0910303'), (nan, '0211022'), (nan, '0990416'), (nan, '0294084'), (nan, '037001'), (nan, '037001'), (nan, '0770013'), (nan, '083002'), (nan, '0450002'), (nan, '329109'), (nan, '329109'), (nan, '0910403'), (nan, '0150101'), (nan, '0930010'), (nan, '0390018'), (nan, '3290106'), (nan, '3290106'), (nan, '0212008'), (nan, '0292083'), (nan, '0291083'), (nan, '0850037'), (nan, '0530005'), (nan, '0150314'), (nan, '0050036'), (nan, '0910103'), (nan, '0294091'), (113.0, '1131308'), (nan, '0293080'), (nan, '0950407'), (nan, '0430008'), (nan, '0610099'), (nan, '0410074'), (nan, '0790306'), (nan, '0970026'), (nan, '0570021'), (nan, '0294035'), (nan, '0410059'), (nan, '0292108'), (nan, '0150208'), (nan, '0390008'), (nan, '0292025'), (nan, '0950102'), (nan, '0292150'), (nan, '0410045'), (nan, '0293139'), (nan, '0293137'), (nan, '0291059'), (nan, '0291093'), (nan, '0610051'), (nan, '0730025'), (nan, '0292074'), (nan, '0670011'), (nan, '0110401'), (nan, '0294076'), (nan, '0090011'), (nan, '0292119'), (nan, '0291075'), (nan, '0294105'), (nan, '0291113'), (nan, '0150415'), (nan, '0610055'), (nan, '4392158'), (nan, '0292011'), (nan, '4392158'), (nan, '0550110'), (nan, '0291085'), (nan, '0293159'), (nan, '0610053'), (nan, '0510309'), (nan, '0292147'), (nan, '0690307'), (nan, '0293172'), (nan, '0430001'), (nan, '0294063'), (nan, '0293101'), (nan, '0710010'), (nan, '0850179'), (nan, '0293075'), (nan, '0010020'), (nan, '0590002'), (nan, '0292094'), (nan, '0250016'), (nan, '0610072'), (nan, '0294043'), (nan, '0292135'), (nan, '0850163'), (nan, '0291103'), (nan, '0390040'), (nan, '0291070'), (nan, '0670019'), (nan, '0790101'), (nan, '0390046'), (nan, '0293144'), (nan, '0610007'), (nan, '0293028'), (nan, '0610106'), (nan, '4392712'), (nan, '037004'), (nan, '037004'), (nan, '037004'), (nan, '037004'), (nan, '0291105'), (nan, '037004'), (nan, '0850148'), (nan, '0010021'), (nan, '0294114'), (nan, '0610062'), (nan, '0050031'), (nan, '0730037'), (nan, '0293198'), (nan, '0292088'), (nan, '0390026'), (nan, '0410065'), (nan, '0270110'), (nan, '0294173'), (nan, '0710015'), (nan, '0270412'), (nan, '0850065'), (nan, '0294095'), (nan, '0292141'), (nan, '0293050'), (nan, '0294030'), (nan, '1410088'), (nan, '1410088'), (nan, '0410027'), (nan, '0030002'), (nan, '0292063'), (nan, '0292048'), (nan, '0870402'), (nan, '0293162'), (nan, '0294197'), (nan, '0294198'), (nan, '0294121'), (nan, '0850052'), (nan, '0293154'), (nan, '1132717'), (nan, '1132717'), (nan, '1132717'), (nan, '0293208'), (nan, '0293037'), (nan, '0294038'), (nan, '0730023'), (nan, '0410072'), (nan, '0310304'), (nan, '0390048'), (nan, '0292120'), (nan, '0291143'), (nan, '0550301'), (nan, '0850040'), (329.0, '3290101'), (nan, '0410025'), (nan, '0294040'), (nan, '0410023'), (nan, '0294039'), (nan, '0390053'), (nan, '0610096'), (nan, '0292156'), (nan, '0294123'), (nan, '0690401'), (nan, '0670017'), (nan, '0293194'), (nan, '0211004'), (nan, '0850162'), (nan, '0293115'), (nan, '0294175'), (nan, '0350004'), (nan, '0850094'), (nan, '0293199'), (nan, '0293199'), (nan, '0293145'), (nan, '0490306'), (nan, '0293147'), (nan, '0550408'), (nan, '0294004'), (nan, '0291069'), (nan, '0410034'), (nan, '0294192'), (nan, '0550305'), (nan, '0292085'), (nan, '0294163'), (nan, '0293026'), (nan, '0370024'), (nan, '0530003'), (nan, '1410198'), (nan, '0291055'), (nan, '0293207'), (nan, '0850083'), (nan, '3170001'), (nan, '3170001'), (nan, '0294003'), (nan, '0790303'), (nan, '033001'), (nan, '033001'), (nan, '0293064'), (nan, '0292106'), (nan, '0850188'), (nan, '0850079'), (nan, '0550307'), (nan, '0292084'), (nan, '0410037'), (nan, '0293078'), (nan, '0390020'), (nan, '0850159'), (nan, '0292149'), (nan, '0970028'), (nan, '0070004'), (nan, '0170001'), (nan, '0970011'), (nan, '0293030'), (nan, '0390062'), (nan, '0850119'), (nan, '0293185'), (nan, '2090123'), (nan, '0292114'), (113.0, '1134006'), (nan, '0110301'), (nan, '0293087'), (nan, '0294141'), (nan, '0690201'), (125.0, '1250003'), (nan, '0390002'), (nan, '0410051'), (nan, '0390004'), (nan, '1211053'), (nan, '0410044'), (nan, '0710007'), (nan, '0294200'), (nan, '0410052'), (nan, '005011'), (nan, '0150207'), (nan, '0470001'), (nan, '0410099'), (nan, '0293098'), (nan, '0293042'), (nan, '0970015'), (nan, '0291026'), (nan, '0490214'), (nan, '0390037'), (nan, '0293121'), (nan, '0850171'), (nan, '0294185'), (nan, '0850086'), (nan, '0292107'), (nan, '0270311'), (nan, '0850181'), (nan, '0050009'), (nan, '0010011'), (nan, '0294082'), (nan, '0850100'), (nan, '0610010'), (nan, '0670006'), (nan, '0190407'), (nan, '0850073'), (nan, '1410195'), (nan, '0291024'), (nan, '0291011'), (nan, '0610008'), (nan, '0270409'), (nan, '0070002'), (nan, '0550409'), (nan, '0294176'), (nan, '4391723'), (nan, '0293019'), (nan, '0850206'), (nan, '0293039'), (nan, '0510211'), (nan, '0610031'), (nan, '0510203'), (nan, '0270307'), (nan, '0294008'), (nan, '0292013'), (nan, '0090009'), (nan, '0730034'), (nan, '0292022'), (nan, '0190101'), (nan, '0292072'), (nan, '0291128'), (nan, '0610014'), (nan, '0050006'), (nan, '0294015'), (nan, '0390057'), (nan, '0090008'), (nan, '0292047'), (nan, '0610029'), (nan, '0293195'), (nan, '0293071'), (nan, '0292031'), (nan, '0850193'), (nan, '0650401'), (nan, '0410036'), (nan, '0270103'), (nan, '0270201'), (nan, '0292112'), (nan, '0030001'), (nan, '0270303'), (nan, '0293095'), (nan, '0550400'), (nan, '0294002'), (nan, '0293150'), (nan, '4393706'), (nan, '0570015'), (nan, '0294059'), (nan, '0270315'), (nan, '0292009'), (nan, '0130016'), (nan, '0292035'), (nan, '0850010'), (nan, '0050012'), (nan, '0850041'), (nan, '0710011'), (nan, '0292096'), (nan, '2090413'), (nan, '2090413'), (nan, '0850125'), (nan, '0850160'), (nan, '0291061'), (nan, '2090420'), (nan, '2090420'), (nan, '2090420'), (nan, '0850031'), (nan, '037003'), (nan, '037003'), (nan, '0610083'), (nan, '0850166'), (nan, '1410200'), (nan, '0293209'), (nan, '0410002'), (nan, '0610032'), (nan, '0293201'), (nan, '007001'), (nan, '3290108'), (nan, '0730015'), (nan, '3290108'), (nan, '3290108'), (nan, '0410047'), (nan, '0050004'), (nan, '0050039'), (nan, '0370020'), (nan, '0770011'), (nan, '0292082'), (nan, '0110404'), (nan, '0390032'), (nan, '0291078'), (nan, '0730033'), (nan, '0291148'), (nan, '0294180'), (nan, '0970034'), (nan, '0410039'), (nan, '0293031'), (nan, '0370022'), (nan, '0850169'), (nan, '0293146'), (nan, '0390056'), (nan, '0570013'), (nan, '0292026'), (nan, '0390035'), (nan, '0130015'), (nan, '0293066'), (nan, '0970020'), (nan, '0294127'), (nan, '0294183'), (nan, '0970006'), (nan, '0850172'), (nan, '0610109'), (nan, '0370025'), (nan, '0610042'), (nan, '0292126'), (nan, '0050013'), (nan, '0294103'), (nan, '0410094'), (nan, '0410094'), (nan, '0410094'), (nan, '0850173'), (nan, '0550107'), (nan, '4391722'), (nan, '0291071'), (nan, '0610043'), (nan, '0270410'), (nan, '0490410'), (nan, '0850155'), (nan, '0390067'), (nan, '0850229'), (nan, '0570008'), (nan, '0610024'), (nan, '0292151'), (nan, '3390097'), (nan, '0291115'), (nan, '1212015'), (nan, '1212015'), (nan, '0270401'), (nan, '0850017'), (nan, '0990309'), (nan, '0190409'), (nan, '0292007'), (nan, '0850060'), (nan, '0850093'), (nan, '0390021'), (nan, '0291106'), (nan, '0850021'), (nan, '0850167'), (nan, '3030006'), (nan, '3030006'), (nan, '0293003'), (nan, '0910108'), (nan, '0293166'), (nan, '0550102'), (nan, '0294101'), (nan, '0293136'), (nan, '0291119'), (nan, '0250002'), (nan, '4393469'), (nan, '4393469'), (nan, '0710001'), (nan, '0291131'), (nan, '0410024'), (nan, '0350002'), (nan, '0350005'), (nan, '0850236'), (nan, '0292036'), (nan, '0291045'), (nan, '0294025'), (nan, '0294208'), (nan, '0850213'), (nan, '067013T'), (nan, '0990206'), (nan, '0250017'), (nan, '0294116'), (nan, '0294024'), (nan, '0850064'), (nan, '0850113'), (nan, '0410063'), (nan, '0292006'), (nan, '2090333'), (nan, '2090333'), (nan, '2090333'), (nan, '0570012'), (nan, '0570010'), (nan, '4391715'), (nan, '0610041'), (nan, '0270102'), (nan, '0770026'), (nan, '0410082'), (nan, '0294196'), (nan, '0730013'), (nan, '3390099'), (nan, '0291121'), (nan, '0294021'), (nan, '0291035'), (nan, '0294093'), (nan, '0850018'), (nan, '0530017'), (nan, '0970017'), (nan, '0292039'), (nan, '0292039'), (nan, '0430002'), (nan, '0292017'), (nan, '0250012'), (nan, '0490113'), (nan, '0850133'), (113.0, '1134003'), (nan, '0292029'), (nan, '0293063'), (nan, '0213016'), (nan, '0050011'), (nan, '0293131'), (nan, '0850070'), (nan, '0294069'), (nan, '0294078'), (nan, '0510410'), (nan, '0850151'), (nan, '0990413'), (nan, '0970031'), (nan, '0294158'), (nan, '0250006'), (nan, '0230002'), (nan, '0293204'), (nan, '0850106'), (nan, '0150103'), (nan, '0890305'), (nan, '0270304'), (nan, '0490318'), (nan, '0294022'), (nan, '0810004'), (nan, '0293056'), (nan, '0292152'), (nan, '0292069'), (nan, '0890302'), (439.0, '4391277'), (nan, '0410092'), (nan, '0292125'), (nan, '0292133'), (nan, '0293187'), (nan, '0293127'), (nan, '0293015'), (nan, '0294144'), (nan, '0990415'), (nan, '4393728'), (113.0, '1134091'), (nan, '0294075'), (nan, '0370028'), (nan, '0710005'), (nan, '0292103'), (nan, '0634004'), (nan, '0294010'), (nan, '037002'), (nan, '037002'), (nan, '037002'), (nan, '037002'), (nan, '0850035'), (nan, '0294089'), (nan, '0670004'), (nan, '0570004'), (nan, '0293052'), (nan, '0850053'), (nan, '0410068'), (nan, '0294195'), (nan, '0170003'), (nan, '0850210'), (nan, '0293044'), (nan, '0294047'), (nan, '0850109'), (nan, '0410046'), (nan, '0390054'), (nan, '0850014'), (nan, '0590007'), (nan, '0890303'), (nan, '0850223'), (nan, '0293033'), (nan, '0294190'), (nan, '0292138'), (nan, '0292142'), (nan, '0850092'), (nan, '0050003'), (nan, '0610046'), (nan, '0090003'), (nan, '0850088'), (nan, '0730036'), (nan, '0850129'), (nan, '0291003'), (nan, '0530008'), (nan, '0850034'), (473.0, '4730420'), (497.0, '4970007'), (nan, '0291125'), (nan, '0370021'), (nan, '0850208'), (nan, '0292062'), (nan, '0610088'), (nan, '0294161'), (nan, '0610028'), (nan, '0294199'), (nan, '0390042'), (nan, '0294148'), (nan, '0850022'), (nan, '0291017'), (383.0, '3830003'), (nan, '0350008'), (nan, '0350008'), (113.0, '1132810'), (nan, '0270312'), (nan, '0050021'), (nan, '0550103'), (nan, '0410067'), (nan, '0610003'), (nan, '0291033'), (nan, '0850078'), (nan, '0570001'), (nan, '0850178'), (nan, '0990311'), (nan, '0294170'), (nan, '2090125'), (nan, '2090125'), (nan, '0292057'), (nan, '0293013'), (nan, '037006'), (nan, '037006'), (nan, '1211056'), (nan, '0970004'), (nan, '0291088'), (nan, '0850154'), (nan, '0270313'), (nan, '0310303'), (nan, '0410017'), (nan, '0150102'), (nan, '0211001'), (nan, '0610060'), (nan, '0270404'), (443.0, '4430004'), (nan, '0730045'), (nan, '0291077'), (nan, '0610002'), (nan, '0050020'), (nan, '0294177'), (nan, '0850183'), (nan, '0570016'), (nan, '0291087'), (nan, '0293149'), (nan, '0270208'), (nan, '0350011'), (295.0, '2950207'), (nan, '0010013'), (nan, '0910406'), (nan, '0910406'), (nan, '0291043'), (113.0, '1134627'), (nan, '0850143'), (nan, '0130019'), (nan, '0310401'), (nan, '0291042'), (nan, '0294092'), (nan, '0293055'), (nan, '0293057'), (nan, '0291044'), (nan, '0410091'), (nan, '0410091'), (nan, '0292005'), (nan, '0390039'), (nan, '0390059'), (491.0, '4910333'), (nan, '0292130'), (nan, '0610101'), (nan, '0850050'), (nan, '0293142'), (nan, '0530001'), (nan, '1211055'), (nan, '0292061'), (nan, '0293032'), (nan, '0294001'), (nan, '0550104'), (nan, '0292116'), (nan, '0292032'), (nan, '0130023'), (nan, '0850174'), (nan, '0610084'), (nan, '0150416'), (nan, '0570020'), (nan, '0690105'), (nan, '0850124'), (nan, '0850156'), (nan, '0970035'), (nan, '0850212'), (nan, '0390051'), (nan, '0294119'), (nan, '0291013'), (nan, '0292024'), (nan, '0690101'), (nan, '0390028'), (nan, '0410014'), (nan, '0294194'), (nan, '0770009'), (nan, '0294057'), (181.0, '1810205'), (nan, '0490303'), (nan, '0610100'), (nan, '0850006'), (nan, '0410077'), (nan, '0850020'), (nan, '0292132'), (nan, '0850051'), (nan, '0610005'), (nan, '0410018'), (nan, '0291027'), (nan, '0850231'), (nan, '0291116'), (nan, '0250010'), (355.0, '3550092'), (nan, '0050023'), (nan, '0294031'), (nan, '0270107'), (nan, '0030003'), (nan, '0850085'), (nan, '0294046'), (nan, '0292127'), (nan, '0294026'), (nan, '0294179'), (nan, '0490316'), (nan, '0050027'), (nan, '0850227'), (nan, '0850048'), (nan, '0850074'), (nan, '0990205'), (nan, '0410096'), (nan, '0292105'), (nan, '0470003'), (nan, '0610015'), (nan, '0410030'), (nan, '0293016'), (nan, '0330004'), (nan, '0330004'), (nan, '0850123'), (nan, '0293099'), (nan, '0291098'), (nan, '0293047'), (nan, '0293061'), (nan, '2090448'), (nan, '0610012'), (nan, '0530002'), (nan, '0390009'), (nan, '0293045'), (nan, '0390012'), (nan, '0850189'), (nan, '0570025'), (nan, '0850224'), (nan, '0530009'), (nan, '0670021'), (nan, '0810001'), (nan, '0294147'), (nan, '0050022'), (nan, '067020'), (nan, '4391719'), (nan, '0550401'), (nan, '0292030'), (nan, '0212009'), (nan, '0294064'), (nan, '0291072'), (nan, '0294106'), (nan, '0390010'), (nan, '0150104'), (nan, '0610013'), (nan, '0293002'), (nan, '0294065'), (nan, '0294125'), (nan, '0294042'), (nan, '0850008'), (nan, '0292016'), (nan, '0530013'), (nan, '0650102'), (nan, '0294027'), (nan, '1211054'), (nan, '0294203'), (nan, '0250014'), (nan, '0294073'), (nan, '0410021'), (113.0, '1134097'), (465.0, '4650041'), (nan, '0610039'), (nan, '0294142'), (nan, '0292038'), (nan, '0291007'), (nan, '0294130'), (nan, '0550303'), (nan, '0930004'), (nan, '0130007'), (nan, '0610035'), (nan, '0410006'), (nan, '4391714'), (nan, '0390015'), (nan, '0390003'), (nan, '0850147'), (nan, '0850110'), (nan, '0291009'), (nan, '0910104'), (nan, '0291020'), (nan, '0270306'), (nan, '0350007'), (nan, '0850203'), (nan, '0390060'), (nan, '0294085'), (nan, '0293097'), (nan, '0291067'), (nan, '0850211'), (nan, '0850217'), (nan, '0850105'), (nan, '0390013'), (nan, '2090235'), (nan, '0292055'), (nan, '0294160'), (nan, '0610108'), (nan, '1574049'), (nan, '0291049'), (nan, '0050015'), (nan, '0293017'), (nan, '0650302'), (nan, '1574049'), (nan, '0292104'), (nan, '0050007'), (nan, '0850096'), (nan, '0850218'), (305.0, '3050001'), (nan, '0850013'), (nan, '0850013'), (nan, '0294156'), (nan, '0294062'), (nan, '0294113'), (nan, '0850150'), (nan, '0270210'), (nan, '0292097'), (nan, '0610036'), (nan, '0293106'), (nan, '0293106'), (nan, '0850158'), (nan, '0390049'), (nan, '0490204'), (465.0, '4650010'), (nan, '0293134'), (nan, '0490101'), (nan, '0150313'), (nan, '0610065'), (nan, '0710008'), (nan, '0293135'), (nan, '0294169'), (nan, '0294044'), (nan, '0830004'), (nan, '0390030'), (nan, '1410204'), (nan, '0970022'), (nan, '0294193'), (nan, '0390022'), (nan, '033003'), (nan, '0291100'), (nan, '033003'), (nan, '0130005'), (nan, '0370014'), (nan, '0410089'), (nan, '0294100'), (nan, '0293109'), (nan, '0010023'), (nan, '0910402'), (nan, '0292122'), (nan, '0410053'), (nan, '0770012'), (nan, '0292045'), (nan, '0294041'), (nan, '0850194'), (nan, '0470002'), (nan, '1211057'), (nan, '0130017'), (nan, '047003S'), (nan, '0410058'), (nan, '0130024'), (nan, '0550302'), (nan, '4310002'), (nan, '0850220'), (nan, '0270314'), (nan, '0293082'), (nan, '0410102'), (nan, '0510114'), (nan, '0390023'), (nan, '0293081'), (nan, '0850003'), (nan, '0550111'), (nan, '0610001'), (nan, '2090445'), (nan, '0390027'), (nan, '0850138'), (nan, '0930009'), (nan, '0850130'), (nan, '0293200'), (nan, '0510305'), (nan, '0850128'), (nan, '0850146'), (nan, '0293053'), (nan, '0550202'), (nan, '0610048'), (nan, '0291081'), (nan, '0270111'), (113.0, '1131087'), (nan, '0270209'), (nan, '0550108'), (nan, '0293129'), (nan, '0410008'), (nan, '0730044'), (nan, '0770014'), (nan, '0291089'), (nan, '1410207'), (nan, '0850057'), (nan, '0490411'), (nan, '0870201'), (nan, '0130009'), (nan, '0293091'), (nan, '0670015'), (nan, '0293094'), (nan, '0294017'), (nan, '0293088'), (nan, '0294146'), (nan, '0670001'), (nan, '0910404'), (nan, '4394685'), (nan, '4394685'), (nan, '0293132'), (nan, '0370012'), (nan, '0610018'), (nan, '0610034'), (nan, '0930006'), (nan, '0291147'), (nan, '0250003'), (nan, '0291037'), (nan, '0292093'), (nan, '0850076'), (nan, '0550206'), (nan, '0293085'), (nan, '0370009'), (nan, '0291126'), (nan, '0810002'), (nan, '0410029'), (nan, '0730028'), (nan, '2090415'), (nan, '2090415'), (nan, '0390058'), (nan, '4391718'), (nan, '0050040'), (125.0, '1250004'), (nan, '0390041'), (nan, '0293165'), (nan, '0390031'), (nan, '0850225'), (nan, '0294117'), (nan, '0410041'), (nan, '0294132'), (nan, '0293169'), (nan, '0710013'), (nan, '0850001'), (nan, '0710009'), (nan, '0291073'), (nan, '0291095'), (nan, '0390001'), (nan, '0292010'), (nan, '0410007'), (nan, '0294081'), (nan, '0292146'), (nan, '0910301'), (nan, '0410033'), (nan, '0294016'), (nan, '0850099'), (nan, '0293048'), (nan, '0291012'), (nan, '0292028'), (nan, '4394711'), (nan, '0130002'), (nan, '0610025'), (nan, '0293112'), (nan, '0291006'), (nan, '0291056'), (nan, '3030002'), (nan, '3030002'), (nan, '0291109'), (nan, '0770024'), (nan, '0850238'), (nan, '0212006'), (nan, '0292134'), (nan, '0370030'), (nan, '0294009'), (nan, '0291062'), (nan, '0110202'), (nan, '0292018'), (nan, '0130013'), (nan, '0292076'), (nan, '0090006'), (nan, '0850072'), (nan, '0292065'), (nan, '0610017'), (nan, '0090005'), (nan, '0950408'), (nan, '4394713'), (nan, '0294209'), (nan, '0010001'), (nan, '0850190'), (nan, '0390025'), (nan, '1133114'), (nan, '0292145'), (nan, '0750101'), (nan, '0294210'), (nan, '0490215'), (nan, '0550411'), (nan, '0850028'), (nan, '0291065'), (nan, '0610040'), (nan, '0293210'), (nan, '0910102'), (nan, '0850054'), (nan, '0850087'), (nan, '0294060'), (nan, '0293117'), (nan, '0291019'), (nan, '0410095'), (nan, '0291080'), (nan, '0610004'), (nan, '0130010'), (nan, '0294178'), (nan, '0291039'), (nan, '0850153'), (nan, '0293170'), (nan, '0370010'), (nan, '0390017'), (nan, '0410064'), (nan, '0850114'), (nan, '0850019'), (nan, '0410022'), (nan, '0570018'), (nan, '0050028'), (nan, '0050028'), (nan, '0294104'), (nan, '0310201'), (nan, '0610022'), (nan, '0850164'), (nan, '0293004'), (nan, '033002'), (nan, '0293206'), (nan, '0293206'), (nan, '0293206'), (nan, '0294124'), (nan, '033002'), (nan, '033002'), (nan, '0570007'), (nan, '0850196'), (nan, '0230003'), (nan, '0293041'), (nan, '0294167'), (nan, '0070001'), (nan, '0390047'), (nan, '1410203'), (nan, '0294111'), (nan, '0570003'), (nan, '0293173'), (nan, '0930012'), (nan, '2090232'), (nan, '2090232'), (nan, '0291150'), (nan, '2090232'), (nan, '0510207'), (nan, '0850062'), (nan, '0294136'), (181.0, '1810408'), (nan, '0010018'), (nan, '0850103'), (nan, '0650103'), (nan, '0294109'), (nan, '0150211'), (nan, '1410197'), (nan, '0850038'), (nan, '0294007'), (nan, '0294007'), (nan, '0294007'), (nan, '0294007'), (nan, '0293023'), (nan, '0294007'), (nan, '0292095'), (nan, '0350003'), (nan, '0970001'), (nan, '2090340'), (nan, '0292051'), (nan, '0294028'), (nan, '0291107'), (nan, '0291018'), (nan, '0291022'), (nan, '0150417'), (nan, '0294074'), (nan, '0291111'), (nan, '0293034'), (nan, '0690206'), (nan, '0293193'), (nan, '0730048'), (nan, '0850215'), (nan, '0292070'), (nan, '0390034'), (nan, '0850112'), (nan, '0850042'), (nan, '0850176'), (nan, '0610059'), (nan, '0730024'), (nan, '0293092'), (nan, '0292003'), (nan, '0990104'), (nan, '0292144'), (nan, '0850136'), (nan, '0190410'), (nan, '0292046'), (nan, '0293141'), (nan, '0850165'), (nan, '0294066'), (nan, '0294014'), (nan, '4393725'), (nan, '0950205'), (nan, '0990308'), (nan, '0292066'), (nan, '0610044'), (nan, '0293183'), (nan, '0294133'), (nan, '0130008'), (nan, '0350006'), (nan, '0292071'), (nan, '0292052'), (nan, '0370011'), (nan, '0730027'), (nan, '0292090'), (nan, '0550105'), (nan, '0293008'), (nan, '0010017'), (nan, '0130003'), (nan, '0292058'), (nan, '0292113'), (nan, '0292054'), (nan, '0293006'), (351.0, '3510008'), (nan, '0293125'), (nan, '0293125'), (nan, '0294131'), (nan, '0291004'), (nan, '0292053'), (nan, '037008'), (nan, '037008'), (nan, '037008'), (nan, '0293068'), (nan, '0294165'), (nan, '0294134'), (nan, '0390043'), (nan, '0293054'), (nan, '0510308'), (nan, '0294045'), (nan, '0010004'), (nan, '0510204'), (nan, '0292014'), (nan, '0850122'), (nan, '1410193'), (nan, '0570017'), (nan, '0550116'), (nan, '0930002'), (nan, '0650101'), (nan, '0293203'), (nan, '0850056'), (nan, '0850235'), (nan, '0292092'), (431.0, '4310001'), (nan, '0870202'), (nan, '0293174'), (nan, '0770017'), (nan, '0850168'), (nan, '0130021'), (nan, '0490308'), (nan, '0610107'), (nan, '0291123'), (nan, '0294166'), (nan, '0291141'), (nan, '0292159'), (nan, '0610087'), (nan, '0270106'), (nan, '0410083'), (nan, '0270105'), (nan, '0291034'), (nan, '2090222'), (nan, '3030031'), (nan, '3030031'), (nan, '0291010'), (nan, '0610037'), (nan, '0670016'), (nan, '0294189'), (nan, '2090335'), (nan, '2090335'), (nan, '2090335'), (nan, '2090335'), (nan, '0291038'), (nan, '0294151'), (nan, '0294090'), (nan, '0850177'), (nan, '0730043'), (nan, '0570024'), (nan, '0990412'), (nan, '0250011'), (nan, '4393729'), (nan, '0850058'), (nan, '0050037'), (nan, '0250001'), (nan, '0850198'), (nan, '0410035'), (nan, '0291117'), (nan, '0070003'), (nan, '0850192'), (nan, '0294037'), (nan, '0292060'), (nan, '0850049'), (nan, '0293043'), (nan, '0293205'), (nan, '0294079'), (nan, '0410062'), (nan, '0850116'), (nan, '1410208'), (nan, '0293155'), (nan, '0750401'), (nan, '0294139'), (nan, '0390045'), (nan, '0930015'), (nan, '0050008'), (nan, '0050008'), (nan, '0910202'), (nan, '0910202'), (nan, '0294186'), (nan, '0910202'), (nan, '0291054'), (nan, '0730035'), (nan, '3030092'), (nan, '3030092'), (nan, '0770001'), (nan, '3090053'), (nan, '0294191'), (nan, '3090053'), (nan, '0850191'), (187.0, '1870102'), (nan, '0050001'), (nan, '0293152'), (nan, '0050030'), (nan, '0410005'), (nan, '0270109'), (nan, '1134009'), (nan, '1134009'), (nan, '0410028'), (nan, '0410060'), (nan, '0850131'), (nan, '0990103'), (nan, '0292131'), (nan, '0250018'), (nan, '0410001'), (nan, '0250013'), (nan, '0230004'), (nan, '0294202'), (nan, '0610105'), (nan, '0850108'), (nan, '0850199'), (nan, '0270413'), (nan, '0010006'), (nan, '0292050'), (nan, '0291134'), (nan, '0550203'), (nan, '0730032'), (nan, '0610098'), (nan, '0050032'), (nan, '0294005'), (nan, '0294058'), (nan, '0291076'), (nan, '4392274'), (nan, '0890101'), (nan, '4392274'), (nan, '0294206'), (nan, '0294122'), (nan, '0270205'), (399.0, '3990004'), (nan, '0213014'), (nan, '0294112'), (nan, '0390063'), (nan, '0390052'), (nan, '0890202'), (nan, '0530006'), (nan, '0293086'), (nan, '0293086'), (nan, '0610020'), (nan, '0294052'), (nan, '0270203'), (nan, '0850043'), (nan, '0850011'), (nan, '0050025'), (nan, '0291108'), (nan, '0870101'), (nan, '0110303'), (nan, '0850200'), (nan, '0530014'), (nan, '0294129'), (nan, '0850082'), (nan, '0610006'), (nan, '0850030'), (nan, '4392708'), (nan, '0292068'), (nan, '0610081'), (nan, '0950203'), (nan, '0293163'), (113.0, '1134608'), (nan, '0292110'), (nan, '0850102'), (nan, '3290401'), (nan, '3290401'), (nan, '0292121'), (nan, '0294067'), (nan, '0370007'), (nan, '0294149'), (nan, '0850118'), (nan, '0291008'), (nan, '0292157'), (nan, '0294126'), (nan, '0292148'), (nan, '0292155'), (nan, '0370027'), (nan, '2090233'), (nan, '0610058'), (323.0, '323002'), (nan, '0850126'), (nan, '0293025'), (nan, '0410013'), (nan, '0293049'), (nan, '0250019'), (nan, '0130014'), (nan, '0610102'), (nan, '3390098'), (nan, '0270305'), (nan, '0050005'), (nan, '0570014'), (nan, '0850175'), (nan, '1410199'), (nan, '0970003'), (nan, '0291122'), (nan, '0291142'), (nan, '4394705'), (nan, '4391227'), (nan, '2090220'), (nan, '4391227'), (nan, '0610075'), (nan, '0130012'), (nan, '0410011'), (nan, '0294034'), (nan, '0291063'), (nan, '0294102'), (nan, '0292044'), (nan, '1250003'), (nan, '0910207'), (nan, '0291110'), (nan, '0050038'), (nan, '0294098'), (nan, '0294145'), (nan, '0530016'), (nan, '0850009'), (nan, '0292015'), (nan, '1410196'), (nan, '0390038'), (nan, '0410043'), (nan, '0190204'), (nan, '0291066'), (nan, '0010002'), (nan, '0410088'), (nan, '0294096'), (nan, '0130022'), (nan, '0294086'), (nan, '0294071'), (nan, '0410032'), (nan, '0291057'), (nan, '0291138'), (nan, '0570022'), (nan, '0293153'), (nan, '0550204'), (nan, '0870301'), (nan, '0291118'), (nan, '0910105'), (nan, '0292123'), (nan, '0970007'), (nan, '0850185'), (489.0, '4890002'), (nan, '0291096'), (nan, '0610045'), (nan, '0170004'), (nan, '0170004'), (nan, '0430004'), (nan, '0610066'), (nan, '0293123'), (nan, '0730047'), (nan, '0292102'), (nan, '0291112'), (nan, '0291130'), (nan, '0850204'), (nan, '0090002'), (nan, '0291050'), (nan, '0410078'), (nan, '0291129'), (nan, '0890201'), (nan, '0291099'), (nan, '0850214'), (nan, '0291052'), (nan, '0212007'), (nan, '0294056'), (nan, '0294083'), (nan, '0110101'), (nan, '2830003'), (nan, '2830003'), (nan, '0970008'), (nan, '0292001'), (nan, '0293118'), (nan, '2090130'), (nan, '0350010'), (nan, '0730014'), (nan, '0970002'), (nan, '0293189'), (nan, '0850222'), (nan, '0294036'), (nan, '0850127'), (nan, '0291028'), (153.0, '153024'), (nan, '0293104'), (nan, '0294033'), (nan, '0850233'), (nan, '2090227'), (nan, '2090227'), (nan, '0550306'), (nan, '0292023'), (nan, '0293069'), (nan, '0292042'), (nan, '0294204'), (nan, '0610056'), (nan, '0130011'), (nan, '0490212'), (nan, '0010009'), (nan, '0910203'), (nan, '0291002'), (nan, '0550118'), (nan, '0292087'), (nan, '2090114'), (nan, '0610078'), (nan, '0850024'), (nan, '0590006'), (nan, '0293067'), (nan, '0550205'), (nan, '0910205'), (nan, '0292109'), (nan, '0730046'), (nan, '0294155'), (nan, '0293171'), (nan, '0770027'), (nan, '0850090'), (nan, '0610067'), (nan, '0293070'), (nan, '0810003'), (nan, '0610057'), (nan, '0293083'), (nan, '2090126'), (nan, '0610016'), (nan, '0850081'), (nan, '0294211'), (nan, '0292019'), (nan, '0294168'), (nan, '0530007'), (nan, '0291036'), (nan, '0970027'), (nan, '0550410'), (nan, '0293175'), (nan, '0850069'), (nan, '0890401'), (481.0, '4810101'), (nan, '0294061'), (nan, '0130018'), (nan, '0293180'), (nan, '0250009'), (nan, '0850228'), (nan, '3030057'), (nan, '3030057'), (nan, '0550201'), (nan, '0590004'), (nan, '0990207'), (nan, '0293111'), (nan, '0293021'), (nan, '0293164'), (431.0, '4310002'), (nan, '0293184'), (nan, '0090010'), (nan, '0610079'), (nan, '0294023'), (nan, '0370016'), (nan, '0150210'), (nan, '0850201'), (nan, '0850149'), (nan, '0291101'), (nan, '0293090'), (nan, '0294182'), (219.0, '2190045'), (nan, '0214018'), (nan, '0291074'), (nan, '0850039'), (nan, '0292059'), (417.0, '4170406'), (nan, '0850239'), (nan, '0293079'), (nan, '0850004'), (nan, '0570023'), (167.0, '1670316'), (nan, '0850029'), (nan, '0730012'), (nan, '0410050'), (nan, '0293036'), (nan, '0293089'), (nan, '0610077'), (nan, '0990414'), (nan, '0410020'), (nan, '0710014'), (nan, '0293138'), (nan, '0270406'), (nan, '0530015'), (nan, '0293120'), (nan, '0850121'), (nan, '0390007'), (nan, '0291029'), (nan, '0291140'), (nan, '0670014'), (nan, '0050033'), (nan, '0750301'), (nan, '0213015'), (nan, '0430006'), (nan, '0510301'), (nan, '0270104'), (nan, '0213013'), (nan, '1572139'), (nan, '1572139'), (nan, '0850002'), (nan, '0850098'), (nan, '0970033'), (nan, '0530020'), (nan, '0530018'), (nan, '0410010'), (nan, '0970030'), (nan, '0293116'), (nan, '0214020'), (nan, '0410103'), (nan, '0850207'), (nan, '0130006'), (nan, '0292158'), (nan, '0294099'), (nan, '0390011'), (nan, '0610063'), (nan, '0293188'), (nan, '0710012'), (nan, '4392726'), (nan, '0390036'), (nan, '3290109'), (nan, '3290109'), (nan, '0570006'), (nan, '0293157'), (nan, '0293160'), (nan, '0390044'), (nan, '0490307'), (nan, '0710006'), (nan, '0410019'), (nan, '0293181'), (nan, '0293093'), (nan, '0010022'), (nan, '0430005'), (113.0, '1132807'), (nan, '0292118'), (nan, '0213012'), (nan, '0610069'), (nan, '0490202'), (nan, '0410101'), (nan, '0410101'), (nan, '0410101'), (nan, '0410101'), (nan, '0610050'), (nan, '0291135'), (nan, '0294054'), (nan, '0292078'), (nan, '2090121'), (nan, '0050034'), (nan, '0850161'), (nan, '0292101'), (nan, '0770006'), (443.0, '4430002'), (nan, '0850067'), (nan, '0890103'), (nan, '0970010'), (nan, '0291030'), (nan, '0291030'), (nan, '0291032'), (nan, '0610068'), (nan, '0293084'), (nan, '0293100'), (nan, '0293065'), (nan, '0291016'), (nan, '0294108'), (nan, '0830003'), (nan, '0870302'), (nan, '0550412'), (nan, '3170003'), (nan, '3170003'), (nan, '0294088'), (nan, '0910302'), (nan, '0293124'), (nan, '0150205'), (nan, '0292111'), (nan, '0550404'), (nan, '0910107'), (nan, '0050016'), (nan, '0390016'), (nan, '0770015'), (nan, '0610086'), (nan, '0970005'), (nan, '0010008'), (nan, '0270402'), (nan, '0292077'), (nan, '0410097'), (429.0, '4292-19'), (nan, '0750201'), (nan, '0293040'), (nan, '005017'), (nan, '0730038'), (nan, '0850140'), (nan, '0291137'), (nan, '0530010'), (nan, '1410205'), (nan, '0292012'), (nan, '0294207'), (nan, '0292160'), (nan, '0294107'), (nan, '0850066'), (nan, '0310302'), (nan, '0850026'), (nan, '0610023'), (nan, '0970009'), (nan, '1573009'), (nan, '1573009'), (113.0, '1133016'), (nan, '0550114'), (nan, '0293122'), (nan, '0410071'), (nan, '0294072'), (nan, '0291092'), (nan, '0410009'), (nan, '0292081'), (nan, '0610033'), (nan, '0850197'), (nan, '0390006'), (nan, '007004'), (nan, '0294128'), (nan, '0291005'), (nan, '0010010'), (nan, '0930007'), (nan, '0410015'), (nan, '0294011'), (nan, '0610085'), (nan, '0410056'), (nan, '0610076'), (nan, '0010024'), (nan, '0294013'), (nan, '0294029'), (nan, '1410202'), (nan, '0294187'), (nan, '0850221'), (nan, '0850077'), (nan, '1572138'), (nan, '0294110'), (nan, '1572138'), (163.0, '1630004'), (nan, '0150206'), (nan, '0631001'), (nan, '0130020'), (nan, '0293130'), (nan, '0850139'), (nan, '0292004'), (nan, '0850007'), (nan, '0293177'), (nan, '0150312'), (nan, '0530012'), (nan, '0291058'), (nan, '0970018'), (nan, '4392727'), (nan, '0370018'), (nan, '0850137'), (nan, '0610061'), (nan, '0294051'), (nan, '0550117'), (nan, '0293011'), (nan, '0710003'), (nan, '0790404'), (nan, '0610049'), (nan, '0610011'), (nan, '0850209'), (487.0, '4870001'), (nan, '0291094'), (nan, '0850089'), (nan, '0294205'), (nan, '0270317'), (nan, '0670007'), (nan, '0850132'), (nan, '0850134'), (nan, '0350001'), (nan, '0190102'), (nan, '3970001'), (nan, '3970001'), (nan, '0850205'), (nan, '0291127'), (nan, '0291001'), (121.0, '1214023'), (nan, '0850044'), (nan, '0291132'), (nan, '0291023'), (nan, '0291084'), (nan, '4393720'), (nan, '0292002'), (nan, '0150209'), (nan, '0293046'), (nan, '0294153'), (nan, '0293038'), (nan, '0293191'), (nan, '0850144'), (nan, '0610026'), (nan, '0770032'), (nan, '0292020'), (nan, '0910206'), (nan, '0410100'), (nan, '0293161'), (113.0, '1131071'), (nan, '0850068'), (nan, '0292098'), (nan, '0292091'), (nan, '0570009'), (nan, '1670225'), (nan, '1670225'), (nan, '0050024'), (nan, '0292099'), (nan, '0410049'), (nan, '0294048'), (nan, '0293060'), (nan, '0850071'), (nan, '0291102'), (nan, '0890402'), (nan, '0294032'), (nan, '0270309'), (nan, '0870401'), (nan, '0291104'), (nan, '0230001'), (nan, '0090004'), (nan, '0550115'), (nan, '0293007'), (nan, '0293058'), (nan, '0410061'), (nan, '0850182'), (nan, '4392721'), (nan, '0292037'), (nan, '0292154'), (nan, '0550101'), (nan, '0294012'), (nan, '0292143'), (nan, '0211002'), (nan, '0010003'), (nan, '0310102'), (nan, '0850015'), (nan, '3390100'), (nan, '0292041'), (nan, '0970021'), (nan, '0850033'), (nan, '0294020'), (nan, '1410206'), (nan, '0770010'), (nan, '0990101'), (nan, '0293096'), (nan, '0293126'), (nan, '0291060'), (nan, '0850036'), (nan, '0610054'), (113.0, '1131065'), (nan, '0050017'), (nan, '0291053'), (nan, '0850059'), (nan, '0293051'), (nan, '0293168'), (nan, '0370017'), (nan, '0250005'), (nan, '0610103'), (nan, '0293072'), (nan, '0430007'), (nan, '0530004'), (nan, '0292064'), (nan, '0294006'), (nan, '0910204'), (nan, '0850091'), (nan, '0292139'), (nan, '0292027'), (nan, '0850195'), (nan, '0293076'), (nan, '4394707'), (nan, '0690408'), (nan, '0270204'), (nan, '0530011'), (nan, '0850216'), (nan, '0291068'), (nan, '0294050'), (nan, '0291015'), (nan, '0050019'), (nan, '0850005'), (nan, '0294171'), (nan, '0294087'), (nan, '2090339'), (nan, '0410038'), (nan, '2090339'), (nan, '2090339'), (nan, '2090339'), (nan, '2090339'), (nan, '0410098'), (nan, '0293158'), (nan, '0850115'), (nan, '0291079'), (nan, '4391717'), (nan, '0050014'), (nan, '0292129'), (nan, '0294164'), (nan, '0212005'), (nan, '0292115'), (nan, '0294053'), (nan, '0090001'), (nan, '0850202'), (nan, '0970014'), (nan, '0291048'), (nan, '0291145'), (nan, '0294212'), (nan, '0990102'), (nan, '0212010'), (nan, '0293192'), (nan, '2090449'), (nan, '2090449'), (nan, '2090449'), (nan, '0294152'), (nan, '0850025'), (nan, '0294181'), (nan, '0850047'), (nan, '0292080'), (nan, '0270108'), (nan, '0293190'), (nan, '0291025'), (nan, '2090128'), (nan, '0293107'), (nan, '0610104'), (nan, '0293022'), (nan, '4393716'), (nan, '0850135'), (nan, '0550100'), (nan, '0270408'), (nan, '0190306'), (nan, '0930005'), (nan, '0250008'), (nan, '0292089'), (nan, '0570011'), (nan, '0270101'), (nan, '0294137'), (nan, '0670002'), (nan, '0294019'), (nan, '0710004'), (nan, '4391710'), (nan, '0294159'), (nan, '0294068'), (nan, '0410069'), (nan, '0410031'), (nan, '0850045'), (nan, '0910306'), (nan, '0850107'), (nan, '0291051'), (nan, '0850237'), (nan, '0293202'), (nan, '0291120'), (nan, '0950101'), (nan, '0291097'), (nan, '0850186'), (nan, '0010016'), (nan, '0370019'), (nan, '0270207'), (nan, '0850012'), (nan, '0293182'), (nan, '0670005'), (nan, '0010007'), (nan, '0292140'), (nan, '0633003'), (nan, '0850219'), (nan, '0610071'), (nan, '0910201'), (nan, '0850111'), (nan, '0293018'), (nan, '0294135'), (nan, '0970037'), (nan, '0293108'), (nan, '0293119'), (nan, '0294070'), (nan, '0293029'), (nan, '0770020'), (nan, '0410004'), (nan, '0214017'), (nan, '0293059'), (nan, '0390068'), (nan, '0291046'), (nan, '0291086'), (nan, '0450004'), (nan, '0291041'), (nan, '0294143'), (nan, '0190203'), (nan, '0610047'), (nan, '0293103'), (nan, '0550402'), (nan, '0670012'), (nan, '0293062'), (nan, '0850097'), (nan, '0370029'), (nan, '0930011'), (nan, '0890304'), (nan, '0291082'), (nan, '0293133'), (nan, '0570002'), (nan, '0610073'), (nan, '2090231'), (nan, '0650402'), (nan, '0910106'), (nan, '0650201'), (nan, '0050018'), (nan, '0610052'), (nan, '0610009'), (nan, '0850023'), (nan, '0850104'), (nan, '2090338'), (nan, '0970019'), (nan, '0294201'), (nan, '0850141'), (nan, '0910304'), (nan, '0850152'), (nan, '0170002'), (nan, '0390029'), (nan, '2090122'), (nan, '0410048'), (nan, '0270301'), (nan, '0410057'), (nan, '0650301'), (nan, '0790202'), (nan, '0390050'), (nan, '0950306'), (nan, '4590019'), (nan, '0293102'), (nan, '4590019'), (nan, '0292128'), (nan, '0730042'), (nan, '2010179'), (nan, '2010179'), (nan, '0293178'), (nan, '1410201'), (nan, '0130001'), (nan, '0910305'), (nan, '3330004'), (nan, '0294049'), (nan, '0490105'), (nan, '1410194'), (nan, '0930001'), (nan, '0291139'), (nan, '0292056'), (nan, '0632002'), (nan, '0450006'), (439.0, '4394044'), (nan, '0730026'), (nan, '0410070'), (nan, '0292136'), (nan, '0550407'), (nan, '0850157'), (nan, '0270308'), (nan, '0294157'), (nan, '0292040'), (nan, '0610082'), (nan, '0294094'), (nan, '0410026'), (nan, '0390005'), (nan, '0292067'), (nan, '0410093'), (nan, '0410081'), (nan, '0850170'), (nan, '4393709'), (nan, '0293151'), (nan, '2090230'), (nan, '2090230'), (nan, '0850032'), (nan, '0292008'), (nan, '0390066'), (nan, '0410042'), (nan, '0292100'), (nan, '0850046'), (nan, '0850234'), (nan, '0292137'), (nan, '0270202'), (nan, '0850075'), (nan, '0850084'), (nan, '0291144'), (nan, '0294150'), (nan, '0110201'), (nan, '0212011'), (nan, '0370015'), (nan, '0294018'), (nan, '0510113'), (nan, '0293073'), (nan, '0930016'), (nan, '0850184'), (nan, '0930014'), (nan, '0293113'), (nan, '0510406'), (nan, '0490417'), (nan, '0292075'), (nan, '0570019'), (nan, '0293009'), (401.0, '4010314'), (nan, '0850063'), (nan, '0292124'), (nan, '0294115'), (nan, '0293143'), (nan, '0450003'), (nan, '4394245'), (nan, '0291064'), (nan, '0291064'), (nan, '0510215'), (nan, '0770008'), (nan, '4394245'), (nan, '4394245'), (nan, '0410040'), (nan, '0292034'), (nan, '0291133'), (nan, '0291151'), (nan, '0293027'), (nan, '0190408'), (nan, '0291091'), (nan, '0610064'), (nan, '0430003'), (nan, '0730022'), (nan, '2090446'), (nan, '0293014'), (nan, '0292049'), (nan, '0214019'), (nan, '0410087'), (nan, '0610030'), (nan, '0270206'), (nan, '0291040'), (nan, '0850232'), (nan, '0293005'), (nan, '0292021'), (nan, '0390014'), (nan, '0610019'), (nan, '0010015'), (nan, '0390033'), (nan, '0550405'), (nan, '0130004'), (nan, '0293001'), (nan, '0294097'), (nan, '0294080'), (nan, '0390055'), (nan, '0610021'), (nan, '0050029'), (nan, '0270302'), (nan, '0090007'), (nan, '0590001'), (nan, '0410016'), (nan, '0293114'), (nan, '0910401'), (nan, '0570005'), (nan, '0410012'), (nan, '0211003'), (nan, '0610027'), (nan, '0270310'), (nan, '0850187'), (nan, '0292073'), (nan, '0294162'), (nan, '0850117'), (nan, '0590003'), (nan, '0293128'), (nan, '1212036'), (nan, '0293176'), (nan, '0291031'), (nan, '0294154'), (nan, '0850145'), (nan, '0190305'), (nan, '2090115'), (nan, '0390061'), (nan, '0550113'), (nan, '0850101'), (nan, '0293167'), (nan, '0350009'), (nan, '0910405'), (nan, '0293156'), (nan, '0550109'), (nan, '0850095'), (nan, '0890102'), (nan, '0291114'), (nan, '0292033'), (nan, '0293035'), (nan, '0292086'), (nan, '0850055'), (nan, '0293197'), (nan, '1410192'), (nan, '0050026'), (nan, '0294138'), (nan, '0390024'), (nan, '0990310'), (nan, '0291014'), (nan, '0850027'), (nan, '0010005'), (nan, '0530019'), (nan, '0390019'), (nan, '0490109'), (nan, '0293196'), (nan, '0293012'), (nan, '0030004'), (nan, '0910208'), (nan, '0291021'), (nan, '0830001'), (nan, '0610074'), (nan, '0450001'), (nan, '0590005'), (nan, '0850080'), (nan, '0550112'), (nan, '0294174'), (nan, '0850120'), (nan, '0293148'), (nan, '0293110'), (nan, '0294055'), (nan, '0291149'), (nan, '0294118'), (nan, '0293010'), (nan, '0150418'), (nan, '0910101'), (nan, '0270113'), (nan, '0293140'), (nan, '0294140'), (nan, '0291124'), (nan, '0850180'), (nan, '0370013'), (nan, '0292153'), (nan, '0291047'), (nan, '0610097'), (nan, '0850142'), (nan, '0050002'), (nan, '0410086'), (nan, '0214021'), (nan, '0610038'), (nan, '0292079'), (nan, '0293020'), (nan, '0293105'), (nan, '0410003'), (nan, '0950204'), (nan, '2090228'), (nan, '2090228'), (nan, '0010019'), (nan, '0410079'), (nan, '0850226'), (nan, '2090228'), (nan, '3030113'), (nan, '3030113'), (nan, '0850230'), (nan, '0294077'), (nan, '0270405'), (nan, '0470004'), (nan, '0830002')}\n"
     ]
    }
   ],
   "source": [
    "temp_election_results = pd.DataFrame([temp_list], columns = ['G18USSRCRU', 'G18USSDORO', 'G18USSLDIK',\n",
    "       'G18GOVRABB', 'G18GOVDVAL', 'G18GOVLTIP', 'G18LTGRPAT', 'G18LTGDCOL',\n",
    "       'G18LTGLMCK', 'G18ATGRPAX', 'G18ATGDNEL', 'G18ATGLHAR', 'G18COMRHEG',\n",
    "       'G18COMDCHE', 'G18COMLSAN', 'G18LANRBUS', 'G18LANDSUA', 'G18LANLPIN',\n",
    "       'G18AGRRMIL', 'G18AGRDOLS', 'G18AGRLCAR', 'G18RRCRCRA', 'G18RRCDMCA',\n",
    "       'G18RRCLWRI', 'G18SSCRBLA', 'G18SSCDKIR', 'G18SSCRDEV', 'G18SSCDSAN',\n",
    "       'G18SSCRBRO', 'G18SSCDCHE', 'G18SCCRKEL', 'G18SCCDJAC', 'G18SCCLSTR',\n",
    "       'G18SCCRHER', 'G18SCCDFRA', 'G18SCCRSLA', 'G18SCCLASH'])\n",
    "temp_dissolved[['G18USSRCRU', 'G18USSDORO', 'G18USSLDIK',\n",
    "       'G18GOVRABB', 'G18GOVDVAL', 'G18GOVLTIP', 'G18LTGRPAT', 'G18LTGDCOL',\n",
    "       'G18LTGLMCK', 'G18ATGRPAX', 'G18ATGDNEL', 'G18ATGLHAR', 'G18COMRHEG',\n",
    "       'G18COMDCHE', 'G18COMLSAN', 'G18LANRBUS', 'G18LANDSUA', 'G18LANLPIN',\n",
    "       'G18AGRRMIL', 'G18AGRDOLS', 'G18AGRLCAR', 'G18RRCRCRA', 'G18RRCDMCA',\n",
    "       'G18RRCLWRI', 'G18SSCRBLA', 'G18SSCDKIR', 'G18SSCRDEV', 'G18SSCDSAN',\n",
    "       'G18SSCRBRO', 'G18SSCDCHE', 'G18SCCRKEL', 'G18SCCDJAC', 'G18SCCLSTR',\n",
    "       'G18SCCRHER', 'G18SCCDFRA', 'G18SCCRSLA', 'G18SCCLASH']] = temp_election_results[['G18USSRCRU', 'G18USSDORO', 'G18USSLDIK',\n",
    "       'G18GOVRABB', 'G18GOVDVAL', 'G18GOVLTIP', 'G18LTGRPAT', 'G18LTGDCOL',\n",
    "       'G18LTGLMCK', 'G18ATGRPAX', 'G18ATGDNEL', 'G18ATGLHAR', 'G18COMRHEG',\n",
    "       'G18COMDCHE', 'G18COMLSAN', 'G18LANRBUS', 'G18LANDSUA', 'G18LANLPIN',\n",
    "       'G18AGRRMIL', 'G18AGRDOLS', 'G18AGRLCAR', 'G18RRCRCRA', 'G18RRCDMCA',\n",
    "       'G18RRCLWRI', 'G18SSCRBLA', 'G18SSCDKIR', 'G18SSCRDEV', 'G18SSCDSAN',\n",
    "       'G18SSCRBRO', 'G18SSCDCHE', 'G18SCCRKEL', 'G18SCCDJAC', 'G18SCCLSTR',\n",
    "       'G18SCCRHER', 'G18SCCDFRA', 'G18SCCRSLA', 'G18SCCLASH']]\n",
    "tx_rdh = tx_rdh.append(temp_dissolved)\n",
    "# tx_rdh.drop([index],inplace = True)\n",
    "\n",
    "print('Precincts in the RDH file that were dissolved: ', set(rdh_vtd_dissolved))"
   ]
  },
  {
   "cell_type": "markdown",
   "metadata": {},
   "source": [
    "Check that the example case that we were testing out above looks good"
   ]
  },
  {
   "cell_type": "code",
   "execution_count": 44,
   "metadata": {},
   "outputs": [
    {
     "data": {
      "text/html": [
       "<div>\n",
       "<style scoped>\n",
       "    .dataframe tbody tr th:only-of-type {\n",
       "        vertical-align: middle;\n",
       "    }\n",
       "\n",
       "    .dataframe tbody tr th {\n",
       "        vertical-align: top;\n",
       "    }\n",
       "\n",
       "    .dataframe thead th {\n",
       "        text-align: right;\n",
       "    }\n",
       "</style>\n",
       "<table border=\"1\" class=\"dataframe\">\n",
       "  <thead>\n",
       "    <tr style=\"text-align: right;\">\n",
       "      <th></th>\n",
       "      <th>CNTYVTD</th>\n",
       "      <th>G18USSRCRU</th>\n",
       "      <th>G18USSDORO</th>\n",
       "      <th>G18USSLDIK</th>\n",
       "      <th>G18GOVRABB</th>\n",
       "      <th>G18GOVDVAL</th>\n",
       "      <th>G18GOVLTIP</th>\n",
       "      <th>G18LTGRPAT</th>\n",
       "      <th>G18LTGDCOL</th>\n",
       "      <th>G18LTGLMCK</th>\n",
       "      <th>...</th>\n",
       "      <th>G18SSCDSAN</th>\n",
       "      <th>G18SSCRBRO</th>\n",
       "      <th>G18SSCDCHE</th>\n",
       "      <th>G18SCCRKEL</th>\n",
       "      <th>G18SCCDJAC</th>\n",
       "      <th>G18SCCLSTR</th>\n",
       "      <th>G18SCCRHER</th>\n",
       "      <th>G18SCCDFRA</th>\n",
       "      <th>G18SCCRSLA</th>\n",
       "      <th>G18SCCLASH</th>\n",
       "    </tr>\n",
       "  </thead>\n",
       "  <tbody>\n",
       "    <tr>\n",
       "      <th>4159</th>\n",
       "      <td>2010143</td>\n",
       "      <td>2164</td>\n",
       "      <td>1859</td>\n",
       "      <td>25</td>\n",
       "      <td>2381</td>\n",
       "      <td>1623</td>\n",
       "      <td>41</td>\n",
       "      <td>2202</td>\n",
       "      <td>1794</td>\n",
       "      <td>52</td>\n",
       "      <td>...</td>\n",
       "      <td>1768</td>\n",
       "      <td>2274</td>\n",
       "      <td>1741</td>\n",
       "      <td>2207</td>\n",
       "      <td>1757</td>\n",
       "      <td>52</td>\n",
       "      <td>2286</td>\n",
       "      <td>1722</td>\n",
       "      <td>2427</td>\n",
       "      <td>608</td>\n",
       "    </tr>\n",
       "  </tbody>\n",
       "</table>\n",
       "<p>1 rows × 38 columns</p>\n",
       "</div>"
      ],
      "text/plain": [
       "      CNTYVTD  G18USSRCRU  G18USSDORO  G18USSLDIK  G18GOVRABB  G18GOVDVAL  \\\n",
       "4159  2010143        2164        1859          25        2381        1623   \n",
       "\n",
       "      G18GOVLTIP  G18LTGRPAT  G18LTGDCOL  G18LTGLMCK  ...  G18SSCDSAN  \\\n",
       "4159          41        2202        1794          52  ...        1768   \n",
       "\n",
       "      G18SSCRBRO  G18SSCDCHE  G18SCCRKEL  G18SCCDJAC  G18SCCLSTR  G18SCCRHER  \\\n",
       "4159        2274        1741        2207        1757          52        2286   \n",
       "\n",
       "      G18SCCDFRA  G18SCCRSLA  G18SCCLASH  \n",
       "4159        1722        2427         608  \n",
       "\n",
       "[1 rows x 38 columns]"
      ]
     },
     "execution_count": 44,
     "metadata": {},
     "output_type": "execute_result"
    }
   ],
   "source": [
    "returns_2018[(returns_2018.CNTYVTD.str.contains('2010143'))]"
   ]
  },
  {
   "cell_type": "code",
   "execution_count": 45,
   "metadata": {},
   "outputs": [
    {
     "ename": "ValueError",
     "evalue": "Cannot mask with non-boolean array containing NA / NaN values",
     "output_type": "error",
     "traceback": [
      "\u001b[1;31m---------------------------------------------------------------------------\u001b[0m",
      "\u001b[1;31mValueError\u001b[0m                                Traceback (most recent call last)",
      "\u001b[1;32m~\\AppData\\Local\\Temp/ipykernel_4904/139167657.py\u001b[0m in \u001b[0;36m<module>\u001b[1;34m\u001b[0m\n\u001b[1;32m----> 1\u001b[1;33m \u001b[0mtx_rdh\u001b[0m\u001b[1;33m[\u001b[0m\u001b[1;33m(\u001b[0m\u001b[0mtx_rdh\u001b[0m\u001b[1;33m.\u001b[0m\u001b[0mCNTYVTD\u001b[0m\u001b[1;33m.\u001b[0m\u001b[0mstr\u001b[0m\u001b[1;33m.\u001b[0m\u001b[0mcontains\u001b[0m\u001b[1;33m(\u001b[0m\u001b[1;34m'2010143'\u001b[0m\u001b[1;33m)\u001b[0m\u001b[1;33m)\u001b[0m\u001b[1;33m]\u001b[0m\u001b[1;33m\u001b[0m\u001b[1;33m\u001b[0m\u001b[0m\n\u001b[0m",
      "\u001b[1;32m~\\anaconda3\\envs\\geopandas\\lib\\site-packages\\pandas\\core\\frame.py\u001b[0m in \u001b[0;36m__getitem__\u001b[1;34m(self, key)\u001b[0m\n\u001b[0;32m   3443\u001b[0m \u001b[1;33m\u001b[0m\u001b[0m\n\u001b[0;32m   3444\u001b[0m         \u001b[1;31m# Do we have a (boolean) 1d indexer?\u001b[0m\u001b[1;33m\u001b[0m\u001b[1;33m\u001b[0m\u001b[1;33m\u001b[0m\u001b[0m\n\u001b[1;32m-> 3445\u001b[1;33m         \u001b[1;32mif\u001b[0m \u001b[0mcom\u001b[0m\u001b[1;33m.\u001b[0m\u001b[0mis_bool_indexer\u001b[0m\u001b[1;33m(\u001b[0m\u001b[0mkey\u001b[0m\u001b[1;33m)\u001b[0m\u001b[1;33m:\u001b[0m\u001b[1;33m\u001b[0m\u001b[1;33m\u001b[0m\u001b[0m\n\u001b[0m\u001b[0;32m   3446\u001b[0m             \u001b[1;32mreturn\u001b[0m \u001b[0mself\u001b[0m\u001b[1;33m.\u001b[0m\u001b[0m_getitem_bool_array\u001b[0m\u001b[1;33m(\u001b[0m\u001b[0mkey\u001b[0m\u001b[1;33m)\u001b[0m\u001b[1;33m\u001b[0m\u001b[1;33m\u001b[0m\u001b[0m\n\u001b[0;32m   3447\u001b[0m \u001b[1;33m\u001b[0m\u001b[0m\n",
      "\u001b[1;32m~\\anaconda3\\envs\\geopandas\\lib\\site-packages\\pandas\\core\\common.py\u001b[0m in \u001b[0;36mis_bool_indexer\u001b[1;34m(key)\u001b[0m\n\u001b[0;32m    137\u001b[0m                     \u001b[1;31m# Don't raise on e.g. [\"A\", \"B\", np.nan], see\u001b[0m\u001b[1;33m\u001b[0m\u001b[1;33m\u001b[0m\u001b[1;33m\u001b[0m\u001b[0m\n\u001b[0;32m    138\u001b[0m                     \u001b[1;31m#  test_loc_getitem_list_of_labels_categoricalindex_with_na\u001b[0m\u001b[1;33m\u001b[0m\u001b[1;33m\u001b[0m\u001b[1;33m\u001b[0m\u001b[0m\n\u001b[1;32m--> 139\u001b[1;33m                     \u001b[1;32mraise\u001b[0m \u001b[0mValueError\u001b[0m\u001b[1;33m(\u001b[0m\u001b[0mna_msg\u001b[0m\u001b[1;33m)\u001b[0m\u001b[1;33m\u001b[0m\u001b[1;33m\u001b[0m\u001b[0m\n\u001b[0m\u001b[0;32m    140\u001b[0m                 \u001b[1;32mreturn\u001b[0m \u001b[1;32mFalse\u001b[0m\u001b[1;33m\u001b[0m\u001b[1;33m\u001b[0m\u001b[0m\n\u001b[0;32m    141\u001b[0m             \u001b[1;32mreturn\u001b[0m \u001b[1;32mTrue\u001b[0m\u001b[1;33m\u001b[0m\u001b[1;33m\u001b[0m\u001b[0m\n",
      "\u001b[1;31mValueError\u001b[0m: Cannot mask with non-boolean array containing NA / NaN values"
     ]
    }
   ],
   "source": [
    "tx_rdh[(tx_rdh.CNTYVTD.str.contains('2010143'))]"
   ]
  },
  {
   "cell_type": "markdown",
   "metadata": {},
   "source": [
    "Check the election result totals are still good: "
   ]
  },
  {
   "cell_type": "code",
   "execution_count": 46,
   "metadata": {},
   "outputs": [
    {
     "name": "stderr",
     "output_type": "stream",
     "text": [
      "C:\\Users\\youhy\\AppData\\Local\\Temp/ipykernel_4904/578660032.py:1: FutureWarning: Dropping of nuisance columns in DataFrame reductions (with 'numeric_only=None') is deprecated; in a future version this will raise TypeError.  Select only valid columns before calling the reduction.\n",
      "  tx_rdh.sum()\n"
     ]
    },
    {
     "data": {
      "text/plain": [
       "G18USSRCRU    4.270012e+06\n",
       "G18USSDORO    4.046213e+06\n",
       "G18USSLDIK    6.555300e+04\n",
       "G18GOVRABB    4.665848e+06\n",
       "G18GOVDVAL    3.547639e+06\n",
       "G18GOVLTIP    1.407140e+05\n",
       "G18LTGRPAT    4.269844e+06\n",
       "G18LTGDCOL    3.862570e+06\n",
       "G18LTGLMCK    1.836500e+05\n",
       "G18ATGRPAX    4.200533e+06\n",
       "G18ATGDNEL    3.899665e+06\n",
       "G18ATGLHAR    2.014340e+05\n",
       "G18COMRHEG    4.386197e+06\n",
       "G18COMDCHE    3.571772e+06\n",
       "G18COMLSAN    2.812400e+05\n",
       "G18LANRBUS    4.444458e+06\n",
       "G18LANDSUA    3.569002e+06\n",
       "G18LANLPIN    2.588000e+05\n",
       "G18AGRRMIL    4.230877e+06\n",
       "G18AGRDOLS    3.823321e+06\n",
       "G18AGRLCAR    1.917670e+05\n",
       "G18RRCRCRA    4.386069e+06\n",
       "G18RRCDMCA    3.613211e+06\n",
       "G18RRCLWRI    2.382010e+05\n",
       "G18SSCRBLA    4.370216e+06\n",
       "G18SSCDKIR    3.848037e+06\n",
       "G18SSCRDEV    4.409394e+06\n",
       "G18SSCDSAN    3.793281e+06\n",
       "G18SSCRBRO    4.414117e+06\n",
       "G18SSCDCHE    3.797128e+06\n",
       "G18SCCRKEL    4.298314e+06\n",
       "G18SCCDJAC    3.735299e+06\n",
       "G18SCCLSTR    1.874640e+05\n",
       "G18SCCRHER    4.438646e+06\n",
       "G18SCCDFRA    3.751246e+06\n",
       "G18SCCRSLA    4.780448e+06\n",
       "G18SCCLASH    1.617545e+06\n",
       "CNTY          1.913023e+06\n",
       "COLOR         2.768300e+04\n",
       "VTDKEY        0.000000e+00\n",
       "Shape_area    5.541492e+11\n",
       "Shape_len     2.167755e+08\n",
       "dtype: float64"
      ]
     },
     "execution_count": 46,
     "metadata": {},
     "output_type": "execute_result"
    }
   ],
   "source": [
    "tx_rdh.sum()"
   ]
  },
  {
   "cell_type": "markdown",
   "metadata": {},
   "source": [
    "### Join Attempt #2"
   ]
  },
  {
   "cell_type": "markdown",
   "metadata": {},
   "source": [
    "Now that we've performed these merges, attempt another join between the RDH file and the VEST file"
   ]
  },
  {
   "cell_type": "code",
   "execution_count": 47,
   "metadata": {},
   "outputs": [
    {
     "data": {
      "text/plain": [
       "(8992, 45)"
      ]
     },
     "execution_count": 47,
     "metadata": {},
     "output_type": "execute_result"
    }
   ],
   "source": [
    "tx_rdh.shape"
   ]
  },
  {
   "cell_type": "code",
   "execution_count": 48,
   "metadata": {},
   "outputs": [
    {
     "data": {
      "text/plain": [
       "(8936, 45)"
      ]
     },
     "execution_count": 48,
     "metadata": {},
     "output_type": "execute_result"
    }
   ],
   "source": [
    "tx_vest.shape"
   ]
  },
  {
   "cell_type": "code",
   "execution_count": 49,
   "metadata": {},
   "outputs": [],
   "source": [
    "overlap = tx_rdh.merge(tx_vest, how = 'outer', left_on = 'CNTYVTD', right_on = 'PCTKEY', indicator = True)"
   ]
  },
  {
   "cell_type": "code",
   "execution_count": 50,
   "metadata": {},
   "outputs": [
    {
     "data": {
      "text/html": [
       "<div>\n",
       "<style scoped>\n",
       "    .dataframe tbody tr th:only-of-type {\n",
       "        vertical-align: middle;\n",
       "    }\n",
       "\n",
       "    .dataframe tbody tr th {\n",
       "        vertical-align: top;\n",
       "    }\n",
       "\n",
       "    .dataframe thead th {\n",
       "        text-align: right;\n",
       "    }\n",
       "</style>\n",
       "<table border=\"1\" class=\"dataframe\">\n",
       "  <thead>\n",
       "    <tr style=\"text-align: right;\">\n",
       "      <th></th>\n",
       "      <th>CNTYVTD</th>\n",
       "      <th>G18USSRCRU_x</th>\n",
       "      <th>G18USSDORO_x</th>\n",
       "      <th>G18USSLDIK_x</th>\n",
       "      <th>G18GOVRABB_x</th>\n",
       "      <th>G18GOVDVAL_x</th>\n",
       "      <th>G18GOVLTIP_x</th>\n",
       "      <th>G18LTGRPAT_x</th>\n",
       "      <th>G18LTGDCOL_x</th>\n",
       "      <th>G18LTGLMCK_x</th>\n",
       "      <th>...</th>\n",
       "      <th>G18SSCRBRO_y</th>\n",
       "      <th>G18SSCDCHE_y</th>\n",
       "      <th>G18SCCRKEL_y</th>\n",
       "      <th>G18SCCDJAC_y</th>\n",
       "      <th>G18SCCLSTR_y</th>\n",
       "      <th>G18SCCRHER_y</th>\n",
       "      <th>G18SCCDFRA_y</th>\n",
       "      <th>G18SCCRSLA_y</th>\n",
       "      <th>G18SCCLASH_y</th>\n",
       "      <th>geometry_y</th>\n",
       "    </tr>\n",
       "    <tr>\n",
       "      <th>_merge</th>\n",
       "      <th></th>\n",
       "      <th></th>\n",
       "      <th></th>\n",
       "      <th></th>\n",
       "      <th></th>\n",
       "      <th></th>\n",
       "      <th></th>\n",
       "      <th></th>\n",
       "      <th></th>\n",
       "      <th></th>\n",
       "      <th></th>\n",
       "      <th></th>\n",
       "      <th></th>\n",
       "      <th></th>\n",
       "      <th></th>\n",
       "      <th></th>\n",
       "      <th></th>\n",
       "      <th></th>\n",
       "      <th></th>\n",
       "      <th></th>\n",
       "      <th></th>\n",
       "    </tr>\n",
       "  </thead>\n",
       "  <tbody>\n",
       "    <tr>\n",
       "      <th>left_only</th>\n",
       "      <td>0</td>\n",
       "      <td>2013</td>\n",
       "      <td>2013</td>\n",
       "      <td>2013</td>\n",
       "      <td>2013</td>\n",
       "      <td>2013</td>\n",
       "      <td>2013</td>\n",
       "      <td>2013</td>\n",
       "      <td>2013</td>\n",
       "      <td>2013</td>\n",
       "      <td>...</td>\n",
       "      <td>0</td>\n",
       "      <td>0</td>\n",
       "      <td>0</td>\n",
       "      <td>0</td>\n",
       "      <td>0</td>\n",
       "      <td>0</td>\n",
       "      <td>0</td>\n",
       "      <td>0</td>\n",
       "      <td>0</td>\n",
       "      <td>0</td>\n",
       "    </tr>\n",
       "    <tr>\n",
       "      <th>right_only</th>\n",
       "      <td>0</td>\n",
       "      <td>0</td>\n",
       "      <td>0</td>\n",
       "      <td>0</td>\n",
       "      <td>0</td>\n",
       "      <td>0</td>\n",
       "      <td>0</td>\n",
       "      <td>0</td>\n",
       "      <td>0</td>\n",
       "      <td>0</td>\n",
       "      <td>...</td>\n",
       "      <td>1957</td>\n",
       "      <td>1957</td>\n",
       "      <td>1957</td>\n",
       "      <td>1957</td>\n",
       "      <td>1957</td>\n",
       "      <td>1957</td>\n",
       "      <td>1957</td>\n",
       "      <td>1957</td>\n",
       "      <td>1957</td>\n",
       "      <td>1957</td>\n",
       "    </tr>\n",
       "    <tr>\n",
       "      <th>both</th>\n",
       "      <td>6979</td>\n",
       "      <td>6979</td>\n",
       "      <td>6979</td>\n",
       "      <td>6979</td>\n",
       "      <td>6979</td>\n",
       "      <td>6979</td>\n",
       "      <td>6979</td>\n",
       "      <td>6979</td>\n",
       "      <td>6979</td>\n",
       "      <td>6979</td>\n",
       "      <td>...</td>\n",
       "      <td>6979</td>\n",
       "      <td>6979</td>\n",
       "      <td>6979</td>\n",
       "      <td>6979</td>\n",
       "      <td>6979</td>\n",
       "      <td>6979</td>\n",
       "      <td>6979</td>\n",
       "      <td>6979</td>\n",
       "      <td>6979</td>\n",
       "      <td>6979</td>\n",
       "    </tr>\n",
       "  </tbody>\n",
       "</table>\n",
       "<p>3 rows × 90 columns</p>\n",
       "</div>"
      ],
      "text/plain": [
       "            CNTYVTD  G18USSRCRU_x  G18USSDORO_x  G18USSLDIK_x  G18GOVRABB_x  \\\n",
       "_merge                                                                        \n",
       "left_only         0          2013          2013          2013          2013   \n",
       "right_only        0             0             0             0             0   \n",
       "both           6979          6979          6979          6979          6979   \n",
       "\n",
       "            G18GOVDVAL_x  G18GOVLTIP_x  G18LTGRPAT_x  G18LTGDCOL_x  \\\n",
       "_merge                                                               \n",
       "left_only           2013          2013          2013          2013   \n",
       "right_only             0             0             0             0   \n",
       "both                6979          6979          6979          6979   \n",
       "\n",
       "            G18LTGLMCK_x  ...  G18SSCRBRO_y  G18SSCDCHE_y  G18SCCRKEL_y  \\\n",
       "_merge                    ...                                             \n",
       "left_only           2013  ...             0             0             0   \n",
       "right_only             0  ...          1957          1957          1957   \n",
       "both                6979  ...          6979          6979          6979   \n",
       "\n",
       "            G18SCCDJAC_y  G18SCCLSTR_y  G18SCCRHER_y  G18SCCDFRA_y  \\\n",
       "_merge                                                               \n",
       "left_only              0             0             0             0   \n",
       "right_only          1957          1957          1957          1957   \n",
       "both                6979          6979          6979          6979   \n",
       "\n",
       "            G18SCCRSLA_y  G18SCCLASH_y  geometry_y  \n",
       "_merge                                              \n",
       "left_only              0             0           0  \n",
       "right_only          1957          1957        1957  \n",
       "both                6979          6979        6979  \n",
       "\n",
       "[3 rows x 90 columns]"
      ]
     },
     "execution_count": 50,
     "metadata": {},
     "output_type": "execute_result"
    }
   ],
   "source": [
    "overlap.groupby('_merge').count()"
   ]
  },
  {
   "cell_type": "code",
   "execution_count": 51,
   "metadata": {},
   "outputs": [
    {
     "data": {
      "text/plain": [
       "Index(['CNTYVTD', 'G18USSRCRU_x', 'G18USSDORO_x', 'G18USSLDIK_x',\n",
       "       'G18GOVRABB_x', 'G18GOVDVAL_x', 'G18GOVLTIP_x', 'G18LTGRPAT_x',\n",
       "       'G18LTGDCOL_x', 'G18LTGLMCK_x', 'G18ATGRPAX_x', 'G18ATGDNEL_x',\n",
       "       'G18ATGLHAR_x', 'G18COMRHEG_x', 'G18COMDCHE_x', 'G18COMLSAN_x',\n",
       "       'G18LANRBUS_x', 'G18LANDSUA_x', 'G18LANLPIN_x', 'G18AGRRMIL_x',\n",
       "       'G18AGRDOLS_x', 'G18AGRLCAR_x', 'G18RRCRCRA_x', 'G18RRCDMCA_x',\n",
       "       'G18RRCLWRI_x', 'G18SSCRBLA_x', 'G18SSCDKIR_x', 'G18SSCRDEV_x',\n",
       "       'G18SSCDSAN_x', 'G18SSCRBRO_x', 'G18SSCDCHE_x', 'G18SCCRKEL_x',\n",
       "       'G18SCCDJAC_x', 'G18SCCLSTR_x', 'G18SCCRHER_x', 'G18SCCDFRA_x',\n",
       "       'G18SCCRSLA_x', 'G18SCCLASH_x', 'CNTY_x', 'COLOR_x', 'VTD', 'VTDKEY',\n",
       "       'Shape_area', 'Shape_len', 'geometry_x', 'CNTY_y', 'COLOR_y', 'PREC',\n",
       "       'PCTKEY', 'CNTYKEY', 'G18VR', 'G18SSVR', 'G18USSRCRU_y', 'G18USSDORO_y',\n",
       "       'G18USSLDIK_y', 'G18GOVRABB_y', 'G18GOVDVAL_y', 'G18GOVLTIP_y',\n",
       "       'G18LTGRPAT_y', 'G18LTGDCOL_y', 'G18LTGLMCK_y', 'G18ATGRPAX_y',\n",
       "       'G18ATGDNEL_y', 'G18ATGLHAR_y', 'G18COMRHEG_y', 'G18COMDCHE_y',\n",
       "       'G18COMLSAN_y', 'G18LANRBUS_y', 'G18LANDSUA_y', 'G18LANLPIN_y',\n",
       "       'G18AGRRMIL_y', 'G18AGRDOLS_y', 'G18AGRLCAR_y', 'G18RRCRCRA_y',\n",
       "       'G18RRCDMCA_y', 'G18RRCLWRI_y', 'G18SSCRBLA_y', 'G18SSCDKIR_y',\n",
       "       'G18SSCRDEV_y', 'G18SSCDSAN_y', 'G18SSCRBRO_y', 'G18SSCDCHE_y',\n",
       "       'G18SCCRKEL_y', 'G18SCCDJAC_y', 'G18SCCLSTR_y', 'G18SCCRHER_y',\n",
       "       'G18SCCDFRA_y', 'G18SCCRSLA_y', 'G18SCCLASH_y', 'geometry_y', '_merge'],\n",
       "      dtype='object')"
      ]
     },
     "execution_count": 51,
     "metadata": {},
     "output_type": "execute_result"
    }
   ],
   "source": [
    "overlap.columns"
   ]
  },
  {
   "cell_type": "code",
   "execution_count": 53,
   "metadata": {},
   "outputs": [
    {
     "data": {
      "text/html": [
       "<div>\n",
       "<style scoped>\n",
       "    .dataframe tbody tr th:only-of-type {\n",
       "        vertical-align: middle;\n",
       "    }\n",
       "\n",
       "    .dataframe tbody tr th {\n",
       "        vertical-align: top;\n",
       "    }\n",
       "\n",
       "    .dataframe thead th {\n",
       "        text-align: right;\n",
       "    }\n",
       "</style>\n",
       "<table border=\"1\" class=\"dataframe\">\n",
       "  <thead>\n",
       "    <tr style=\"text-align: right;\">\n",
       "      <th></th>\n",
       "      <th>CNTY_y</th>\n",
       "      <th>PCTKEY</th>\n",
       "      <th>G18USSRCRU_y</th>\n",
       "      <th>G18USSDORO_y</th>\n",
       "      <th>G18USSLDIK_y</th>\n",
       "      <th>G18GOVRABB_y</th>\n",
       "      <th>G18GOVDVAL_y</th>\n",
       "      <th>G18GOVLTIP_y</th>\n",
       "      <th>G18LTGRPAT_y</th>\n",
       "      <th>G18LTGDCOL_y</th>\n",
       "      <th>...</th>\n",
       "      <th>G18SSCDCHE_y</th>\n",
       "      <th>G18SCCRKEL_y</th>\n",
       "      <th>G18SCCDJAC_y</th>\n",
       "      <th>G18SCCLSTR_y</th>\n",
       "      <th>G18SCCRHER_y</th>\n",
       "      <th>G18SCCDFRA_y</th>\n",
       "      <th>G18SCCRSLA_y</th>\n",
       "      <th>G18SCCLASH_y</th>\n",
       "      <th>geometry_y</th>\n",
       "      <th>_merge</th>\n",
       "    </tr>\n",
       "  </thead>\n",
       "  <tbody>\n",
       "    <tr>\n",
       "      <th>10092</th>\n",
       "      <td>1.0</td>\n",
       "      <td>10001</td>\n",
       "      <td>659.0</td>\n",
       "      <td>261.0</td>\n",
       "      <td>6.0</td>\n",
       "      <td>699.0</td>\n",
       "      <td>214.0</td>\n",
       "      <td>11.0</td>\n",
       "      <td>634.0</td>\n",
       "      <td>260.0</td>\n",
       "      <td>...</td>\n",
       "      <td>239.0</td>\n",
       "      <td>651.0</td>\n",
       "      <td>237.0</td>\n",
       "      <td>19.0</td>\n",
       "      <td>670.0</td>\n",
       "      <td>237.0</td>\n",
       "      <td>689.0</td>\n",
       "      <td>143.0</td>\n",
       "      <td>POLYGON ((1413960.808 1073012.816, 1413971.571...</td>\n",
       "      <td>right_only</td>\n",
       "    </tr>\n",
       "    <tr>\n",
       "      <th>9846</th>\n",
       "      <td>1.0</td>\n",
       "      <td>10002</td>\n",
       "      <td>1062.0</td>\n",
       "      <td>168.0</td>\n",
       "      <td>7.0</td>\n",
       "      <td>1090.0</td>\n",
       "      <td>134.0</td>\n",
       "      <td>13.0</td>\n",
       "      <td>1052.0</td>\n",
       "      <td>163.0</td>\n",
       "      <td>...</td>\n",
       "      <td>155.0</td>\n",
       "      <td>1052.0</td>\n",
       "      <td>160.0</td>\n",
       "      <td>11.0</td>\n",
       "      <td>1066.0</td>\n",
       "      <td>156.0</td>\n",
       "      <td>1063.0</td>\n",
       "      <td>84.0</td>\n",
       "      <td>POLYGON ((1420165.429 1066385.798, 1420251.968...</td>\n",
       "      <td>right_only</td>\n",
       "    </tr>\n",
       "    <tr>\n",
       "      <th>10091</th>\n",
       "      <td>1.0</td>\n",
       "      <td>10003</td>\n",
       "      <td>571.0</td>\n",
       "      <td>99.0</td>\n",
       "      <td>4.0</td>\n",
       "      <td>593.0</td>\n",
       "      <td>80.0</td>\n",
       "      <td>2.0</td>\n",
       "      <td>563.0</td>\n",
       "      <td>100.0</td>\n",
       "      <td>...</td>\n",
       "      <td>91.0</td>\n",
       "      <td>558.0</td>\n",
       "      <td>96.0</td>\n",
       "      <td>6.0</td>\n",
       "      <td>567.0</td>\n",
       "      <td>93.0</td>\n",
       "      <td>572.0</td>\n",
       "      <td>53.0</td>\n",
       "      <td>POLYGON ((1416275.023 1072178.732, 1416410.201...</td>\n",
       "      <td>right_only</td>\n",
       "    </tr>\n",
       "    <tr>\n",
       "      <th>9848</th>\n",
       "      <td>1.0</td>\n",
       "      <td>10004</td>\n",
       "      <td>752.0</td>\n",
       "      <td>97.0</td>\n",
       "      <td>3.0</td>\n",
       "      <td>767.0</td>\n",
       "      <td>77.0</td>\n",
       "      <td>9.0</td>\n",
       "      <td>732.0</td>\n",
       "      <td>103.0</td>\n",
       "      <td>...</td>\n",
       "      <td>94.0</td>\n",
       "      <td>733.0</td>\n",
       "      <td>93.0</td>\n",
       "      <td>11.0</td>\n",
       "      <td>739.0</td>\n",
       "      <td>98.0</td>\n",
       "      <td>749.0</td>\n",
       "      <td>48.0</td>\n",
       "      <td>POLYGON ((1435604.819 1074650.256, 1435674.876...</td>\n",
       "      <td>right_only</td>\n",
       "    </tr>\n",
       "    <tr>\n",
       "      <th>10095</th>\n",
       "      <td>1.0</td>\n",
       "      <td>10005</td>\n",
       "      <td>179.0</td>\n",
       "      <td>11.0</td>\n",
       "      <td>1.0</td>\n",
       "      <td>182.0</td>\n",
       "      <td>8.0</td>\n",
       "      <td>1.0</td>\n",
       "      <td>176.0</td>\n",
       "      <td>12.0</td>\n",
       "      <td>...</td>\n",
       "      <td>12.0</td>\n",
       "      <td>175.0</td>\n",
       "      <td>13.0</td>\n",
       "      <td>3.0</td>\n",
       "      <td>179.0</td>\n",
       "      <td>11.0</td>\n",
       "      <td>181.0</td>\n",
       "      <td>8.0</td>\n",
       "      <td>POLYGON ((1436888.342 1072498.734, 1436911.364...</td>\n",
       "      <td>right_only</td>\n",
       "    </tr>\n",
       "    <tr>\n",
       "      <th>...</th>\n",
       "      <td>...</td>\n",
       "      <td>...</td>\n",
       "      <td>...</td>\n",
       "      <td>...</td>\n",
       "      <td>...</td>\n",
       "      <td>...</td>\n",
       "      <td>...</td>\n",
       "      <td>...</td>\n",
       "      <td>...</td>\n",
       "      <td>...</td>\n",
       "      <td>...</td>\n",
       "      <td>...</td>\n",
       "      <td>...</td>\n",
       "      <td>...</td>\n",
       "      <td>...</td>\n",
       "      <td>...</td>\n",
       "      <td>...</td>\n",
       "      <td>...</td>\n",
       "      <td>...</td>\n",
       "      <td>...</td>\n",
       "      <td>...</td>\n",
       "    </tr>\n",
       "    <tr>\n",
       "      <th>9407</th>\n",
       "      <td>439.0</td>\n",
       "      <td>4394245</td>\n",
       "      <td>4.0</td>\n",
       "      <td>52.0</td>\n",
       "      <td>0.0</td>\n",
       "      <td>4.0</td>\n",
       "      <td>52.0</td>\n",
       "      <td>1.0</td>\n",
       "      <td>4.0</td>\n",
       "      <td>52.0</td>\n",
       "      <td>...</td>\n",
       "      <td>51.0</td>\n",
       "      <td>5.0</td>\n",
       "      <td>51.0</td>\n",
       "      <td>1.0</td>\n",
       "      <td>5.0</td>\n",
       "      <td>52.0</td>\n",
       "      <td>5.0</td>\n",
       "      <td>15.0</td>\n",
       "      <td>POLYGON ((1250627.410 1186501.774, 1250792.818...</td>\n",
       "      <td>right_only</td>\n",
       "    </tr>\n",
       "    <tr>\n",
       "      <th>9870</th>\n",
       "      <td>439.0</td>\n",
       "      <td>4394685</td>\n",
       "      <td>0.0</td>\n",
       "      <td>0.0</td>\n",
       "      <td>0.0</td>\n",
       "      <td>0.0</td>\n",
       "      <td>0.0</td>\n",
       "      <td>0.0</td>\n",
       "      <td>0.0</td>\n",
       "      <td>0.0</td>\n",
       "      <td>...</td>\n",
       "      <td>0.0</td>\n",
       "      <td>0.0</td>\n",
       "      <td>0.0</td>\n",
       "      <td>0.0</td>\n",
       "      <td>0.0</td>\n",
       "      <td>0.0</td>\n",
       "      <td>0.0</td>\n",
       "      <td>0.0</td>\n",
       "      <td>POLYGON ((1245653.161 1181647.817, 1245651.955...</td>\n",
       "      <td>right_only</td>\n",
       "    </tr>\n",
       "    <tr>\n",
       "      <th>10024</th>\n",
       "      <td>459.0</td>\n",
       "      <td>4590019</td>\n",
       "      <td>4.0</td>\n",
       "      <td>1.0</td>\n",
       "      <td>0.0</td>\n",
       "      <td>4.0</td>\n",
       "      <td>1.0</td>\n",
       "      <td>0.0</td>\n",
       "      <td>4.0</td>\n",
       "      <td>1.0</td>\n",
       "      <td>...</td>\n",
       "      <td>1.0</td>\n",
       "      <td>4.0</td>\n",
       "      <td>1.0</td>\n",
       "      <td>0.0</td>\n",
       "      <td>4.0</td>\n",
       "      <td>1.0</td>\n",
       "      <td>3.0</td>\n",
       "      <td>2.0</td>\n",
       "      <td>MULTIPOLYGON (((1473514.116 1182302.773, 14735...</td>\n",
       "      <td>right_only</td>\n",
       "    </tr>\n",
       "    <tr>\n",
       "      <th>10027</th>\n",
       "      <td>485.0</td>\n",
       "      <td>4850314</td>\n",
       "      <td>5.0</td>\n",
       "      <td>1.0</td>\n",
       "      <td>0.0</td>\n",
       "      <td>5.0</td>\n",
       "      <td>1.0</td>\n",
       "      <td>0.0</td>\n",
       "      <td>5.0</td>\n",
       "      <td>1.0</td>\n",
       "      <td>...</td>\n",
       "      <td>1.0</td>\n",
       "      <td>5.0</td>\n",
       "      <td>1.0</td>\n",
       "      <td>0.0</td>\n",
       "      <td>5.0</td>\n",
       "      <td>1.0</td>\n",
       "      <td>6.0</td>\n",
       "      <td>0.0</td>\n",
       "      <td>POLYGON ((1135623.817 1304623.335, 1135458.536...</td>\n",
       "      <td>right_only</td>\n",
       "    </tr>\n",
       "    <tr>\n",
       "      <th>10683</th>\n",
       "      <td>487.0</td>\n",
       "      <td>4870009</td>\n",
       "      <td>380.0</td>\n",
       "      <td>123.0</td>\n",
       "      <td>3.0</td>\n",
       "      <td>397.0</td>\n",
       "      <td>103.0</td>\n",
       "      <td>7.0</td>\n",
       "      <td>353.0</td>\n",
       "      <td>138.0</td>\n",
       "      <td>...</td>\n",
       "      <td>116.0</td>\n",
       "      <td>373.0</td>\n",
       "      <td>116.0</td>\n",
       "      <td>9.0</td>\n",
       "      <td>381.0</td>\n",
       "      <td>114.0</td>\n",
       "      <td>406.0</td>\n",
       "      <td>46.0</td>\n",
       "      <td>POLYGON ((1065619.887 1326292.869, 1065088.182...</td>\n",
       "      <td>right_only</td>\n",
       "    </tr>\n",
       "  </tbody>\n",
       "</table>\n",
       "<p>1957 rows × 41 columns</p>\n",
       "</div>"
      ],
      "text/plain": [
       "       CNTY_y   PCTKEY  G18USSRCRU_y  G18USSDORO_y  G18USSLDIK_y  \\\n",
       "10092     1.0    10001         659.0         261.0           6.0   \n",
       "9846      1.0    10002        1062.0         168.0           7.0   \n",
       "10091     1.0    10003         571.0          99.0           4.0   \n",
       "9848      1.0    10004         752.0          97.0           3.0   \n",
       "10095     1.0    10005         179.0          11.0           1.0   \n",
       "...       ...      ...           ...           ...           ...   \n",
       "9407    439.0  4394245           4.0          52.0           0.0   \n",
       "9870    439.0  4394685           0.0           0.0           0.0   \n",
       "10024   459.0  4590019           4.0           1.0           0.0   \n",
       "10027   485.0  4850314           5.0           1.0           0.0   \n",
       "10683   487.0  4870009         380.0         123.0           3.0   \n",
       "\n",
       "       G18GOVRABB_y  G18GOVDVAL_y  G18GOVLTIP_y  G18LTGRPAT_y  G18LTGDCOL_y  \\\n",
       "10092         699.0         214.0          11.0         634.0         260.0   \n",
       "9846         1090.0         134.0          13.0        1052.0         163.0   \n",
       "10091         593.0          80.0           2.0         563.0         100.0   \n",
       "9848          767.0          77.0           9.0         732.0         103.0   \n",
       "10095         182.0           8.0           1.0         176.0          12.0   \n",
       "...             ...           ...           ...           ...           ...   \n",
       "9407            4.0          52.0           1.0           4.0          52.0   \n",
       "9870            0.0           0.0           0.0           0.0           0.0   \n",
       "10024           4.0           1.0           0.0           4.0           1.0   \n",
       "10027           5.0           1.0           0.0           5.0           1.0   \n",
       "10683         397.0         103.0           7.0         353.0         138.0   \n",
       "\n",
       "       ...  G18SSCDCHE_y  G18SCCRKEL_y  G18SCCDJAC_y  G18SCCLSTR_y  \\\n",
       "10092  ...         239.0         651.0         237.0          19.0   \n",
       "9846   ...         155.0        1052.0         160.0          11.0   \n",
       "10091  ...          91.0         558.0          96.0           6.0   \n",
       "9848   ...          94.0         733.0          93.0          11.0   \n",
       "10095  ...          12.0         175.0          13.0           3.0   \n",
       "...    ...           ...           ...           ...           ...   \n",
       "9407   ...          51.0           5.0          51.0           1.0   \n",
       "9870   ...           0.0           0.0           0.0           0.0   \n",
       "10024  ...           1.0           4.0           1.0           0.0   \n",
       "10027  ...           1.0           5.0           1.0           0.0   \n",
       "10683  ...         116.0         373.0         116.0           9.0   \n",
       "\n",
       "       G18SCCRHER_y  G18SCCDFRA_y  G18SCCRSLA_y  G18SCCLASH_y  \\\n",
       "10092         670.0         237.0         689.0         143.0   \n",
       "9846         1066.0         156.0        1063.0          84.0   \n",
       "10091         567.0          93.0         572.0          53.0   \n",
       "9848          739.0          98.0         749.0          48.0   \n",
       "10095         179.0          11.0         181.0           8.0   \n",
       "...             ...           ...           ...           ...   \n",
       "9407            5.0          52.0           5.0          15.0   \n",
       "9870            0.0           0.0           0.0           0.0   \n",
       "10024           4.0           1.0           3.0           2.0   \n",
       "10027           5.0           1.0           6.0           0.0   \n",
       "10683         381.0         114.0         406.0          46.0   \n",
       "\n",
       "                                              geometry_y      _merge  \n",
       "10092  POLYGON ((1413960.808 1073012.816, 1413971.571...  right_only  \n",
       "9846   POLYGON ((1420165.429 1066385.798, 1420251.968...  right_only  \n",
       "10091  POLYGON ((1416275.023 1072178.732, 1416410.201...  right_only  \n",
       "9848   POLYGON ((1435604.819 1074650.256, 1435674.876...  right_only  \n",
       "10095  POLYGON ((1436888.342 1072498.734, 1436911.364...  right_only  \n",
       "...                                                  ...         ...  \n",
       "9407   POLYGON ((1250627.410 1186501.774, 1250792.818...  right_only  \n",
       "9870   POLYGON ((1245653.161 1181647.817, 1245651.955...  right_only  \n",
       "10024  MULTIPOLYGON (((1473514.116 1182302.773, 14735...  right_only  \n",
       "10027  POLYGON ((1135623.817 1304623.335, 1135458.536...  right_only  \n",
       "10683  POLYGON ((1065619.887 1326292.869, 1065088.182...  right_only  \n",
       "\n",
       "[1957 rows x 41 columns]"
      ]
     },
     "execution_count": 53,
     "metadata": {},
     "output_type": "execute_result"
    }
   ],
   "source": [
    "overlap.loc[overlap['_merge'] == 'right_only'][['CNTY_y', 'PCTKEY', 'G18USSRCRU_y', 'G18USSDORO_y',\n",
    "       'G18USSLDIK_y', 'G18GOVRABB_y', 'G18GOVDVAL_y', 'G18GOVLTIP_y',\n",
    "       'G18LTGRPAT_y', 'G18LTGDCOL_y', 'G18LTGLMCK_y', 'G18ATGRPAX_y',\n",
    "       'G18ATGDNEL_y', 'G18ATGLHAR_y', 'G18COMRHEG_y', 'G18COMDCHE_y',\n",
    "       'G18COMLSAN_y', 'G18LANRBUS_y', 'G18LANDSUA_y', 'G18LANLPIN_y',\n",
    "       'G18AGRRMIL_y', 'G18AGRDOLS_y', 'G18AGRLCAR_y', 'G18RRCRCRA_y',\n",
    "       'G18RRCDMCA_y', 'G18RRCLWRI_y', 'G18SSCRBLA_y', 'G18SSCDKIR_y',\n",
    "       'G18SSCRDEV_y', 'G18SSCDSAN_y', 'G18SSCRBRO_y', 'G18SSCDCHE_y',\n",
    "       'G18SCCRKEL_y', 'G18SCCDJAC_y', 'G18SCCLSTR_y', 'G18SCCRHER_y',\n",
    "       'G18SCCDFRA_y', 'G18SCCRSLA_y', 'G18SCCLASH_y', 'geometry_y', '_merge']].sort_values(by=['CNTY_y','PCTKEY'])"
   ]
  },
  {
   "cell_type": "markdown",
   "metadata": {},
   "source": [
    "Look at these in the RDH file"
   ]
  },
  {
   "cell_type": "code",
   "execution_count": null,
   "metadata": {},
   "outputs": [],
   "source": [
    "# tx_rdh[tx_rdh.CNTYVTD.isin(overlap.loc[overlap['_merge'] == 'right_only']['PCTKEY'])]\n",
    "for index, row in overlap.loc[overlap['_merge'] == 'right_only'][['CNTY_y','PCTKEY','G18USSRCRU_y']].iterrows(): \n",
    "    if row['PCTKEY'] in rdh_vtd_dissolved: \n",
    "        print(row['PCTKEY'])"
   ]
  },
  {
   "cell_type": "markdown",
   "metadata": {},
   "source": [
    "So none of these are in the RDH dissolved precincts and they also don't have election results. Not sure where they are coming from, it seems like VEST may have a slightly different shapefile"
   ]
  },
  {
   "cell_type": "code",
   "execution_count": 54,
   "metadata": {},
   "outputs": [
    {
     "data": {
      "text/plain": [
       "29     740\n",
       "121    190\n",
       "303    108\n",
       "41      77\n",
       "55      40\n",
       "Name: CNTY, dtype: int64"
      ]
     },
     "execution_count": 54,
     "metadata": {},
     "output_type": "execute_result"
    }
   ],
   "source": [
    "vtd_2018.loc[vtd_2018.CNTY.isin([29,41,55,121,303])]['CNTY'].value_counts()"
   ]
  },
  {
   "cell_type": "code",
   "execution_count": 55,
   "metadata": {},
   "outputs": [
    {
     "data": {
      "text/plain": [
       "121.0    169\n",
       "303.0     89\n",
       "Name: CNTY, dtype: int64"
      ]
     },
     "execution_count": 55,
     "metadata": {},
     "output_type": "execute_result"
    }
   ],
   "source": [
    "tx_rdh.loc[tx_rdh.CNTY.isin([29,41,55,121,303])]['CNTY'].value_counts()"
   ]
  },
  {
   "cell_type": "code",
   "execution_count": 56,
   "metadata": {},
   "outputs": [
    {
     "data": {
      "text/plain": [
       "29     726\n",
       "121    179\n",
       "303    133\n",
       "41      77\n",
       "55      41\n",
       "Name: CNTY, dtype: int64"
      ]
     },
     "execution_count": 56,
     "metadata": {},
     "output_type": "execute_result"
    }
   ],
   "source": [
    "tx_vest.loc[tx_vest.CNTY.isin([29,41,55,121,303])]['CNTY'].value_counts()"
   ]
  },
  {
   "cell_type": "markdown",
   "metadata": {},
   "source": [
    "We don't expect these numbers to totally show the differences because we dissolved things... \n",
    "- CNTY 303 is an example where we did not have any precincts dissolved and there are 7 more precincts in the VEST file than the RDH file"
   ]
  },
  {
   "cell_type": "markdown",
   "metadata": {},
   "source": [
    "# Validation"
   ]
  },
  {
   "cell_type": "markdown",
   "metadata": {},
   "source": [
    "## Election Results"
   ]
  },
  {
   "cell_type": "markdown",
   "metadata": {},
   "source": [
    "### Column by column totals"
   ]
  },
  {
   "cell_type": "code",
   "execution_count": 57,
   "metadata": {},
   "outputs": [],
   "source": [
    "def sum_checker (df, column_List):\n",
    "    \"\"\"Checks the sums of different columns and prints out the maximum difference by column. \n",
    "    Assumes that the dataframe is the merged dataframe between RDH and the partner, with the same named election result\n",
    "    columns, except RDH is _x and Partner is _y. \n",
    "    \"\"\"\n",
    "    list_max = 0\n",
    "    for i in column_List:\n",
    "        left_sum = df[i+\"_x\"].sum()\n",
    "        right_sum = df[i+\"_y\"].sum()\n",
    "        if (left_sum==right_sum):\n",
    "            print(\"Column: \", i, \" have the same sums\")\n",
    "            \n",
    "        else:\n",
    "            diff = abs(left_sum-right_sum)\n",
    "            percent = abs(left_sum-right_sum)/left_sum\n",
    "            print(\"Column: \", i)\n",
    "            print(\"RDH sum is \", str(left_sum))\n",
    "            print(\"Partner sum is \", str(right_sum))\n",
    "            print(\"Their (absolute) difference is \",str(diff))\n",
    "            print(\"As a percentage of DF1 this is \", str(round(percent*100,5)) + \"%\")\n",
    "            if (percent>list_max):\n",
    "                list_max = percent\n",
    "            print(\"\")\n",
    "    print(\"The max difference (as a percent of the total of one DF column) is: \", str(round(list_max,5)))"
   ]
  },
  {
   "cell_type": "markdown",
   "metadata": {},
   "source": [
    "Pass the list of election result columns: "
   ]
  },
  {
   "cell_type": "code",
   "execution_count": 58,
   "metadata": {},
   "outputs": [
    {
     "data": {
      "text/plain": [
       "Index(['CNTYVTD', 'G18USSRCRU_x', 'G18USSDORO_x', 'G18USSLDIK_x',\n",
       "       'G18GOVRABB_x', 'G18GOVDVAL_x', 'G18GOVLTIP_x', 'G18LTGRPAT_x',\n",
       "       'G18LTGDCOL_x', 'G18LTGLMCK_x', 'G18ATGRPAX_x', 'G18ATGDNEL_x',\n",
       "       'G18ATGLHAR_x', 'G18COMRHEG_x', 'G18COMDCHE_x', 'G18COMLSAN_x',\n",
       "       'G18LANRBUS_x', 'G18LANDSUA_x', 'G18LANLPIN_x', 'G18AGRRMIL_x',\n",
       "       'G18AGRDOLS_x', 'G18AGRLCAR_x', 'G18RRCRCRA_x', 'G18RRCDMCA_x',\n",
       "       'G18RRCLWRI_x', 'G18SSCRBLA_x', 'G18SSCDKIR_x', 'G18SSCRDEV_x',\n",
       "       'G18SSCDSAN_x', 'G18SSCRBRO_x', 'G18SSCDCHE_x', 'G18SCCRKEL_x',\n",
       "       'G18SCCDJAC_x', 'G18SCCLSTR_x', 'G18SCCRHER_x', 'G18SCCDFRA_x',\n",
       "       'G18SCCRSLA_x', 'G18SCCLASH_x', 'CNTY_x', 'COLOR_x', 'VTD', 'VTDKEY',\n",
       "       'Shape_area', 'Shape_len', 'geometry_x', 'CNTY_y', 'COLOR_y', 'PREC',\n",
       "       'PCTKEY', 'CNTYKEY', 'G18VR', 'G18SSVR', 'G18USSRCRU_y', 'G18USSDORO_y',\n",
       "       'G18USSLDIK_y', 'G18GOVRABB_y', 'G18GOVDVAL_y', 'G18GOVLTIP_y',\n",
       "       'G18LTGRPAT_y', 'G18LTGDCOL_y', 'G18LTGLMCK_y', 'G18ATGRPAX_y',\n",
       "       'G18ATGDNEL_y', 'G18ATGLHAR_y', 'G18COMRHEG_y', 'G18COMDCHE_y',\n",
       "       'G18COMLSAN_y', 'G18LANRBUS_y', 'G18LANDSUA_y', 'G18LANLPIN_y',\n",
       "       'G18AGRRMIL_y', 'G18AGRDOLS_y', 'G18AGRLCAR_y', 'G18RRCRCRA_y',\n",
       "       'G18RRCDMCA_y', 'G18RRCLWRI_y', 'G18SSCRBLA_y', 'G18SSCDKIR_y',\n",
       "       'G18SSCRDEV_y', 'G18SSCDSAN_y', 'G18SSCRBRO_y', 'G18SSCDCHE_y',\n",
       "       'G18SCCRKEL_y', 'G18SCCDJAC_y', 'G18SCCLSTR_y', 'G18SCCRHER_y',\n",
       "       'G18SCCDFRA_y', 'G18SCCRSLA_y', 'G18SCCLASH_y', 'geometry_y', '_merge'],\n",
       "      dtype='object')"
      ]
     },
     "execution_count": 58,
     "metadata": {},
     "output_type": "execute_result"
    }
   ],
   "source": [
    "overlap.columns"
   ]
  },
  {
   "cell_type": "code",
   "execution_count": 59,
   "metadata": {},
   "outputs": [
    {
     "name": "stdout",
     "output_type": "stream",
     "text": [
      "The max difference (as a percent of the total of one DF column) is:  0\n"
     ]
    }
   ],
   "source": [
    "election_columns = [key[:-2] for key in overlap.keys() if '16' in key and (key.endswith(\"_x\") or key.endswith(\"_y\"))]\n",
    "sum_checker(overlap, election_columns)"
   ]
  },
  {
   "cell_type": "markdown",
   "metadata": {},
   "source": [
    "### Precinct-by-precinct Comparison"
   ]
  },
  {
   "cell_type": "code",
   "execution_count": 60,
   "metadata": {},
   "outputs": [],
   "source": [
    "def validater_row_vect(df, county_column, join_column, column_List):\n",
    "    matching_rows = 0\n",
    "    different_rows = 0\n",
    "    \n",
    "    county_join_cols = (df[county_column].astype('str') + ' ' + df[join_column].astype('str')).to_numpy()\n",
    "    \n",
    "    # it's because before, we were checking that a row was entirely consistent\n",
    "    # here, we are double checking a lot\n",
    "    # so, let's just keep one track of the rows that are messed up\n",
    "    \n",
    "    wrong_idxs = np.zeros(len(df))\n",
    "    for i in column_List:\n",
    "        left_data = df[i + \"_x\"].to_numpy()\n",
    "        right_data = df[i + \"_y\"].to_numpy()\n",
    "        \n",
    "        local_idxs = np.where(left_data != right_data)\n",
    "        wrong_idxs[local_idxs] = 1\n",
    "        #print(\"Wrong idxs\", wrong_idxs)\n",
    "        \n",
    "    # we are close, we get the same result, but are double adding lots of rows\n",
    "    different_rows += np.sum(wrong_idxs)\n",
    "    matching_rows += len(df) - different_rows\n",
    "    \n",
    "    diff_list = county_join_cols[np.where(wrong_idxs == 1)]\n",
    "            \n",
    "    print(\"There are \", len(df.index),\" total rows\")\n",
    "    print(f\"{int(different_rows)} of these rows have election result differences\")\n",
    "    print(f\"{int(matching_rows)} of these rows are the same\")\n",
    "    print(diff_list)\n",
    "    print(\"\")"
   ]
  },
  {
   "cell_type": "markdown",
   "metadata": {},
   "source": [
    "Amend the following line to run this function on all of the election result columns..."
   ]
  },
  {
   "cell_type": "code",
   "execution_count": 61,
   "metadata": {},
   "outputs": [
    {
     "data": {
      "text/plain": [
       "Index(['CNTYVTD', 'G18USSRCRU_x', 'G18USSDORO_x', 'G18USSLDIK_x',\n",
       "       'G18GOVRABB_x', 'G18GOVDVAL_x', 'G18GOVLTIP_x', 'G18LTGRPAT_x',\n",
       "       'G18LTGDCOL_x', 'G18LTGLMCK_x', 'G18ATGRPAX_x', 'G18ATGDNEL_x',\n",
       "       'G18ATGLHAR_x', 'G18COMRHEG_x', 'G18COMDCHE_x', 'G18COMLSAN_x',\n",
       "       'G18LANRBUS_x', 'G18LANDSUA_x', 'G18LANLPIN_x', 'G18AGRRMIL_x',\n",
       "       'G18AGRDOLS_x', 'G18AGRLCAR_x', 'G18RRCRCRA_x', 'G18RRCDMCA_x',\n",
       "       'G18RRCLWRI_x', 'G18SSCRBLA_x', 'G18SSCDKIR_x', 'G18SSCRDEV_x',\n",
       "       'G18SSCDSAN_x', 'G18SSCRBRO_x', 'G18SSCDCHE_x', 'G18SCCRKEL_x',\n",
       "       'G18SCCDJAC_x', 'G18SCCLSTR_x', 'G18SCCRHER_x', 'G18SCCDFRA_x',\n",
       "       'G18SCCRSLA_x', 'G18SCCLASH_x', 'CNTY_x', 'COLOR_x', 'VTD', 'VTDKEY',\n",
       "       'Shape_area', 'Shape_len', 'geometry_x', 'CNTY_y', 'COLOR_y', 'PREC',\n",
       "       'PCTKEY', 'CNTYKEY', 'G18VR', 'G18SSVR', 'G18USSRCRU_y', 'G18USSDORO_y',\n",
       "       'G18USSLDIK_y', 'G18GOVRABB_y', 'G18GOVDVAL_y', 'G18GOVLTIP_y',\n",
       "       'G18LTGRPAT_y', 'G18LTGDCOL_y', 'G18LTGLMCK_y', 'G18ATGRPAX_y',\n",
       "       'G18ATGDNEL_y', 'G18ATGLHAR_y', 'G18COMRHEG_y', 'G18COMDCHE_y',\n",
       "       'G18COMLSAN_y', 'G18LANRBUS_y', 'G18LANDSUA_y', 'G18LANLPIN_y',\n",
       "       'G18AGRRMIL_y', 'G18AGRDOLS_y', 'G18AGRLCAR_y', 'G18RRCRCRA_y',\n",
       "       'G18RRCDMCA_y', 'G18RRCLWRI_y', 'G18SSCRBLA_y', 'G18SSCDKIR_y',\n",
       "       'G18SSCRDEV_y', 'G18SSCDSAN_y', 'G18SSCRBRO_y', 'G18SSCDCHE_y',\n",
       "       'G18SCCRKEL_y', 'G18SCCDJAC_y', 'G18SCCLSTR_y', 'G18SCCRHER_y',\n",
       "       'G18SCCDFRA_y', 'G18SCCRSLA_y', 'G18SCCLASH_y', 'geometry_y', '_merge'],\n",
       "      dtype='object')"
      ]
     },
     "execution_count": 61,
     "metadata": {},
     "output_type": "execute_result"
    }
   ],
   "source": [
    "overlap.columns"
   ]
  },
  {
   "cell_type": "code",
   "execution_count": 62,
   "metadata": {},
   "outputs": [
    {
     "name": "stdout",
     "output_type": "stream",
     "text": [
      "There are  10949  total rows\n",
      "0 of these rows have election result differences\n",
      "10949 of these rows are the same\n",
      "[]\n",
      "\n"
     ]
    }
   ],
   "source": [
    "validater_row_vect(overlap, 'CNTY_x', 'CNTYVTD', election_columns)"
   ]
  },
  {
   "cell_type": "markdown",
   "metadata": {},
   "source": [
    "These 13 election result differences are the 13 rows that didn't join in the VEST file that are all 0s"
   ]
  },
  {
   "cell_type": "markdown",
   "metadata": {},
   "source": [
    "## Geographies"
   ]
  },
  {
   "cell_type": "markdown",
   "metadata": {},
   "source": [
    "Use `geom_almost_equals` to determine where there are differences in the precincts between the RDH file and the Partner file\n",
    "\n",
    "Need to make some modifications because the two geodataframes don't have the same number of rows... "
   ]
  },
  {
   "cell_type": "code",
   "execution_count": 63,
   "metadata": {},
   "outputs": [
    {
     "data": {
      "text/plain": [
       "(8992, 45)"
      ]
     },
     "execution_count": 63,
     "metadata": {},
     "output_type": "execute_result"
    }
   ],
   "source": [
    "tx_rdh_gp = gp.GeoDataFrame(tx_rdh, crs = tx_vest.crs)\n",
    "tx_rdh_gp.shape"
   ]
  },
  {
   "cell_type": "code",
   "execution_count": 64,
   "metadata": {},
   "outputs": [
    {
     "data": {
      "text/plain": [
       "(6979, 45)"
      ]
     },
     "execution_count": 64,
     "metadata": {},
     "output_type": "execute_result"
    }
   ],
   "source": [
    "tx_vest_gp = tx_vest.loc[tx_vest.PCTKEY.isin(tx_rdh_gp.CNTYVTD)].copy()\n",
    "tx_vest_gp.shape"
   ]
  },
  {
   "cell_type": "code",
   "execution_count": 65,
   "metadata": {},
   "outputs": [],
   "source": [
    "tx_rdh_gp.sort_values(by = 'CNTYVTD', inplace = True)\n",
    "tx_vest_gp.sort_values(by = 'PCTKEY', inplace = True)"
   ]
  },
  {
   "cell_type": "code",
   "execution_count": 66,
   "metadata": {},
   "outputs": [
    {
     "data": {
      "text/html": [
       "<div>\n",
       "<style scoped>\n",
       "    .dataframe tbody tr th:only-of-type {\n",
       "        vertical-align: middle;\n",
       "    }\n",
       "\n",
       "    .dataframe tbody tr th {\n",
       "        vertical-align: top;\n",
       "    }\n",
       "\n",
       "    .dataframe thead th {\n",
       "        text-align: right;\n",
       "    }\n",
       "</style>\n",
       "<table border=\"1\" class=\"dataframe\">\n",
       "  <thead>\n",
       "    <tr style=\"text-align: right;\">\n",
       "      <th></th>\n",
       "      <th>CNTYVTD</th>\n",
       "      <th>G18USSRCRU</th>\n",
       "      <th>G18USSDORO</th>\n",
       "      <th>G18USSLDIK</th>\n",
       "      <th>G18GOVRABB</th>\n",
       "      <th>G18GOVDVAL</th>\n",
       "      <th>G18GOVLTIP</th>\n",
       "      <th>G18LTGRPAT</th>\n",
       "      <th>G18LTGDCOL</th>\n",
       "      <th>G18LTGLMCK</th>\n",
       "      <th>...</th>\n",
       "      <th>G18SCCDFRA</th>\n",
       "      <th>G18SCCRSLA</th>\n",
       "      <th>G18SCCLASH</th>\n",
       "      <th>CNTY</th>\n",
       "      <th>COLOR</th>\n",
       "      <th>VTD</th>\n",
       "      <th>VTDKEY</th>\n",
       "      <th>Shape_area</th>\n",
       "      <th>Shape_len</th>\n",
       "      <th>geometry</th>\n",
       "    </tr>\n",
       "  </thead>\n",
       "  <tbody>\n",
       "    <tr>\n",
       "      <th>0</th>\n",
       "      <td>1010101</td>\n",
       "      <td>161</td>\n",
       "      <td>26</td>\n",
       "      <td>1</td>\n",
       "      <td>164</td>\n",
       "      <td>22</td>\n",
       "      <td>3</td>\n",
       "      <td>151</td>\n",
       "      <td>29</td>\n",
       "      <td>5</td>\n",
       "      <td>...</td>\n",
       "      <td>22</td>\n",
       "      <td>157</td>\n",
       "      <td>18</td>\n",
       "      <td>101.0</td>\n",
       "      <td>5.0</td>\n",
       "      <td>0101</td>\n",
       "      <td>0.0</td>\n",
       "      <td>7.990163e+08</td>\n",
       "      <td>134968.101144</td>\n",
       "      <td>POLYGON ((953971.210 1348579.417, 954173.761 1...</td>\n",
       "    </tr>\n",
       "    <tr>\n",
       "      <th>1</th>\n",
       "      <td>1010201</td>\n",
       "      <td>141</td>\n",
       "      <td>30</td>\n",
       "      <td>0</td>\n",
       "      <td>145</td>\n",
       "      <td>15</td>\n",
       "      <td>0</td>\n",
       "      <td>135</td>\n",
       "      <td>22</td>\n",
       "      <td>0</td>\n",
       "      <td>...</td>\n",
       "      <td>14</td>\n",
       "      <td>137</td>\n",
       "      <td>9</td>\n",
       "      <td>101.0</td>\n",
       "      <td>6.0</td>\n",
       "      <td>0201</td>\n",
       "      <td>0.0</td>\n",
       "      <td>3.866636e+08</td>\n",
       "      <td>86179.610632</td>\n",
       "      <td>POLYGON ((972191.426 1315254.371, 972191.655 1...</td>\n",
       "    </tr>\n",
       "    <tr>\n",
       "      <th>2</th>\n",
       "      <td>1010301</td>\n",
       "      <td>64</td>\n",
       "      <td>20</td>\n",
       "      <td>1</td>\n",
       "      <td>67</td>\n",
       "      <td>28</td>\n",
       "      <td>0</td>\n",
       "      <td>65</td>\n",
       "      <td>29</td>\n",
       "      <td>0</td>\n",
       "      <td>...</td>\n",
       "      <td>29</td>\n",
       "      <td>68</td>\n",
       "      <td>12</td>\n",
       "      <td>101.0</td>\n",
       "      <td>4.0</td>\n",
       "      <td>0301</td>\n",
       "      <td>0.0</td>\n",
       "      <td>6.969030e+08</td>\n",
       "      <td>157196.679996</td>\n",
       "      <td>POLYGON ((976584.755 1348295.619, 976943.220 1...</td>\n",
       "    </tr>\n",
       "  </tbody>\n",
       "</table>\n",
       "<p>3 rows × 45 columns</p>\n",
       "</div>"
      ],
      "text/plain": [
       "   CNTYVTD  G18USSRCRU  G18USSDORO  G18USSLDIK  G18GOVRABB  G18GOVDVAL  \\\n",
       "0  1010101         161          26           1         164          22   \n",
       "1  1010201         141          30           0         145          15   \n",
       "2  1010301          64          20           1          67          28   \n",
       "\n",
       "   G18GOVLTIP  G18LTGRPAT  G18LTGDCOL  G18LTGLMCK  ...  G18SCCDFRA  \\\n",
       "0           3         151          29           5  ...          22   \n",
       "1           0         135          22           0  ...          14   \n",
       "2           0          65          29           0  ...          29   \n",
       "\n",
       "   G18SCCRSLA  G18SCCLASH   CNTY  COLOR   VTD  VTDKEY    Shape_area  \\\n",
       "0         157          18  101.0    5.0  0101     0.0  7.990163e+08   \n",
       "1         137           9  101.0    6.0  0201     0.0  3.866636e+08   \n",
       "2          68          12  101.0    4.0  0301     0.0  6.969030e+08   \n",
       "\n",
       "       Shape_len                                           geometry  \n",
       "0  134968.101144  POLYGON ((953971.210 1348579.417, 954173.761 1...  \n",
       "1   86179.610632  POLYGON ((972191.426 1315254.371, 972191.655 1...  \n",
       "2  157196.679996  POLYGON ((976584.755 1348295.619, 976943.220 1...  \n",
       "\n",
       "[3 rows x 45 columns]"
      ]
     },
     "execution_count": 66,
     "metadata": {},
     "output_type": "execute_result"
    }
   ],
   "source": [
    "tx_rdh_gp.reset_index(drop=True,inplace=True)\n",
    "tx_rdh_gp.head(3)"
   ]
  },
  {
   "cell_type": "code",
   "execution_count": 67,
   "metadata": {},
   "outputs": [
    {
     "data": {
      "text/html": [
       "<div>\n",
       "<style scoped>\n",
       "    .dataframe tbody tr th:only-of-type {\n",
       "        vertical-align: middle;\n",
       "    }\n",
       "\n",
       "    .dataframe tbody tr th {\n",
       "        vertical-align: top;\n",
       "    }\n",
       "\n",
       "    .dataframe thead th {\n",
       "        text-align: right;\n",
       "    }\n",
       "</style>\n",
       "<table border=\"1\" class=\"dataframe\">\n",
       "  <thead>\n",
       "    <tr style=\"text-align: right;\">\n",
       "      <th></th>\n",
       "      <th>CNTY</th>\n",
       "      <th>COLOR</th>\n",
       "      <th>PREC</th>\n",
       "      <th>PCTKEY</th>\n",
       "      <th>CNTYKEY</th>\n",
       "      <th>G18VR</th>\n",
       "      <th>G18SSVR</th>\n",
       "      <th>G18USSRCRU</th>\n",
       "      <th>G18USSDORO</th>\n",
       "      <th>G18USSLDIK</th>\n",
       "      <th>...</th>\n",
       "      <th>G18SSCRBRO</th>\n",
       "      <th>G18SSCDCHE</th>\n",
       "      <th>G18SCCRKEL</th>\n",
       "      <th>G18SCCDJAC</th>\n",
       "      <th>G18SCCLSTR</th>\n",
       "      <th>G18SCCRHER</th>\n",
       "      <th>G18SCCDFRA</th>\n",
       "      <th>G18SCCRSLA</th>\n",
       "      <th>G18SCCLASH</th>\n",
       "      <th>geometry</th>\n",
       "    </tr>\n",
       "  </thead>\n",
       "  <tbody>\n",
       "    <tr>\n",
       "      <th>0</th>\n",
       "      <td>101</td>\n",
       "      <td>5</td>\n",
       "      <td>0101</td>\n",
       "      <td>1010101</td>\n",
       "      <td>51</td>\n",
       "      <td>304</td>\n",
       "      <td>10.5</td>\n",
       "      <td>161</td>\n",
       "      <td>26</td>\n",
       "      <td>1</td>\n",
       "      <td>...</td>\n",
       "      <td>159</td>\n",
       "      <td>23</td>\n",
       "      <td>159</td>\n",
       "      <td>21</td>\n",
       "      <td>4</td>\n",
       "      <td>159</td>\n",
       "      <td>22</td>\n",
       "      <td>157</td>\n",
       "      <td>18</td>\n",
       "      <td>POLYGON ((953971.210 1348579.417, 954173.761 1...</td>\n",
       "    </tr>\n",
       "    <tr>\n",
       "      <th>1</th>\n",
       "      <td>101</td>\n",
       "      <td>6</td>\n",
       "      <td>0201</td>\n",
       "      <td>1010201</td>\n",
       "      <td>51</td>\n",
       "      <td>260</td>\n",
       "      <td>10.4</td>\n",
       "      <td>141</td>\n",
       "      <td>30</td>\n",
       "      <td>0</td>\n",
       "      <td>...</td>\n",
       "      <td>139</td>\n",
       "      <td>16</td>\n",
       "      <td>137</td>\n",
       "      <td>14</td>\n",
       "      <td>2</td>\n",
       "      <td>141</td>\n",
       "      <td>14</td>\n",
       "      <td>137</td>\n",
       "      <td>9</td>\n",
       "      <td>POLYGON ((972191.426 1315254.371, 972191.655 1...</td>\n",
       "    </tr>\n",
       "    <tr>\n",
       "      <th>2</th>\n",
       "      <td>101</td>\n",
       "      <td>4</td>\n",
       "      <td>0301</td>\n",
       "      <td>1010301</td>\n",
       "      <td>51</td>\n",
       "      <td>237</td>\n",
       "      <td>19.0</td>\n",
       "      <td>64</td>\n",
       "      <td>20</td>\n",
       "      <td>1</td>\n",
       "      <td>...</td>\n",
       "      <td>65</td>\n",
       "      <td>29</td>\n",
       "      <td>63</td>\n",
       "      <td>31</td>\n",
       "      <td>0</td>\n",
       "      <td>65</td>\n",
       "      <td>29</td>\n",
       "      <td>68</td>\n",
       "      <td>12</td>\n",
       "      <td>POLYGON ((976584.755 1348295.619, 976943.220 1...</td>\n",
       "    </tr>\n",
       "  </tbody>\n",
       "</table>\n",
       "<p>3 rows × 45 columns</p>\n",
       "</div>"
      ],
      "text/plain": [
       "   CNTY  COLOR  PREC   PCTKEY  CNTYKEY  G18VR  G18SSVR  G18USSRCRU  \\\n",
       "0   101      5  0101  1010101       51    304     10.5         161   \n",
       "1   101      6  0201  1010201       51    260     10.4         141   \n",
       "2   101      4  0301  1010301       51    237     19.0          64   \n",
       "\n",
       "   G18USSDORO  G18USSLDIK  ...  G18SSCRBRO  G18SSCDCHE  G18SCCRKEL  \\\n",
       "0          26           1  ...         159          23         159   \n",
       "1          30           0  ...         139          16         137   \n",
       "2          20           1  ...          65          29          63   \n",
       "\n",
       "   G18SCCDJAC  G18SCCLSTR  G18SCCRHER  G18SCCDFRA  G18SCCRSLA  G18SCCLASH  \\\n",
       "0          21           4         159          22         157          18   \n",
       "1          14           2         141          14         137           9   \n",
       "2          31           0          65          29          68          12   \n",
       "\n",
       "                                            geometry  \n",
       "0  POLYGON ((953971.210 1348579.417, 954173.761 1...  \n",
       "1  POLYGON ((972191.426 1315254.371, 972191.655 1...  \n",
       "2  POLYGON ((976584.755 1348295.619, 976943.220 1...  \n",
       "\n",
       "[3 rows x 45 columns]"
      ]
     },
     "execution_count": 67,
     "metadata": {},
     "output_type": "execute_result"
    }
   ],
   "source": [
    "tx_vest_gp.reset_index(drop=True,inplace=True)\n",
    "tx_vest_gp.head(3)"
   ]
  },
  {
   "cell_type": "markdown",
   "metadata": {},
   "source": [
    "Check total area: "
   ]
  },
  {
   "cell_type": "code",
   "execution_count": 68,
   "metadata": {},
   "outputs": [
    {
     "data": {
      "text/plain": [
       "nan"
      ]
     },
     "execution_count": 68,
     "metadata": {},
     "output_type": "execute_result"
    }
   ],
   "source": [
    "sum(tx_rdh_gp.area)"
   ]
  },
  {
   "cell_type": "code",
   "execution_count": 69,
   "metadata": {},
   "outputs": [
    {
     "data": {
      "text/plain": [
       "558170549696.3776"
      ]
     },
     "execution_count": 69,
     "metadata": {},
     "output_type": "execute_result"
    }
   ],
   "source": [
    "sum(tx_vest_gp.area)"
   ]
  },
  {
   "cell_type": "code",
   "execution_count": 70,
   "metadata": {},
   "outputs": [
    {
     "data": {
      "text/plain": [
       "693736189457.4305"
      ]
     },
     "execution_count": 70,
     "metadata": {},
     "output_type": "execute_result"
    }
   ],
   "source": [
    "sum(tx_vest.area)"
   ]
  },
  {
   "cell_type": "markdown",
   "metadata": {},
   "source": [
    "Ok, so those 13 precincts do have a good amount of area"
   ]
  },
  {
   "cell_type": "markdown",
   "metadata": {},
   "source": [
    "Check area by precinct, excluding those 13: "
   ]
  },
  {
   "cell_type": "code",
   "execution_count": 71,
   "metadata": {},
   "outputs": [
    {
     "name": "stderr",
     "output_type": "stream",
     "text": [
      "C:\\Users\\youhy\\anaconda3\\envs\\geopandas\\lib\\site-packages\\geopandas\\base.py:32: UserWarning: The indices of the two GeoSeries are different.\n",
      "  warn(\"The indices of the two GeoSeries are different.\")\n"
     ]
    },
    {
     "data": {
      "text/plain": [
       "4821"
      ]
     },
     "execution_count": 71,
     "metadata": {},
     "output_type": "execute_result"
    }
   ],
   "source": [
    "tx_rdh_gp.geom_almost_equals(tx_vest_gp, decimal = 1).sum()"
   ]
  },
  {
   "cell_type": "markdown",
   "metadata": {},
   "source": [
    "So only 6183 precincts out of 8819 have the same area using geom almost equals... compare the actual km^2 area:"
   ]
  },
  {
   "cell_type": "markdown",
   "metadata": {},
   "source": [
    "Confirming that the projection is in meters so we can use km^2 conversion "
   ]
  },
  {
   "cell_type": "code",
   "execution_count": 72,
   "metadata": {},
   "outputs": [
    {
     "data": {
      "text/plain": [
       "<Projected CRS: PROJCS[\"NAD_1983_Lambert_Conformal_Conic\",GEOGCS[\" ...>\n",
       "Name: NAD_1983_Lambert_Conformal_Conic\n",
       "Axis Info [cartesian]:\n",
       "- [east]: Easting (metre)\n",
       "- [north]: Northing (metre)\n",
       "Area of Use:\n",
       "- undefined\n",
       "Coordinate Operation:\n",
       "- name: unnamed\n",
       "- method: Lambert Conic Conformal (2SP)\n",
       "Datum: North American Datum 1983\n",
       "- Ellipsoid: GRS 1980\n",
       "- Prime Meridian: Greenwich"
      ]
     },
     "execution_count": 72,
     "metadata": {},
     "output_type": "execute_result"
    }
   ],
   "source": [
    "tx_vest.crs"
   ]
  },
  {
   "cell_type": "code",
   "execution_count": 73,
   "metadata": {},
   "outputs": [
    {
     "name": "stdout",
     "output_type": "stream",
     "text": [
      "Number of precincts with differences in area > 1 km^2:  103\n",
      "All diffs:  [(1427, 80.64), (1460, 80.64), (1619, 38.63), (1620, 38.63), (1699, 22.63), (1662, 22.61), (6266, 16.89), (6258, 15.65), (6747, 13.38), (5138, 11.55), (5140, 11.55), (4510, 8.17), (6745, 8.11), (3752, 8.04), (3753, 8.04), (6377, 7.14), (2490, 7.13), (6378, 7.1), (1062, 6.04), (1068, 6.02), (2129, 5.78), (2603, 5.7), (4449, 5.68), (6397, 5.51), (3543, 5.44), (3546, 5.44), (6743, 5.21), (6399, 5.06), (1041, 4.93), (1038, 4.85), (3803, 4.71), (4460, 4.25), (1366, 3.89), (1368, 3.89), (5950, 3.83), (8981, 3.83), (3971, 3.58), (3972, 3.58), (6113, 3.32), (6404, 3.17), (3287, 3.04), (3360, 2.96), (2104, 2.77), (2384, 2.77), (3116, 2.44), (1272, 2.43), (6117, 2.34), (1531, 2.3), (4113, 2.26), (4482, 2.23), (1676, 2.16), (1633, 2.12), (3065, 2.11), (6511, 2.09), (6497, 2.06), (4475, 2.05), (1341, 2.04), (1344, 2.04), (4526, 2.04), (1536, 1.98), (4165, 1.81), (6413, 1.81), (3223, 1.78), (863, 1.75), (4104, 1.75), (4359, 1.7), (3184, 1.66), (8986, 1.59), (855, 1.54), (856, 1.51), (3274, 1.41), (3067, 1.36), (6403, 1.36), (989, 1.33), (878, 1.3), (4462, 1.29), (4529, 1.29), (1127, 1.27), (1158, 1.27), (1345, 1.25), (4530, 1.25), (6295, 1.24), (1271, 1.22), (1347, 1.2), (2464, 1.19), (2882, 1.19), (6853, 1.19), (1004, 1.18), (1324, 1.15), (2554, 1.13), (2651, 1.13), (4255, 1.13), (832, 1.12), (833, 1.12), (979, 1.09), (3277, 1.09), (3332, 1.09), (4140, 1.06), (3173, 1.03), (4166, 1.03), (879, 1.02), (1130, 1.02), (6852, 1.02)]\n"
     ]
    }
   ],
   "source": [
    "diffs = []\n",
    "for index, row in overlap.iterrows():\n",
    "    if overlap.iloc[index]['geometry_x'] and round(overlap.iloc[index]['geometry_x'].area/ 10**6) != round(overlap.iloc[index]['geometry_y'].area/ 10**6):\n",
    "#         print(index, row['CNTYVTD'], overlap.iloc[index]['geometry_x'].area/ 10**6, overlap.iloc[index]['geometry_y'].area/ 10**6)\n",
    "        diff = abs((overlap.iloc[index]['geometry_x'].area/ 10**6) - (overlap.iloc[index]['geometry_y'].area/ 10**6))\n",
    "        diffs.append((index, round(diff,2)))\n",
    "print('Number of precincts with differences in area > 1 km^2: ', len([x[1] for x in diffs if x[1] > 1]))\n",
    "tups = [x for x in diffs if x[1] > 1]\n",
    "tups.sort(key = lambda x: x[1], reverse = True) \n",
    "print('All diffs: ', tups)"
   ]
  },
  {
   "cell_type": "markdown",
   "metadata": {},
   "source": [
    "^ The top ones here are doubled up, makes me think that the VEST precinct assignment is different: "
   ]
  },
  {
   "cell_type": "code",
   "execution_count": 76,
   "metadata": {},
   "outputs": [
    {
     "data": {
      "text/html": [
       "<div>\n",
       "<style scoped>\n",
       "    .dataframe tbody tr th:only-of-type {\n",
       "        vertical-align: middle;\n",
       "    }\n",
       "\n",
       "    .dataframe tbody tr th {\n",
       "        vertical-align: top;\n",
       "    }\n",
       "\n",
       "    .dataframe thead th {\n",
       "        text-align: right;\n",
       "    }\n",
       "</style>\n",
       "<table border=\"1\" class=\"dataframe\">\n",
       "  <thead>\n",
       "    <tr style=\"text-align: right;\">\n",
       "      <th></th>\n",
       "      <th>CNTYVTD</th>\n",
       "      <th>G18USSRCRU_x</th>\n",
       "      <th>geometry_x</th>\n",
       "      <th>PCTKEY</th>\n",
       "      <th>G18USSRCRU_y</th>\n",
       "      <th>geometry_y</th>\n",
       "    </tr>\n",
       "  </thead>\n",
       "  <tbody>\n",
       "    <tr>\n",
       "      <th>6380</th>\n",
       "      <td>4550004</td>\n",
       "      <td>121.0</td>\n",
       "      <td>POLYGON ((1440334.816 1001741.382, 1440336.855...</td>\n",
       "      <td>4550004</td>\n",
       "      <td>141.0</td>\n",
       "      <td>POLYGON ((1440334.816 1001741.382, 1440336.855...</td>\n",
       "    </tr>\n",
       "    <tr>\n",
       "      <th>6381</th>\n",
       "      <td>4550005</td>\n",
       "      <td>93.0</td>\n",
       "      <td>POLYGON ((1442225.696 985108.286, 1442232.228 ...</td>\n",
       "      <td>4550005</td>\n",
       "      <td>29.0</td>\n",
       "      <td>POLYGON ((1442225.696 985108.286, 1442232.228 ...</td>\n",
       "    </tr>\n",
       "    <tr>\n",
       "      <th>6382</th>\n",
       "      <td>4550006</td>\n",
       "      <td>118.0</td>\n",
       "      <td>POLYGON ((1455073.921 1002094.849, 1454973.549...</td>\n",
       "      <td>4550006</td>\n",
       "      <td>196.0</td>\n",
       "      <td>POLYGON ((1454973.549 1001387.984, 1454971.405...</td>\n",
       "    </tr>\n",
       "  </tbody>\n",
       "</table>\n",
       "</div>"
      ],
      "text/plain": [
       "      CNTYVTD  G18USSRCRU_x  \\\n",
       "6380  4550004         121.0   \n",
       "6381  4550005          93.0   \n",
       "6382  4550006         118.0   \n",
       "\n",
       "                                             geometry_x   PCTKEY  \\\n",
       "6380  POLYGON ((1440334.816 1001741.382, 1440336.855...  4550004   \n",
       "6381  POLYGON ((1442225.696 985108.286, 1442232.228 ...  4550005   \n",
       "6382  POLYGON ((1455073.921 1002094.849, 1454973.549...  4550006   \n",
       "\n",
       "      G18USSRCRU_y                                         geometry_y  \n",
       "6380         141.0  POLYGON ((1440334.816 1001741.382, 1440336.855...  \n",
       "6381          29.0  POLYGON ((1442225.696 985108.286, 1442232.228 ...  \n",
       "6382         196.0  POLYGON ((1454973.549 1001387.984, 1454971.405...  "
      ]
     },
     "execution_count": 76,
     "metadata": {},
     "output_type": "execute_result"
    }
   ],
   "source": [
    "overlap.iloc[6380:6383][['CNTYVTD','G18USSRCRU_x','geometry_x','PCTKEY','G18USSRCRU_y','geometry_y']]"
   ]
  },
  {
   "cell_type": "code",
   "execution_count": 77,
   "metadata": {},
   "outputs": [
    {
     "name": "stderr",
     "output_type": "stream",
     "text": [
      "C:\\Users\\youhy\\AppData\\Local\\Temp/ipykernel_4904/3651446123.py:1: FutureWarning: Assigning CRS to a GeoDataFrame without a geometry column is now deprecated and will not be supported in the future.\n",
      "  gp.GeoDataFrame(overlap.iloc[6380:6383], crs = tx_vest.crs)['geometry_y'].boundary.plot()\n",
      "C:\\Users\\youhy\\AppData\\Local\\Temp/ipykernel_4904/3651446123.py:2: FutureWarning: Assigning CRS to a GeoDataFrame without a geometry column is now deprecated and will not be supported in the future.\n",
      "  gp.GeoDataFrame(overlap.iloc[6380:6383], crs = tx_vest.crs)['geometry_x'].boundary.plot()\n"
     ]
    },
    {
     "data": {
      "text/plain": [
       "<AxesSubplot:>"
      ]
     },
     "execution_count": 77,
     "metadata": {},
     "output_type": "execute_result"
    },
    {
     "data": {
      "image/png": "[encoded data removed]",
      "text/plain": [
       "<Figure size 432x288 with 1 Axes>"
      ]
     },
     "metadata": {
      "needs_background": "light"
     },
     "output_type": "display_data"
    },
    {
     "data": {
      "image/png": "[encoded data removed]",
      "text/plain": [
       "<Figure size 432x288 with 1 Axes>"
      ]
     },
     "metadata": {
      "needs_background": "light"
     },
     "output_type": "display_data"
    }
   ],
   "source": [
    "gp.GeoDataFrame(overlap.iloc[6380:6383], crs = tx_vest.crs)['geometry_y'].boundary.plot()\n",
    "gp.GeoDataFrame(overlap.iloc[6380:6383], crs = tx_vest.crs)['geometry_x'].boundary.plot()"
   ]
  },
  {
   "cell_type": "code",
   "execution_count": 78,
   "metadata": {},
   "outputs": [
    {
     "name": "stderr",
     "output_type": "stream",
     "text": [
      "C:\\Users\\youhy\\AppData\\Local\\Temp/ipykernel_4904/1029348256.py:1: FutureWarning: Assigning CRS to a GeoDataFrame without a geometry column is now deprecated and will not be supported in the future.\n",
      "  gp.GeoDataFrame(overlap.iloc[6377:6379], crs = tx_vest.crs)['geometry_y'].boundary.plot()\n",
      "C:\\Users\\youhy\\AppData\\Local\\Temp/ipykernel_4904/1029348256.py:2: FutureWarning: Assigning CRS to a GeoDataFrame without a geometry column is now deprecated and will not be supported in the future.\n",
      "  gp.GeoDataFrame(overlap.iloc[6377:6379], crs = tx_vest.crs)['geometry_x'].boundary.plot()\n"
     ]
    },
    {
     "data": {
      "text/plain": [
       "<AxesSubplot:>"
      ]
     },
     "execution_count": 78,
     "metadata": {},
     "output_type": "execute_result"
    },
    {
     "data": {
      "image/png": "[encoded data removed]",
      "text/plain": [
       "<Figure size 432x288 with 1 Axes>"
      ]
     },
     "metadata": {
      "needs_background": "light"
     },
     "output_type": "display_data"
    },
    {
     "data": {
      "image/png": "[encoded data removed]",
      "text/plain": [
       "<Figure size 432x288 with 1 Axes>"
      ]
     },
     "metadata": {
      "needs_background": "light"
     },
     "output_type": "display_data"
    }
   ],
   "source": [
    "gp.GeoDataFrame(overlap.iloc[6377:6379], crs = tx_vest.crs)['geometry_y'].boundary.plot()\n",
    "gp.GeoDataFrame(overlap.iloc[6377:6379], crs = tx_vest.crs)['geometry_x'].boundary.plot()"
   ]
  },
  {
   "cell_type": "markdown",
   "metadata": {},
   "source": [
    "Ok, so these look like substantive differences in the shapefiles"
   ]
  }
 ],
 "metadata": {
  "kernelspec": {
   "display_name": "Python 3 (ipykernel)",
   "language": "python",
   "name": "python3"
  },
  "language_info": {
   "codemirror_mode": {
    "name": "ipython",
    "version": 3
   },
   "file_extension": ".py",
   "mimetype": "text/x-python",
   "name": "python",
   "nbconvert_exporter": "python",
   "pygments_lexer": "ipython3",
   "version": "3.9.6"
  }
 },
 "nbformat": 4,
 "nbformat_minor": 4
}
