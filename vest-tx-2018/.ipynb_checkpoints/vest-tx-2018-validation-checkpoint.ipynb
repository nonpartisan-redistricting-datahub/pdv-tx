{
 "cells": [
  {
   "cell_type": "code",
   "execution_count": 1,
   "id": "2c54ad58",
   "metadata": {},
   "outputs": [],
   "source": [
    "import pandas as pd # standard python data library\n",
    "import matplotlib.pyplot as plt # for plotting maps\n",
    "import geopandas as gp # the geo-version of pandas\n",
    "import numpy as np\n",
    "import sys\n",
    "import os\n",
    "from statistics import mean, median\n",
    "from functools import reduce\n",
    "import glob"
   ]
  },
  {
   "cell_type": "markdown",
   "id": "267d00f2",
   "metadata": {},
   "source": [
    "# VEST TX 2018\n",
    "---\n",
    "## VEST's Documentation\n",
    "\n",
    "Election results and precinct shapefile from the Texas Legislative Council (https://data.capitol.texas.gov/). The precinct data files available for download at the TXLC Capitol Data Portal are allocated to Census VTD geography based on Voting Age Population from the 2010 Census. The unallocated precinct results and registration statistics were generously provided by TXLC staff to instead merge with the precinct boundaries.\n",
    "\n",
    "The shapefile includes unallocated Voter Registration (VR) and Spanish Surname Voter Registration (SSVR) for the November 2018 general election. Any VR data analysis of these unallocated precinct results should utilize this unallocated VR data rather than the VR data allocated by VTD available for download at CDP. SSVR is denoted as a percentile of total VR for each precinct.\n",
    "\n",
    "Precinct results for the following counties were replaced in whole or in part with county source files or with precinct data provided via the Secretary of State: Atascosa, Bexar, Blanco, Borden, Bowie, Brewster, Brown, Carson, Cherokee, Cochran, Comanche, Cooke, Culberson, Duval, Fort Bend, Gillespie, Hartley, Haskell, Hays, Hood, Jefferson, Jim Hogg, Johnson, Lamar, Matagorda, Midland, Nolan, Ochiltree, Robertson, Rockwall, Rusk, Starr, Terrell, Tyler.\n",
    "\n",
    "Precinct 4/6 in Gonzales was merged prior to 2008. Gonzales 4 was the city of Nixon while Gonzales 6 was the surrounding county precinct. However, they reappear as separate line items in the 2018 general election county report. Since these are otherwise regarded as a unitary precinct and it is unclear that the separate 2018 line items correspond to the obsolete boundaries the results for Gonzales 4/6 were combined in the shapefile.\n",
    "\n",
    "Precinct totals for the counties listed below do not add up to the Secretary of State County Canvass for one or more offices. Most commonly this is due to omission of some ballots counted after election day from either the county precinct reports or from summary results certified to the state. In some cases these involve data entry errors where numbers were transposed, dropped, or added in one or more precincts or in countywide summations. In some cases corrections to the initial precinct results were made after the certification deadline.\n",
    "\n",
    "Armstrong, Bailey, Bandera, Baylor, Calhoun, Childress, Cochran, Collingsworth, Cottle, Culberson, Dimmit, Fayette, Galveston, Goliad, Gonzales, Hall, Hartley, Haskell, Hockley, Hudspeth, Jackson, Kent, Live Oak, Loving, McCulloch, Moore, Morris, Motley, Presidio, Reeves, Runnells, San Saba, Somervell, Starr, Stephens, Terrell, Titus, Waller, Ward, Wichita, Willacy, Winkler, Zavala.\n",
    "\n",
    "Most of the discrepancies are in single digits or low double digits. The exceptions are an 80 vote overreport from Jackson for Ted Cruz (R) for U.S. Senate, a 2000 vote overreport from Galveston for Ken Paxton (R) for Attorney General, a 273 vote underreport from Somervell for Justin Nelson (D) for Attorney General, a 2000 vote underreport from Starr for Jimmy Blacklock (R) for Supreme Court Justice 2, an 8470 vote underreport from Wichita for Steven Kirkland (D) for Supreme Court Justice 2, a 90 vote underreport from Moore for Michelle Slaughter (R) for Criminal Appeals Judge 8, a 10229 vote underreport from Waller for Michelle Slaughter (R) for Criminal Appeals Judge 8, and a 2934 vote underreport from Waller for Mark Ash (L) for Criminal Appeals Judge 8.\n",
    "\n",
    "Votes reported countywide were distributed by candidate to precincts based on the precinct-level reported vote. This includes all early ballots in Collingsworth, Crockett, Dawson, Hudspeth, Kent, McMullen, and Trinity. Mail ballots in Armstrong. Federal and/or limited ballots in Bexar, Brazos, Hays, Jefferson, and Rockwall. Provisional and military ballots in Bowie.\n",
    "\n",
    "The following counties reported combined results for some precincts. As these specific precincts align with VTD boundaries the combined results were replaced with the VTD allocated precinct results from the TXLC Capitol Data Portal. Any data corrections or distributions noted above were transferred accordingly.\n",
    "\n",
    "Bowie: 1A/4E, 1B/2A, 2B/4D/5A, 2D/4A/4C/5B, 13/30, 21/22, 24/25\n",
    "Dallam: 2/8, 3/5/9\n",
    "Howard: 11-16/103-105, 24-26/205, 32-35/304, 42-46/404-405, 207-208, 408/409\n",
    "Kleberg: 33/34\n",
    "Lamb: 7/8\n",
    "Lynn: 2/8, 3/10, 4/11\n",
    "McMullen: 2A/2B, 4A/4B\n",
    "Newton: 11/13/21\n",
    "Real: 4/7\n",
    "Red River: 1/11, 17/18, 27/30\n",
    "San Saba: 2A/2B, 3A/3B, 4A/4B\n",
    "\n",
    "* G18VR - Voter registration\n",
    "* G18SSVR - Spanish surname voter registration\n",
    "\n",
    "\n",
    "* G18USSRCRU - Ted Cruz (Republican Party)\n",
    "* G18USSDORO - Beto O'Rourke (Democratic Party)\n",
    "* G18USSLDIK - Neal M. Dikeman (Libertarian Party)\n",
    "\n",
    "\n",
    "* G18GOVRABB - Greg Abbott (Republican Party)\n",
    "* G18GOVDVAL - Lupe Valdez (Democratic Party)\n",
    "* G18GOVLTIP - Mark Jay Tippetts (Libertarian Party)\n",
    "\n",
    "\n",
    "* G18LTGRPAT - Dan Patrick (Republican Party)\n",
    "* G18LTGDCOL - Mike Collier (Democratic Party)\n",
    "* G18LTGLMCK - Kerry Douglas McKennon (Libertarian Party)\n",
    "\n",
    "\n",
    "* G18ATGRPAX - Ken Paxton (Republican Party)\n",
    "* G18ATGDNEL - Justin Nelson (Democratic Party)\n",
    "* G18ATGLHAR - Michael Ray Harris (Libertarian Party)\n",
    "\n",
    "\n",
    "* G18COMRHEG - Glenn Hegar (Republican Party)\n",
    "* G18COMDCHE - Joi Chevalier (Democratic Party)\n",
    "* G18COMLSAN - Ben Sanders (Libertarian Party)\n",
    "\n",
    "\n",
    "* G18LANRBUS - George P. Bush (Republican Party)\n",
    "* G18LANDSUA - Miguel Suazo (Democratic Party)\n",
    "* G18LANLPIN - Matt Pina (Libertarian Party)\n",
    "\n",
    "\n",
    "* G18AGRRMIL - Sid Miller (Republican Party)\n",
    "* G18AGRDOLS - Kim Olson (Democratic Party)\n",
    "* G18AGRLCAR - Richard Carpenter (Libertarian Party)\n",
    "\n",
    "\n",
    "* G18RRCRCRA - Christi Craddick (Republican Party)\n",
    "* G18RRCDMCA - Roman McAllen (Democratic Party)\n",
    "* G18RRCLWRI - Mike Wright (Libertarian Party)\n",
    "\n",
    "\n",
    "* G18SSCRBLA - Jimmy Blacklock (Republican Party)\n",
    "* G18SSCDKIR - Stever Kirkland (Democratic Party)\n",
    "\n",
    "\n",
    "* G18SSCRDEV - John Devine (Republican Party)\n",
    "* G18SSCDSAN - R.K. Sandill (Democratic Party)\n",
    "\n",
    "\n",
    "* G18SSCRBRO - Jeff Brown (Republican Party)\n",
    "* G18SSCDCHE - Kathy Cheng (Democratic Party)\n",
    "\n",
    "\n",
    "* G18SCCRKEL - Sharon Keller (Republican Party)\n",
    "* G18SCCDJAC - Maria T. (Terri) Jackson (Democratic Party)\n",
    "* G18SCCLSTR - William Bryan Strange III (Libertarian Party)\n",
    "\n",
    "\n",
    "* G18SCCRHER - Barbara Parker Hervey (Republican Party)\n",
    "* G18SCCDFRA - Romana Franklin (Democratic Party)\n",
    "\n",
    "\n",
    "* G18SCCRSLA - Michelle Slaughter (Republican Party)\n",
    "* G18SCCLASH - Mark Ash (Libertarian Party)\n"
   ]
  },
  {
   "cell_type": "markdown",
   "id": "381e9798",
   "metadata": {},
   "source": [
    "## VEST's Final File"
   ]
  },
  {
   "cell_type": "code",
   "execution_count": 2,
   "id": "319e57b2",
   "metadata": {},
   "outputs": [],
   "source": [
    "vest_shp = gp.read_file(\"./raw-from-source/VEST/tx_2018/tx_2018.shp\")"
   ]
  },
  {
   "cell_type": "code",
   "execution_count": 3,
   "id": "62ce2e5d",
   "metadata": {},
   "outputs": [
    {
     "data": {
      "text/plain": [
       "(8936, 45)"
      ]
     },
     "execution_count": 3,
     "metadata": {},
     "output_type": "execute_result"
    }
   ],
   "source": [
    "vest_shp.shape"
   ]
  },
  {
   "cell_type": "code",
   "execution_count": 4,
   "id": "674c87c1",
   "metadata": {
    "scrolled": true
   },
   "outputs": [
    {
     "data": {
      "text/html": [
       "<div>\n",
       "<style scoped>\n",
       "    .dataframe tbody tr th:only-of-type {\n",
       "        vertical-align: middle;\n",
       "    }\n",
       "\n",
       "    .dataframe tbody tr th {\n",
       "        vertical-align: top;\n",
       "    }\n",
       "\n",
       "    .dataframe thead th {\n",
       "        text-align: right;\n",
       "    }\n",
       "</style>\n",
       "<table border=\"1\" class=\"dataframe\">\n",
       "  <thead>\n",
       "    <tr style=\"text-align: right;\">\n",
       "      <th></th>\n",
       "      <th>CNTY</th>\n",
       "      <th>COLOR</th>\n",
       "      <th>PREC</th>\n",
       "      <th>PCTKEY</th>\n",
       "      <th>CNTYKEY</th>\n",
       "      <th>G18VR</th>\n",
       "      <th>G18SSVR</th>\n",
       "      <th>G18USSRCRU</th>\n",
       "      <th>G18USSDORO</th>\n",
       "      <th>G18USSLDIK</th>\n",
       "      <th>...</th>\n",
       "      <th>G18SSCRBRO</th>\n",
       "      <th>G18SSCDCHE</th>\n",
       "      <th>G18SCCRKEL</th>\n",
       "      <th>G18SCCDJAC</th>\n",
       "      <th>G18SCCLSTR</th>\n",
       "      <th>G18SCCRHER</th>\n",
       "      <th>G18SCCDFRA</th>\n",
       "      <th>G18SCCRSLA</th>\n",
       "      <th>G18SCCLASH</th>\n",
       "      <th>geometry</th>\n",
       "    </tr>\n",
       "  </thead>\n",
       "  <tbody>\n",
       "    <tr>\n",
       "      <th>0</th>\n",
       "      <td>113</td>\n",
       "      <td>1</td>\n",
       "      <td>1104</td>\n",
       "      <td>1131104</td>\n",
       "      <td>57</td>\n",
       "      <td>2673</td>\n",
       "      <td>36.7</td>\n",
       "      <td>106</td>\n",
       "      <td>924</td>\n",
       "      <td>5</td>\n",
       "      <td>...</td>\n",
       "      <td>116</td>\n",
       "      <td>897</td>\n",
       "      <td>112</td>\n",
       "      <td>889</td>\n",
       "      <td>17</td>\n",
       "      <td>118</td>\n",
       "      <td>897</td>\n",
       "      <td>157</td>\n",
       "      <td>292</td>\n",
       "      <td>POLYGON ((1314208.406 1178220.110, 1314211.847...</td>\n",
       "    </tr>\n",
       "  </tbody>\n",
       "</table>\n",
       "<p>1 rows × 45 columns</p>\n",
       "</div>"
      ],
      "text/plain": [
       "   CNTY  COLOR  PREC   PCTKEY  CNTYKEY  G18VR  G18SSVR  G18USSRCRU  \\\n",
       "0   113      1  1104  1131104       57   2673     36.7         106   \n",
       "\n",
       "   G18USSDORO  G18USSLDIK  ...  G18SSCRBRO  G18SSCDCHE  G18SCCRKEL  \\\n",
       "0         924           5  ...         116         897         112   \n",
       "\n",
       "   G18SCCDJAC  G18SCCLSTR  G18SCCRHER  G18SCCDFRA  G18SCCRSLA  G18SCCLASH  \\\n",
       "0         889          17         118         897         157         292   \n",
       "\n",
       "                                            geometry  \n",
       "0  POLYGON ((1314208.406 1178220.110, 1314211.847...  \n",
       "\n",
       "[1 rows x 45 columns]"
      ]
     },
     "execution_count": 4,
     "metadata": {},
     "output_type": "execute_result"
    }
   ],
   "source": [
    "vest_shp.head(1)"
   ]
  },
  {
   "cell_type": "code",
   "execution_count": 5,
   "id": "9b46eb2a",
   "metadata": {},
   "outputs": [
    {
     "data": {
      "text/plain": [
       "<AxesSubplot:>"
      ]
     },
     "execution_count": 5,
     "metadata": {},
     "output_type": "execute_result"
    },
    {
     "data": {
      "image/png": "[encoded data removed]",
      "text/plain": [
       "<Figure size 432x288 with 1 Axes>"
      ]
     },
     "metadata": {
      "needs_background": "light"
     },
     "output_type": "display_data"
    }
   ],
   "source": [
    "vest_shp.boundary.plot()"
   ]
  },
  {
   "cell_type": "code",
   "execution_count": 6,
   "id": "99a744d1",
   "metadata": {},
   "outputs": [
    {
     "data": {
      "text/plain": [
       "Index(['CNTY', 'COLOR', 'PREC', 'PCTKEY', 'CNTYKEY', 'G18VR', 'G18SSVR',\n",
       "       'G18USSRCRU', 'G18USSDORO', 'G18USSLDIK', 'G18GOVRABB', 'G18GOVDVAL',\n",
       "       'G18GOVLTIP', 'G18LTGRPAT', 'G18LTGDCOL', 'G18LTGLMCK', 'G18ATGRPAX',\n",
       "       'G18ATGDNEL', 'G18ATGLHAR', 'G18COMRHEG', 'G18COMDCHE', 'G18COMLSAN',\n",
       "       'G18LANRBUS', 'G18LANDSUA', 'G18LANLPIN', 'G18AGRRMIL', 'G18AGRDOLS',\n",
       "       'G18AGRLCAR', 'G18RRCRCRA', 'G18RRCDMCA', 'G18RRCLWRI', 'G18SSCRBLA',\n",
       "       'G18SSCDKIR', 'G18SSCRDEV', 'G18SSCDSAN', 'G18SSCRBRO', 'G18SSCDCHE',\n",
       "       'G18SCCRKEL', 'G18SCCDJAC', 'G18SCCLSTR', 'G18SCCRHER', 'G18SCCDFRA',\n",
       "       'G18SCCRSLA', 'G18SCCLASH', 'geometry'],\n",
       "      dtype='object')"
      ]
     },
     "execution_count": 6,
     "metadata": {},
     "output_type": "execute_result"
    }
   ],
   "source": [
    "vest_shp.columns"
   ]
  },
  {
   "cell_type": "markdown",
   "id": "6bfa96f3",
   "metadata": {},
   "source": [
    "### Organize VEST File "
   ]
  },
  {
   "cell_type": "code",
   "execution_count": 7,
   "id": "a838691f",
   "metadata": {},
   "outputs": [],
   "source": [
    "# Sort dataframe in order by county key and precinct key\n",
    "vest_shp = vest_shp.sort_values(['CNTYKEY','PCTKEY'])"
   ]
  },
  {
   "cell_type": "code",
   "execution_count": 8,
   "id": "4c2e2ee9",
   "metadata": {},
   "outputs": [],
   "source": [
    "# Set county column to display three digits\n",
    "vest_shp['CNTY'] = vest_shp['CNTY'].astype(str).str.zfill(3)"
   ]
  },
  {
   "cell_type": "code",
   "execution_count": 9,
   "id": "f2d5accd",
   "metadata": {},
   "outputs": [],
   "source": [
    "# Reset index\n",
    "vest_shp.reset_index(drop=True,inplace=True)"
   ]
  },
  {
   "cell_type": "markdown",
   "id": "5e2cd697",
   "metadata": {},
   "source": [
    "## Election Results"
   ]
  },
  {
   "cell_type": "markdown",
   "id": "2a3367d2",
   "metadata": {},
   "source": [
    "The SOS directed to this link for election results for the 2018 general: https://data.capitol.texas.gov/"
   ]
  },
  {
   "cell_type": "code",
   "execution_count": 10,
   "id": "b926d220",
   "metadata": {},
   "outputs": [],
   "source": [
    "# Change setting to display all columns and rows\n",
    "pd.set_option('display.max_columns', None)\n",
    "pd.set_option('display.max_rows', None)"
   ]
  },
  {
   "cell_type": "code",
   "execution_count": 11,
   "id": "36ebfd40",
   "metadata": {},
   "outputs": [],
   "source": [
    "# Read csv files in Election Results folder\n",
    "all_files = glob.glob(\"./raw-from-source/Election_Results/*.csv\") \n",
    "# Concatenate all files\n",
    "df = pd.concat((pd.read_csv(f, header = 0) for f in all_files), axis = 1)\n",
    "\n",
    "# Rename df as tx_18\n",
    "tx_18 = df.loc[:,~df.columns.duplicated()]"
   ]
  },
  {
   "cell_type": "code",
   "execution_count": 12,
   "id": "cfbdad4e",
   "metadata": {},
   "outputs": [
    {
     "data": {
      "text/plain": [
       "Index(['CNTYVTD', 'VTDKEY', 'MillerR_18G_Ag Comm', 'OlsonD_18G_Ag Comm',\n",
       "       'CarpenterL_18G_Ag Comm', 'PaxtonR_18G_Attorney Gen',\n",
       "       'NelsonD_18G_Attorney Gen', 'HarrisL_18G_Attorney Gen',\n",
       "       'HerveyR_18G_CCA 7', 'FranklinD_18G_CCA 7', 'SlaughterR_18G_CCA 8',\n",
       "       'AshL_18G_CCA 8', 'KellerR_18G_CCA Pres Judge',\n",
       "       'StrangeL_18G_CCA Pres Judge', 'JacksonD_18G_CCA Pres Judge',\n",
       "       'HegarR_18G_Comptroller', 'ChevalierD_18G_Comptroller',\n",
       "       'SandersL_18G_Comptroller', 'AbbottR_18G_Governor',\n",
       "       'ValdezD_18G_Governor', 'TippettsL_18G_Governor', 'BushR_18G_Land Comm',\n",
       "       'SuazoD_18G_Land Comm', 'PinaL_18G_Land Comm',\n",
       "       'PatrickR_18G_Lt. Governor', 'CollierD_18G_Lt. Governor',\n",
       "       'McKennonL_18G_Lt. Governor', 'CraddickR_18G_RR Comm 1',\n",
       "       'McAllenD_18G_RR Comm 1', 'WrightL_18G_RR Comm 1',\n",
       "       'BlacklockR_18G_Sup Ct 2', 'KirklandD_18G_Sup Ct 2',\n",
       "       'DevineR_18G_Sup Ct 4', 'SandillD_18G_Sup Ct 4', 'BrownR_18G_Sup Ct 6',\n",
       "       'ChengD_18G_Sup Ct 6', 'CruzR_18G_U.S. Sen', 'O'RourkeD_18G_U.S. Sen',\n",
       "       'DikemanL_18G_U.S. Sen'],\n",
       "      dtype='object')"
      ]
     },
     "execution_count": 12,
     "metadata": {},
     "output_type": "execute_result"
    }
   ],
   "source": [
    "tx_18.columns"
   ]
  },
  {
   "cell_type": "code",
   "execution_count": 13,
   "id": "a5741faf",
   "metadata": {},
   "outputs": [],
   "source": [
    "# Rename the columns to match VEST\n",
    "tx_18 = tx_18.rename(columns = {'MillerR_18G_Ag Comm':'G18AGRRMIL', \n",
    "                                 'OlsonD_18G_Ag Comm':'G18AGRDOLS',\n",
    "                                 'CarpenterL_18G_Ag Comm':'G18AGRLCAR', \n",
    "                                 'PaxtonR_18G_Attorney Gen':'G18ATGRPAX',\n",
    "                                 'NelsonD_18G_Attorney Gen':'G18ATGDNEL', \n",
    "                                 'HarrisL_18G_Attorney Gen':'G18ATGLHAR',\n",
    "                                 'HerveyR_18G_CCA 7':'G18SCCRHER', \n",
    "                                 'FranklinD_18G_CCA 7':'G18SCCDFRA', \n",
    "                                 'SlaughterR_18G_CCA 8':'G18SCCRSLA',\n",
    "                                 'AshL_18G_CCA 8':'G18SCCLASH', \n",
    "                                 'KellerR_18G_CCA Pres Judge':'G18SCCRKEL',\n",
    "                                 'StrangeL_18G_CCA Pres Judge':'G18SCCLSTR', \n",
    "                                 'JacksonD_18G_CCA Pres Judge':'G18SCCDJAC',\n",
    "                                 'HegarR_18G_Comptroller':'G18COMRHEG', \n",
    "                                 'ChevalierD_18G_Comptroller':'G18COMDCHE',\n",
    "                                 'SandersL_18G_Comptroller':'G18COMLSAN', \n",
    "                                 'AbbottR_18G_Governor':'G18GOVRABB',\n",
    "                                 'ValdezD_18G_Governor':'G18GOVDVAL', \n",
    "                                 'TippettsL_18G_Governor':'G18GOVLTIP', \n",
    "                                 'BushR_18G_Land Comm':'G18LANRBUS',\n",
    "                                 'SuazoD_18G_Land Comm':'G18LANDSUA', \n",
    "                                 'PinaL_18G_Land Comm':'G18LANLPIN',\n",
    "                                 'PatrickR_18G_Lt. Governor':'G18LTGRPAT', \n",
    "                                 'CollierD_18G_Lt. Governor':'G18LTGDCOL',\n",
    "                                 'McKennonL_18G_Lt. Governor':'G18LTGLMCK', \n",
    "                                 'CraddickR_18G_RR Comm 1':'G18RRCRCRA',\n",
    "                                 'McAllenD_18G_RR Comm 1':'G18RRCDMCA', \n",
    "                                 'WrightL_18G_RR Comm 1':'G18RRCLWRI',\n",
    "                                 'BlacklockR_18G_Sup Ct 2':'G18SSCRBLA', \n",
    "                                 'KirklandD_18G_Sup Ct 2':'G18SSCDKIR',\n",
    "                                 'DevineR_18G_Sup Ct 4':'G18SSCRDEV', \n",
    "                                 'SandillD_18G_Sup Ct 4':'G18SSCDSAN', \n",
    "                                 'BrownR_18G_Sup Ct 6':'G18SSCRBRO',\n",
    "                                 'ChengD_18G_Sup Ct 6':'G18SSCDCHE', \n",
    "                                 'CruzR_18G_U.S. Sen':'G18USSRCRU', \n",
    "                                 \"O'RourkeD_18G_U.S. Sen\":'G18USSDORO',\n",
    "                                 'DikemanL_18G_U.S. Sen':'G18USSLDIK'})\n",
    "\n",
    "# Reorder the columns to match VEST\n",
    "tx_18 = tx_18[['CNTYVTD', 'VTDKEY',\n",
    "       'G18USSRCRU', 'G18USSDORO', 'G18USSLDIK', 'G18GOVRABB', 'G18GOVDVAL',\n",
    "       'G18GOVLTIP', 'G18LTGRPAT', 'G18LTGDCOL', 'G18LTGLMCK', 'G18ATGRPAX',\n",
    "       'G18ATGDNEL', 'G18ATGLHAR', 'G18COMRHEG', 'G18COMDCHE', 'G18COMLSAN',\n",
    "       'G18LANRBUS', 'G18LANDSUA', 'G18LANLPIN', 'G18AGRRMIL', 'G18AGRDOLS',\n",
    "       'G18AGRLCAR', 'G18RRCRCRA', 'G18RRCDMCA', 'G18RRCLWRI', 'G18SSCRBLA',\n",
    "       'G18SSCDKIR', 'G18SSCRDEV', 'G18SSCDSAN', 'G18SSCRBRO', 'G18SSCDCHE',\n",
    "       'G18SCCRKEL', 'G18SCCDJAC', 'G18SCCLSTR', 'G18SCCRHER', 'G18SCCDFRA',\n",
    "       'G18SCCRSLA', 'G18SCCLASH']]"
   ]
  },
  {
   "cell_type": "code",
   "execution_count": 14,
   "id": "5b73fbd6",
   "metadata": {},
   "outputs": [],
   "source": [
    "# Extract first three digits of CNTYVTD column and create a new column that shows the county information\n",
    "tx_18['CNTY'] = tx_18['CNTYVTD'].str[:3]"
   ]
  },
  {
   "cell_type": "markdown",
   "id": "37076450",
   "metadata": {},
   "source": [
    "## Secretary of State\n",
    "According to VEST documentation, precinct results for the following counties were replaced in whole or in part with county source files or with precinct data provided via the Secretary of State: Atascosa, Bexar, Blanco, Borden, Bowie, Brewster, Brown, Carson, Cherokee, Cochran, Comanche, Cooke, Culberson, Duval, Fort Bend, Gillespie, Hartley, Haskell, Hays, Hood, Jefferson, Jim Hogg, Johnson, Lamar, Matagorda, Midland, Nolan, Ochiltree, Robertson, Rockwall, Rusk, Starr, Terrell, Tyler.\n",
    "\n",
    "The election results from Texas Legislative have been replaced with the election results from Texas Secretary of State for those counties. "
   ]
  },
  {
   "cell_type": "code",
   "execution_count": 15,
   "id": "9bf4fda0",
   "metadata": {},
   "outputs": [],
   "source": [
    "# Read all csv files in Secretary of State folder (county)\n",
    "# Tried to validate county level results prior to receiving precinct level data\n",
    "all_files2 = glob.glob(\"./raw-from-source/SOS/county-data/*.csv\")\n",
    "# Concatenate all files\n",
    "df = pd.concat((pd.read_csv(f, header = 0) for f in all_files2), axis = 1)\n",
    "\n",
    "# Rename df as txsos_18\n",
    "txsos_18 = df.loc[:,~df.columns.duplicated()]"
   ]
  },
  {
   "cell_type": "code",
   "execution_count": 16,
   "id": "f005040e",
   "metadata": {},
   "outputs": [],
   "source": [
    "# Rename the columns to match VEST\n",
    "txsos_18 = txsos_18.rename(columns = {'Sid Miller':'G18AGRRMIL', \n",
    "                                   'Kim Olson':'G18AGRDOLS', \n",
    "                                   'Richard Carpenter':'G18AGRLCAR', \n",
    "                                   'Ken Paxton':'G18ATGRPAX',\n",
    "                                   'Justin Nelson':'G18ATGDNEL', \n",
    "                                   'Michael Ray Harris':'G18ATGLHAR', \n",
    "                                   'Glenn Hegar':'G18COMRHEG', \n",
    "                                   'Joi Chevalier':'G18COMDCHE',\n",
    "                                   'Ben Sanders':'G18COMLSAN',\n",
    "                                   'Greg Abbott':'G18GOVRABB',\n",
    "                                   'Lupe Valdez':'G18GOVDVAL', \n",
    "                                   'Mark Jay Tippetts':'G18GOVLTIP',\n",
    "                                   'George P. Bush':'G18LANRBUS', \n",
    "                                   'Miguel Suazo':'G18LANDSUA', \n",
    "                                   'Matt Pina':'G18LANLPIN', \n",
    "                                   'Dan Patrick':'G18LTGRPAT',\n",
    "                                   'Mike Collier':'G18LTGDCOL', \n",
    "                                   'Kerry Douglas McKennon':'G18LTGLMCK',\n",
    "                                   'Christi Craddick':'G18RRCRCRA',\n",
    "                                   'Roman McAllen':'G18RRCDMCA', \n",
    "                                   'Mike Wright':'G18RRCLWRI', \n",
    "                                   'Jimmy Blacklock':'G18SSCRBLA', \n",
    "                                   'Steven Kirkland':'G18SSCDKIR',\n",
    "                                   'John Devine':'G18SSCRDEV',\n",
    "                                   'R.K. Sandill':'G18SSCDSAN',\n",
    "                                   'Jeff Brown':'G18SSCRBRO',\n",
    "                                   'Kathy Cheng':'G18SSCDCHE',\n",
    "                                   'Sharon Keller':'G18SCCRKEL', \n",
    "                                   'Maria T. (Terri) Jackson':'G18SCCDJAC',\n",
    "                                   'William Bryan Strange III':'G18SCCLSTR', \n",
    "                                   'Barbara Parker Hervey':'G18SCCRHER', \n",
    "                                   'Ramona Franklin':'G18SCCDFRA',\n",
    "                                   'Michelle Slaughter':'G18SCCRSLA', \n",
    "                                   'Mark Ash':'G18SCCLASH', \n",
    "                                   'Ted Cruz':'G18USSRCRU', \n",
    "                                   \"Beto O'Rourke\":'G18USSDORO',\n",
    "                                   'Neal M. Dikeman':'G18USSLDIK'})\n",
    "\n",
    "# Reorder the columns to match VEST\n",
    "txsos_18 = txsos_18[['County',\n",
    "       'G18USSRCRU', 'G18USSDORO', 'G18USSLDIK', 'G18GOVRABB', 'G18GOVDVAL',\n",
    "       'G18GOVLTIP', 'G18LTGRPAT', 'G18LTGDCOL', 'G18LTGLMCK', 'G18ATGRPAX',\n",
    "       'G18ATGDNEL', 'G18ATGLHAR', 'G18COMRHEG', 'G18COMDCHE', 'G18COMLSAN',\n",
    "       'G18LANRBUS', 'G18LANDSUA', 'G18LANLPIN', 'G18AGRRMIL', 'G18AGRDOLS',\n",
    "       'G18AGRLCAR', 'G18RRCRCRA', 'G18RRCDMCA', 'G18RRCLWRI', 'G18SSCRBLA',\n",
    "       'G18SSCDKIR', 'G18SSCRDEV', 'G18SSCDSAN', 'G18SSCRBRO', 'G18SSCDCHE',\n",
    "       'G18SCCRKEL', 'G18SCCDJAC', 'G18SCCLSTR', 'G18SCCRHER', 'G18SCCDFRA',\n",
    "       'G18SCCRSLA', 'G18SCCLASH']]"
   ]
  },
  {
   "cell_type": "code",
   "execution_count": 17,
   "id": "7a85241d",
   "metadata": {},
   "outputs": [],
   "source": [
    "county_col = txsos_18['County']"
   ]
  },
  {
   "cell_type": "code",
   "execution_count": 18,
   "id": "5429fb11",
   "metadata": {},
   "outputs": [],
   "source": [
    "# Change county names form to match TLC election results files\n",
    "txsos_18['County'] = txsos_18['County'].str.lower()\n",
    "txsos_18['County'] = txsos_18['County'].str.capitalize()"
   ]
  },
  {
   "cell_type": "markdown",
   "id": "745d5816",
   "metadata": {},
   "source": [
    "### Use FIPS File to create a County Name Column"
   ]
  },
  {
   "cell_type": "code",
   "execution_count": 19,
   "id": "93a9f5f6",
   "metadata": {},
   "outputs": [],
   "source": [
    "#Load in the nationwide FIPS file\n",
    "fips_file = pd.read_csv(\"./raw-from-source/FIPS/US_FIPS_Codes.csv\")\n",
    "fips_file = fips_file[fips_file[\"State\"]==\"Texas\"]\n",
    "fips_file[\"FIPS County\"]=fips_file[\"FIPS County\"].astype(str)\n",
    "\n",
    "#Make the FIPS three digits\n",
    "fips_file[\"FIPS County\"]=fips_file[\"FIPS County\"].str.zfill(3)\n",
    "\n",
    "#Create the dictionary\n",
    "tx_fips_dict = dict(zip(fips_file[\"FIPS County\"],fips_file[\"County Name\"]))\n",
    "tx_fips_dict2 = dict(zip(fips_file[\"County Name\"],fips_file[\"FIPS County\"]))\n",
    "\n",
    "#Use the dictionary to go from a county FIPS to a county name\n",
    "tx_18[\"CNTY_NAME\"] = tx_18[\"CNTY\"].map(tx_fips_dict).fillna(tx_18[\"CNTY\"])\n",
    "txsos_18[\"CNTY\"] = txsos_18[\"County\"].map(tx_fips_dict2).fillna(txsos_18[\"County\"])\n",
    "vest_shp[\"CNTY_NAME\"] = vest_shp[\"CNTY\"].map(tx_fips_dict).fillna(vest_shp[\"CNTY\"])"
   ]
  },
  {
   "cell_type": "code",
   "execution_count": 20,
   "id": "4a01071b",
   "metadata": {},
   "outputs": [],
   "source": [
    "txsos_18.rename(columns = {'County':'CNTY_NAME'}, inplace = True)"
   ]
  },
  {
   "cell_type": "markdown",
   "id": "d5272dfc",
   "metadata": {},
   "source": [
    "### Counties precinct results for the following counties were replaced in whole or in part with county source files or with precinct data provided via the Secretary of State"
   ]
  },
  {
   "cell_type": "code",
   "execution_count": 21,
   "id": "a87b2e50",
   "metadata": {},
   "outputs": [],
   "source": [
    "sos_counties = ['Atascosa', 'Bexar', 'Blanco', 'Borden', 'Bowie', 'Brewster', 'Brown', 'Carson', 'Cherokee', 'Cochran', 'Comanche', 'Cooke', 'Culberson', 'Duval', 'Fort Bend', 'Gillespie', 'Hartley', 'Haskell', 'Hays', 'Hood', 'Jefferson', 'Jim Hogg', 'Johnson', 'Lamar', 'Matagorda', 'Midland', 'Nolan', 'Ochiltree', 'Robertson', 'Rockwall', 'Rusk', 'Starr', 'Terrell', 'Tyler']"
   ]
  },
  {
   "cell_type": "code",
   "execution_count": 22,
   "id": "30861991",
   "metadata": {},
   "outputs": [],
   "source": [
    "tx_18 = tx_18[~tx_18['CNTY_NAME'].isin(sos_counties)]"
   ]
  },
  {
   "cell_type": "code",
   "execution_count": 23,
   "id": "66e6ba39",
   "metadata": {},
   "outputs": [],
   "source": [
    "txsos_ctny = txsos_18[txsos_18['CNTY_NAME'].str.contains('|'.join(sos_counties))]"
   ]
  },
  {
   "cell_type": "code",
   "execution_count": 24,
   "id": "8ab72dcf",
   "metadata": {},
   "outputs": [],
   "source": [
    "tx_18 = tx_18.append(txsos_ctny)"
   ]
  },
  {
   "cell_type": "code",
   "execution_count": 25,
   "id": "3e4ff3c6",
   "metadata": {},
   "outputs": [],
   "source": [
    "# Test dataframe\n",
    "tx_2018 = tx_18"
   ]
  },
  {
   "cell_type": "code",
   "execution_count": 26,
   "id": "3d7413b5",
   "metadata": {},
   "outputs": [],
   "source": [
    "tx_2018 = tx_2018.drop(labels = ['CNTYVTD','VTDKEY'],axis = 1)"
   ]
  },
  {
   "cell_type": "code",
   "execution_count": 27,
   "id": "a7903b06",
   "metadata": {},
   "outputs": [],
   "source": [
    "tx_2018.reset_index(drop=True,inplace=True)"
   ]
  },
  {
   "cell_type": "code",
   "execution_count": 28,
   "id": "2cb9954e",
   "metadata": {},
   "outputs": [],
   "source": [
    "data_columns = ['G18USSRCRU', 'G18USSDORO', 'G18USSLDIK', 'G18GOVRABB', 'G18GOVDVAL',\n",
    "       'G18GOVLTIP', 'G18LTGRPAT', 'G18LTGDCOL', 'G18LTGLMCK', 'G18ATGRPAX',\n",
    "       'G18ATGDNEL', 'G18ATGLHAR', 'G18COMRHEG', 'G18COMDCHE', 'G18COMLSAN',\n",
    "       'G18LANRBUS', 'G18LANDSUA', 'G18LANLPIN', 'G18AGRRMIL', 'G18AGRDOLS',\n",
    "       'G18AGRLCAR', 'G18RRCRCRA', 'G18RRCDMCA', 'G18RRCLWRI', 'G18SSCRBLA',\n",
    "       'G18SSCDKIR', 'G18SSCRDEV', 'G18SSCDSAN', 'G18SSCRBRO', 'G18SSCDCHE',\n",
    "       'G18SCCRKEL', 'G18SCCDJAC', 'G18SCCLSTR', 'G18SCCRHER', 'G18SCCDFRA',\n",
    "       'G18SCCRSLA', 'G18SCCLASH']"
   ]
  },
  {
   "cell_type": "code",
   "execution_count": 29,
   "id": "3f17c1a0",
   "metadata": {},
   "outputs": [],
   "source": [
    "tx_2018[data_columns] = tx_2018[data_columns].apply(pd.to_numeric, errors = 'coerce', axis = 1)"
   ]
  },
  {
   "cell_type": "code",
   "execution_count": 30,
   "id": "9d597d58",
   "metadata": {},
   "outputs": [
    {
     "ename": "IntCastingNaNError",
     "evalue": "Cannot convert non-finite values (NA or inf) to integer",
     "output_type": "error",
     "traceback": [
      "\u001b[1;31m---------------------------------------------------------------------------\u001b[0m",
      "\u001b[1;31mIntCastingNaNError\u001b[0m                        Traceback (most recent call last)",
      "\u001b[1;32m~\\AppData\\Local\\Temp/ipykernel_25352/3801098250.py\u001b[0m in \u001b[0;36m<module>\u001b[1;34m\u001b[0m\n\u001b[0;32m      1\u001b[0m \u001b[1;31m# After running the county-level data, found out there are non-integer values\u001b[0m\u001b[1;33m\u001b[0m\u001b[1;33m\u001b[0m\u001b[1;33m\u001b[0m\u001b[0m\n\u001b[0;32m      2\u001b[0m \u001b[1;31m# Have to fix concatenation before proceeding. Election results did not join right.\u001b[0m\u001b[1;33m\u001b[0m\u001b[1;33m\u001b[0m\u001b[1;33m\u001b[0m\u001b[0m\n\u001b[1;32m----> 3\u001b[1;33m \u001b[0mtx_2018\u001b[0m\u001b[1;33m[\u001b[0m\u001b[0mdata_columns\u001b[0m\u001b[1;33m]\u001b[0m \u001b[1;33m=\u001b[0m \u001b[0mtx_2018\u001b[0m\u001b[1;33m[\u001b[0m\u001b[0mdata_columns\u001b[0m\u001b[1;33m]\u001b[0m\u001b[1;33m.\u001b[0m\u001b[0mreplace\u001b[0m\u001b[1;33m(\u001b[0m\u001b[1;34m','\u001b[0m\u001b[1;33m,\u001b[0m\u001b[1;34m''\u001b[0m\u001b[1;33m,\u001b[0m\u001b[0mregex\u001b[0m \u001b[1;33m=\u001b[0m \u001b[1;32mTrue\u001b[0m\u001b[1;33m)\u001b[0m\u001b[1;33m.\u001b[0m\u001b[0mastype\u001b[0m\u001b[1;33m(\u001b[0m\u001b[1;34m'int64'\u001b[0m\u001b[1;33m)\u001b[0m\u001b[1;33m\u001b[0m\u001b[1;33m\u001b[0m\u001b[0m\n\u001b[0m",
      "\u001b[1;32m~\\anaconda3\\envs\\geopandas\\lib\\site-packages\\pandas\\core\\generic.py\u001b[0m in \u001b[0;36mastype\u001b[1;34m(self, dtype, copy, errors)\u001b[0m\n\u001b[0;32m   5804\u001b[0m         \u001b[1;32melse\u001b[0m\u001b[1;33m:\u001b[0m\u001b[1;33m\u001b[0m\u001b[1;33m\u001b[0m\u001b[0m\n\u001b[0;32m   5805\u001b[0m             \u001b[1;31m# else, only a single dtype is given\u001b[0m\u001b[1;33m\u001b[0m\u001b[1;33m\u001b[0m\u001b[1;33m\u001b[0m\u001b[0m\n\u001b[1;32m-> 5806\u001b[1;33m             \u001b[0mnew_data\u001b[0m \u001b[1;33m=\u001b[0m \u001b[0mself\u001b[0m\u001b[1;33m.\u001b[0m\u001b[0m_mgr\u001b[0m\u001b[1;33m.\u001b[0m\u001b[0mastype\u001b[0m\u001b[1;33m(\u001b[0m\u001b[0mdtype\u001b[0m\u001b[1;33m=\u001b[0m\u001b[0mdtype\u001b[0m\u001b[1;33m,\u001b[0m \u001b[0mcopy\u001b[0m\u001b[1;33m=\u001b[0m\u001b[0mcopy\u001b[0m\u001b[1;33m,\u001b[0m \u001b[0merrors\u001b[0m\u001b[1;33m=\u001b[0m\u001b[0merrors\u001b[0m\u001b[1;33m)\u001b[0m\u001b[1;33m\u001b[0m\u001b[1;33m\u001b[0m\u001b[0m\n\u001b[0m\u001b[0;32m   5807\u001b[0m             \u001b[1;32mreturn\u001b[0m \u001b[0mself\u001b[0m\u001b[1;33m.\u001b[0m\u001b[0m_constructor\u001b[0m\u001b[1;33m(\u001b[0m\u001b[0mnew_data\u001b[0m\u001b[1;33m)\u001b[0m\u001b[1;33m.\u001b[0m\u001b[0m__finalize__\u001b[0m\u001b[1;33m(\u001b[0m\u001b[0mself\u001b[0m\u001b[1;33m,\u001b[0m \u001b[0mmethod\u001b[0m\u001b[1;33m=\u001b[0m\u001b[1;34m\"astype\"\u001b[0m\u001b[1;33m)\u001b[0m\u001b[1;33m\u001b[0m\u001b[1;33m\u001b[0m\u001b[0m\n\u001b[0;32m   5808\u001b[0m \u001b[1;33m\u001b[0m\u001b[0m\n",
      "\u001b[1;32m~\\anaconda3\\envs\\geopandas\\lib\\site-packages\\pandas\\core\\internals\\managers.py\u001b[0m in \u001b[0;36mastype\u001b[1;34m(self, dtype, copy, errors)\u001b[0m\n\u001b[0;32m    412\u001b[0m \u001b[1;33m\u001b[0m\u001b[0m\n\u001b[0;32m    413\u001b[0m     \u001b[1;32mdef\u001b[0m \u001b[0mastype\u001b[0m\u001b[1;33m(\u001b[0m\u001b[0mself\u001b[0m\u001b[1;33m:\u001b[0m \u001b[0mT\u001b[0m\u001b[1;33m,\u001b[0m \u001b[0mdtype\u001b[0m\u001b[1;33m,\u001b[0m \u001b[0mcopy\u001b[0m\u001b[1;33m:\u001b[0m \u001b[0mbool\u001b[0m \u001b[1;33m=\u001b[0m \u001b[1;32mFalse\u001b[0m\u001b[1;33m,\u001b[0m \u001b[0merrors\u001b[0m\u001b[1;33m:\u001b[0m \u001b[0mstr\u001b[0m \u001b[1;33m=\u001b[0m \u001b[1;34m\"raise\"\u001b[0m\u001b[1;33m)\u001b[0m \u001b[1;33m->\u001b[0m \u001b[0mT\u001b[0m\u001b[1;33m:\u001b[0m\u001b[1;33m\u001b[0m\u001b[1;33m\u001b[0m\u001b[0m\n\u001b[1;32m--> 414\u001b[1;33m         \u001b[1;32mreturn\u001b[0m \u001b[0mself\u001b[0m\u001b[1;33m.\u001b[0m\u001b[0mapply\u001b[0m\u001b[1;33m(\u001b[0m\u001b[1;34m\"astype\"\u001b[0m\u001b[1;33m,\u001b[0m \u001b[0mdtype\u001b[0m\u001b[1;33m=\u001b[0m\u001b[0mdtype\u001b[0m\u001b[1;33m,\u001b[0m \u001b[0mcopy\u001b[0m\u001b[1;33m=\u001b[0m\u001b[0mcopy\u001b[0m\u001b[1;33m,\u001b[0m \u001b[0merrors\u001b[0m\u001b[1;33m=\u001b[0m\u001b[0merrors\u001b[0m\u001b[1;33m)\u001b[0m\u001b[1;33m\u001b[0m\u001b[1;33m\u001b[0m\u001b[0m\n\u001b[0m\u001b[0;32m    415\u001b[0m \u001b[1;33m\u001b[0m\u001b[0m\n\u001b[0;32m    416\u001b[0m     def convert(\n",
      "\u001b[1;32m~\\anaconda3\\envs\\geopandas\\lib\\site-packages\\pandas\\core\\internals\\managers.py\u001b[0m in \u001b[0;36mapply\u001b[1;34m(self, f, align_keys, ignore_failures, **kwargs)\u001b[0m\n\u001b[0;32m    325\u001b[0m                     \u001b[0mapplied\u001b[0m \u001b[1;33m=\u001b[0m \u001b[0mb\u001b[0m\u001b[1;33m.\u001b[0m\u001b[0mapply\u001b[0m\u001b[1;33m(\u001b[0m\u001b[0mf\u001b[0m\u001b[1;33m,\u001b[0m \u001b[1;33m**\u001b[0m\u001b[0mkwargs\u001b[0m\u001b[1;33m)\u001b[0m\u001b[1;33m\u001b[0m\u001b[1;33m\u001b[0m\u001b[0m\n\u001b[0;32m    326\u001b[0m                 \u001b[1;32melse\u001b[0m\u001b[1;33m:\u001b[0m\u001b[1;33m\u001b[0m\u001b[1;33m\u001b[0m\u001b[0m\n\u001b[1;32m--> 327\u001b[1;33m                     \u001b[0mapplied\u001b[0m \u001b[1;33m=\u001b[0m \u001b[0mgetattr\u001b[0m\u001b[1;33m(\u001b[0m\u001b[0mb\u001b[0m\u001b[1;33m,\u001b[0m \u001b[0mf\u001b[0m\u001b[1;33m)\u001b[0m\u001b[1;33m(\u001b[0m\u001b[1;33m**\u001b[0m\u001b[0mkwargs\u001b[0m\u001b[1;33m)\u001b[0m\u001b[1;33m\u001b[0m\u001b[1;33m\u001b[0m\u001b[0m\n\u001b[0m\u001b[0;32m    328\u001b[0m             \u001b[1;32mexcept\u001b[0m \u001b[1;33m(\u001b[0m\u001b[0mTypeError\u001b[0m\u001b[1;33m,\u001b[0m \u001b[0mNotImplementedError\u001b[0m\u001b[1;33m)\u001b[0m\u001b[1;33m:\u001b[0m\u001b[1;33m\u001b[0m\u001b[1;33m\u001b[0m\u001b[0m\n\u001b[0;32m    329\u001b[0m                 \u001b[1;32mif\u001b[0m \u001b[1;32mnot\u001b[0m \u001b[0mignore_failures\u001b[0m\u001b[1;33m:\u001b[0m\u001b[1;33m\u001b[0m\u001b[1;33m\u001b[0m\u001b[0m\n",
      "\u001b[1;32m~\\anaconda3\\envs\\geopandas\\lib\\site-packages\\pandas\\core\\internals\\blocks.py\u001b[0m in \u001b[0;36mastype\u001b[1;34m(self, dtype, copy, errors)\u001b[0m\n\u001b[0;32m    590\u001b[0m         \u001b[0mvalues\u001b[0m \u001b[1;33m=\u001b[0m \u001b[0mself\u001b[0m\u001b[1;33m.\u001b[0m\u001b[0mvalues\u001b[0m\u001b[1;33m\u001b[0m\u001b[1;33m\u001b[0m\u001b[0m\n\u001b[0;32m    591\u001b[0m \u001b[1;33m\u001b[0m\u001b[0m\n\u001b[1;32m--> 592\u001b[1;33m         \u001b[0mnew_values\u001b[0m \u001b[1;33m=\u001b[0m \u001b[0mastype_array_safe\u001b[0m\u001b[1;33m(\u001b[0m\u001b[0mvalues\u001b[0m\u001b[1;33m,\u001b[0m \u001b[0mdtype\u001b[0m\u001b[1;33m,\u001b[0m \u001b[0mcopy\u001b[0m\u001b[1;33m=\u001b[0m\u001b[0mcopy\u001b[0m\u001b[1;33m,\u001b[0m \u001b[0merrors\u001b[0m\u001b[1;33m=\u001b[0m\u001b[0merrors\u001b[0m\u001b[1;33m)\u001b[0m\u001b[1;33m\u001b[0m\u001b[1;33m\u001b[0m\u001b[0m\n\u001b[0m\u001b[0;32m    593\u001b[0m \u001b[1;33m\u001b[0m\u001b[0m\n\u001b[0;32m    594\u001b[0m         \u001b[0mnew_values\u001b[0m \u001b[1;33m=\u001b[0m \u001b[0mmaybe_coerce_values\u001b[0m\u001b[1;33m(\u001b[0m\u001b[0mnew_values\u001b[0m\u001b[1;33m)\u001b[0m\u001b[1;33m\u001b[0m\u001b[1;33m\u001b[0m\u001b[0m\n",
      "\u001b[1;32m~\\anaconda3\\envs\\geopandas\\lib\\site-packages\\pandas\\core\\dtypes\\cast.py\u001b[0m in \u001b[0;36mastype_array_safe\u001b[1;34m(values, dtype, copy, errors)\u001b[0m\n\u001b[0;32m   1298\u001b[0m \u001b[1;33m\u001b[0m\u001b[0m\n\u001b[0;32m   1299\u001b[0m     \u001b[1;32mtry\u001b[0m\u001b[1;33m:\u001b[0m\u001b[1;33m\u001b[0m\u001b[1;33m\u001b[0m\u001b[0m\n\u001b[1;32m-> 1300\u001b[1;33m         \u001b[0mnew_values\u001b[0m \u001b[1;33m=\u001b[0m \u001b[0mastype_array\u001b[0m\u001b[1;33m(\u001b[0m\u001b[0mvalues\u001b[0m\u001b[1;33m,\u001b[0m \u001b[0mdtype\u001b[0m\u001b[1;33m,\u001b[0m \u001b[0mcopy\u001b[0m\u001b[1;33m=\u001b[0m\u001b[0mcopy\u001b[0m\u001b[1;33m)\u001b[0m\u001b[1;33m\u001b[0m\u001b[1;33m\u001b[0m\u001b[0m\n\u001b[0m\u001b[0;32m   1301\u001b[0m     \u001b[1;32mexcept\u001b[0m \u001b[1;33m(\u001b[0m\u001b[0mValueError\u001b[0m\u001b[1;33m,\u001b[0m \u001b[0mTypeError\u001b[0m\u001b[1;33m)\u001b[0m\u001b[1;33m:\u001b[0m\u001b[1;33m\u001b[0m\u001b[1;33m\u001b[0m\u001b[0m\n\u001b[0;32m   1302\u001b[0m         \u001b[1;31m# e.g. astype_nansafe can fail on object-dtype of strings\u001b[0m\u001b[1;33m\u001b[0m\u001b[1;33m\u001b[0m\u001b[1;33m\u001b[0m\u001b[0m\n",
      "\u001b[1;32m~\\anaconda3\\envs\\geopandas\\lib\\site-packages\\pandas\\core\\dtypes\\cast.py\u001b[0m in \u001b[0;36mastype_array\u001b[1;34m(values, dtype, copy)\u001b[0m\n\u001b[0;32m   1246\u001b[0m \u001b[1;33m\u001b[0m\u001b[0m\n\u001b[0;32m   1247\u001b[0m     \u001b[1;32melse\u001b[0m\u001b[1;33m:\u001b[0m\u001b[1;33m\u001b[0m\u001b[1;33m\u001b[0m\u001b[0m\n\u001b[1;32m-> 1248\u001b[1;33m         \u001b[0mvalues\u001b[0m \u001b[1;33m=\u001b[0m \u001b[0mastype_nansafe\u001b[0m\u001b[1;33m(\u001b[0m\u001b[0mvalues\u001b[0m\u001b[1;33m,\u001b[0m \u001b[0mdtype\u001b[0m\u001b[1;33m,\u001b[0m \u001b[0mcopy\u001b[0m\u001b[1;33m=\u001b[0m\u001b[0mcopy\u001b[0m\u001b[1;33m)\u001b[0m\u001b[1;33m\u001b[0m\u001b[1;33m\u001b[0m\u001b[0m\n\u001b[0m\u001b[0;32m   1249\u001b[0m \u001b[1;33m\u001b[0m\u001b[0m\n\u001b[0;32m   1250\u001b[0m     \u001b[1;31m# in pandas we don't store numpy str dtypes, so convert to object\u001b[0m\u001b[1;33m\u001b[0m\u001b[1;33m\u001b[0m\u001b[1;33m\u001b[0m\u001b[0m\n",
      "\u001b[1;32m~\\anaconda3\\envs\\geopandas\\lib\\site-packages\\pandas\\core\\dtypes\\cast.py\u001b[0m in \u001b[0;36mastype_nansafe\u001b[1;34m(arr, dtype, copy, skipna)\u001b[0m\n\u001b[0;32m   1083\u001b[0m         \u001b[0mflags\u001b[0m \u001b[1;33m=\u001b[0m \u001b[0marr\u001b[0m\u001b[1;33m.\u001b[0m\u001b[0mflags\u001b[0m\u001b[1;33m\u001b[0m\u001b[1;33m\u001b[0m\u001b[0m\n\u001b[0;32m   1084\u001b[0m         \u001b[0mflat\u001b[0m \u001b[1;33m=\u001b[0m \u001b[0marr\u001b[0m\u001b[1;33m.\u001b[0m\u001b[0mravel\u001b[0m\u001b[1;33m(\u001b[0m\u001b[1;34m\"K\"\u001b[0m\u001b[1;33m)\u001b[0m\u001b[1;33m\u001b[0m\u001b[1;33m\u001b[0m\u001b[0m\n\u001b[1;32m-> 1085\u001b[1;33m         \u001b[0mresult\u001b[0m \u001b[1;33m=\u001b[0m \u001b[0mastype_nansafe\u001b[0m\u001b[1;33m(\u001b[0m\u001b[0mflat\u001b[0m\u001b[1;33m,\u001b[0m \u001b[0mdtype\u001b[0m\u001b[1;33m,\u001b[0m \u001b[0mcopy\u001b[0m\u001b[1;33m=\u001b[0m\u001b[0mcopy\u001b[0m\u001b[1;33m,\u001b[0m \u001b[0mskipna\u001b[0m\u001b[1;33m=\u001b[0m\u001b[0mskipna\u001b[0m\u001b[1;33m)\u001b[0m\u001b[1;33m\u001b[0m\u001b[1;33m\u001b[0m\u001b[0m\n\u001b[0m\u001b[0;32m   1086\u001b[0m         \u001b[0morder\u001b[0m\u001b[1;33m:\u001b[0m \u001b[0mLiteral\u001b[0m\u001b[1;33m[\u001b[0m\u001b[1;34m\"C\"\u001b[0m\u001b[1;33m,\u001b[0m \u001b[1;34m\"F\"\u001b[0m\u001b[1;33m]\u001b[0m \u001b[1;33m=\u001b[0m \u001b[1;34m\"F\"\u001b[0m \u001b[1;32mif\u001b[0m \u001b[0mflags\u001b[0m\u001b[1;33m.\u001b[0m\u001b[0mf_contiguous\u001b[0m \u001b[1;32melse\u001b[0m \u001b[1;34m\"C\"\u001b[0m\u001b[1;33m\u001b[0m\u001b[1;33m\u001b[0m\u001b[0m\n\u001b[0;32m   1087\u001b[0m         \u001b[1;31m# error: Item \"ExtensionArray\" of \"Union[ExtensionArray, ndarray]\" has no\u001b[0m\u001b[1;33m\u001b[0m\u001b[1;33m\u001b[0m\u001b[1;33m\u001b[0m\u001b[0m\n",
      "\u001b[1;32m~\\anaconda3\\envs\\geopandas\\lib\\site-packages\\pandas\\core\\dtypes\\cast.py\u001b[0m in \u001b[0;36mastype_nansafe\u001b[1;34m(arr, dtype, copy, skipna)\u001b[0m\n\u001b[0;32m   1157\u001b[0m \u001b[1;33m\u001b[0m\u001b[0m\n\u001b[0;32m   1158\u001b[0m     \u001b[1;32melif\u001b[0m \u001b[0mnp\u001b[0m\u001b[1;33m.\u001b[0m\u001b[0missubdtype\u001b[0m\u001b[1;33m(\u001b[0m\u001b[0marr\u001b[0m\u001b[1;33m.\u001b[0m\u001b[0mdtype\u001b[0m\u001b[1;33m,\u001b[0m \u001b[0mnp\u001b[0m\u001b[1;33m.\u001b[0m\u001b[0mfloating\u001b[0m\u001b[1;33m)\u001b[0m \u001b[1;32mand\u001b[0m \u001b[0mnp\u001b[0m\u001b[1;33m.\u001b[0m\u001b[0missubdtype\u001b[0m\u001b[1;33m(\u001b[0m\u001b[0mdtype\u001b[0m\u001b[1;33m,\u001b[0m \u001b[0mnp\u001b[0m\u001b[1;33m.\u001b[0m\u001b[0minteger\u001b[0m\u001b[1;33m)\u001b[0m\u001b[1;33m:\u001b[0m\u001b[1;33m\u001b[0m\u001b[1;33m\u001b[0m\u001b[0m\n\u001b[1;32m-> 1159\u001b[1;33m         \u001b[1;32mreturn\u001b[0m \u001b[0mastype_float_to_int_nansafe\u001b[0m\u001b[1;33m(\u001b[0m\u001b[0marr\u001b[0m\u001b[1;33m,\u001b[0m \u001b[0mdtype\u001b[0m\u001b[1;33m,\u001b[0m \u001b[0mcopy\u001b[0m\u001b[1;33m)\u001b[0m\u001b[1;33m\u001b[0m\u001b[1;33m\u001b[0m\u001b[0m\n\u001b[0m\u001b[0;32m   1160\u001b[0m \u001b[1;33m\u001b[0m\u001b[0m\n\u001b[0;32m   1161\u001b[0m     \u001b[1;32melif\u001b[0m \u001b[0mis_object_dtype\u001b[0m\u001b[1;33m(\u001b[0m\u001b[0marr\u001b[0m\u001b[1;33m)\u001b[0m\u001b[1;33m:\u001b[0m\u001b[1;33m\u001b[0m\u001b[1;33m\u001b[0m\u001b[0m\n",
      "\u001b[1;32m~\\anaconda3\\envs\\geopandas\\lib\\site-packages\\pandas\\core\\dtypes\\cast.py\u001b[0m in \u001b[0;36mastype_float_to_int_nansafe\u001b[1;34m(values, dtype, copy)\u001b[0m\n\u001b[0;32m   1202\u001b[0m     \"\"\"\n\u001b[0;32m   1203\u001b[0m     \u001b[1;32mif\u001b[0m \u001b[1;32mnot\u001b[0m \u001b[0mnp\u001b[0m\u001b[1;33m.\u001b[0m\u001b[0misfinite\u001b[0m\u001b[1;33m(\u001b[0m\u001b[0mvalues\u001b[0m\u001b[1;33m)\u001b[0m\u001b[1;33m.\u001b[0m\u001b[0mall\u001b[0m\u001b[1;33m(\u001b[0m\u001b[1;33m)\u001b[0m\u001b[1;33m:\u001b[0m\u001b[1;33m\u001b[0m\u001b[1;33m\u001b[0m\u001b[0m\n\u001b[1;32m-> 1204\u001b[1;33m         raise IntCastingNaNError(\n\u001b[0m\u001b[0;32m   1205\u001b[0m             \u001b[1;34m\"Cannot convert non-finite values (NA or inf) to integer\"\u001b[0m\u001b[1;33m\u001b[0m\u001b[1;33m\u001b[0m\u001b[0m\n\u001b[0;32m   1206\u001b[0m         )\n",
      "\u001b[1;31mIntCastingNaNError\u001b[0m: Cannot convert non-finite values (NA or inf) to integer"
     ]
    }
   ],
   "source": [
    "# After running the county-level data, found out there are non-integer values\n",
    "# Have to fix concatenation before proceeding. Election results did not join right.\n",
    "tx_2018[data_columns] = tx_2018[data_columns].replace(',','',regex = True).astype('int64')"
   ]
  },
  {
   "cell_type": "code",
   "execution_count": 31,
   "id": "0095908b",
   "metadata": {},
   "outputs": [
    {
     "data": {
      "text/plain": [
       "G18USSRCRU    float64\n",
       "G18USSDORO    float64\n",
       "G18USSLDIK    float64\n",
       "G18GOVRABB    float64\n",
       "G18GOVDVAL    float64\n",
       "G18GOVLTIP    float64\n",
       "G18LTGRPAT    float64\n",
       "G18LTGDCOL    float64\n",
       "G18LTGLMCK    float64\n",
       "G18ATGRPAX    float64\n",
       "G18ATGDNEL    float64\n",
       "G18ATGLHAR    float64\n",
       "G18COMRHEG    float64\n",
       "G18COMDCHE    float64\n",
       "G18COMLSAN    float64\n",
       "G18LANRBUS    float64\n",
       "G18LANDSUA    float64\n",
       "G18LANLPIN    float64\n",
       "G18AGRRMIL    float64\n",
       "G18AGRDOLS    float64\n",
       "G18AGRLCAR    float64\n",
       "G18RRCRCRA    float64\n",
       "G18RRCDMCA    float64\n",
       "G18RRCLWRI    float64\n",
       "G18SSCRBLA    float64\n",
       "G18SSCDKIR    float64\n",
       "G18SSCRDEV    float64\n",
       "G18SSCDSAN    float64\n",
       "G18SSCRBRO    float64\n",
       "G18SSCDCHE    float64\n",
       "G18SCCRKEL    float64\n",
       "G18SCCDJAC    float64\n",
       "G18SCCLSTR    float64\n",
       "G18SCCRHER    float64\n",
       "G18SCCDFRA    float64\n",
       "G18SCCRSLA    float64\n",
       "G18SCCLASH    float64\n",
       "CNTY           object\n",
       "CNTY_NAME      object\n",
       "dtype: object"
      ]
     },
     "execution_count": 31,
     "metadata": {},
     "output_type": "execute_result"
    }
   ],
   "source": [
    "tx_2018.dtypes"
   ]
  },
  {
   "cell_type": "markdown",
   "id": "9f5e9786",
   "metadata": {},
   "source": [
    "# Validating Election Results"
   ]
  },
  {
   "cell_type": "markdown",
   "id": "7edd08da",
   "metadata": {},
   "source": [
    "## Statewide Candidate Totals"
   ]
  },
  {
   "cell_type": "code",
   "execution_count": 32,
   "id": "2435605d",
   "metadata": {},
   "outputs": [],
   "source": [
    "data_columns = ['G18USSRCRU', 'G18USSDORO', 'G18USSLDIK', 'G18GOVRABB', 'G18GOVDVAL',\n",
    "       'G18GOVLTIP', 'G18LTGRPAT', 'G18LTGDCOL', 'G18LTGLMCK', 'G18ATGRPAX',\n",
    "       'G18ATGDNEL', 'G18ATGLHAR', 'G18COMRHEG', 'G18COMDCHE', 'G18COMLSAN',\n",
    "       'G18LANRBUS', 'G18LANDSUA', 'G18LANLPIN', 'G18AGRRMIL', 'G18AGRDOLS',\n",
    "       'G18AGRLCAR', 'G18RRCRCRA', 'G18RRCDMCA', 'G18RRCLWRI', 'G18SSCRBLA',\n",
    "       'G18SSCDKIR', 'G18SSCRDEV', 'G18SSCDSAN', 'G18SSCRBRO', 'G18SSCDCHE',\n",
    "       'G18SCCRKEL', 'G18SCCDJAC', 'G18SCCLSTR', 'G18SCCRHER', 'G18SCCDFRA',\n",
    "       'G18SCCRSLA', 'G18SCCLASH']\n",
    "def statewide_totals_check(partner_df,source_df,column_list):\n",
    "    print(\"***Statewide Totals Check***\")\n",
    "    for race in column_list:\n",
    "        if (sum(partner_df[race])- source_df[race].sum() != 0):\n",
    "            print(race+\" has a difference of \"+str(sum(partner_df[race])-source_df[race].sum())+\" votes\")\n",
    "            print(\"\\tVEST: \"+str(sum(partner_df[race]))+\" votes\")\n",
    "            print(\"\\tSOURCES: \"+str(source_df[race].sum())+\" votes\")\n",
    "        else:\n",
    "            print(race + \" is equal\", \"\\tVEST / RDH: \" + str(sum(partner_df[race])))"
   ]
  },
  {
   "cell_type": "code",
   "execution_count": 33,
   "id": "bbb7a2ac",
   "metadata": {},
   "outputs": [
    {
     "name": "stdout",
     "output_type": "stream",
     "text": [
      "***Statewide Totals Check***\n"
     ]
    },
    {
     "ename": "TypeError",
     "evalue": "unsupported operand type(s) for +: 'int' and 'str'",
     "output_type": "error",
     "traceback": [
      "\u001b[1;31m---------------------------------------------------------------------------\u001b[0m",
      "\u001b[1;31mTypeError\u001b[0m                                 Traceback (most recent call last)",
      "\u001b[1;32m~\\AppData\\Local\\Temp/ipykernel_25352/19664314.py\u001b[0m in \u001b[0;36m<module>\u001b[1;34m\u001b[0m\n\u001b[1;32m----> 1\u001b[1;33m \u001b[0mstatewide_totals_check\u001b[0m\u001b[1;33m(\u001b[0m\u001b[0mvest_shp\u001b[0m\u001b[1;33m,\u001b[0m\u001b[0mtx_18\u001b[0m\u001b[1;33m,\u001b[0m\u001b[0mdata_columns\u001b[0m\u001b[1;33m)\u001b[0m\u001b[1;33m\u001b[0m\u001b[1;33m\u001b[0m\u001b[0m\n\u001b[0m",
      "\u001b[1;32m~\\AppData\\Local\\Temp/ipykernel_25352/2764312436.py\u001b[0m in \u001b[0;36mstatewide_totals_check\u001b[1;34m(partner_df, source_df, column_list)\u001b[0m\n\u001b[0;32m     10\u001b[0m     \u001b[0mprint\u001b[0m\u001b[1;33m(\u001b[0m\u001b[1;34m\"***Statewide Totals Check***\"\u001b[0m\u001b[1;33m)\u001b[0m\u001b[1;33m\u001b[0m\u001b[1;33m\u001b[0m\u001b[0m\n\u001b[0;32m     11\u001b[0m     \u001b[1;32mfor\u001b[0m \u001b[0mrace\u001b[0m \u001b[1;32min\u001b[0m \u001b[0mcolumn_list\u001b[0m\u001b[1;33m:\u001b[0m\u001b[1;33m\u001b[0m\u001b[1;33m\u001b[0m\u001b[0m\n\u001b[1;32m---> 12\u001b[1;33m         \u001b[1;32mif\u001b[0m \u001b[1;33m(\u001b[0m\u001b[0msum\u001b[0m\u001b[1;33m(\u001b[0m\u001b[0mpartner_df\u001b[0m\u001b[1;33m[\u001b[0m\u001b[0mrace\u001b[0m\u001b[1;33m]\u001b[0m\u001b[1;33m)\u001b[0m\u001b[1;33m-\u001b[0m \u001b[0msource_df\u001b[0m\u001b[1;33m[\u001b[0m\u001b[0mrace\u001b[0m\u001b[1;33m]\u001b[0m\u001b[1;33m.\u001b[0m\u001b[0msum\u001b[0m\u001b[1;33m(\u001b[0m\u001b[1;33m)\u001b[0m \u001b[1;33m!=\u001b[0m \u001b[1;36m0\u001b[0m\u001b[1;33m)\u001b[0m\u001b[1;33m:\u001b[0m\u001b[1;33m\u001b[0m\u001b[1;33m\u001b[0m\u001b[0m\n\u001b[0m\u001b[0;32m     13\u001b[0m             \u001b[0mprint\u001b[0m\u001b[1;33m(\u001b[0m\u001b[0mrace\u001b[0m\u001b[1;33m+\u001b[0m\u001b[1;34m\" has a difference of \"\u001b[0m\u001b[1;33m+\u001b[0m\u001b[0mstr\u001b[0m\u001b[1;33m(\u001b[0m\u001b[0msum\u001b[0m\u001b[1;33m(\u001b[0m\u001b[0mpartner_df\u001b[0m\u001b[1;33m[\u001b[0m\u001b[0mrace\u001b[0m\u001b[1;33m]\u001b[0m\u001b[1;33m)\u001b[0m\u001b[1;33m-\u001b[0m\u001b[0msource_df\u001b[0m\u001b[1;33m[\u001b[0m\u001b[0mrace\u001b[0m\u001b[1;33m]\u001b[0m\u001b[1;33m.\u001b[0m\u001b[0msum\u001b[0m\u001b[1;33m(\u001b[0m\u001b[1;33m)\u001b[0m\u001b[1;33m)\u001b[0m\u001b[1;33m+\u001b[0m\u001b[1;34m\" votes\"\u001b[0m\u001b[1;33m)\u001b[0m\u001b[1;33m\u001b[0m\u001b[1;33m\u001b[0m\u001b[0m\n\u001b[0;32m     14\u001b[0m             \u001b[0mprint\u001b[0m\u001b[1;33m(\u001b[0m\u001b[1;34m\"\\tVEST: \"\u001b[0m\u001b[1;33m+\u001b[0m\u001b[0mstr\u001b[0m\u001b[1;33m(\u001b[0m\u001b[0msum\u001b[0m\u001b[1;33m(\u001b[0m\u001b[0mpartner_df\u001b[0m\u001b[1;33m[\u001b[0m\u001b[0mrace\u001b[0m\u001b[1;33m]\u001b[0m\u001b[1;33m)\u001b[0m\u001b[1;33m)\u001b[0m\u001b[1;33m+\u001b[0m\u001b[1;34m\" votes\"\u001b[0m\u001b[1;33m)\u001b[0m\u001b[1;33m\u001b[0m\u001b[1;33m\u001b[0m\u001b[0m\n",
      "\u001b[1;32m~\\anaconda3\\envs\\geopandas\\lib\\site-packages\\pandas\\core\\generic.py\u001b[0m in \u001b[0;36msum\u001b[1;34m(self, axis, skipna, level, numeric_only, min_count, **kwargs)\u001b[0m\n\u001b[0;32m  10697\u001b[0m             \u001b[1;33m**\u001b[0m\u001b[0mkwargs\u001b[0m\u001b[1;33m,\u001b[0m\u001b[1;33m\u001b[0m\u001b[1;33m\u001b[0m\u001b[0m\n\u001b[0;32m  10698\u001b[0m         ):\n\u001b[1;32m> 10699\u001b[1;33m             return NDFrame.sum(\n\u001b[0m\u001b[0;32m  10700\u001b[0m                 \u001b[0mself\u001b[0m\u001b[1;33m,\u001b[0m \u001b[0maxis\u001b[0m\u001b[1;33m,\u001b[0m \u001b[0mskipna\u001b[0m\u001b[1;33m,\u001b[0m \u001b[0mlevel\u001b[0m\u001b[1;33m,\u001b[0m \u001b[0mnumeric_only\u001b[0m\u001b[1;33m,\u001b[0m \u001b[0mmin_count\u001b[0m\u001b[1;33m,\u001b[0m \u001b[1;33m**\u001b[0m\u001b[0mkwargs\u001b[0m\u001b[1;33m\u001b[0m\u001b[1;33m\u001b[0m\u001b[0m\n\u001b[0;32m  10701\u001b[0m             )\n",
      "\u001b[1;32m~\\anaconda3\\envs\\geopandas\\lib\\site-packages\\pandas\\core\\generic.py\u001b[0m in \u001b[0;36msum\u001b[1;34m(self, axis, skipna, level, numeric_only, min_count, **kwargs)\u001b[0m\n\u001b[0;32m  10435\u001b[0m         \u001b[1;33m**\u001b[0m\u001b[0mkwargs\u001b[0m\u001b[1;33m,\u001b[0m\u001b[1;33m\u001b[0m\u001b[1;33m\u001b[0m\u001b[0m\n\u001b[0;32m  10436\u001b[0m     ):\n\u001b[1;32m> 10437\u001b[1;33m         return self._min_count_stat_function(\n\u001b[0m\u001b[0;32m  10438\u001b[0m             \u001b[1;34m\"sum\"\u001b[0m\u001b[1;33m,\u001b[0m \u001b[0mnanops\u001b[0m\u001b[1;33m.\u001b[0m\u001b[0mnansum\u001b[0m\u001b[1;33m,\u001b[0m \u001b[0maxis\u001b[0m\u001b[1;33m,\u001b[0m \u001b[0mskipna\u001b[0m\u001b[1;33m,\u001b[0m \u001b[0mlevel\u001b[0m\u001b[1;33m,\u001b[0m \u001b[0mnumeric_only\u001b[0m\u001b[1;33m,\u001b[0m \u001b[0mmin_count\u001b[0m\u001b[1;33m,\u001b[0m \u001b[1;33m**\u001b[0m\u001b[0mkwargs\u001b[0m\u001b[1;33m\u001b[0m\u001b[1;33m\u001b[0m\u001b[0m\n\u001b[0;32m  10439\u001b[0m         )\n",
      "\u001b[1;32m~\\anaconda3\\envs\\geopandas\\lib\\site-packages\\pandas\\core\\generic.py\u001b[0m in \u001b[0;36m_min_count_stat_function\u001b[1;34m(self, name, func, axis, skipna, level, numeric_only, min_count, **kwargs)\u001b[0m\n\u001b[0;32m  10417\u001b[0m                 \u001b[0mnumeric_only\u001b[0m\u001b[1;33m=\u001b[0m\u001b[0mnumeric_only\u001b[0m\u001b[1;33m,\u001b[0m\u001b[1;33m\u001b[0m\u001b[1;33m\u001b[0m\u001b[0m\n\u001b[0;32m  10418\u001b[0m             )\n\u001b[1;32m> 10419\u001b[1;33m         return self._reduce(\n\u001b[0m\u001b[0;32m  10420\u001b[0m             \u001b[0mfunc\u001b[0m\u001b[1;33m,\u001b[0m\u001b[1;33m\u001b[0m\u001b[1;33m\u001b[0m\u001b[0m\n\u001b[0;32m  10421\u001b[0m             \u001b[0mname\u001b[0m\u001b[1;33m=\u001b[0m\u001b[0mname\u001b[0m\u001b[1;33m,\u001b[0m\u001b[1;33m\u001b[0m\u001b[1;33m\u001b[0m\u001b[0m\n",
      "\u001b[1;32m~\\anaconda3\\envs\\geopandas\\lib\\site-packages\\pandas\\core\\series.py\u001b[0m in \u001b[0;36m_reduce\u001b[1;34m(self, op, name, axis, skipna, numeric_only, filter_type, **kwds)\u001b[0m\n\u001b[0;32m   4389\u001b[0m                 )\n\u001b[0;32m   4390\u001b[0m             \u001b[1;32mwith\u001b[0m \u001b[0mnp\u001b[0m\u001b[1;33m.\u001b[0m\u001b[0merrstate\u001b[0m\u001b[1;33m(\u001b[0m\u001b[0mall\u001b[0m\u001b[1;33m=\u001b[0m\u001b[1;34m\"ignore\"\u001b[0m\u001b[1;33m)\u001b[0m\u001b[1;33m:\u001b[0m\u001b[1;33m\u001b[0m\u001b[1;33m\u001b[0m\u001b[0m\n\u001b[1;32m-> 4391\u001b[1;33m                 \u001b[1;32mreturn\u001b[0m \u001b[0mop\u001b[0m\u001b[1;33m(\u001b[0m\u001b[0mdelegate\u001b[0m\u001b[1;33m,\u001b[0m \u001b[0mskipna\u001b[0m\u001b[1;33m=\u001b[0m\u001b[0mskipna\u001b[0m\u001b[1;33m,\u001b[0m \u001b[1;33m**\u001b[0m\u001b[0mkwds\u001b[0m\u001b[1;33m)\u001b[0m\u001b[1;33m\u001b[0m\u001b[1;33m\u001b[0m\u001b[0m\n\u001b[0m\u001b[0;32m   4392\u001b[0m \u001b[1;33m\u001b[0m\u001b[0m\n\u001b[0;32m   4393\u001b[0m     def _reindex_indexer(\n",
      "\u001b[1;32m~\\anaconda3\\envs\\geopandas\\lib\\site-packages\\pandas\\core\\nanops.py\u001b[0m in \u001b[0;36m_f\u001b[1;34m(*args, **kwargs)\u001b[0m\n\u001b[0;32m     91\u001b[0m             \u001b[1;32mtry\u001b[0m\u001b[1;33m:\u001b[0m\u001b[1;33m\u001b[0m\u001b[1;33m\u001b[0m\u001b[0m\n\u001b[0;32m     92\u001b[0m                 \u001b[1;32mwith\u001b[0m \u001b[0mnp\u001b[0m\u001b[1;33m.\u001b[0m\u001b[0merrstate\u001b[0m\u001b[1;33m(\u001b[0m\u001b[0minvalid\u001b[0m\u001b[1;33m=\u001b[0m\u001b[1;34m\"ignore\"\u001b[0m\u001b[1;33m)\u001b[0m\u001b[1;33m:\u001b[0m\u001b[1;33m\u001b[0m\u001b[1;33m\u001b[0m\u001b[0m\n\u001b[1;32m---> 93\u001b[1;33m                     \u001b[1;32mreturn\u001b[0m \u001b[0mf\u001b[0m\u001b[1;33m(\u001b[0m\u001b[1;33m*\u001b[0m\u001b[0margs\u001b[0m\u001b[1;33m,\u001b[0m \u001b[1;33m**\u001b[0m\u001b[0mkwargs\u001b[0m\u001b[1;33m)\u001b[0m\u001b[1;33m\u001b[0m\u001b[1;33m\u001b[0m\u001b[0m\n\u001b[0m\u001b[0;32m     94\u001b[0m             \u001b[1;32mexcept\u001b[0m \u001b[0mValueError\u001b[0m \u001b[1;32mas\u001b[0m \u001b[0me\u001b[0m\u001b[1;33m:\u001b[0m\u001b[1;33m\u001b[0m\u001b[1;33m\u001b[0m\u001b[0m\n\u001b[0;32m     95\u001b[0m                 \u001b[1;31m# we want to transform an object array\u001b[0m\u001b[1;33m\u001b[0m\u001b[1;33m\u001b[0m\u001b[1;33m\u001b[0m\u001b[0m\n",
      "\u001b[1;32m~\\anaconda3\\envs\\geopandas\\lib\\site-packages\\pandas\\core\\nanops.py\u001b[0m in \u001b[0;36mnew_func\u001b[1;34m(values, axis, skipna, mask, **kwargs)\u001b[0m\n\u001b[0;32m    408\u001b[0m             \u001b[0mmask\u001b[0m \u001b[1;33m=\u001b[0m \u001b[0misna\u001b[0m\u001b[1;33m(\u001b[0m\u001b[0mvalues\u001b[0m\u001b[1;33m)\u001b[0m\u001b[1;33m\u001b[0m\u001b[1;33m\u001b[0m\u001b[0m\n\u001b[0;32m    409\u001b[0m \u001b[1;33m\u001b[0m\u001b[0m\n\u001b[1;32m--> 410\u001b[1;33m         \u001b[0mresult\u001b[0m \u001b[1;33m=\u001b[0m \u001b[0mfunc\u001b[0m\u001b[1;33m(\u001b[0m\u001b[0mvalues\u001b[0m\u001b[1;33m,\u001b[0m \u001b[0maxis\u001b[0m\u001b[1;33m=\u001b[0m\u001b[0maxis\u001b[0m\u001b[1;33m,\u001b[0m \u001b[0mskipna\u001b[0m\u001b[1;33m=\u001b[0m\u001b[0mskipna\u001b[0m\u001b[1;33m,\u001b[0m \u001b[0mmask\u001b[0m\u001b[1;33m=\u001b[0m\u001b[0mmask\u001b[0m\u001b[1;33m,\u001b[0m \u001b[1;33m**\u001b[0m\u001b[0mkwargs\u001b[0m\u001b[1;33m)\u001b[0m\u001b[1;33m\u001b[0m\u001b[1;33m\u001b[0m\u001b[0m\n\u001b[0m\u001b[0;32m    411\u001b[0m \u001b[1;33m\u001b[0m\u001b[0m\n\u001b[0;32m    412\u001b[0m         \u001b[1;32mif\u001b[0m \u001b[0mdatetimelike\u001b[0m\u001b[1;33m:\u001b[0m\u001b[1;33m\u001b[0m\u001b[1;33m\u001b[0m\u001b[0m\n",
      "\u001b[1;32m~\\anaconda3\\envs\\geopandas\\lib\\site-packages\\pandas\\core\\nanops.py\u001b[0m in \u001b[0;36mnansum\u001b[1;34m(values, axis, skipna, min_count, mask)\u001b[0m\n\u001b[0;32m    588\u001b[0m         \u001b[0mdtype_sum\u001b[0m \u001b[1;33m=\u001b[0m \u001b[0mnp\u001b[0m\u001b[1;33m.\u001b[0m\u001b[0mfloat64\u001b[0m  \u001b[1;31m# type: ignore[assignment]\u001b[0m\u001b[1;33m\u001b[0m\u001b[1;33m\u001b[0m\u001b[0m\n\u001b[0;32m    589\u001b[0m \u001b[1;33m\u001b[0m\u001b[0m\n\u001b[1;32m--> 590\u001b[1;33m     \u001b[0mthe_sum\u001b[0m \u001b[1;33m=\u001b[0m \u001b[0mvalues\u001b[0m\u001b[1;33m.\u001b[0m\u001b[0msum\u001b[0m\u001b[1;33m(\u001b[0m\u001b[0maxis\u001b[0m\u001b[1;33m,\u001b[0m \u001b[0mdtype\u001b[0m\u001b[1;33m=\u001b[0m\u001b[0mdtype_sum\u001b[0m\u001b[1;33m)\u001b[0m\u001b[1;33m\u001b[0m\u001b[1;33m\u001b[0m\u001b[0m\n\u001b[0m\u001b[0;32m    591\u001b[0m     \u001b[0mthe_sum\u001b[0m \u001b[1;33m=\u001b[0m \u001b[0m_maybe_null_out\u001b[0m\u001b[1;33m(\u001b[0m\u001b[0mthe_sum\u001b[0m\u001b[1;33m,\u001b[0m \u001b[0maxis\u001b[0m\u001b[1;33m,\u001b[0m \u001b[0mmask\u001b[0m\u001b[1;33m,\u001b[0m \u001b[0mvalues\u001b[0m\u001b[1;33m.\u001b[0m\u001b[0mshape\u001b[0m\u001b[1;33m,\u001b[0m \u001b[0mmin_count\u001b[0m\u001b[1;33m=\u001b[0m\u001b[0mmin_count\u001b[0m\u001b[1;33m)\u001b[0m\u001b[1;33m\u001b[0m\u001b[1;33m\u001b[0m\u001b[0m\n\u001b[0;32m    592\u001b[0m \u001b[1;33m\u001b[0m\u001b[0m\n",
      "\u001b[1;32m~\\anaconda3\\envs\\geopandas\\lib\\site-packages\\numpy\\core\\_methods.py\u001b[0m in \u001b[0;36m_sum\u001b[1;34m(a, axis, dtype, out, keepdims, initial, where)\u001b[0m\n\u001b[0;32m     46\u001b[0m def _sum(a, axis=None, dtype=None, out=None, keepdims=False,\n\u001b[0;32m     47\u001b[0m          initial=_NoValue, where=True):\n\u001b[1;32m---> 48\u001b[1;33m     \u001b[1;32mreturn\u001b[0m \u001b[0mumr_sum\u001b[0m\u001b[1;33m(\u001b[0m\u001b[0ma\u001b[0m\u001b[1;33m,\u001b[0m \u001b[0maxis\u001b[0m\u001b[1;33m,\u001b[0m \u001b[0mdtype\u001b[0m\u001b[1;33m,\u001b[0m \u001b[0mout\u001b[0m\u001b[1;33m,\u001b[0m \u001b[0mkeepdims\u001b[0m\u001b[1;33m,\u001b[0m \u001b[0minitial\u001b[0m\u001b[1;33m,\u001b[0m \u001b[0mwhere\u001b[0m\u001b[1;33m)\u001b[0m\u001b[1;33m\u001b[0m\u001b[1;33m\u001b[0m\u001b[0m\n\u001b[0m\u001b[0;32m     49\u001b[0m \u001b[1;33m\u001b[0m\u001b[0m\n\u001b[0;32m     50\u001b[0m def _prod(a, axis=None, dtype=None, out=None, keepdims=False,\n",
      "\u001b[1;31mTypeError\u001b[0m: unsupported operand type(s) for +: 'int' and 'str'"
     ]
    }
   ],
   "source": [
    "statewide_totals_check(vest_shp,tx_18,data_columns)"
   ]
  },
  {
   "cell_type": "markdown",
   "id": "4ac42bd5",
   "metadata": {},
   "source": [
    "## County Totals"
   ]
  },
  {
   "cell_type": "markdown",
   "id": "193bdfc6",
   "metadata": {},
   "source": [
    "#### Create a FIPS dictionary"
   ]
  },
  {
   "cell_type": "code",
   "execution_count": null,
   "id": "883ff6be",
   "metadata": {},
   "outputs": [],
   "source": [
    "# #Load in the nationwide FIPS file\n",
    "# fips_file = pd.read_csv(\"./raw-from-source/FIPS/US_FIPS_Codes.csv\")\n",
    "# fips_file = fips_file[fips_file[\"State\"]==\"Tennessee\"]\n",
    "# fips_file[\"FIPS County\"]=fips_file[\"FIPS County\"].astype(str)\n",
    "\n",
    "# #Make the FIPS three digits\n",
    "# fips_file[\"FIPS County\"]=fips_file[\"FIPS County\"].str.zfill(3)\n",
    "\n",
    "# #Create the dictionary\n",
    "# TN_fips_dict = dict(zip(fips_file[\"County Name\"],fips_file[\"FIPS County\"]))\n",
    "\n",
    "# # #Modify county names in dataframe to match the FIPs file\n",
    "# # county_name_changes_dict = {\"DeKalb\":\"Dekalb\"}\n",
    "# # president_election_16[\"COUNTYFP\"] = president_election_16[\"County\"].map(county_name_changes_dict).fillna(president_election_16[\"County\"])\n",
    "\n",
    "# #Use the dictionary to go from a county name to a county FIPS\n",
    "# president_election_16[\"COUNTYFP\"] = president_election_16[\"County\"].map(TN_fips_dict).fillna(president_election_16[\"County\"])\n",
    "\n",
    "# vest_shp[\"COUNTYFP\"] = vest_shp[\"COUNTY_NAME\"].map(TN_fips_dict).fillna(vest_shp[\"COUNTY_NAME\"])"
   ]
  },
  {
   "cell_type": "code",
   "execution_count": null,
   "id": "624fd298",
   "metadata": {},
   "outputs": [],
   "source": [
    "# Check the number of counties - looking for 254\n",
    "print(len(tx_18[\"CNTY\"].unique()))\n",
    "print(len(vest_shp[\"CNTY\"].unique()))"
   ]
  },
  {
   "cell_type": "code",
   "execution_count": null,
   "id": "0bf3776f",
   "metadata": {},
   "outputs": [],
   "source": [
    "def county_totals_check(partner_df,source_df,column_list,county_col,full_print=False):\n",
    "    print(\"***Countywide Totals Check***\")\n",
    "    print(\"\")\n",
    "    diff_counties=[]\n",
    "    for race in column_list:\n",
    "        diff = partner_df.groupby([county_col]).sum()[race]-source_df.groupby([county_col]).sum()[race]\n",
    "        for val in diff[diff != 0].index.values.tolist():\n",
    "            if val not in diff_counties:\n",
    "                diff_counties.append(val)\n",
    "        if len(diff[diff != 0]!=0):   \n",
    "            print(race + \" contains differences in these counties:\")\n",
    "            for val in diff[diff != 0].index.values.tolist():\n",
    "                county_differences = diff[diff != 0]\n",
    "                print(\"\\t\"+str(val)+\" has a difference of \"+str(county_differences[val])+\" votes\")\n",
    "                print(\"\\t\\tVEST: \"+str(partner_df.groupby([county_col]).sum().loc[val,race])+\" votes\")\n",
    "                print(\"\\t\\tSOURCES: \"+str(source_df.groupby([county_col]).sum().loc[val,race])+\" votes\")\n",
    "            if (full_print):\n",
    "                for val in diff[diff == 0].index.values.tolist():\n",
    "                    county_similarities = diff[diff == 0]\n",
    "                    print(\"\\t\"+val + \": \"+ str(partner_df.groupby([county_col]).sum().loc[val,race])+\" votes\")\n",
    "        else:\n",
    "            print(race + \" is equal across all counties\")\n",
    "            if (full_print):\n",
    "                for val in diff[diff == 0].index.values.tolist():\n",
    "                    county_similarities = diff[diff == 0]\n",
    "                    print(\"\\t\"+val + \": \"+ str(partner_df.groupby([county_col]).sum().loc[val,race])+\" votes\")"
   ]
  },
  {
   "cell_type": "code",
   "execution_count": null,
   "id": "e4dc1045",
   "metadata": {},
   "outputs": [],
   "source": [
    "county_totals_check(vest_shp,tx_18,data_columns,\"CNTY\", full_print=False)"
   ]
  },
  {
   "cell_type": "code",
   "execution_count": null,
   "id": "0aab741b",
   "metadata": {},
   "outputs": [],
   "source": [
    "# print(len(tx_18[\"CNTYVTD\"].unique()))\n",
    "# print(len(vest_shp[\"PCTKEY\"].unique()))"
   ]
  },
  {
   "cell_type": "markdown",
   "id": "a0c0c3b4",
   "metadata": {},
   "source": [
    "## Precinct Totals"
   ]
  },
  {
   "cell_type": "markdown",
   "id": "8e0ccacc",
   "metadata": {},
   "source": [
    "### Join Attempt 1"
   ]
  },
  {
   "cell_type": "code",
   "execution_count": null,
   "id": "678b0985",
   "metadata": {},
   "outputs": [],
   "source": [
    "vest_shp[\"unique_ID\"] = vest_shp['CNTY']+vest_shp['PREC']\n",
    "tx_18[\"unique_ID\"]=tx_18[\"CNTYVTD\"]"
   ]
  },
  {
   "cell_type": "code",
   "execution_count": null,
   "id": "3e6c9855",
   "metadata": {},
   "outputs": [],
   "source": [
    "empty_precincts = []\n",
    "for index, row in tx_18.iterrows():\n",
    "    number_of_zero_vote_races = 0\n",
    "    for race in data_columns:\n",
    "        if (row[race]==0):\n",
    "            number_of_zero_vote_races += 1\n",
    "    if(number_of_zero_vote_races == len(data_columns)):\n",
    "        empty_precincts.append(row[\"unique_ID\"])\n",
    "print(len(empty_precincts))"
   ]
  },
  {
   "cell_type": "code",
   "execution_count": null,
   "id": "90738f06",
   "metadata": {},
   "outputs": [],
   "source": [
    "print(empty_precincts)"
   ]
  },
  {
   "cell_type": "code",
   "execution_count": null,
   "id": "f368ee7d",
   "metadata": {},
   "outputs": [],
   "source": [
    "# vest_shp = vest_shp[~vest_shp.join_col.isin(empty_precincts)]\n",
    "# tx_18 = tx_18[~tx_18.join_col.isin(empty_precincts)]"
   ]
  },
  {
   "cell_type": "code",
   "execution_count": null,
   "id": "97ffbd6e",
   "metadata": {},
   "outputs": [],
   "source": [
    "# Merge the split precincts into one\n",
    "\n",
    "# Election Results\n",
    "tx_18['unique_ID']=tx_18['unique_ID'].map(lambda x: x.rstrip('ABCDEF'))\n",
    "tx_18 = tx_18.groupby('unique_ID').sum()\n",
    "\n",
    "# VEST\n",
    "vest_shp['unique_ID']=vest_shp['unique_ID'].map(lambda x: x.rstrip('ABCDEF'))\n",
    "vest_shp = vest_shp.groupby('unique_ID').sum()"
   ]
  },
  {
   "cell_type": "code",
   "execution_count": null,
   "id": "a43cc805",
   "metadata": {},
   "outputs": [],
   "source": [
    "# tx_18"
   ]
  },
  {
   "cell_type": "code",
   "execution_count": null,
   "id": "45562a7c",
   "metadata": {},
   "outputs": [],
   "source": [
    "# vest_shp"
   ]
  },
  {
   "cell_type": "code",
   "execution_count": null,
   "id": "bd043ade",
   "metadata": {},
   "outputs": [],
   "source": [
    "join_one = pd.merge(vest_shp,tx_18,how=\"outer\",on=\"unique_ID\",indicator=True)"
   ]
  },
  {
   "cell_type": "code",
   "execution_count": null,
   "id": "a8932302",
   "metadata": {},
   "outputs": [],
   "source": [
    "join_one[\"_merge\"].value_counts()"
   ]
  },
  {
   "cell_type": "code",
   "execution_count": null,
   "id": "8ec2fe7e",
   "metadata": {},
   "outputs": [],
   "source": [
    "join_one[join_one[\"_merge\"] == \"left_only\"].to_csv(\"./vest_only.csv\")\n",
    "join_one[join_one[\"_merge\"] == \"right_only\"].to_csv(\"./election_only.csv\")"
   ]
  },
  {
   "cell_type": "markdown",
   "id": "8ddc82eb",
   "metadata": {},
   "source": [
    "### Join Attempt 2"
   ]
  },
  {
   "cell_type": "code",
   "execution_count": null,
   "id": "6348ae19",
   "metadata": {},
   "outputs": [],
   "source": [
    "def precinct_votes_check(merged_df,column_list,vest_on_left,name_col,print_level=0):\n",
    "    merged_df = merged_df.sort_values(by=[name_col],inplace=False)\n",
    "    matching_rows = 0\n",
    "    different_rows = 0\n",
    "    diff_list=[]\n",
    "    diff_values = []\n",
    "    max_diff = 0\n",
    "    for index,row in merged_df.iterrows():\n",
    "        same = True\n",
    "        for i in column_list:\n",
    "            left_data = i + \"_x\"\n",
    "            right_data = i + \"_y\"\n",
    "            if ((row[left_data] is None) or (row[right_data] is None) or (np.isnan(row[right_data])or(np.isnan(row[left_data])))):\n",
    "                print(\"FIX NaN value at: \", row[name_col])\n",
    "                return;\n",
    "            diff = abs(row[left_data]-row[right_data])\n",
    "            if (diff>0):\n",
    "                same = False\n",
    "                diff_values.append(abs(diff))\n",
    "                if (diff>max_diff):\n",
    "                    max_diff = diff\n",
    "            if(diff>print_level):\n",
    "                if (vest_on_left):\n",
    "                    print(i, \"{:.>72}\".format(row[name_col]), \"(V)\",\"{:.>5}\".format(int(row[left_data])),\" (S){:.>5}\".format(int(row[right_data])),\"(D):{:>5}\".format(int(row[left_data]-row[right_data])))                           \n",
    "                else:\n",
    "                    print(i, \"{:.>72}\".format(row[name_col]), \"(S)\",\"{:.>5}\".format(int(row[left_data])),\" (V){:.>5}\".format(int(row[right_data])),\"(D):{:>5}\".format(int(row[left_data]-row[right_data])))\n",
    "        if(same != True):\n",
    "            different_rows +=1\n",
    "            diff_list.append(row[name_col])\n",
    "        else:\n",
    "            matching_rows +=1\n",
    "    print(\"\")\n",
    "    print(\"There are \", len(merged_df.index),\" total rows\")\n",
    "    print(different_rows,\" of these rows have election result differences\")\n",
    "    print(matching_rows,\" of these rows are the same\")\n",
    "    print(\"\")\n",
    "    print(\"The max difference between any one shared column in a row is: \", max_diff)\n",
    "    if(len(diff_values)!=0):\n",
    "        print(\"The average difference is: \", str(sum(diff_values)/len(diff_values)))\n",
    "    count_big_diff = len([i for i in diff_values if i > 10])\n",
    "    print(\"There are \", str(count_big_diff), \"precinct results with a difference greater than 10\")\n",
    "    print(\"\")\n",
    "    print(\"All precincts containing differences:\")\n",
    "    diff_list.sort()\n",
    "    print(diff_list)"
   ]
  },
  {
   "cell_type": "code",
   "execution_count": null,
   "id": "4cd43983",
   "metadata": {},
   "outputs": [],
   "source": [
    "precinct_votes_check(join_one,data_columns,True,\"unique_ID\")"
   ]
  },
  {
   "cell_type": "code",
   "execution_count": null,
   "id": "67c603e8",
   "metadata": {},
   "outputs": [],
   "source": [
    "join_one\n",
    "\n",
    "# unique_ID is the index"
   ]
  },
  {
   "cell_type": "code",
   "execution_count": null,
   "id": "43f21ce5",
   "metadata": {},
   "outputs": [],
   "source": [
    "precinct_votes_check(join_one[join_one[\"_merge\"]==\"both\"],data_columns,True,\"unique_ID\")"
   ]
  },
  {
   "cell_type": "code",
   "execution_count": null,
   "id": "7c418fa2",
   "metadata": {},
   "outputs": [],
   "source": []
  },
  {
   "cell_type": "code",
   "execution_count": null,
   "id": "405cee6f",
   "metadata": {},
   "outputs": [],
   "source": []
  },
  {
   "cell_type": "code",
   "execution_count": null,
   "id": "4f7ab94b",
   "metadata": {},
   "outputs": [],
   "source": []
  }
 ],
 "metadata": {
  "kernelspec": {
   "display_name": "Python 3 (ipykernel)",
   "language": "python",
   "name": "python3"
  },
  "language_info": {
   "codemirror_mode": {
    "name": "ipython",
    "version": 3
   },
   "file_extension": ".py",
   "mimetype": "text/x-python",
   "name": "python",
   "nbconvert_exporter": "python",
   "pygments_lexer": "ipython3",
   "version": "3.9.6"
  }
 },
 "nbformat": 4,
 "nbformat_minor": 5
}
