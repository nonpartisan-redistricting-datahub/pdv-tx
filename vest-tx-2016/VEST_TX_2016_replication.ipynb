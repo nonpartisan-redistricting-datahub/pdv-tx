{
 "cells": [
  {
   "cell_type": "code",
   "execution_count": 1,
   "metadata": {},
   "outputs": [],
   "source": [
    "import matplotlib.pyplot as plt # for plotting maps\n",
    "import pandas as pd # standard python data library\n",
    "import geopandas as gp # the geo-version of pandas\n",
    "import numpy as np \n",
    "from statistics import mean, median\n",
    "from functools import reduce\n",
    "import matplotlib.pyplot as plt"
   ]
  },
  {
   "cell_type": "markdown",
   "metadata": {},
   "source": [
    "# Election Results"
   ]
  },
  {
   "cell_type": "markdown",
   "metadata": {},
   "source": [
    "## Load Election Results"
   ]
  },
  {
   "cell_type": "markdown",
   "metadata": {},
   "source": [
    "This data file reports elections from 2016 on a map of TX's 2016 VTDs. The TX Capitol Data Portal Website has this data online already.  \n",
    "\n",
    "Election results and turnout data are stored in separate files. "
   ]
  },
  {
   "cell_type": "code",
   "execution_count": 2,
   "metadata": {},
   "outputs": [],
   "source": [
    "returns_2016 = pd.read_csv('./raw-from-source/ftp_election_data_16g/2016_General_Election_Returns.csv')"
   ]
  },
  {
   "cell_type": "code",
   "execution_count": 3,
   "metadata": {},
   "outputs": [
    {
     "data": {
      "text/html": [
       "<div>\n",
       "<style scoped>\n",
       "    .dataframe tbody tr th:only-of-type {\n",
       "        vertical-align: middle;\n",
       "    }\n",
       "\n",
       "    .dataframe tbody tr th {\n",
       "        vertical-align: top;\n",
       "    }\n",
       "\n",
       "    .dataframe thead th {\n",
       "        text-align: right;\n",
       "    }\n",
       "</style>\n",
       "<table border=\"1\" class=\"dataframe\">\n",
       "  <thead>\n",
       "    <tr style=\"text-align: right;\">\n",
       "      <th></th>\n",
       "      <th>County</th>\n",
       "      <th>FIPS</th>\n",
       "      <th>VTD</th>\n",
       "      <th>cntyvtd</th>\n",
       "      <th>Office</th>\n",
       "      <th>Name</th>\n",
       "      <th>Party</th>\n",
       "      <th>Incumbent</th>\n",
       "      <th>Votes</th>\n",
       "    </tr>\n",
       "  </thead>\n",
       "  <tbody>\n",
       "    <tr>\n",
       "      <th>0</th>\n",
       "      <td>Anderson</td>\n",
       "      <td>1</td>\n",
       "      <td>0001</td>\n",
       "      <td>10001</td>\n",
       "      <td>President</td>\n",
       "      <td>Clinton</td>\n",
       "      <td>D</td>\n",
       "      <td>N</td>\n",
       "      <td>262</td>\n",
       "    </tr>\n",
       "    <tr>\n",
       "      <th>1</th>\n",
       "      <td>Anderson</td>\n",
       "      <td>1</td>\n",
       "      <td>0002</td>\n",
       "      <td>10002</td>\n",
       "      <td>President</td>\n",
       "      <td>Clinton</td>\n",
       "      <td>D</td>\n",
       "      <td>N</td>\n",
       "      <td>181</td>\n",
       "    </tr>\n",
       "    <tr>\n",
       "      <th>2</th>\n",
       "      <td>Anderson</td>\n",
       "      <td>1</td>\n",
       "      <td>0003</td>\n",
       "      <td>10003</td>\n",
       "      <td>President</td>\n",
       "      <td>Clinton</td>\n",
       "      <td>D</td>\n",
       "      <td>N</td>\n",
       "      <td>94</td>\n",
       "    </tr>\n",
       "    <tr>\n",
       "      <th>3</th>\n",
       "      <td>Anderson</td>\n",
       "      <td>1</td>\n",
       "      <td>0004</td>\n",
       "      <td>10004</td>\n",
       "      <td>President</td>\n",
       "      <td>Clinton</td>\n",
       "      <td>D</td>\n",
       "      <td>N</td>\n",
       "      <td>96</td>\n",
       "    </tr>\n",
       "    <tr>\n",
       "      <th>4</th>\n",
       "      <td>Anderson</td>\n",
       "      <td>1</td>\n",
       "      <td>0005</td>\n",
       "      <td>10005</td>\n",
       "      <td>President</td>\n",
       "      <td>Clinton</td>\n",
       "      <td>D</td>\n",
       "      <td>N</td>\n",
       "      <td>9</td>\n",
       "    </tr>\n",
       "  </tbody>\n",
       "</table>\n",
       "</div>"
      ],
      "text/plain": [
       "     County  FIPS   VTD cntyvtd     Office     Name Party Incumbent  Votes\n",
       "0  Anderson     1  0001   10001  President  Clinton     D         N    262\n",
       "1  Anderson     1  0002   10002  President  Clinton     D         N    181\n",
       "2  Anderson     1  0003   10003  President  Clinton     D         N     94\n",
       "3  Anderson     1  0004   10004  President  Clinton     D         N     96\n",
       "4  Anderson     1  0005   10005  President  Clinton     D         N      9"
      ]
     },
     "execution_count": 3,
     "metadata": {},
     "output_type": "execute_result"
    }
   ],
   "source": [
    "returns_2016.head()"
   ]
  },
  {
   "cell_type": "markdown",
   "metadata": {},
   "source": [
    "The returns will need to be pivoted. "
   ]
  },
  {
   "cell_type": "code",
   "execution_count": 4,
   "metadata": {},
   "outputs": [
    {
     "data": {
      "text/plain": [
       "array(['President', 'U.S. Rep 5', 'RR Comm 1', 'Sup Ct 3', 'Sup Ct 5',\n",
       "       'Sup Ct 9', 'CCA 2', 'CCA 5', 'CCA 6', 'SBOE 9', 'U.S. Rep 11',\n",
       "       'U.S. Rep 1', 'U.S. Rep 27', 'State Sen 18', 'U.S. Rep 13',\n",
       "       'U.S. Rep 28', 'SBOE 1', 'State Sen 19', 'U.S. Rep 10', 'SBOE 10',\n",
       "       'State Rep 13', 'U.S. Rep 19', 'U.S. Rep 21', 'State Sen 24',\n",
       "       'State Rep 53', 'U.S. Rep 17', 'U.S. Rep 34', 'State Rep 43',\n",
       "       'U.S. Rep 31', 'U.S. Rep 25', 'State Rep 54', 'U.S. Rep 35',\n",
       "       'U.S. Rep 23', 'U.S. Rep 20', 'SBOE 5', 'State Sen 26',\n",
       "       'State Rep 118', 'State Rep 117', 'State Rep 120', 'State Sen 22',\n",
       "       'U.S. Rep 4', 'U.S. Rep 14', 'U.S. Rep 22', 'State Rep 29',\n",
       "       'U.S. Rep 15', 'State Sen 20', 'U.S. Rep 36', 'State Sen 4',\n",
       "       'State Rep 23', 'State Rep 11', 'U.S. Rep 3', 'U.S. Rep 32',\n",
       "       'State Rep 70', 'State Rep 67', 'State Rep 89', 'State Rep 33',\n",
       "       'State Rep 66', 'U.S. Rep 30', 'U.S. Rep 24', 'U.S. Rep 26',\n",
       "       'U.S. Rep 33', 'State Rep 114', 'State Rep 108', 'State Rep 102',\n",
       "       'State Rep 112', 'State Rep 107', 'State Rep 100', 'State Rep 109',\n",
       "       'State Rep 113', 'State Rep 115', 'State Rep 111', 'State Rep 105',\n",
       "       'State Sen 12', 'State Rep 64', 'State Rep 106', 'State Rep 65',\n",
       "       'U.S. Rep 6', 'State Rep 10', 'U.S. Rep 16', 'State Rep 78',\n",
       "       'U.S. Rep 9', 'State Sen 13', 'State Rep 26', 'State Rep 85',\n",
       "       'State Rep 27', 'State Rep 44', 'U.S. Rep 18', 'U.S. Rep 7',\n",
       "       'U.S. Rep 29', 'U.S. Rep 2', 'SBOE 6', 'State Rep 147',\n",
       "       'State Rep 150', 'State Rep 146', 'State Rep 128', 'State Rep 134',\n",
       "       'State Rep 135', 'State Rep 144', 'State Rep 126', 'State Rep 127',\n",
       "       'State Rep 132', 'State Rep 137', 'State Rep 149', 'State Rep 41',\n",
       "       'State Rep 40', 'State Rep 71', 'State Rep 18', 'State Rep 56',\n",
       "       'U.S. Rep 12', 'State Rep 95', 'State Rep 97', 'State Rep 96',\n",
       "       'State Rep 99', 'State Rep 93', 'State Rep 92', 'State Rep 101',\n",
       "       'State Rep 94', 'State Rep 98', 'State Rep 51', 'State Rep 50',\n",
       "       'State Rep 46', 'State Rep 49', 'State Rep 48', 'State Rep 47',\n",
       "       'State Rep 52', 'State Rep 136'], dtype=object)"
      ]
     },
     "execution_count": 4,
     "metadata": {},
     "output_type": "execute_result"
    }
   ],
   "source": [
    "returns_2016['Office'].unique()"
   ]
  },
  {
   "cell_type": "code",
   "execution_count": 5,
   "metadata": {},
   "outputs": [
    {
     "data": {
      "text/plain": [
       "array(['D', 'R', 'L', 'G', 'W', 'I'], dtype=object)"
      ]
     },
     "execution_count": 5,
     "metadata": {},
     "output_type": "execute_result"
    }
   ],
   "source": [
    "returns_2016['Party'].unique()"
   ]
  },
  {
   "cell_type": "markdown",
   "metadata": {},
   "source": [
    "## Pivot Election Results"
   ]
  },
  {
   "cell_type": "markdown",
   "metadata": {},
   "source": [
    "We want to modify the election data so that each row reports the results for the various races for each VTD. "
   ]
  },
  {
   "cell_type": "code",
   "execution_count": 6,
   "metadata": {},
   "outputs": [],
   "source": [
    "office_list_2016 = [\"President\",\"RR Comm 1\"]\n",
    "party_list = [\"R\",\"D\",\"L\",\"G\",\"W\"]\n",
    "returns_2016_filtered = returns_2016[returns_2016['Office'].isin(office_list_2016)]\n",
    "returns_2016_filtered = returns_2016_filtered[returns_2016_filtered['Party'].isin(party_list)]\n",
    "pivoted_2016 = pd.pivot_table(returns_2016_filtered, values=['Votes'], index=[\"cntyvtd\"],columns=[\"Office\",\"Party\"])"
   ]
  },
  {
   "cell_type": "code",
   "execution_count": 7,
   "metadata": {},
   "outputs": [
    {
     "data": {
      "text/html": [
       "<div>\n",
       "<style scoped>\n",
       "    .dataframe tbody tr th:only-of-type {\n",
       "        vertical-align: middle;\n",
       "    }\n",
       "\n",
       "    .dataframe tbody tr th {\n",
       "        vertical-align: top;\n",
       "    }\n",
       "\n",
       "    .dataframe thead tr th {\n",
       "        text-align: left;\n",
       "    }\n",
       "\n",
       "    .dataframe thead tr:last-of-type th {\n",
       "        text-align: right;\n",
       "    }\n",
       "</style>\n",
       "<table border=\"1\" class=\"dataframe\">\n",
       "  <thead>\n",
       "    <tr>\n",
       "      <th></th>\n",
       "      <th colspan=\"9\" halign=\"left\">Votes</th>\n",
       "    </tr>\n",
       "    <tr>\n",
       "      <th>Office</th>\n",
       "      <th colspan=\"5\" halign=\"left\">President</th>\n",
       "      <th colspan=\"4\" halign=\"left\">RR Comm 1</th>\n",
       "    </tr>\n",
       "    <tr>\n",
       "      <th>Party</th>\n",
       "      <th>D</th>\n",
       "      <th>G</th>\n",
       "      <th>L</th>\n",
       "      <th>R</th>\n",
       "      <th>W</th>\n",
       "      <th>D</th>\n",
       "      <th>G</th>\n",
       "      <th>L</th>\n",
       "      <th>R</th>\n",
       "    </tr>\n",
       "    <tr>\n",
       "      <th>cntyvtd</th>\n",
       "      <th></th>\n",
       "      <th></th>\n",
       "      <th></th>\n",
       "      <th></th>\n",
       "      <th></th>\n",
       "      <th></th>\n",
       "      <th></th>\n",
       "      <th></th>\n",
       "      <th></th>\n",
       "    </tr>\n",
       "  </thead>\n",
       "  <tbody>\n",
       "    <tr>\n",
       "      <th>10001</th>\n",
       "      <td>262</td>\n",
       "      <td>5</td>\n",
       "      <td>18</td>\n",
       "      <td>742</td>\n",
       "      <td>3</td>\n",
       "      <td>236</td>\n",
       "      <td>22</td>\n",
       "      <td>47</td>\n",
       "      <td>710</td>\n",
       "    </tr>\n",
       "    <tr>\n",
       "      <th>10002</th>\n",
       "      <td>181</td>\n",
       "      <td>5</td>\n",
       "      <td>22</td>\n",
       "      <td>1318</td>\n",
       "      <td>6</td>\n",
       "      <td>202</td>\n",
       "      <td>16</td>\n",
       "      <td>64</td>\n",
       "      <td>1200</td>\n",
       "    </tr>\n",
       "    <tr>\n",
       "      <th>10003</th>\n",
       "      <td>94</td>\n",
       "      <td>2</td>\n",
       "      <td>16</td>\n",
       "      <td>663</td>\n",
       "      <td>1</td>\n",
       "      <td>97</td>\n",
       "      <td>7</td>\n",
       "      <td>27</td>\n",
       "      <td>622</td>\n",
       "    </tr>\n",
       "    <tr>\n",
       "      <th>10004</th>\n",
       "      <td>96</td>\n",
       "      <td>2</td>\n",
       "      <td>17</td>\n",
       "      <td>869</td>\n",
       "      <td>1</td>\n",
       "      <td>112</td>\n",
       "      <td>9</td>\n",
       "      <td>31</td>\n",
       "      <td>804</td>\n",
       "    </tr>\n",
       "    <tr>\n",
       "      <th>10005</th>\n",
       "      <td>9</td>\n",
       "      <td>0</td>\n",
       "      <td>2</td>\n",
       "      <td>180</td>\n",
       "      <td>0</td>\n",
       "      <td>11</td>\n",
       "      <td>1</td>\n",
       "      <td>8</td>\n",
       "      <td>160</td>\n",
       "    </tr>\n",
       "  </tbody>\n",
       "</table>\n",
       "</div>"
      ],
      "text/plain": [
       "            Votes                                        \n",
       "Office  President                 RR Comm 1              \n",
       "Party           D  G   L     R  W         D   G   L     R\n",
       "cntyvtd                                                  \n",
       "10001         262  5  18   742  3       236  22  47   710\n",
       "10002         181  5  22  1318  6       202  16  64  1200\n",
       "10003          94  2  16   663  1        97   7  27   622\n",
       "10004          96  2  17   869  1       112   9  31   804\n",
       "10005           9  0   2   180  0        11   1   8   160"
      ]
     },
     "execution_count": 7,
     "metadata": {},
     "output_type": "execute_result"
    }
   ],
   "source": [
    "pivoted_2016.head()"
   ]
  },
  {
   "cell_type": "markdown",
   "metadata": {},
   "source": [
    "Rename columns to match VEST column names"
   ]
  },
  {
   "cell_type": "code",
   "execution_count": 8,
   "metadata": {},
   "outputs": [],
   "source": [
    "pivoted_2016.columns = [\"G16PREDCli\",\"G16PREGSte\",\"G16PRELJoh\",\"G16PRERTru\",\"G16PREOth\",\n",
    "                        \"G16RRCDYar\",\"G16RRCGSal\",\"G16RRCLMil\",\"G16RRCRChr\"]\n",
    "pivoted_2016.index.names = [\"CNTYVTD\"]"
   ]
  },
  {
   "cell_type": "code",
   "execution_count": 9,
   "metadata": {},
   "outputs": [
    {
     "data": {
      "text/html": [
       "<div>\n",
       "<style scoped>\n",
       "    .dataframe tbody tr th:only-of-type {\n",
       "        vertical-align: middle;\n",
       "    }\n",
       "\n",
       "    .dataframe tbody tr th {\n",
       "        vertical-align: top;\n",
       "    }\n",
       "\n",
       "    .dataframe thead th {\n",
       "        text-align: right;\n",
       "    }\n",
       "</style>\n",
       "<table border=\"1\" class=\"dataframe\">\n",
       "  <thead>\n",
       "    <tr style=\"text-align: right;\">\n",
       "      <th></th>\n",
       "      <th>G16PREDCli</th>\n",
       "      <th>G16PREGSte</th>\n",
       "      <th>G16PRELJoh</th>\n",
       "      <th>G16PRERTru</th>\n",
       "      <th>G16PREOth</th>\n",
       "      <th>G16RRCDYar</th>\n",
       "      <th>G16RRCGSal</th>\n",
       "      <th>G16RRCLMil</th>\n",
       "      <th>G16RRCRChr</th>\n",
       "    </tr>\n",
       "    <tr>\n",
       "      <th>CNTYVTD</th>\n",
       "      <th></th>\n",
       "      <th></th>\n",
       "      <th></th>\n",
       "      <th></th>\n",
       "      <th></th>\n",
       "      <th></th>\n",
       "      <th></th>\n",
       "      <th></th>\n",
       "      <th></th>\n",
       "    </tr>\n",
       "  </thead>\n",
       "  <tbody>\n",
       "    <tr>\n",
       "      <th>10001</th>\n",
       "      <td>262</td>\n",
       "      <td>5</td>\n",
       "      <td>18</td>\n",
       "      <td>742</td>\n",
       "      <td>3</td>\n",
       "      <td>236</td>\n",
       "      <td>22</td>\n",
       "      <td>47</td>\n",
       "      <td>710</td>\n",
       "    </tr>\n",
       "    <tr>\n",
       "      <th>10002</th>\n",
       "      <td>181</td>\n",
       "      <td>5</td>\n",
       "      <td>22</td>\n",
       "      <td>1318</td>\n",
       "      <td>6</td>\n",
       "      <td>202</td>\n",
       "      <td>16</td>\n",
       "      <td>64</td>\n",
       "      <td>1200</td>\n",
       "    </tr>\n",
       "    <tr>\n",
       "      <th>10003</th>\n",
       "      <td>94</td>\n",
       "      <td>2</td>\n",
       "      <td>16</td>\n",
       "      <td>663</td>\n",
       "      <td>1</td>\n",
       "      <td>97</td>\n",
       "      <td>7</td>\n",
       "      <td>27</td>\n",
       "      <td>622</td>\n",
       "    </tr>\n",
       "    <tr>\n",
       "      <th>10004</th>\n",
       "      <td>96</td>\n",
       "      <td>2</td>\n",
       "      <td>17</td>\n",
       "      <td>869</td>\n",
       "      <td>1</td>\n",
       "      <td>112</td>\n",
       "      <td>9</td>\n",
       "      <td>31</td>\n",
       "      <td>804</td>\n",
       "    </tr>\n",
       "    <tr>\n",
       "      <th>10005</th>\n",
       "      <td>9</td>\n",
       "      <td>0</td>\n",
       "      <td>2</td>\n",
       "      <td>180</td>\n",
       "      <td>0</td>\n",
       "      <td>11</td>\n",
       "      <td>1</td>\n",
       "      <td>8</td>\n",
       "      <td>160</td>\n",
       "    </tr>\n",
       "  </tbody>\n",
       "</table>\n",
       "</div>"
      ],
      "text/plain": [
       "         G16PREDCli  G16PREGSte  G16PRELJoh  G16PRERTru  G16PREOth  \\\n",
       "CNTYVTD                                                              \n",
       "10001           262           5          18         742          3   \n",
       "10002           181           5          22        1318          6   \n",
       "10003            94           2          16         663          1   \n",
       "10004            96           2          17         869          1   \n",
       "10005             9           0           2         180          0   \n",
       "\n",
       "         G16RRCDYar  G16RRCGSal  G16RRCLMil  G16RRCRChr  \n",
       "CNTYVTD                                                  \n",
       "10001           236          22          47         710  \n",
       "10002           202          16          64        1200  \n",
       "10003            97           7          27         622  \n",
       "10004           112           9          31         804  \n",
       "10005            11           1           8         160  "
      ]
     },
     "execution_count": 9,
     "metadata": {},
     "output_type": "execute_result"
    }
   ],
   "source": [
    "pivoted_2016.head()"
   ]
  },
  {
   "cell_type": "code",
   "execution_count": 10,
   "metadata": {},
   "outputs": [
    {
     "data": {
      "text/plain": [
       "G16PREDCli    3877626\n",
       "G16PREGSte      71546\n",
       "G16PRELJoh     283462\n",
       "G16PRERTru    4684288\n",
       "G16PREOth       64938\n",
       "G16RRCDYar    3361857\n",
       "G16RRCGSal     286066\n",
       "G16RRCLMil     462163\n",
       "G16RRCRChr    4648357\n",
       "dtype: int64"
      ]
     },
     "execution_count": 10,
     "metadata": {},
     "output_type": "execute_result"
    }
   ],
   "source": [
    "pivoted_2016.sum()"
   ]
  },
  {
   "cell_type": "markdown",
   "metadata": {},
   "source": [
    "These sums look right against official totals. "
   ]
  },
  {
   "cell_type": "code",
   "execution_count": 11,
   "metadata": {},
   "outputs": [
    {
     "data": {
      "text/plain": [
       "(8941, 9)"
      ]
     },
     "execution_count": 11,
     "metadata": {},
     "output_type": "execute_result"
    }
   ],
   "source": [
    "pivoted_2016.shape"
   ]
  },
  {
   "cell_type": "markdown",
   "metadata": {},
   "source": [
    "# VTD Shapefile"
   ]
  },
  {
   "cell_type": "markdown",
   "metadata": {},
   "source": [
    "## Load TX Raw Shapefile"
   ]
  },
  {
   "cell_type": "markdown",
   "metadata": {},
   "source": [
    "2016 General Election VTD Shapefile is used for these results"
   ]
  },
  {
   "cell_type": "code",
   "execution_count": 12,
   "metadata": {},
   "outputs": [],
   "source": [
    "vtd_2016 = gp.read_file('./raw-from-source/vtd16g/vtd16g.shp')"
   ]
  },
  {
   "cell_type": "code",
   "execution_count": 13,
   "metadata": {},
   "outputs": [
    {
     "data": {
      "text/html": [
       "<div>\n",
       "<style scoped>\n",
       "    .dataframe tbody tr th:only-of-type {\n",
       "        vertical-align: middle;\n",
       "    }\n",
       "\n",
       "    .dataframe tbody tr th {\n",
       "        vertical-align: top;\n",
       "    }\n",
       "\n",
       "    .dataframe thead th {\n",
       "        text-align: right;\n",
       "    }\n",
       "</style>\n",
       "<table border=\"1\" class=\"dataframe\">\n",
       "  <thead>\n",
       "    <tr style=\"text-align: right;\">\n",
       "      <th></th>\n",
       "      <th>CNTY</th>\n",
       "      <th>COLOR</th>\n",
       "      <th>VTD</th>\n",
       "      <th>CNTYVTD</th>\n",
       "      <th>VTDKEY</th>\n",
       "      <th>Shape_area</th>\n",
       "      <th>Shape_len</th>\n",
       "      <th>geometry</th>\n",
       "    </tr>\n",
       "  </thead>\n",
       "  <tbody>\n",
       "    <tr>\n",
       "      <th>0</th>\n",
       "      <td>53</td>\n",
       "      <td>2</td>\n",
       "      <td>0008</td>\n",
       "      <td>530008</td>\n",
       "      <td>0</td>\n",
       "      <td>6.717692e+07</td>\n",
       "      <td>55772.006345</td>\n",
       "      <td>POLYGON ((1159123.585 956882.966, 1159183.604 ...</td>\n",
       "    </tr>\n",
       "    <tr>\n",
       "      <th>1</th>\n",
       "      <td>469</td>\n",
       "      <td>2</td>\n",
       "      <td>0024</td>\n",
       "      <td>4690024</td>\n",
       "      <td>0</td>\n",
       "      <td>5.426296e+07</td>\n",
       "      <td>50831.107001</td>\n",
       "      <td>POLYGON ((1292779.280 755618.564, 1292761.756 ...</td>\n",
       "    </tr>\n",
       "    <tr>\n",
       "      <th>2</th>\n",
       "      <td>421</td>\n",
       "      <td>6</td>\n",
       "      <td>0302</td>\n",
       "      <td>4210302</td>\n",
       "      <td>0</td>\n",
       "      <td>4.890835e+08</td>\n",
       "      <td>115435.448089</td>\n",
       "      <td>POLYGON ((835910.171 1592476.454, 835993.315 1...</td>\n",
       "    </tr>\n",
       "    <tr>\n",
       "      <th>3</th>\n",
       "      <td>479</td>\n",
       "      <td>1</td>\n",
       "      <td>0340</td>\n",
       "      <td>4790340</td>\n",
       "      <td>0</td>\n",
       "      <td>1.949293e+06</td>\n",
       "      <td>5991.528062</td>\n",
       "      <td>POLYGON ((1052058.489 602069.618, 1052032.480 ...</td>\n",
       "    </tr>\n",
       "    <tr>\n",
       "      <th>4</th>\n",
       "      <td>29</td>\n",
       "      <td>5</td>\n",
       "      <td>4046</td>\n",
       "      <td>294046</td>\n",
       "      <td>0</td>\n",
       "      <td>2.356032e+06</td>\n",
       "      <td>6851.937823</td>\n",
       "      <td>POLYGON ((1151858.098 818462.053, 1151860.759 ...</td>\n",
       "    </tr>\n",
       "  </tbody>\n",
       "</table>\n",
       "</div>"
      ],
      "text/plain": [
       "   CNTY  COLOR   VTD  CNTYVTD  VTDKEY    Shape_area      Shape_len  \\\n",
       "0    53      2  0008   530008       0  6.717692e+07   55772.006345   \n",
       "1   469      2  0024  4690024       0  5.426296e+07   50831.107001   \n",
       "2   421      6  0302  4210302       0  4.890835e+08  115435.448089   \n",
       "3   479      1  0340  4790340       0  1.949293e+06    5991.528062   \n",
       "4    29      5  4046   294046       0  2.356032e+06    6851.937823   \n",
       "\n",
       "                                            geometry  \n",
       "0  POLYGON ((1159123.585 956882.966, 1159183.604 ...  \n",
       "1  POLYGON ((1292779.280 755618.564, 1292761.756 ...  \n",
       "2  POLYGON ((835910.171 1592476.454, 835993.315 1...  \n",
       "3  POLYGON ((1052058.489 602069.618, 1052032.480 ...  \n",
       "4  POLYGON ((1151858.098 818462.053, 1151860.759 ...  "
      ]
     },
     "execution_count": 13,
     "metadata": {},
     "output_type": "execute_result"
    }
   ],
   "source": [
    "vtd_2016.head()"
   ]
  },
  {
   "cell_type": "code",
   "execution_count": 14,
   "metadata": {},
   "outputs": [
    {
     "data": {
      "text/plain": [
       "(8941, 8)"
      ]
     },
     "execution_count": 14,
     "metadata": {},
     "output_type": "execute_result"
    }
   ],
   "source": [
    "vtd_2016.shape"
   ]
  },
  {
   "cell_type": "code",
   "execution_count": 15,
   "metadata": {},
   "outputs": [
    {
     "data": {
      "text/plain": [
       "<Projected CRS: EPSG:3081>\n",
       "Name: NAD83 / Texas State Mapping System\n",
       "Axis Info [cartesian]:\n",
       "- X[east]: Easting (metre)\n",
       "- Y[north]: Northing (metre)\n",
       "Area of Use:\n",
       "- name: USA - Texas\n",
       "- bounds: (-106.66, 25.83, -93.5, 36.5)\n",
       "Coordinate Operation:\n",
       "- name: Texas State Mapping System (meters)\n",
       "- method: Lambert Conic Conformal (2SP)\n",
       "Datum: North American Datum 1983\n",
       "- Ellipsoid: GRS 1980\n",
       "- Prime Meridian: Greenwich"
      ]
     },
     "execution_count": 15,
     "metadata": {},
     "output_type": "execute_result"
    }
   ],
   "source": [
    "vtd_2016.crs"
   ]
  },
  {
   "cell_type": "code",
   "execution_count": 16,
   "metadata": {},
   "outputs": [
    {
     "data": {
      "text/plain": [
       "<matplotlib.axes._subplots.AxesSubplot at 0x125af7f10>"
      ]
     },
     "execution_count": 16,
     "metadata": {},
     "output_type": "execute_result"
    },
    {
     "data": {
      "image/png": "[encoded data removed]",
      "text/plain": [
       "<Figure size 432x288 with 1 Axes>"
      ]
     },
     "metadata": {
      "needs_background": "light"
     },
     "output_type": "display_data"
    }
   ],
   "source": [
    "vtd_2016.boundary.plot()"
   ]
  },
  {
   "cell_type": "markdown",
   "metadata": {},
   "source": [
    "## Load VEST Final Shapefile"
   ]
  },
  {
   "cell_type": "code",
   "execution_count": 17,
   "metadata": {},
   "outputs": [],
   "source": [
    "tx_vest = gp.read_file('./raw-from-source/tx_2016/tx_2016.shp')"
   ]
  },
  {
   "cell_type": "code",
   "execution_count": 18,
   "metadata": {},
   "outputs": [
    {
     "data": {
      "text/html": [
       "<div>\n",
       "<style scoped>\n",
       "    .dataframe tbody tr th:only-of-type {\n",
       "        vertical-align: middle;\n",
       "    }\n",
       "\n",
       "    .dataframe tbody tr th {\n",
       "        vertical-align: top;\n",
       "    }\n",
       "\n",
       "    .dataframe thead th {\n",
       "        text-align: right;\n",
       "    }\n",
       "</style>\n",
       "<table border=\"1\" class=\"dataframe\">\n",
       "  <thead>\n",
       "    <tr style=\"text-align: right;\">\n",
       "      <th></th>\n",
       "      <th>CNTY</th>\n",
       "      <th>PREC</th>\n",
       "      <th>PCTKEY</th>\n",
       "      <th>cntykey</th>\n",
       "      <th>G16PREDCli</th>\n",
       "      <th>G16PRERTru</th>\n",
       "      <th>G16PRELJoh</th>\n",
       "      <th>G16PREGSte</th>\n",
       "      <th>G16PREOth</th>\n",
       "      <th>G16RRCDYar</th>\n",
       "      <th>G16RRCRChr</th>\n",
       "      <th>G16RRCLMil</th>\n",
       "      <th>G16RRCGSal</th>\n",
       "      <th>geometry</th>\n",
       "    </tr>\n",
       "  </thead>\n",
       "  <tbody>\n",
       "    <tr>\n",
       "      <th>0</th>\n",
       "      <td>439</td>\n",
       "      <td>1611</td>\n",
       "      <td>4391611</td>\n",
       "      <td>220</td>\n",
       "      <td>8</td>\n",
       "      <td>4</td>\n",
       "      <td>1</td>\n",
       "      <td>0</td>\n",
       "      <td>0</td>\n",
       "      <td>7</td>\n",
       "      <td>4</td>\n",
       "      <td>2</td>\n",
       "      <td>0</td>\n",
       "      <td>POLYGON ((1249580.405 1174145.301, 1249495.984...</td>\n",
       "    </tr>\n",
       "    <tr>\n",
       "      <th>1</th>\n",
       "      <td>27</td>\n",
       "      <td>0311</td>\n",
       "      <td>270311</td>\n",
       "      <td>14</td>\n",
       "      <td>269</td>\n",
       "      <td>1406</td>\n",
       "      <td>46</td>\n",
       "      <td>10</td>\n",
       "      <td>13</td>\n",
       "      <td>237</td>\n",
       "      <td>1355</td>\n",
       "      <td>80</td>\n",
       "      <td>26</td>\n",
       "      <td>POLYGON ((1248151.416 1010828.003, 1248115.887...</td>\n",
       "    </tr>\n",
       "    <tr>\n",
       "      <th>2</th>\n",
       "      <td>35</td>\n",
       "      <td>0001</td>\n",
       "      <td>350001</td>\n",
       "      <td>18</td>\n",
       "      <td>61</td>\n",
       "      <td>401</td>\n",
       "      <td>6</td>\n",
       "      <td>2</td>\n",
       "      <td>2</td>\n",
       "      <td>63</td>\n",
       "      <td>370</td>\n",
       "      <td>25</td>\n",
       "      <td>3</td>\n",
       "      <td>POLYGON ((1203351.469 1102126.682, 1203420.185...</td>\n",
       "    </tr>\n",
       "    <tr>\n",
       "      <th>3</th>\n",
       "      <td>201</td>\n",
       "      <td>0736</td>\n",
       "      <td>2010736</td>\n",
       "      <td>101</td>\n",
       "      <td>16</td>\n",
       "      <td>1</td>\n",
       "      <td>0</td>\n",
       "      <td>0</td>\n",
       "      <td>0</td>\n",
       "      <td>13</td>\n",
       "      <td>1</td>\n",
       "      <td>0</td>\n",
       "      <td>1</td>\n",
       "      <td>POLYGON ((1448608.994 856538.940, 1448597.676 ...</td>\n",
       "    </tr>\n",
       "    <tr>\n",
       "      <th>4</th>\n",
       "      <td>439</td>\n",
       "      <td>3039</td>\n",
       "      <td>4393039</td>\n",
       "      <td>220</td>\n",
       "      <td>782</td>\n",
       "      <td>1780</td>\n",
       "      <td>99</td>\n",
       "      <td>11</td>\n",
       "      <td>25</td>\n",
       "      <td>575</td>\n",
       "      <td>1944</td>\n",
       "      <td>136</td>\n",
       "      <td>42</td>\n",
       "      <td>POLYGON ((1268323.146 1205017.455, 1268329.146...</td>\n",
       "    </tr>\n",
       "  </tbody>\n",
       "</table>\n",
       "</div>"
      ],
      "text/plain": [
       "   CNTY  PREC   PCTKEY  cntykey  G16PREDCli  G16PRERTru  G16PRELJoh  \\\n",
       "0   439  1611  4391611      220           8           4           1   \n",
       "1    27  0311   270311       14         269        1406          46   \n",
       "2    35  0001   350001       18          61         401           6   \n",
       "3   201  0736  2010736      101          16           1           0   \n",
       "4   439  3039  4393039      220         782        1780          99   \n",
       "\n",
       "   G16PREGSte  G16PREOth  G16RRCDYar  G16RRCRChr  G16RRCLMil  G16RRCGSal  \\\n",
       "0           0          0           7           4           2           0   \n",
       "1          10         13         237        1355          80          26   \n",
       "2           2          2          63         370          25           3   \n",
       "3           0          0          13           1           0           1   \n",
       "4          11         25         575        1944         136          42   \n",
       "\n",
       "                                            geometry  \n",
       "0  POLYGON ((1249580.405 1174145.301, 1249495.984...  \n",
       "1  POLYGON ((1248151.416 1010828.003, 1248115.887...  \n",
       "2  POLYGON ((1203351.469 1102126.682, 1203420.185...  \n",
       "3  POLYGON ((1448608.994 856538.940, 1448597.676 ...  \n",
       "4  POLYGON ((1268323.146 1205017.455, 1268329.146...  "
      ]
     },
     "execution_count": 18,
     "metadata": {},
     "output_type": "execute_result"
    }
   ],
   "source": [
    "tx_vest.head()"
   ]
  },
  {
   "cell_type": "code",
   "execution_count": 19,
   "metadata": {},
   "outputs": [
    {
     "data": {
      "text/plain": [
       "(8832, 14)"
      ]
     },
     "execution_count": 19,
     "metadata": {},
     "output_type": "execute_result"
    }
   ],
   "source": [
    "tx_vest.shape"
   ]
  },
  {
   "cell_type": "code",
   "execution_count": 20,
   "metadata": {},
   "outputs": [
    {
     "data": {
      "text/plain": [
       "<Projected CRS: EPSG:3081>\n",
       "Name: NAD83 / Texas State Mapping System\n",
       "Axis Info [cartesian]:\n",
       "- X[east]: Easting (metre)\n",
       "- Y[north]: Northing (metre)\n",
       "Area of Use:\n",
       "- name: USA - Texas\n",
       "- bounds: (-106.66, 25.83, -93.5, 36.5)\n",
       "Coordinate Operation:\n",
       "- name: Texas State Mapping System (meters)\n",
       "- method: Lambert Conic Conformal (2SP)\n",
       "Datum: North American Datum 1983\n",
       "- Ellipsoid: GRS 1980\n",
       "- Prime Meridian: Greenwich"
      ]
     },
     "execution_count": 20,
     "metadata": {},
     "output_type": "execute_result"
    }
   ],
   "source": [
    "tx_vest.crs"
   ]
  },
  {
   "cell_type": "code",
   "execution_count": 21,
   "metadata": {},
   "outputs": [
    {
     "data": {
      "text/plain": [
       "<matplotlib.axes._subplots.AxesSubplot at 0x12f860a30>"
      ]
     },
     "execution_count": 21,
     "metadata": {},
     "output_type": "execute_result"
    },
    {
     "data": {
      "image/png": "[encoded data removed]",
      "text/plain": [
       "<Figure size 432x288 with 1 Axes>"
      ]
     },
     "metadata": {
      "needs_background": "light"
     },
     "output_type": "display_data"
    }
   ],
   "source": [
    "tx_vest.boundary.plot()"
   ]
  },
  {
   "cell_type": "markdown",
   "metadata": {},
   "source": [
    "# Joining"
   ]
  },
  {
   "cell_type": "markdown",
   "metadata": {},
   "source": [
    "## Join Election Results to VTD File"
   ]
  },
  {
   "cell_type": "code",
   "execution_count": 22,
   "metadata": {},
   "outputs": [
    {
     "data": {
      "text/html": [
       "<div>\n",
       "<style scoped>\n",
       "    .dataframe tbody tr th:only-of-type {\n",
       "        vertical-align: middle;\n",
       "    }\n",
       "\n",
       "    .dataframe tbody tr th {\n",
       "        vertical-align: top;\n",
       "    }\n",
       "\n",
       "    .dataframe thead th {\n",
       "        text-align: right;\n",
       "    }\n",
       "</style>\n",
       "<table border=\"1\" class=\"dataframe\">\n",
       "  <thead>\n",
       "    <tr style=\"text-align: right;\">\n",
       "      <th></th>\n",
       "      <th>G16PREDCli</th>\n",
       "      <th>G16PREGSte</th>\n",
       "      <th>G16PRELJoh</th>\n",
       "      <th>G16PRERTru</th>\n",
       "      <th>G16PREOth</th>\n",
       "      <th>G16RRCDYar</th>\n",
       "      <th>G16RRCGSal</th>\n",
       "      <th>G16RRCLMil</th>\n",
       "      <th>G16RRCRChr</th>\n",
       "    </tr>\n",
       "    <tr>\n",
       "      <th>CNTYVTD</th>\n",
       "      <th></th>\n",
       "      <th></th>\n",
       "      <th></th>\n",
       "      <th></th>\n",
       "      <th></th>\n",
       "      <th></th>\n",
       "      <th></th>\n",
       "      <th></th>\n",
       "      <th></th>\n",
       "    </tr>\n",
       "  </thead>\n",
       "  <tbody>\n",
       "    <tr>\n",
       "      <th>10001</th>\n",
       "      <td>262</td>\n",
       "      <td>5</td>\n",
       "      <td>18</td>\n",
       "      <td>742</td>\n",
       "      <td>3</td>\n",
       "      <td>236</td>\n",
       "      <td>22</td>\n",
       "      <td>47</td>\n",
       "      <td>710</td>\n",
       "    </tr>\n",
       "  </tbody>\n",
       "</table>\n",
       "</div>"
      ],
      "text/plain": [
       "         G16PREDCli  G16PREGSte  G16PRELJoh  G16PRERTru  G16PREOth  \\\n",
       "CNTYVTD                                                              \n",
       "10001           262           5          18         742          3   \n",
       "\n",
       "         G16RRCDYar  G16RRCGSal  G16RRCLMil  G16RRCRChr  \n",
       "CNTYVTD                                                  \n",
       "10001           236          22          47         710  "
      ]
     },
     "execution_count": 22,
     "metadata": {},
     "output_type": "execute_result"
    }
   ],
   "source": [
    "pivoted_2016.head(1)"
   ]
  },
  {
   "cell_type": "code",
   "execution_count": 23,
   "metadata": {},
   "outputs": [],
   "source": [
    "tx_rdh = pivoted_2016.merge(vtd_2016, how = 'left', on = 'CNTYVTD', indicator = True)"
   ]
  },
  {
   "cell_type": "code",
   "execution_count": 24,
   "metadata": {},
   "outputs": [
    {
     "data": {
      "text/html": [
       "<div>\n",
       "<style scoped>\n",
       "    .dataframe tbody tr th:only-of-type {\n",
       "        vertical-align: middle;\n",
       "    }\n",
       "\n",
       "    .dataframe tbody tr th {\n",
       "        vertical-align: top;\n",
       "    }\n",
       "\n",
       "    .dataframe thead th {\n",
       "        text-align: right;\n",
       "    }\n",
       "</style>\n",
       "<table border=\"1\" class=\"dataframe\">\n",
       "  <thead>\n",
       "    <tr style=\"text-align: right;\">\n",
       "      <th></th>\n",
       "      <th>CNTYVTD</th>\n",
       "      <th>G16PREDCli</th>\n",
       "      <th>G16PREGSte</th>\n",
       "      <th>G16PRELJoh</th>\n",
       "      <th>G16PRERTru</th>\n",
       "      <th>G16PREOth</th>\n",
       "      <th>G16RRCDYar</th>\n",
       "      <th>G16RRCGSal</th>\n",
       "      <th>G16RRCLMil</th>\n",
       "      <th>G16RRCRChr</th>\n",
       "      <th>CNTY</th>\n",
       "      <th>COLOR</th>\n",
       "      <th>VTD</th>\n",
       "      <th>VTDKEY</th>\n",
       "      <th>Shape_area</th>\n",
       "      <th>Shape_len</th>\n",
       "      <th>geometry</th>\n",
       "    </tr>\n",
       "    <tr>\n",
       "      <th>_merge</th>\n",
       "      <th></th>\n",
       "      <th></th>\n",
       "      <th></th>\n",
       "      <th></th>\n",
       "      <th></th>\n",
       "      <th></th>\n",
       "      <th></th>\n",
       "      <th></th>\n",
       "      <th></th>\n",
       "      <th></th>\n",
       "      <th></th>\n",
       "      <th></th>\n",
       "      <th></th>\n",
       "      <th></th>\n",
       "      <th></th>\n",
       "      <th></th>\n",
       "      <th></th>\n",
       "    </tr>\n",
       "  </thead>\n",
       "  <tbody>\n",
       "    <tr>\n",
       "      <th>left_only</th>\n",
       "      <td>0</td>\n",
       "      <td>0</td>\n",
       "      <td>0</td>\n",
       "      <td>0</td>\n",
       "      <td>0</td>\n",
       "      <td>0</td>\n",
       "      <td>0</td>\n",
       "      <td>0</td>\n",
       "      <td>0</td>\n",
       "      <td>0</td>\n",
       "      <td>0</td>\n",
       "      <td>0</td>\n",
       "      <td>0</td>\n",
       "      <td>0</td>\n",
       "      <td>0</td>\n",
       "      <td>0</td>\n",
       "      <td>0</td>\n",
       "    </tr>\n",
       "    <tr>\n",
       "      <th>right_only</th>\n",
       "      <td>0</td>\n",
       "      <td>0</td>\n",
       "      <td>0</td>\n",
       "      <td>0</td>\n",
       "      <td>0</td>\n",
       "      <td>0</td>\n",
       "      <td>0</td>\n",
       "      <td>0</td>\n",
       "      <td>0</td>\n",
       "      <td>0</td>\n",
       "      <td>0</td>\n",
       "      <td>0</td>\n",
       "      <td>0</td>\n",
       "      <td>0</td>\n",
       "      <td>0</td>\n",
       "      <td>0</td>\n",
       "      <td>0</td>\n",
       "    </tr>\n",
       "    <tr>\n",
       "      <th>both</th>\n",
       "      <td>8941</td>\n",
       "      <td>8941</td>\n",
       "      <td>8941</td>\n",
       "      <td>8941</td>\n",
       "      <td>8941</td>\n",
       "      <td>8941</td>\n",
       "      <td>8941</td>\n",
       "      <td>8941</td>\n",
       "      <td>8941</td>\n",
       "      <td>8941</td>\n",
       "      <td>8941</td>\n",
       "      <td>8941</td>\n",
       "      <td>8941</td>\n",
       "      <td>8941</td>\n",
       "      <td>8941</td>\n",
       "      <td>8941</td>\n",
       "      <td>8941</td>\n",
       "    </tr>\n",
       "  </tbody>\n",
       "</table>\n",
       "</div>"
      ],
      "text/plain": [
       "            CNTYVTD  G16PREDCli  G16PREGSte  G16PRELJoh  G16PRERTru  \\\n",
       "_merge                                                                \n",
       "left_only         0           0           0           0           0   \n",
       "right_only        0           0           0           0           0   \n",
       "both           8941        8941        8941        8941        8941   \n",
       "\n",
       "            G16PREOth  G16RRCDYar  G16RRCGSal  G16RRCLMil  G16RRCRChr  CNTY  \\\n",
       "_merge                                                                        \n",
       "left_only           0           0           0           0           0     0   \n",
       "right_only          0           0           0           0           0     0   \n",
       "both             8941        8941        8941        8941        8941  8941   \n",
       "\n",
       "            COLOR   VTD  VTDKEY  Shape_area  Shape_len  geometry  \n",
       "_merge                                                            \n",
       "left_only       0     0       0           0          0         0  \n",
       "right_only      0     0       0           0          0         0  \n",
       "both         8941  8941    8941        8941       8941      8941  "
      ]
     },
     "execution_count": 24,
     "metadata": {},
     "output_type": "execute_result"
    }
   ],
   "source": [
    "tx_rdh.groupby('_merge').count()"
   ]
  },
  {
   "cell_type": "markdown",
   "metadata": {},
   "source": [
    "So the TX election results and VTD files merged no problem"
   ]
  },
  {
   "cell_type": "code",
   "execution_count": 25,
   "metadata": {},
   "outputs": [
    {
     "data": {
      "text/html": [
       "<div>\n",
       "<style scoped>\n",
       "    .dataframe tbody tr th:only-of-type {\n",
       "        vertical-align: middle;\n",
       "    }\n",
       "\n",
       "    .dataframe tbody tr th {\n",
       "        vertical-align: top;\n",
       "    }\n",
       "\n",
       "    .dataframe thead th {\n",
       "        text-align: right;\n",
       "    }\n",
       "</style>\n",
       "<table border=\"1\" class=\"dataframe\">\n",
       "  <thead>\n",
       "    <tr style=\"text-align: right;\">\n",
       "      <th></th>\n",
       "      <th>CNTYVTD</th>\n",
       "      <th>G16PREDCli</th>\n",
       "      <th>G16PREGSte</th>\n",
       "      <th>G16PRELJoh</th>\n",
       "      <th>G16PRERTru</th>\n",
       "      <th>G16PREOth</th>\n",
       "      <th>G16RRCDYar</th>\n",
       "      <th>G16RRCGSal</th>\n",
       "      <th>G16RRCLMil</th>\n",
       "      <th>G16RRCRChr</th>\n",
       "      <th>CNTY</th>\n",
       "      <th>COLOR</th>\n",
       "      <th>VTD</th>\n",
       "      <th>VTDKEY</th>\n",
       "      <th>Shape_area</th>\n",
       "      <th>Shape_len</th>\n",
       "      <th>geometry</th>\n",
       "      <th>_merge</th>\n",
       "    </tr>\n",
       "  </thead>\n",
       "  <tbody>\n",
       "    <tr>\n",
       "      <th>0</th>\n",
       "      <td>10001</td>\n",
       "      <td>262</td>\n",
       "      <td>5</td>\n",
       "      <td>18</td>\n",
       "      <td>742</td>\n",
       "      <td>3</td>\n",
       "      <td>236</td>\n",
       "      <td>22</td>\n",
       "      <td>47</td>\n",
       "      <td>710</td>\n",
       "      <td>1</td>\n",
       "      <td>4</td>\n",
       "      <td>0001</td>\n",
       "      <td>0</td>\n",
       "      <td>5.616316e+06</td>\n",
       "      <td>15020.544928</td>\n",
       "      <td>POLYGON ((1413960.808 1073012.816, 1413971.571...</td>\n",
       "      <td>both</td>\n",
       "    </tr>\n",
       "  </tbody>\n",
       "</table>\n",
       "</div>"
      ],
      "text/plain": [
       "  CNTYVTD  G16PREDCli  G16PREGSte  G16PRELJoh  G16PRERTru  G16PREOth  \\\n",
       "0   10001         262           5          18         742          3   \n",
       "\n",
       "   G16RRCDYar  G16RRCGSal  G16RRCLMil  G16RRCRChr  CNTY  COLOR   VTD  VTDKEY  \\\n",
       "0         236          22          47         710     1      4  0001       0   \n",
       "\n",
       "     Shape_area     Shape_len  \\\n",
       "0  5.616316e+06  15020.544928   \n",
       "\n",
       "                                            geometry _merge  \n",
       "0  POLYGON ((1413960.808 1073012.816, 1413971.571...   both  "
      ]
     },
     "execution_count": 25,
     "metadata": {},
     "output_type": "execute_result"
    }
   ],
   "source": [
    "tx_rdh.head(1)"
   ]
  },
  {
   "cell_type": "code",
   "execution_count": 26,
   "metadata": {},
   "outputs": [],
   "source": [
    "tx_rdh.drop(columns=['_merge'], inplace = True)"
   ]
  },
  {
   "cell_type": "markdown",
   "metadata": {},
   "source": [
    "## Join RDH File to VEST File"
   ]
  },
  {
   "cell_type": "markdown",
   "metadata": {},
   "source": [
    "### Join Attempt #1"
   ]
  },
  {
   "cell_type": "code",
   "execution_count": 27,
   "metadata": {},
   "outputs": [
    {
     "data": {
      "text/html": [
       "<div>\n",
       "<style scoped>\n",
       "    .dataframe tbody tr th:only-of-type {\n",
       "        vertical-align: middle;\n",
       "    }\n",
       "\n",
       "    .dataframe tbody tr th {\n",
       "        vertical-align: top;\n",
       "    }\n",
       "\n",
       "    .dataframe thead th {\n",
       "        text-align: right;\n",
       "    }\n",
       "</style>\n",
       "<table border=\"1\" class=\"dataframe\">\n",
       "  <thead>\n",
       "    <tr style=\"text-align: right;\">\n",
       "      <th></th>\n",
       "      <th>CNTY</th>\n",
       "      <th>PREC</th>\n",
       "      <th>PCTKEY</th>\n",
       "      <th>cntykey</th>\n",
       "      <th>G16PREDCli</th>\n",
       "      <th>G16PRERTru</th>\n",
       "      <th>G16PRELJoh</th>\n",
       "      <th>G16PREGSte</th>\n",
       "      <th>G16PREOth</th>\n",
       "      <th>G16RRCDYar</th>\n",
       "      <th>G16RRCRChr</th>\n",
       "      <th>G16RRCLMil</th>\n",
       "      <th>G16RRCGSal</th>\n",
       "      <th>geometry</th>\n",
       "    </tr>\n",
       "  </thead>\n",
       "  <tbody>\n",
       "    <tr>\n",
       "      <th>0</th>\n",
       "      <td>439</td>\n",
       "      <td>1611</td>\n",
       "      <td>4391611</td>\n",
       "      <td>220</td>\n",
       "      <td>8</td>\n",
       "      <td>4</td>\n",
       "      <td>1</td>\n",
       "      <td>0</td>\n",
       "      <td>0</td>\n",
       "      <td>7</td>\n",
       "      <td>4</td>\n",
       "      <td>2</td>\n",
       "      <td>0</td>\n",
       "      <td>POLYGON ((1249580.405 1174145.301, 1249495.984...</td>\n",
       "    </tr>\n",
       "  </tbody>\n",
       "</table>\n",
       "</div>"
      ],
      "text/plain": [
       "   CNTY  PREC   PCTKEY  cntykey  G16PREDCli  G16PRERTru  G16PRELJoh  \\\n",
       "0   439  1611  4391611      220           8           4           1   \n",
       "\n",
       "   G16PREGSte  G16PREOth  G16RRCDYar  G16RRCRChr  G16RRCLMil  G16RRCGSal  \\\n",
       "0           0          0           7           4           2           0   \n",
       "\n",
       "                                            geometry  \n",
       "0  POLYGON ((1249580.405 1174145.301, 1249495.984...  "
      ]
     },
     "execution_count": 27,
     "metadata": {},
     "output_type": "execute_result"
    }
   ],
   "source": [
    "tx_vest.head(1)"
   ]
  },
  {
   "cell_type": "code",
   "execution_count": 28,
   "metadata": {},
   "outputs": [],
   "source": [
    "overlap = tx_rdh.merge(tx_vest, how = 'outer', left_on = 'CNTYVTD', right_on = 'PCTKEY', indicator = True)"
   ]
  },
  {
   "cell_type": "code",
   "execution_count": 29,
   "metadata": {},
   "outputs": [
    {
     "data": {
      "text/html": [
       "<div>\n",
       "<style scoped>\n",
       "    .dataframe tbody tr th:only-of-type {\n",
       "        vertical-align: middle;\n",
       "    }\n",
       "\n",
       "    .dataframe tbody tr th {\n",
       "        vertical-align: top;\n",
       "    }\n",
       "\n",
       "    .dataframe thead th {\n",
       "        text-align: right;\n",
       "    }\n",
       "</style>\n",
       "<table border=\"1\" class=\"dataframe\">\n",
       "  <thead>\n",
       "    <tr style=\"text-align: right;\">\n",
       "      <th></th>\n",
       "      <th>CNTYVTD</th>\n",
       "      <th>G16PREDCli_x</th>\n",
       "      <th>G16PREGSte_x</th>\n",
       "      <th>G16PRELJoh_x</th>\n",
       "      <th>G16PRERTru_x</th>\n",
       "      <th>G16PREOth_x</th>\n",
       "      <th>G16RRCDYar_x</th>\n",
       "      <th>G16RRCGSal_x</th>\n",
       "      <th>G16RRCLMil_x</th>\n",
       "      <th>G16RRCRChr_x</th>\n",
       "      <th>...</th>\n",
       "      <th>G16PREDCli_y</th>\n",
       "      <th>G16PRERTru_y</th>\n",
       "      <th>G16PRELJoh_y</th>\n",
       "      <th>G16PREGSte_y</th>\n",
       "      <th>G16PREOth_y</th>\n",
       "      <th>G16RRCDYar_y</th>\n",
       "      <th>G16RRCRChr_y</th>\n",
       "      <th>G16RRCLMil_y</th>\n",
       "      <th>G16RRCGSal_y</th>\n",
       "      <th>geometry_y</th>\n",
       "    </tr>\n",
       "    <tr>\n",
       "      <th>_merge</th>\n",
       "      <th></th>\n",
       "      <th></th>\n",
       "      <th></th>\n",
       "      <th></th>\n",
       "      <th></th>\n",
       "      <th></th>\n",
       "      <th></th>\n",
       "      <th></th>\n",
       "      <th></th>\n",
       "      <th></th>\n",
       "      <th></th>\n",
       "      <th></th>\n",
       "      <th></th>\n",
       "      <th></th>\n",
       "      <th></th>\n",
       "      <th></th>\n",
       "      <th></th>\n",
       "      <th></th>\n",
       "      <th></th>\n",
       "      <th></th>\n",
       "      <th></th>\n",
       "    </tr>\n",
       "  </thead>\n",
       "  <tbody>\n",
       "    <tr>\n",
       "      <th>left_only</th>\n",
       "      <td>222</td>\n",
       "      <td>222</td>\n",
       "      <td>222</td>\n",
       "      <td>222</td>\n",
       "      <td>222</td>\n",
       "      <td>222</td>\n",
       "      <td>222</td>\n",
       "      <td>222</td>\n",
       "      <td>222</td>\n",
       "      <td>222</td>\n",
       "      <td>...</td>\n",
       "      <td>0</td>\n",
       "      <td>0</td>\n",
       "      <td>0</td>\n",
       "      <td>0</td>\n",
       "      <td>0</td>\n",
       "      <td>0</td>\n",
       "      <td>0</td>\n",
       "      <td>0</td>\n",
       "      <td>0</td>\n",
       "      <td>0</td>\n",
       "    </tr>\n",
       "    <tr>\n",
       "      <th>right_only</th>\n",
       "      <td>0</td>\n",
       "      <td>0</td>\n",
       "      <td>0</td>\n",
       "      <td>0</td>\n",
       "      <td>0</td>\n",
       "      <td>0</td>\n",
       "      <td>0</td>\n",
       "      <td>0</td>\n",
       "      <td>0</td>\n",
       "      <td>0</td>\n",
       "      <td>...</td>\n",
       "      <td>113</td>\n",
       "      <td>113</td>\n",
       "      <td>113</td>\n",
       "      <td>113</td>\n",
       "      <td>113</td>\n",
       "      <td>113</td>\n",
       "      <td>113</td>\n",
       "      <td>113</td>\n",
       "      <td>113</td>\n",
       "      <td>113</td>\n",
       "    </tr>\n",
       "    <tr>\n",
       "      <th>both</th>\n",
       "      <td>8719</td>\n",
       "      <td>8719</td>\n",
       "      <td>8719</td>\n",
       "      <td>8719</td>\n",
       "      <td>8719</td>\n",
       "      <td>8719</td>\n",
       "      <td>8719</td>\n",
       "      <td>8719</td>\n",
       "      <td>8719</td>\n",
       "      <td>8719</td>\n",
       "      <td>...</td>\n",
       "      <td>8719</td>\n",
       "      <td>8719</td>\n",
       "      <td>8719</td>\n",
       "      <td>8719</td>\n",
       "      <td>8719</td>\n",
       "      <td>8719</td>\n",
       "      <td>8719</td>\n",
       "      <td>8719</td>\n",
       "      <td>8719</td>\n",
       "      <td>8719</td>\n",
       "    </tr>\n",
       "  </tbody>\n",
       "</table>\n",
       "<p>3 rows × 31 columns</p>\n",
       "</div>"
      ],
      "text/plain": [
       "            CNTYVTD  G16PREDCli_x  G16PREGSte_x  G16PRELJoh_x  G16PRERTru_x  \\\n",
       "_merge                                                                        \n",
       "left_only       222           222           222           222           222   \n",
       "right_only        0             0             0             0             0   \n",
       "both           8719          8719          8719          8719          8719   \n",
       "\n",
       "            G16PREOth_x  G16RRCDYar_x  G16RRCGSal_x  G16RRCLMil_x  \\\n",
       "_merge                                                              \n",
       "left_only           222           222           222           222   \n",
       "right_only            0             0             0             0   \n",
       "both               8719          8719          8719          8719   \n",
       "\n",
       "            G16RRCRChr_x  ...  G16PREDCli_y  G16PRERTru_y  G16PRELJoh_y  \\\n",
       "_merge                    ...                                             \n",
       "left_only            222  ...             0             0             0   \n",
       "right_only             0  ...           113           113           113   \n",
       "both                8719  ...          8719          8719          8719   \n",
       "\n",
       "            G16PREGSte_y  G16PREOth_y  G16RRCDYar_y  G16RRCRChr_y  \\\n",
       "_merge                                                              \n",
       "left_only              0            0             0             0   \n",
       "right_only           113          113           113           113   \n",
       "both                8719         8719          8719          8719   \n",
       "\n",
       "            G16RRCLMil_y  G16RRCGSal_y  geometry_y  \n",
       "_merge                                              \n",
       "left_only              0             0           0  \n",
       "right_only           113           113         113  \n",
       "both                8719          8719        8719  \n",
       "\n",
       "[3 rows x 31 columns]"
      ]
     },
     "execution_count": 29,
     "metadata": {},
     "output_type": "execute_result"
    }
   ],
   "source": [
    "overlap.groupby('_merge').count()"
   ]
  },
  {
   "cell_type": "markdown",
   "metadata": {},
   "source": [
    "Look at the precincts that didn't join"
   ]
  },
  {
   "cell_type": "code",
   "execution_count": 30,
   "metadata": {},
   "outputs": [
    {
     "data": {
      "text/html": [
       "<div>\n",
       "<style scoped>\n",
       "    .dataframe tbody tr th:only-of-type {\n",
       "        vertical-align: middle;\n",
       "    }\n",
       "\n",
       "    .dataframe tbody tr th {\n",
       "        vertical-align: top;\n",
       "    }\n",
       "\n",
       "    .dataframe thead th {\n",
       "        text-align: right;\n",
       "    }\n",
       "</style>\n",
       "<table border=\"1\" class=\"dataframe\">\n",
       "  <thead>\n",
       "    <tr style=\"text-align: right;\">\n",
       "      <th></th>\n",
       "      <th>CNTYVTD</th>\n",
       "      <th>G16PREDCli_x</th>\n",
       "    </tr>\n",
       "  </thead>\n",
       "  <tbody>\n",
       "    <tr>\n",
       "      <th>121</th>\n",
       "      <td>1131065A</td>\n",
       "      <td>1031.0</td>\n",
       "    </tr>\n",
       "    <tr>\n",
       "      <th>122</th>\n",
       "      <td>1131065B</td>\n",
       "      <td>0.0</td>\n",
       "    </tr>\n",
       "    <tr>\n",
       "      <th>123</th>\n",
       "      <td>1131065C</td>\n",
       "      <td>0.0</td>\n",
       "    </tr>\n",
       "    <tr>\n",
       "      <th>128</th>\n",
       "      <td>1131071A</td>\n",
       "      <td>1195.0</td>\n",
       "    </tr>\n",
       "    <tr>\n",
       "      <th>129</th>\n",
       "      <td>1131071B</td>\n",
       "      <td>0.0</td>\n",
       "    </tr>\n",
       "    <tr>\n",
       "      <th>...</th>\n",
       "      <td>...</td>\n",
       "      <td>...</td>\n",
       "    </tr>\n",
       "    <tr>\n",
       "      <th>8799</th>\n",
       "      <td>850197B</td>\n",
       "      <td>0.0</td>\n",
       "    </tr>\n",
       "    <tr>\n",
       "      <th>8851</th>\n",
       "      <td>910105A</td>\n",
       "      <td>640.0</td>\n",
       "    </tr>\n",
       "    <tr>\n",
       "      <th>8852</th>\n",
       "      <td>910105B</td>\n",
       "      <td>13.0</td>\n",
       "    </tr>\n",
       "    <tr>\n",
       "      <th>8856</th>\n",
       "      <td>910203A</td>\n",
       "      <td>811.0</td>\n",
       "    </tr>\n",
       "    <tr>\n",
       "      <th>8857</th>\n",
       "      <td>910203B</td>\n",
       "      <td>0.0</td>\n",
       "    </tr>\n",
       "  </tbody>\n",
       "</table>\n",
       "<p>222 rows × 2 columns</p>\n",
       "</div>"
      ],
      "text/plain": [
       "       CNTYVTD  G16PREDCli_x\n",
       "121   1131065A        1031.0\n",
       "122   1131065B           0.0\n",
       "123   1131065C           0.0\n",
       "128   1131071A        1195.0\n",
       "129   1131071B           0.0\n",
       "...        ...           ...\n",
       "8799   850197B           0.0\n",
       "8851   910105A         640.0\n",
       "8852   910105B          13.0\n",
       "8856   910203A         811.0\n",
       "8857   910203B           0.0\n",
       "\n",
       "[222 rows x 2 columns]"
      ]
     },
     "execution_count": 30,
     "metadata": {},
     "output_type": "execute_result"
    }
   ],
   "source": [
    "# with pd.option_context('display.max_rows', 500):\n",
    "#     print(overlap.loc[overlap['_merge'] == 'left_only'][['CNTYVTD','G16PREDCli_x']].sort_values(by='CNTYVTD'))\n",
    "overlap.loc[overlap['_merge'] == 'left_only'][['CNTYVTD','G16PREDCli_x']].sort_values(by='CNTYVTD')"
   ]
  },
  {
   "cell_type": "code",
   "execution_count": 31,
   "metadata": {},
   "outputs": [
    {
     "data": {
      "text/html": [
       "<div>\n",
       "<style scoped>\n",
       "    .dataframe tbody tr th:only-of-type {\n",
       "        vertical-align: middle;\n",
       "    }\n",
       "\n",
       "    .dataframe tbody tr th {\n",
       "        vertical-align: top;\n",
       "    }\n",
       "\n",
       "    .dataframe thead th {\n",
       "        text-align: right;\n",
       "    }\n",
       "</style>\n",
       "<table border=\"1\" class=\"dataframe\">\n",
       "  <thead>\n",
       "    <tr style=\"text-align: right;\">\n",
       "      <th></th>\n",
       "      <th>PCTKEY</th>\n",
       "      <th>G16PREDCli_y</th>\n",
       "    </tr>\n",
       "  </thead>\n",
       "  <tbody>\n",
       "    <tr>\n",
       "      <th>8945</th>\n",
       "      <td>1131065</td>\n",
       "      <td>1031.0</td>\n",
       "    </tr>\n",
       "    <tr>\n",
       "      <th>8947</th>\n",
       "      <td>1131071</td>\n",
       "      <td>1195.0</td>\n",
       "    </tr>\n",
       "    <tr>\n",
       "      <th>8985</th>\n",
       "      <td>1131075</td>\n",
       "      <td>783.0</td>\n",
       "    </tr>\n",
       "    <tr>\n",
       "      <th>8949</th>\n",
       "      <td>1131087</td>\n",
       "      <td>1517.0</td>\n",
       "    </tr>\n",
       "    <tr>\n",
       "      <th>8964</th>\n",
       "      <td>1131141</td>\n",
       "      <td>0.0</td>\n",
       "    </tr>\n",
       "    <tr>\n",
       "      <th>...</th>\n",
       "      <td>...</td>\n",
       "      <td>...</td>\n",
       "    </tr>\n",
       "    <tr>\n",
       "      <th>8997</th>\n",
       "      <td>850108</td>\n",
       "      <td>969.0</td>\n",
       "    </tr>\n",
       "    <tr>\n",
       "      <th>8942</th>\n",
       "      <td>850126</td>\n",
       "      <td>1108.0</td>\n",
       "    </tr>\n",
       "    <tr>\n",
       "      <th>8972</th>\n",
       "      <td>850197</td>\n",
       "      <td>418.0</td>\n",
       "    </tr>\n",
       "    <tr>\n",
       "      <th>8999</th>\n",
       "      <td>910105</td>\n",
       "      <td>653.0</td>\n",
       "    </tr>\n",
       "    <tr>\n",
       "      <th>8998</th>\n",
       "      <td>910203</td>\n",
       "      <td>811.0</td>\n",
       "    </tr>\n",
       "  </tbody>\n",
       "</table>\n",
       "<p>113 rows × 2 columns</p>\n",
       "</div>"
      ],
      "text/plain": [
       "       PCTKEY  G16PREDCli_y\n",
       "8945  1131065        1031.0\n",
       "8947  1131071        1195.0\n",
       "8985  1131075         783.0\n",
       "8949  1131087        1517.0\n",
       "8964  1131141           0.0\n",
       "...       ...           ...\n",
       "8997   850108         969.0\n",
       "8942   850126        1108.0\n",
       "8972   850197         418.0\n",
       "8999   910105         653.0\n",
       "8998   910203         811.0\n",
       "\n",
       "[113 rows x 2 columns]"
      ]
     },
     "execution_count": 31,
     "metadata": {},
     "output_type": "execute_result"
    }
   ],
   "source": [
    "overlap.loc[overlap['_merge'] == 'right_only'][['PCTKEY','G16PREDCli_y']].sort_values(by='PCTKEY')"
   ]
  },
  {
   "cell_type": "markdown",
   "metadata": {},
   "source": [
    "Interesting, so VEST cleaned up the A,B,C precincts that didn't have election results... did they merge those geographies? "
   ]
  },
  {
   "cell_type": "code",
   "execution_count": 32,
   "metadata": {},
   "outputs": [
    {
     "data": {
      "text/plain": [
       "<matplotlib.axes._subplots.AxesSubplot at 0x12bbacdc0>"
      ]
     },
     "execution_count": 32,
     "metadata": {},
     "output_type": "execute_result"
    },
    {
     "data": {
      "image/png": "[encoded data removed]",
      "text/plain": [
       "<Figure size 432x288 with 1 Axes>"
      ]
     },
     "metadata": {
      "needs_background": "light"
     },
     "output_type": "display_data"
    }
   ],
   "source": [
    "vtd_2016.loc[(vtd_2016['CNTYVTD'].str.contains('1131065A'))].boundary.plot()"
   ]
  },
  {
   "cell_type": "code",
   "execution_count": 33,
   "metadata": {},
   "outputs": [
    {
     "data": {
      "text/plain": [
       "<matplotlib.axes._subplots.AxesSubplot at 0x131482310>"
      ]
     },
     "execution_count": 33,
     "metadata": {},
     "output_type": "execute_result"
    },
    {
     "data": {
      "image/png": "[encoded data removed]",
      "text/plain": [
       "<Figure size 432x288 with 1 Axes>"
      ]
     },
     "metadata": {
      "needs_background": "light"
     },
     "output_type": "display_data"
    }
   ],
   "source": [
    "vtd_2016.loc[(vtd_2016['CNTYVTD'].str.contains('1131065'))].boundary.plot()"
   ]
  },
  {
   "cell_type": "code",
   "execution_count": 34,
   "metadata": {},
   "outputs": [
    {
     "data": {
      "text/plain": [
       "<matplotlib.axes._subplots.AxesSubplot at 0x12c6be250>"
      ]
     },
     "execution_count": 34,
     "metadata": {},
     "output_type": "execute_result"
    },
    {
     "data": {
      "image/png": "[encoded data removed]",
      "text/plain": [
       "<Figure size 432x288 with 1 Axes>"
      ]
     },
     "metadata": {
      "needs_background": "light"
     },
     "output_type": "display_data"
    }
   ],
   "source": [
    "tx_vest.loc[tx_vest.PCTKEY == '1131065'].boundary.plot()"
   ]
  },
  {
   "cell_type": "markdown",
   "metadata": {},
   "source": [
    "Based on this spot check, it does look like they merged those geographies. We will try to replicate this but we don't know why they did it"
   ]
  },
  {
   "cell_type": "code",
   "execution_count": 35,
   "metadata": {},
   "outputs": [
    {
     "data": {
      "text/html": [
       "<div>\n",
       "<style scoped>\n",
       "    .dataframe tbody tr th:only-of-type {\n",
       "        vertical-align: middle;\n",
       "    }\n",
       "\n",
       "    .dataframe tbody tr th {\n",
       "        vertical-align: top;\n",
       "    }\n",
       "\n",
       "    .dataframe thead th {\n",
       "        text-align: right;\n",
       "    }\n",
       "</style>\n",
       "<table border=\"1\" class=\"dataframe\">\n",
       "  <thead>\n",
       "    <tr style=\"text-align: right;\">\n",
       "      <th></th>\n",
       "      <th>CNTYVTD</th>\n",
       "      <th>G16PREDCli</th>\n",
       "      <th>G16PREGSte</th>\n",
       "      <th>G16PRELJoh</th>\n",
       "      <th>G16PRERTru</th>\n",
       "      <th>G16PREOth</th>\n",
       "      <th>G16RRCDYar</th>\n",
       "      <th>G16RRCGSal</th>\n",
       "      <th>G16RRCLMil</th>\n",
       "      <th>G16RRCRChr</th>\n",
       "      <th>CNTY</th>\n",
       "      <th>COLOR</th>\n",
       "      <th>VTD</th>\n",
       "      <th>VTDKEY</th>\n",
       "      <th>Shape_area</th>\n",
       "      <th>Shape_len</th>\n",
       "      <th>geometry</th>\n",
       "    </tr>\n",
       "  </thead>\n",
       "  <tbody>\n",
       "    <tr>\n",
       "      <th>121</th>\n",
       "      <td>1131065A</td>\n",
       "      <td>1031</td>\n",
       "      <td>7</td>\n",
       "      <td>31</td>\n",
       "      <td>211</td>\n",
       "      <td>0</td>\n",
       "      <td>949</td>\n",
       "      <td>46</td>\n",
       "      <td>58</td>\n",
       "      <td>204</td>\n",
       "      <td>113</td>\n",
       "      <td>5</td>\n",
       "      <td>1065A</td>\n",
       "      <td>0</td>\n",
       "      <td>2.351253e+06</td>\n",
       "      <td>10007.470945</td>\n",
       "      <td>POLYGON ((1309750.052 1187025.572, 1309760.794...</td>\n",
       "    </tr>\n",
       "    <tr>\n",
       "      <th>122</th>\n",
       "      <td>1131065B</td>\n",
       "      <td>0</td>\n",
       "      <td>0</td>\n",
       "      <td>0</td>\n",
       "      <td>0</td>\n",
       "      <td>0</td>\n",
       "      <td>0</td>\n",
       "      <td>0</td>\n",
       "      <td>0</td>\n",
       "      <td>0</td>\n",
       "      <td>113</td>\n",
       "      <td>7</td>\n",
       "      <td>1065B</td>\n",
       "      <td>0</td>\n",
       "      <td>2.067407e+04</td>\n",
       "      <td>773.443143</td>\n",
       "      <td>POLYGON ((1310929.863 1185341.460, 1310925.792...</td>\n",
       "    </tr>\n",
       "    <tr>\n",
       "      <th>123</th>\n",
       "      <td>1131065C</td>\n",
       "      <td>0</td>\n",
       "      <td>0</td>\n",
       "      <td>0</td>\n",
       "      <td>0</td>\n",
       "      <td>0</td>\n",
       "      <td>0</td>\n",
       "      <td>0</td>\n",
       "      <td>0</td>\n",
       "      <td>0</td>\n",
       "      <td>113</td>\n",
       "      <td>6</td>\n",
       "      <td>1065C</td>\n",
       "      <td>0</td>\n",
       "      <td>7.330316e+03</td>\n",
       "      <td>1015.113743</td>\n",
       "      <td>POLYGON ((1311719.063 1186676.498, 1311717.228...</td>\n",
       "    </tr>\n",
       "  </tbody>\n",
       "</table>\n",
       "</div>"
      ],
      "text/plain": [
       "      CNTYVTD  G16PREDCli  G16PREGSte  G16PRELJoh  G16PRERTru  G16PREOth  \\\n",
       "121  1131065A        1031           7          31         211          0   \n",
       "122  1131065B           0           0           0           0          0   \n",
       "123  1131065C           0           0           0           0          0   \n",
       "\n",
       "     G16RRCDYar  G16RRCGSal  G16RRCLMil  G16RRCRChr  CNTY  COLOR    VTD  \\\n",
       "121         949          46          58         204   113      5  1065A   \n",
       "122           0           0           0           0   113      7  1065B   \n",
       "123           0           0           0           0   113      6  1065C   \n",
       "\n",
       "     VTDKEY    Shape_area     Shape_len  \\\n",
       "121       0  2.351253e+06  10007.470945   \n",
       "122       0  2.067407e+04    773.443143   \n",
       "123       0  7.330316e+03   1015.113743   \n",
       "\n",
       "                                              geometry  \n",
       "121  POLYGON ((1309750.052 1187025.572, 1309760.794...  \n",
       "122  POLYGON ((1310929.863 1185341.460, 1310925.792...  \n",
       "123  POLYGON ((1311719.063 1186676.498, 1311717.228...  "
      ]
     },
     "execution_count": 35,
     "metadata": {},
     "output_type": "execute_result"
    }
   ],
   "source": [
    "tx_rdh[tx_rdh.CNTYVTD.isin(overlap.loc[overlap['_merge'] == 'left_only']['CNTYVTD'])].head(3)"
   ]
  },
  {
   "cell_type": "code",
   "execution_count": 36,
   "metadata": {},
   "outputs": [
    {
     "data": {
      "text/plain": [
       "(222, 17)"
      ]
     },
     "execution_count": 36,
     "metadata": {},
     "output_type": "execute_result"
    }
   ],
   "source": [
    "tx_rdh[tx_rdh.CNTYVTD.isin(overlap.loc[overlap['_merge'] == 'left_only']['CNTYVTD'])].shape"
   ]
  },
  {
   "cell_type": "code",
   "execution_count": 37,
   "metadata": {},
   "outputs": [],
   "source": [
    "tx_rdh_v2 = tx_rdh.copy()"
   ]
  },
  {
   "cell_type": "code",
   "execution_count": 38,
   "metadata": {},
   "outputs": [],
   "source": [
    "tx_rdh = tx_rdh_v2.copy()"
   ]
  },
  {
   "cell_type": "code",
   "execution_count": 39,
   "metadata": {},
   "outputs": [
    {
     "data": {
      "text/plain": [
       "Index(['CNTYVTD', 'G16PREDCli', 'G16PREGSte', 'G16PRELJoh', 'G16PRERTru',\n",
       "       'G16PREOth', 'G16RRCDYar', 'G16RRCGSal', 'G16RRCLMil', 'G16RRCRChr',\n",
       "       'CNTY', 'COLOR', 'VTD', 'VTDKEY', 'Shape_area', 'Shape_len',\n",
       "       'geometry'],\n",
       "      dtype='object')"
      ]
     },
     "execution_count": 39,
     "metadata": {},
     "output_type": "execute_result"
    }
   ],
   "source": [
    "tx_rdh.columns"
   ]
  },
  {
   "cell_type": "markdown",
   "metadata": {},
   "source": [
    "Merge election results columns"
   ]
  },
  {
   "cell_type": "code",
   "execution_count": 40,
   "metadata": {},
   "outputs": [],
   "source": [
    "pivoted_2016.reset_index(inplace = True)"
   ]
  },
  {
   "cell_type": "code",
   "execution_count": 41,
   "metadata": {},
   "outputs": [
    {
     "data": {
      "text/html": [
       "<div>\n",
       "<style scoped>\n",
       "    .dataframe tbody tr th:only-of-type {\n",
       "        vertical-align: middle;\n",
       "    }\n",
       "\n",
       "    .dataframe tbody tr th {\n",
       "        vertical-align: top;\n",
       "    }\n",
       "\n",
       "    .dataframe thead th {\n",
       "        text-align: right;\n",
       "    }\n",
       "</style>\n",
       "<table border=\"1\" class=\"dataframe\">\n",
       "  <thead>\n",
       "    <tr style=\"text-align: right;\">\n",
       "      <th></th>\n",
       "      <th>CNTYVTD</th>\n",
       "      <th>G16PREDCli</th>\n",
       "      <th>G16PREGSte</th>\n",
       "      <th>G16PRELJoh</th>\n",
       "      <th>G16PRERTru</th>\n",
       "      <th>G16PREOth</th>\n",
       "      <th>G16RRCDYar</th>\n",
       "      <th>G16RRCGSal</th>\n",
       "      <th>G16RRCLMil</th>\n",
       "      <th>G16RRCRChr</th>\n",
       "    </tr>\n",
       "  </thead>\n",
       "  <tbody>\n",
       "    <tr>\n",
       "      <th>2254</th>\n",
       "      <td>2010143A</td>\n",
       "      <td>0</td>\n",
       "      <td>0</td>\n",
       "      <td>0</td>\n",
       "      <td>0</td>\n",
       "      <td>0</td>\n",
       "      <td>0</td>\n",
       "      <td>0</td>\n",
       "      <td>0</td>\n",
       "      <td>0</td>\n",
       "    </tr>\n",
       "    <tr>\n",
       "      <th>2255</th>\n",
       "      <td>2010143B</td>\n",
       "      <td>151</td>\n",
       "      <td>0</td>\n",
       "      <td>11</td>\n",
       "      <td>241</td>\n",
       "      <td>2</td>\n",
       "      <td>127</td>\n",
       "      <td>4</td>\n",
       "      <td>21</td>\n",
       "      <td>251</td>\n",
       "    </tr>\n",
       "    <tr>\n",
       "      <th>2256</th>\n",
       "      <td>2010143C</td>\n",
       "      <td>636</td>\n",
       "      <td>4</td>\n",
       "      <td>50</td>\n",
       "      <td>1009</td>\n",
       "      <td>9</td>\n",
       "      <td>532</td>\n",
       "      <td>17</td>\n",
       "      <td>91</td>\n",
       "      <td>1054</td>\n",
       "    </tr>\n",
       "  </tbody>\n",
       "</table>\n",
       "</div>"
      ],
      "text/plain": [
       "       CNTYVTD  G16PREDCli  G16PREGSte  G16PRELJoh  G16PRERTru  G16PREOth  \\\n",
       "2254  2010143A           0           0           0           0          0   \n",
       "2255  2010143B         151           0          11         241          2   \n",
       "2256  2010143C         636           4          50        1009          9   \n",
       "\n",
       "      G16RRCDYar  G16RRCGSal  G16RRCLMil  G16RRCRChr  \n",
       "2254           0           0           0           0  \n",
       "2255         127           4          21         251  \n",
       "2256         532          17          91        1054  "
      ]
     },
     "execution_count": 41,
     "metadata": {},
     "output_type": "execute_result"
    }
   ],
   "source": [
    "pivoted_2016[(pivoted_2016.CNTYVTD.isin(overlap.loc[overlap['_merge'] == 'left_only']['CNTYVTD'])) & (pivoted_2016.CNTYVTD.str.startswith('2010143'))]"
   ]
  },
  {
   "cell_type": "code",
   "execution_count": 42,
   "metadata": {},
   "outputs": [
    {
     "data": {
      "text/plain": [
       "[787, 4, 61, 1250, 11, 659, 21, 112, 1305]"
      ]
     },
     "execution_count": 42,
     "metadata": {},
     "output_type": "execute_result"
    }
   ],
   "source": [
    "temp_list = pivoted_2016[(pivoted_2016.CNTYVTD.isin(overlap.loc[overlap['_merge'] == 'left_only']['CNTYVTD'])) & (pivoted_2016.CNTYVTD.str.startswith('2010143'))].sum(numeric_only = True).to_list()\n",
    "temp_list"
   ]
  },
  {
   "cell_type": "code",
   "execution_count": 43,
   "metadata": {},
   "outputs": [
    {
     "data": {
      "text/plain": [
       "Index(['CNTYVTD', 'G16PREDCli', 'G16PREGSte', 'G16PRELJoh', 'G16PRERTru',\n",
       "       'G16PREOth', 'G16RRCDYar', 'G16RRCGSal', 'G16RRCLMil', 'G16RRCRChr'],\n",
       "      dtype='object')"
      ]
     },
     "execution_count": 43,
     "metadata": {},
     "output_type": "execute_result"
    }
   ],
   "source": [
    "pivoted_2016.columns"
   ]
  },
  {
   "cell_type": "code",
   "execution_count": 44,
   "metadata": {},
   "outputs": [
    {
     "data": {
      "text/html": [
       "<div>\n",
       "<style scoped>\n",
       "    .dataframe tbody tr th:only-of-type {\n",
       "        vertical-align: middle;\n",
       "    }\n",
       "\n",
       "    .dataframe tbody tr th {\n",
       "        vertical-align: top;\n",
       "    }\n",
       "\n",
       "    .dataframe thead th {\n",
       "        text-align: right;\n",
       "    }\n",
       "</style>\n",
       "<table border=\"1\" class=\"dataframe\">\n",
       "  <thead>\n",
       "    <tr style=\"text-align: right;\">\n",
       "      <th></th>\n",
       "      <th>G16PREDCli</th>\n",
       "      <th>G16PREGSte</th>\n",
       "      <th>G16PRELJoh</th>\n",
       "      <th>G16PRERTru</th>\n",
       "      <th>G16PREOth</th>\n",
       "      <th>G16RRCDYar</th>\n",
       "      <th>G16RRCGSal</th>\n",
       "      <th>G16RRCLMil</th>\n",
       "      <th>G16RRCRChr</th>\n",
       "    </tr>\n",
       "  </thead>\n",
       "  <tbody>\n",
       "    <tr>\n",
       "      <th>0</th>\n",
       "      <td>787</td>\n",
       "      <td>4</td>\n",
       "      <td>61</td>\n",
       "      <td>1250</td>\n",
       "      <td>11</td>\n",
       "      <td>659</td>\n",
       "      <td>21</td>\n",
       "      <td>112</td>\n",
       "      <td>1305</td>\n",
       "    </tr>\n",
       "  </tbody>\n",
       "</table>\n",
       "</div>"
      ],
      "text/plain": [
       "   G16PREDCli  G16PREGSte  G16PRELJoh  G16PRERTru  G16PREOth  G16RRCDYar  \\\n",
       "0         787           4          61        1250         11         659   \n",
       "\n",
       "   G16RRCGSal  G16RRCLMil  G16RRCRChr  \n",
       "0          21         112        1305  "
      ]
     },
     "execution_count": 44,
     "metadata": {},
     "output_type": "execute_result"
    }
   ],
   "source": [
    "temp = pd.DataFrame([temp_list], columns = ['G16PREDCli', 'G16PREGSte', 'G16PRELJoh', 'G16PRERTru',\n",
    "       'G16PREOth', 'G16RRCDYar', 'G16RRCGSal', 'G16RRCLMil', 'G16RRCRChr'])\n",
    "temp"
   ]
  },
  {
   "cell_type": "markdown",
   "metadata": {},
   "source": [
    "The following code goes through the precincts that did not join, and merges the geographies and aggregates the election results. The code is ugly because there's no universal solution, because some precincts have A,B,C,D,E,F that need to be merged.\n",
    "\n",
    "At the end, this code prints out the county/precinct pairs that were merged. "
   ]
  },
  {
   "cell_type": "code",
   "execution_count": 45,
   "metadata": {},
   "outputs": [
    {
     "data": {
      "text/plain": [
       "CNTYVTD       1000110002100031000410005100061000710008100091...\n",
       "G16PREDCli                                              3877626\n",
       "G16PREGSte                                                71546\n",
       "G16PRELJoh                                               283462\n",
       "G16PRERTru                                              4684288\n",
       "G16PREOth                                                 64938\n",
       "G16RRCDYar                                              3361857\n",
       "G16RRCGSal                                               286066\n",
       "G16RRCLMil                                               462163\n",
       "G16RRCRChr                                              4648357\n",
       "CNTY                                                    2039513\n",
       "COLOR                                                     35546\n",
       "VTD           0001000200030004000500060007000800090010001100...\n",
       "VTDKEY                                                        0\n",
       "Shape_area                                          6.93736e+11\n",
       "Shape_len                                           2.77695e+08\n",
       "dtype: object"
      ]
     },
     "execution_count": 45,
     "metadata": {},
     "output_type": "execute_result"
    }
   ],
   "source": [
    "tx_rdh.sum()"
   ]
  },
  {
   "cell_type": "code",
   "execution_count": 46,
   "metadata": {},
   "outputs": [],
   "source": [
    "count = 0 \n",
    "rdh_vtd_dissolved = []\n",
    "temp_df = gp.GeoDataFrame()\n",
    "for index, row in tx_rdh[tx_rdh.CNTYVTD.isin(overlap.loc[overlap['_merge'] == 'left_only']['CNTYVTD'])].iterrows():\n",
    "#     print(row['CNTYVTD'])\n",
    "    unique_id = row['CNTYVTD'].replace('A','').replace('B','').replace('C','').replace('D','').replace('E','').replace('F','')\n",
    "    rdh_vtd_dissolved.append((row['CNTY'], unique_id))    \n",
    "    \n",
    "    if count == 0: \n",
    "        group_unique_id = unique_id\n",
    "    else: \n",
    "        if unique_id != group_unique_id: \n",
    "            temp_dissolved = temp_df.dissolve(by='CNTY')\n",
    "            temp_dissolved.reset_index(inplace = True)\n",
    "            temp_dissolved['CNTYVTD'] = temp_dissolved['CNTYVTD'].str.replace('A','')\n",
    "            \n",
    "            # merge election results\n",
    "            temp_list = pivoted_2016[(pivoted_2016.CNTYVTD.isin(overlap.loc[overlap['_merge'] == 'left_only']['CNTYVTD'])) & (pivoted_2016.CNTYVTD.str.startswith(group_unique_id))].sum(numeric_only = True).to_list()\n",
    "            temp_election_results = pd.DataFrame([temp_list], columns = ['G16PREDCli', 'G16PREGSte', 'G16PRELJoh', 'G16PRERTru',\n",
    "                       'G16PREOth', 'G16RRCDYar', 'G16RRCGSal', 'G16RRCLMil', 'G16RRCRChr'])\n",
    "\n",
    "            temp_dissolved[['G16PREDCli', 'G16PREGSte', 'G16PRELJoh', 'G16PRERTru',\n",
    "                            'G16PREOth', 'G16RRCDYar', 'G16RRCGSal', 'G16RRCLMil', \n",
    "                            'G16RRCRChr']] = temp_election_results[['G16PREDCli', 'G16PREGSte', 'G16PRELJoh', 'G16PRERTru',\n",
    "                                                                    'G16PREOth', 'G16RRCDYar', 'G16RRCGSal', 'G16RRCLMil', \n",
    "                                                                    'G16RRCRChr']]\n",
    "            \n",
    "            tx_rdh = tx_rdh.append(temp_dissolved)\n",
    "            \n",
    "            temp_df = gp.GeoDataFrame()\n",
    "            group_unique_id = unique_id\n",
    "    \n",
    "    temp_df = temp_df.append(row)\n",
    "    tx_rdh.drop([index],inplace = True)\n",
    "\n",
    "    count += 1\n",
    "    "
   ]
  },
  {
   "cell_type": "code",
   "execution_count": 48,
   "metadata": {},
   "outputs": [
    {
     "data": {
      "text/plain": [
       "[811, 20, 116, 3174, 16, 622, 55, 210, 3158]"
      ]
     },
     "execution_count": 48,
     "metadata": {},
     "output_type": "execute_result"
    }
   ],
   "source": [
    "# do the last one out of the loop\n",
    "temp_dissolved = temp_df.dissolve(by='CNTY')\n",
    "temp_dissolved.reset_index(inplace = True)\n",
    "temp_dissolved['CNTYVTD'] = temp_dissolved['CNTYVTD'].str.replace('A','')\n",
    "temp_list = pivoted_2016[(pivoted_2016.CNTYVTD.isin(overlap.loc[overlap['_merge'] == 'left_only']['CNTYVTD'])) & (pivoted_2016.CNTYVTD.str.contains(group_unique_id))].sum(numeric_only = True).to_list()\n",
    "temp_list"
   ]
  },
  {
   "cell_type": "code",
   "execution_count": 49,
   "metadata": {},
   "outputs": [
    {
     "name": "stdout",
     "output_type": "stream",
     "text": [
      "Precincts in the RDH file that were dissolved:  {(215, '2150177'), (29, '293096'), (307, '3070201'), (113, '1131065'), (209, '2090441'), (113, '1131087'), (491, '4910333'), (487, '4870001'), (201, '2010143'), (113, '1131075'), (339, '3390089'), (201, '2010794'), (113, '1133940'), (113, '1134003'), (113, '1133016'), (215, '2150198'), (339, '3390030'), (17, '170004'), (201, '2010862'), (27, '270404'), (187, '1870102'), (431, '4310001'), (5, '50008'), (485, '4850114'), (113, '1133008'), (201, '2010731'), (351, '3510008'), (259, '2592120'), (481, '4810101'), (215, '2150194'), (201, '2010950'), (305, '3050001'), (113, '1134091'), (465, '4650010'), (443, '4430002'), (329, '3290101'), (167, '1670316'), (85, '850126'), (113, '1134006'), (113, '1134087'), (201, '2010083'), (201, '2010001'), (269, '2690003'), (401, '4010314'), (113, '1132028'), (215, '2150245'), (473, '4730420'), (91, '910105'), (113, '1134097'), (113, '1134608'), (163, '1630004'), (323, '323002'), (215, '2150097'), (85, '850108'), (113, '1132810'), (113, '1131308'), (215, '2150071'), (417, '4170406'), (91, '910203'), (201, '2010760'), (355, '3550092'), (153, '153024'), (113, '1134627'), (5, '50010'), (29, '293188'), (383, '3830003'), (113, '1134001'), (85, '850197'), (113, '1134518'), (125, '1250003'), (181, '1810205'), (219, '2190045'), (201, '2010283'), (201, '2010527'), (443, '4430004'), (209, '2090421'), (113, '1134000'), (181, '1810108'), (113, '1132807'), (113, '1131712'), (497, '4970007'), (113, '1131141'), (121, '1212020'), (295, '2950207'), (489, '4890002'), (439, '4391277'), (431, '4310002'), (429, '4292-19'), (465, '4650041'), (479, '4790252'), (29, '293158'), (181, '1810408'), (113, '1131071'), (113, '1134613'), (399, '3990004'), (201, '2010764'), (125, '1250004'), (367, '3670405'), (121, '1213023'), (201, '2010493')}\n"
     ]
    }
   ],
   "source": [
    "temp_election_results = pd.DataFrame([temp_list], columns = ['G16PREDCli', 'G16PREGSte', 'G16PRELJoh', 'G16PRERTru',\n",
    "           'G16PREOth', 'G16RRCDYar', 'G16RRCGSal', 'G16RRCLMil', 'G16RRCRChr'])\n",
    "temp_dissolved[['G16PREDCli', 'G16PREGSte', 'G16PRELJoh', 'G16PRERTru',\n",
    "                'G16PREOth', 'G16RRCDYar', 'G16RRCGSal', 'G16RRCLMil', \n",
    "                'G16RRCRChr']] = temp_election_results[['G16PREDCli', 'G16PREGSte', 'G16PRELJoh', 'G16PRERTru',\n",
    "                                                        'G16PREOth', 'G16RRCDYar', 'G16RRCGSal', 'G16RRCLMil', \n",
    "                                                        'G16RRCRChr']]\n",
    "tx_rdh = tx_rdh.append(temp_dissolved)\n",
    "# tx_rdh.drop([index],inplace = True)\n",
    "\n",
    "print('Precincts in the RDH file that were dissolved: ', set(rdh_vtd_dissolved))"
   ]
  },
  {
   "cell_type": "markdown",
   "metadata": {},
   "source": [
    "Check that the example case that we were testing out above looks good"
   ]
  },
  {
   "cell_type": "code",
   "execution_count": 50,
   "metadata": {},
   "outputs": [
    {
     "data": {
      "text/html": [
       "<div>\n",
       "<style scoped>\n",
       "    .dataframe tbody tr th:only-of-type {\n",
       "        vertical-align: middle;\n",
       "    }\n",
       "\n",
       "    .dataframe tbody tr th {\n",
       "        vertical-align: top;\n",
       "    }\n",
       "\n",
       "    .dataframe thead th {\n",
       "        text-align: right;\n",
       "    }\n",
       "</style>\n",
       "<table border=\"1\" class=\"dataframe\">\n",
       "  <thead>\n",
       "    <tr style=\"text-align: right;\">\n",
       "      <th></th>\n",
       "      <th>CNTYVTD</th>\n",
       "      <th>G16PREDCli</th>\n",
       "      <th>G16PREGSte</th>\n",
       "      <th>G16PRELJoh</th>\n",
       "      <th>G16PRERTru</th>\n",
       "      <th>G16PREOth</th>\n",
       "      <th>G16RRCDYar</th>\n",
       "      <th>G16RRCGSal</th>\n",
       "      <th>G16RRCLMil</th>\n",
       "      <th>G16RRCRChr</th>\n",
       "    </tr>\n",
       "  </thead>\n",
       "  <tbody>\n",
       "    <tr>\n",
       "      <th>2254</th>\n",
       "      <td>2010143A</td>\n",
       "      <td>0</td>\n",
       "      <td>0</td>\n",
       "      <td>0</td>\n",
       "      <td>0</td>\n",
       "      <td>0</td>\n",
       "      <td>0</td>\n",
       "      <td>0</td>\n",
       "      <td>0</td>\n",
       "      <td>0</td>\n",
       "    </tr>\n",
       "    <tr>\n",
       "      <th>2255</th>\n",
       "      <td>2010143B</td>\n",
       "      <td>151</td>\n",
       "      <td>0</td>\n",
       "      <td>11</td>\n",
       "      <td>241</td>\n",
       "      <td>2</td>\n",
       "      <td>127</td>\n",
       "      <td>4</td>\n",
       "      <td>21</td>\n",
       "      <td>251</td>\n",
       "    </tr>\n",
       "    <tr>\n",
       "      <th>2256</th>\n",
       "      <td>2010143C</td>\n",
       "      <td>636</td>\n",
       "      <td>4</td>\n",
       "      <td>50</td>\n",
       "      <td>1009</td>\n",
       "      <td>9</td>\n",
       "      <td>532</td>\n",
       "      <td>17</td>\n",
       "      <td>91</td>\n",
       "      <td>1054</td>\n",
       "    </tr>\n",
       "  </tbody>\n",
       "</table>\n",
       "</div>"
      ],
      "text/plain": [
       "       CNTYVTD  G16PREDCli  G16PREGSte  G16PRELJoh  G16PRERTru  G16PREOth  \\\n",
       "2254  2010143A           0           0           0           0          0   \n",
       "2255  2010143B         151           0          11         241          2   \n",
       "2256  2010143C         636           4          50        1009          9   \n",
       "\n",
       "      G16RRCDYar  G16RRCGSal  G16RRCLMil  G16RRCRChr  \n",
       "2254           0           0           0           0  \n",
       "2255         127           4          21         251  \n",
       "2256         532          17          91        1054  "
      ]
     },
     "execution_count": 50,
     "metadata": {},
     "output_type": "execute_result"
    }
   ],
   "source": [
    "pivoted_2016[(pivoted_2016.CNTYVTD.str.contains('2010143'))]"
   ]
  },
  {
   "cell_type": "code",
   "execution_count": 51,
   "metadata": {},
   "outputs": [
    {
     "data": {
      "text/html": [
       "<div>\n",
       "<style scoped>\n",
       "    .dataframe tbody tr th:only-of-type {\n",
       "        vertical-align: middle;\n",
       "    }\n",
       "\n",
       "    .dataframe tbody tr th {\n",
       "        vertical-align: top;\n",
       "    }\n",
       "\n",
       "    .dataframe thead th {\n",
       "        text-align: right;\n",
       "    }\n",
       "</style>\n",
       "<table border=\"1\" class=\"dataframe\">\n",
       "  <thead>\n",
       "    <tr style=\"text-align: right;\">\n",
       "      <th></th>\n",
       "      <th>CNTYVTD</th>\n",
       "      <th>G16PREDCli</th>\n",
       "      <th>G16PREGSte</th>\n",
       "      <th>G16PRELJoh</th>\n",
       "      <th>G16PRERTru</th>\n",
       "      <th>G16PREOth</th>\n",
       "      <th>G16RRCDYar</th>\n",
       "      <th>G16RRCGSal</th>\n",
       "      <th>G16RRCLMil</th>\n",
       "      <th>G16RRCRChr</th>\n",
       "      <th>CNTY</th>\n",
       "      <th>COLOR</th>\n",
       "      <th>VTD</th>\n",
       "      <th>VTDKEY</th>\n",
       "      <th>Shape_area</th>\n",
       "      <th>Shape_len</th>\n",
       "      <th>geometry</th>\n",
       "    </tr>\n",
       "  </thead>\n",
       "  <tbody>\n",
       "    <tr>\n",
       "      <th>0</th>\n",
       "      <td>2010143</td>\n",
       "      <td>787</td>\n",
       "      <td>4</td>\n",
       "      <td>61</td>\n",
       "      <td>1250</td>\n",
       "      <td>11</td>\n",
       "      <td>659</td>\n",
       "      <td>21</td>\n",
       "      <td>112</td>\n",
       "      <td>1305</td>\n",
       "      <td>201.0</td>\n",
       "      <td>5.0</td>\n",
       "      <td>0143A</td>\n",
       "      <td>0.0</td>\n",
       "      <td>284400.436993</td>\n",
       "      <td>4492.929626</td>\n",
       "      <td>MULTIPOLYGON (((1414232.005 869212.298, 141424...</td>\n",
       "    </tr>\n",
       "  </tbody>\n",
       "</table>\n",
       "</div>"
      ],
      "text/plain": [
       "   CNTYVTD  G16PREDCli  G16PREGSte  G16PRELJoh  G16PRERTru  G16PREOth  \\\n",
       "0  2010143         787           4          61        1250         11   \n",
       "\n",
       "   G16RRCDYar  G16RRCGSal  G16RRCLMil  G16RRCRChr   CNTY  COLOR    VTD  \\\n",
       "0         659          21         112        1305  201.0    5.0  0143A   \n",
       "\n",
       "   VTDKEY     Shape_area    Shape_len  \\\n",
       "0     0.0  284400.436993  4492.929626   \n",
       "\n",
       "                                            geometry  \n",
       "0  MULTIPOLYGON (((1414232.005 869212.298, 141424...  "
      ]
     },
     "execution_count": 51,
     "metadata": {},
     "output_type": "execute_result"
    }
   ],
   "source": [
    "tx_rdh[(tx_rdh.CNTYVTD.str.contains('2010143'))]"
   ]
  },
  {
   "cell_type": "markdown",
   "metadata": {},
   "source": [
    "Check the election result totals are still good: "
   ]
  },
  {
   "cell_type": "code",
   "execution_count": 52,
   "metadata": {},
   "outputs": [
    {
     "data": {
      "text/plain": [
       "CNTYVTD       1000110002100031000410005100061000710008100091...\n",
       "G16PREDCli                                              3877626\n",
       "G16PREGSte                                                71546\n",
       "G16PRELJoh                                               283462\n",
       "G16PRERTru                                              4684288\n",
       "G16PREOth                                                 64938\n",
       "G16RRCDYar                                              3361857\n",
       "G16RRCGSal                                               286066\n",
       "G16RRCLMil                                               462163\n",
       "G16RRCRChr                                              4648357\n",
       "CNTY                                                2.01197e+06\n",
       "COLOR                                                     35073\n",
       "VTD           0001000200030004000500060007000800090010001100...\n",
       "VTDKEY                                                        0\n",
       "Shape_area                                          6.90346e+11\n",
       "Shape_len                                           2.76409e+08\n",
       "dtype: object"
      ]
     },
     "execution_count": 52,
     "metadata": {},
     "output_type": "execute_result"
    }
   ],
   "source": [
    "tx_rdh.sum()"
   ]
  },
  {
   "cell_type": "markdown",
   "metadata": {},
   "source": [
    "### Join Attempt #2"
   ]
  },
  {
   "cell_type": "markdown",
   "metadata": {},
   "source": [
    "Now that we've performed these merges, attempt another join between the RDH file and the VEST file"
   ]
  },
  {
   "cell_type": "code",
   "execution_count": 53,
   "metadata": {},
   "outputs": [
    {
     "data": {
      "text/plain": [
       "(8819, 17)"
      ]
     },
     "execution_count": 53,
     "metadata": {},
     "output_type": "execute_result"
    }
   ],
   "source": [
    "tx_rdh.shape"
   ]
  },
  {
   "cell_type": "code",
   "execution_count": 54,
   "metadata": {},
   "outputs": [
    {
     "data": {
      "text/plain": [
       "(8832, 14)"
      ]
     },
     "execution_count": 54,
     "metadata": {},
     "output_type": "execute_result"
    }
   ],
   "source": [
    "tx_vest.shape"
   ]
  },
  {
   "cell_type": "code",
   "execution_count": 55,
   "metadata": {},
   "outputs": [],
   "source": [
    "overlap = tx_rdh.merge(tx_vest, how = 'outer', left_on = 'CNTYVTD', right_on = 'PCTKEY', indicator = True)"
   ]
  },
  {
   "cell_type": "code",
   "execution_count": 57,
   "metadata": {},
   "outputs": [
    {
     "data": {
      "text/html": [
       "<div>\n",
       "<style scoped>\n",
       "    .dataframe tbody tr th:only-of-type {\n",
       "        vertical-align: middle;\n",
       "    }\n",
       "\n",
       "    .dataframe tbody tr th {\n",
       "        vertical-align: top;\n",
       "    }\n",
       "\n",
       "    .dataframe thead th {\n",
       "        text-align: right;\n",
       "    }\n",
       "</style>\n",
       "<table border=\"1\" class=\"dataframe\">\n",
       "  <thead>\n",
       "    <tr style=\"text-align: right;\">\n",
       "      <th></th>\n",
       "      <th>CNTYVTD</th>\n",
       "      <th>G16PREDCli_x</th>\n",
       "      <th>G16PREGSte_x</th>\n",
       "      <th>G16PRELJoh_x</th>\n",
       "      <th>G16PRERTru_x</th>\n",
       "      <th>G16PREOth_x</th>\n",
       "      <th>G16RRCDYar_x</th>\n",
       "      <th>G16RRCGSal_x</th>\n",
       "      <th>G16RRCLMil_x</th>\n",
       "      <th>G16RRCRChr_x</th>\n",
       "      <th>...</th>\n",
       "      <th>G16PREDCli_y</th>\n",
       "      <th>G16PRERTru_y</th>\n",
       "      <th>G16PRELJoh_y</th>\n",
       "      <th>G16PREGSte_y</th>\n",
       "      <th>G16PREOth_y</th>\n",
       "      <th>G16RRCDYar_y</th>\n",
       "      <th>G16RRCRChr_y</th>\n",
       "      <th>G16RRCLMil_y</th>\n",
       "      <th>G16RRCGSal_y</th>\n",
       "      <th>geometry_y</th>\n",
       "    </tr>\n",
       "    <tr>\n",
       "      <th>_merge</th>\n",
       "      <th></th>\n",
       "      <th></th>\n",
       "      <th></th>\n",
       "      <th></th>\n",
       "      <th></th>\n",
       "      <th></th>\n",
       "      <th></th>\n",
       "      <th></th>\n",
       "      <th></th>\n",
       "      <th></th>\n",
       "      <th></th>\n",
       "      <th></th>\n",
       "      <th></th>\n",
       "      <th></th>\n",
       "      <th></th>\n",
       "      <th></th>\n",
       "      <th></th>\n",
       "      <th></th>\n",
       "      <th></th>\n",
       "      <th></th>\n",
       "      <th></th>\n",
       "    </tr>\n",
       "  </thead>\n",
       "  <tbody>\n",
       "    <tr>\n",
       "      <th>left_only</th>\n",
       "      <td>0</td>\n",
       "      <td>0</td>\n",
       "      <td>0</td>\n",
       "      <td>0</td>\n",
       "      <td>0</td>\n",
       "      <td>0</td>\n",
       "      <td>0</td>\n",
       "      <td>0</td>\n",
       "      <td>0</td>\n",
       "      <td>0</td>\n",
       "      <td>...</td>\n",
       "      <td>0</td>\n",
       "      <td>0</td>\n",
       "      <td>0</td>\n",
       "      <td>0</td>\n",
       "      <td>0</td>\n",
       "      <td>0</td>\n",
       "      <td>0</td>\n",
       "      <td>0</td>\n",
       "      <td>0</td>\n",
       "      <td>0</td>\n",
       "    </tr>\n",
       "    <tr>\n",
       "      <th>right_only</th>\n",
       "      <td>0</td>\n",
       "      <td>0</td>\n",
       "      <td>0</td>\n",
       "      <td>0</td>\n",
       "      <td>0</td>\n",
       "      <td>0</td>\n",
       "      <td>0</td>\n",
       "      <td>0</td>\n",
       "      <td>0</td>\n",
       "      <td>0</td>\n",
       "      <td>...</td>\n",
       "      <td>13</td>\n",
       "      <td>13</td>\n",
       "      <td>13</td>\n",
       "      <td>13</td>\n",
       "      <td>13</td>\n",
       "      <td>13</td>\n",
       "      <td>13</td>\n",
       "      <td>13</td>\n",
       "      <td>13</td>\n",
       "      <td>13</td>\n",
       "    </tr>\n",
       "    <tr>\n",
       "      <th>both</th>\n",
       "      <td>8819</td>\n",
       "      <td>8819</td>\n",
       "      <td>8819</td>\n",
       "      <td>8819</td>\n",
       "      <td>8819</td>\n",
       "      <td>8819</td>\n",
       "      <td>8819</td>\n",
       "      <td>8819</td>\n",
       "      <td>8819</td>\n",
       "      <td>8819</td>\n",
       "      <td>...</td>\n",
       "      <td>8819</td>\n",
       "      <td>8819</td>\n",
       "      <td>8819</td>\n",
       "      <td>8819</td>\n",
       "      <td>8819</td>\n",
       "      <td>8819</td>\n",
       "      <td>8819</td>\n",
       "      <td>8819</td>\n",
       "      <td>8819</td>\n",
       "      <td>8819</td>\n",
       "    </tr>\n",
       "  </tbody>\n",
       "</table>\n",
       "<p>3 rows × 31 columns</p>\n",
       "</div>"
      ],
      "text/plain": [
       "            CNTYVTD  G16PREDCli_x  G16PREGSte_x  G16PRELJoh_x  G16PRERTru_x  \\\n",
       "_merge                                                                        \n",
       "left_only         0             0             0             0             0   \n",
       "right_only        0             0             0             0             0   \n",
       "both           8819          8819          8819          8819          8819   \n",
       "\n",
       "            G16PREOth_x  G16RRCDYar_x  G16RRCGSal_x  G16RRCLMil_x  \\\n",
       "_merge                                                              \n",
       "left_only             0             0             0             0   \n",
       "right_only            0             0             0             0   \n",
       "both               8819          8819          8819          8819   \n",
       "\n",
       "            G16RRCRChr_x  ...  G16PREDCli_y  G16PRERTru_y  G16PRELJoh_y  \\\n",
       "_merge                    ...                                             \n",
       "left_only              0  ...             0             0             0   \n",
       "right_only             0  ...            13            13            13   \n",
       "both                8819  ...          8819          8819          8819   \n",
       "\n",
       "            G16PREGSte_y  G16PREOth_y  G16RRCDYar_y  G16RRCRChr_y  \\\n",
       "_merge                                                              \n",
       "left_only              0            0             0             0   \n",
       "right_only            13           13            13            13   \n",
       "both                8819         8819          8819          8819   \n",
       "\n",
       "            G16RRCLMil_y  G16RRCGSal_y  geometry_y  \n",
       "_merge                                              \n",
       "left_only              0             0           0  \n",
       "right_only            13            13          13  \n",
       "both                8819          8819        8819  \n",
       "\n",
       "[3 rows x 31 columns]"
      ]
     },
     "execution_count": 57,
     "metadata": {},
     "output_type": "execute_result"
    }
   ],
   "source": [
    "overlap.groupby('_merge').count()"
   ]
  },
  {
   "cell_type": "code",
   "execution_count": 58,
   "metadata": {},
   "outputs": [
    {
     "data": {
      "text/plain": [
       "Index(['CNTYVTD', 'G16PREDCli_x', 'G16PREGSte_x', 'G16PRELJoh_x',\n",
       "       'G16PRERTru_x', 'G16PREOth_x', 'G16RRCDYar_x', 'G16RRCGSal_x',\n",
       "       'G16RRCLMil_x', 'G16RRCRChr_x', 'CNTY_x', 'COLOR', 'VTD', 'VTDKEY',\n",
       "       'Shape_area', 'Shape_len', 'geometry_x', 'CNTY_y', 'PREC', 'PCTKEY',\n",
       "       'cntykey', 'G16PREDCli_y', 'G16PRERTru_y', 'G16PRELJoh_y',\n",
       "       'G16PREGSte_y', 'G16PREOth_y', 'G16RRCDYar_y', 'G16RRCRChr_y',\n",
       "       'G16RRCLMil_y', 'G16RRCGSal_y', 'geometry_y', '_merge'],\n",
       "      dtype='object')"
      ]
     },
     "execution_count": 58,
     "metadata": {},
     "output_type": "execute_result"
    }
   ],
   "source": [
    "overlap.columns"
   ]
  },
  {
   "cell_type": "code",
   "execution_count": 92,
   "metadata": {},
   "outputs": [
    {
     "data": {
      "text/html": [
       "<div>\n",
       "<style scoped>\n",
       "    .dataframe tbody tr th:only-of-type {\n",
       "        vertical-align: middle;\n",
       "    }\n",
       "\n",
       "    .dataframe tbody tr th {\n",
       "        vertical-align: top;\n",
       "    }\n",
       "\n",
       "    .dataframe thead th {\n",
       "        text-align: right;\n",
       "    }\n",
       "</style>\n",
       "<table border=\"1\" class=\"dataframe\">\n",
       "  <thead>\n",
       "    <tr style=\"text-align: right;\">\n",
       "      <th></th>\n",
       "      <th>CNTY_y</th>\n",
       "      <th>PCTKEY</th>\n",
       "      <th>G16PREDCli_y</th>\n",
       "      <th>G16PRERTru_y</th>\n",
       "      <th>G16PRELJoh_y</th>\n",
       "      <th>G16PREGSte_y</th>\n",
       "      <th>G16PREOth_y</th>\n",
       "      <th>G16RRCDYar_y</th>\n",
       "      <th>G16RRCRChr_y</th>\n",
       "      <th>G16RRCLMil_y</th>\n",
       "      <th>G16RRCGSal_y</th>\n",
       "      <th>geometry_y</th>\n",
       "    </tr>\n",
       "  </thead>\n",
       "  <tbody>\n",
       "    <tr>\n",
       "      <th>8819</th>\n",
       "      <td>29</td>\n",
       "      <td>293177</td>\n",
       "      <td>0</td>\n",
       "      <td>0</td>\n",
       "      <td>0</td>\n",
       "      <td>0</td>\n",
       "      <td>0</td>\n",
       "      <td>0</td>\n",
       "      <td>0</td>\n",
       "      <td>0</td>\n",
       "      <td>0</td>\n",
       "      <td>POLYGON ((1151960.831 814994.220, 1151951.770 ...</td>\n",
       "    </tr>\n",
       "    <tr>\n",
       "      <th>8829</th>\n",
       "      <td>29</td>\n",
       "      <td>294197</td>\n",
       "      <td>0</td>\n",
       "      <td>0</td>\n",
       "      <td>0</td>\n",
       "      <td>0</td>\n",
       "      <td>0</td>\n",
       "      <td>0</td>\n",
       "      <td>0</td>\n",
       "      <td>0</td>\n",
       "      <td>0</td>\n",
       "      <td>POLYGON ((1163441.640 816223.596, 1163492.208 ...</td>\n",
       "    </tr>\n",
       "    <tr>\n",
       "      <th>8828</th>\n",
       "      <td>41</td>\n",
       "      <td>410050</td>\n",
       "      <td>0</td>\n",
       "      <td>0</td>\n",
       "      <td>0</td>\n",
       "      <td>0</td>\n",
       "      <td>0</td>\n",
       "      <td>0</td>\n",
       "      <td>0</td>\n",
       "      <td>0</td>\n",
       "      <td>0</td>\n",
       "      <td>POLYGON ((1354054.995 937536.488, 1354054.461 ...</td>\n",
       "    </tr>\n",
       "    <tr>\n",
       "      <th>8827</th>\n",
       "      <td>41</td>\n",
       "      <td>410051</td>\n",
       "      <td>0</td>\n",
       "      <td>0</td>\n",
       "      <td>0</td>\n",
       "      <td>0</td>\n",
       "      <td>0</td>\n",
       "      <td>0</td>\n",
       "      <td>0</td>\n",
       "      <td>0</td>\n",
       "      <td>0</td>\n",
       "      <td>POLYGON ((1354320.301 936772.624, 1354109.691 ...</td>\n",
       "    </tr>\n",
       "    <tr>\n",
       "      <th>8830</th>\n",
       "      <td>55</td>\n",
       "      <td>550411</td>\n",
       "      <td>0</td>\n",
       "      <td>0</td>\n",
       "      <td>0</td>\n",
       "      <td>0</td>\n",
       "      <td>0</td>\n",
       "      <td>0</td>\n",
       "      <td>0</td>\n",
       "      <td>0</td>\n",
       "      <td>0</td>\n",
       "      <td>POLYGON ((1226224.579 859292.557, 1226217.539 ...</td>\n",
       "    </tr>\n",
       "    <tr>\n",
       "      <th>8831</th>\n",
       "      <td>121</td>\n",
       "      <td>1212098</td>\n",
       "      <td>0</td>\n",
       "      <td>0</td>\n",
       "      <td>0</td>\n",
       "      <td>0</td>\n",
       "      <td>0</td>\n",
       "      <td>0</td>\n",
       "      <td>0</td>\n",
       "      <td>0</td>\n",
       "      <td>0</td>\n",
       "      <td>POLYGON ((1291224.354 1214891.830, 1291111.976...</td>\n",
       "    </tr>\n",
       "    <tr>\n",
       "      <th>8820</th>\n",
       "      <td>303</td>\n",
       "      <td>3030143</td>\n",
       "      <td>0</td>\n",
       "      <td>0</td>\n",
       "      <td>0</td>\n",
       "      <td>0</td>\n",
       "      <td>0</td>\n",
       "      <td>0</td>\n",
       "      <td>0</td>\n",
       "      <td>0</td>\n",
       "      <td>0</td>\n",
       "      <td>POLYGON ((811737.174 1269530.503, 811761.096 1...</td>\n",
       "    </tr>\n",
       "    <tr>\n",
       "      <th>8823</th>\n",
       "      <td>303</td>\n",
       "      <td>3030144</td>\n",
       "      <td>0</td>\n",
       "      <td>0</td>\n",
       "      <td>0</td>\n",
       "      <td>0</td>\n",
       "      <td>0</td>\n",
       "      <td>0</td>\n",
       "      <td>0</td>\n",
       "      <td>0</td>\n",
       "      <td>0</td>\n",
       "      <td>POLYGON ((811935.851 1266991.698, 811930.304 1...</td>\n",
       "    </tr>\n",
       "    <tr>\n",
       "      <th>8826</th>\n",
       "      <td>303</td>\n",
       "      <td>3030145</td>\n",
       "      <td>0</td>\n",
       "      <td>0</td>\n",
       "      <td>0</td>\n",
       "      <td>0</td>\n",
       "      <td>0</td>\n",
       "      <td>0</td>\n",
       "      <td>0</td>\n",
       "      <td>0</td>\n",
       "      <td>0</td>\n",
       "      <td>POLYGON ((816674.548 1266826.587, 816673.669 1...</td>\n",
       "    </tr>\n",
       "    <tr>\n",
       "      <th>8824</th>\n",
       "      <td>303</td>\n",
       "      <td>3030146</td>\n",
       "      <td>0</td>\n",
       "      <td>0</td>\n",
       "      <td>0</td>\n",
       "      <td>0</td>\n",
       "      <td>0</td>\n",
       "      <td>0</td>\n",
       "      <td>0</td>\n",
       "      <td>0</td>\n",
       "      <td>0</td>\n",
       "      <td>POLYGON ((815357.959 1270403.328, 816252.675 1...</td>\n",
       "    </tr>\n",
       "    <tr>\n",
       "      <th>8825</th>\n",
       "      <td>303</td>\n",
       "      <td>3030147</td>\n",
       "      <td>0</td>\n",
       "      <td>0</td>\n",
       "      <td>0</td>\n",
       "      <td>0</td>\n",
       "      <td>0</td>\n",
       "      <td>0</td>\n",
       "      <td>0</td>\n",
       "      <td>0</td>\n",
       "      <td>0</td>\n",
       "      <td>POLYGON ((816572.081 1270285.498, 816571.882 1...</td>\n",
       "    </tr>\n",
       "    <tr>\n",
       "      <th>8821</th>\n",
       "      <td>303</td>\n",
       "      <td>3030149</td>\n",
       "      <td>0</td>\n",
       "      <td>0</td>\n",
       "      <td>0</td>\n",
       "      <td>0</td>\n",
       "      <td>0</td>\n",
       "      <td>0</td>\n",
       "      <td>0</td>\n",
       "      <td>0</td>\n",
       "      <td>0</td>\n",
       "      <td>POLYGON ((820124.913 1272411.877, 820095.473 1...</td>\n",
       "    </tr>\n",
       "    <tr>\n",
       "      <th>8822</th>\n",
       "      <td>303</td>\n",
       "      <td>3030150</td>\n",
       "      <td>0</td>\n",
       "      <td>0</td>\n",
       "      <td>0</td>\n",
       "      <td>0</td>\n",
       "      <td>0</td>\n",
       "      <td>0</td>\n",
       "      <td>0</td>\n",
       "      <td>0</td>\n",
       "      <td>0</td>\n",
       "      <td>POLYGON ((820882.248 1273344.774, 820881.753 1...</td>\n",
       "    </tr>\n",
       "  </tbody>\n",
       "</table>\n",
       "</div>"
      ],
      "text/plain": [
       "      CNTY_y   PCTKEY  G16PREDCli_y  G16PRERTru_y  G16PRELJoh_y  G16PREGSte_y  \\\n",
       "8819      29   293177             0             0             0             0   \n",
       "8829      29   294197             0             0             0             0   \n",
       "8828      41   410050             0             0             0             0   \n",
       "8827      41   410051             0             0             0             0   \n",
       "8830      55   550411             0             0             0             0   \n",
       "8831     121  1212098             0             0             0             0   \n",
       "8820     303  3030143             0             0             0             0   \n",
       "8823     303  3030144             0             0             0             0   \n",
       "8826     303  3030145             0             0             0             0   \n",
       "8824     303  3030146             0             0             0             0   \n",
       "8825     303  3030147             0             0             0             0   \n",
       "8821     303  3030149             0             0             0             0   \n",
       "8822     303  3030150             0             0             0             0   \n",
       "\n",
       "      G16PREOth_y  G16RRCDYar_y  G16RRCRChr_y  G16RRCLMil_y  G16RRCGSal_y  \\\n",
       "8819            0             0             0             0             0   \n",
       "8829            0             0             0             0             0   \n",
       "8828            0             0             0             0             0   \n",
       "8827            0             0             0             0             0   \n",
       "8830            0             0             0             0             0   \n",
       "8831            0             0             0             0             0   \n",
       "8820            0             0             0             0             0   \n",
       "8823            0             0             0             0             0   \n",
       "8826            0             0             0             0             0   \n",
       "8824            0             0             0             0             0   \n",
       "8825            0             0             0             0             0   \n",
       "8821            0             0             0             0             0   \n",
       "8822            0             0             0             0             0   \n",
       "\n",
       "                                             geometry_y  \n",
       "8819  POLYGON ((1151960.831 814994.220, 1151951.770 ...  \n",
       "8829  POLYGON ((1163441.640 816223.596, 1163492.208 ...  \n",
       "8828  POLYGON ((1354054.995 937536.488, 1354054.461 ...  \n",
       "8827  POLYGON ((1354320.301 936772.624, 1354109.691 ...  \n",
       "8830  POLYGON ((1226224.579 859292.557, 1226217.539 ...  \n",
       "8831  POLYGON ((1291224.354 1214891.830, 1291111.976...  \n",
       "8820  POLYGON ((811737.174 1269530.503, 811761.096 1...  \n",
       "8823  POLYGON ((811935.851 1266991.698, 811930.304 1...  \n",
       "8826  POLYGON ((816674.548 1266826.587, 816673.669 1...  \n",
       "8824  POLYGON ((815357.959 1270403.328, 816252.675 1...  \n",
       "8825  POLYGON ((816572.081 1270285.498, 816571.882 1...  \n",
       "8821  POLYGON ((820124.913 1272411.877, 820095.473 1...  \n",
       "8822  POLYGON ((820882.248 1273344.774, 820881.753 1...  "
      ]
     },
     "execution_count": 92,
     "metadata": {},
     "output_type": "execute_result"
    }
   ],
   "source": [
    "overlap.loc[overlap['_merge'] == 'right_only'][['CNTY_y','PCTKEY','G16PREDCli_y', 'G16PRERTru_y', 'G16PRELJoh_y',\n",
    "       'G16PREGSte_y', 'G16PREOth_y', 'G16RRCDYar_y', 'G16RRCRChr_y',\n",
    "       'G16RRCLMil_y', 'G16RRCGSal_y','geometry_y']].sort_values(by=['CNTY_y','PCTKEY'])"
   ]
  },
  {
   "cell_type": "markdown",
   "metadata": {},
   "source": [
    "Look at these in the RDH file"
   ]
  },
  {
   "cell_type": "code",
   "execution_count": 60,
   "metadata": {},
   "outputs": [],
   "source": [
    "# tx_rdh[tx_rdh.CNTYVTD.isin(overlap.loc[overlap['_merge'] == 'right_only']['PCTKEY'])]\n",
    "for index, row in overlap.loc[overlap['_merge'] == 'right_only'][['CNTY_y','PCTKEY','G16PREDCli_y']].iterrows(): \n",
    "    if row['PCTKEY'] in rdh_vtd_dissolved: \n",
    "        print(row['PCTKEY'])"
   ]
  },
  {
   "cell_type": "markdown",
   "metadata": {},
   "source": [
    "So none of these are in the RDH dissolved precincts and they also don't have election results. Not sure where they are coming from, it seems like VEST may have a slightly different shapefile"
   ]
  },
  {
   "cell_type": "code",
   "execution_count": 61,
   "metadata": {},
   "outputs": [
    {
     "data": {
      "text/plain": [
       "29     713\n",
       "121    159\n",
       "303    101\n",
       "41      75\n",
       "55      40\n",
       "Name: CNTY, dtype: int64"
      ]
     },
     "execution_count": 61,
     "metadata": {},
     "output_type": "execute_result"
    }
   ],
   "source": [
    "vtd_2016.loc[vtd_2016.CNTY.isin([29,41,55,121,303])]['CNTY'].value_counts()"
   ]
  },
  {
   "cell_type": "code",
   "execution_count": 62,
   "metadata": {},
   "outputs": [
    {
     "data": {
      "text/plain": [
       "29.0     710\n",
       "121.0    157\n",
       "303.0    101\n",
       "41.0      75\n",
       "55.0      40\n",
       "Name: CNTY, dtype: int64"
      ]
     },
     "execution_count": 62,
     "metadata": {},
     "output_type": "execute_result"
    }
   ],
   "source": [
    "tx_rdh.loc[tx_rdh.CNTY.isin([29,41,55,121,303])]['CNTY'].value_counts()"
   ]
  },
  {
   "cell_type": "code",
   "execution_count": 63,
   "metadata": {},
   "outputs": [
    {
     "data": {
      "text/plain": [
       "29     712\n",
       "121    158\n",
       "303    108\n",
       "41      77\n",
       "55      41\n",
       "Name: CNTY, dtype: int64"
      ]
     },
     "execution_count": 63,
     "metadata": {},
     "output_type": "execute_result"
    }
   ],
   "source": [
    "tx_vest.loc[tx_vest.CNTY.isin([29,41,55,121,303])]['CNTY'].value_counts()"
   ]
  },
  {
   "cell_type": "markdown",
   "metadata": {},
   "source": [
    "We don't expect these numbers to totally show the differences because we dissolved things... \n",
    "- CNTY 303 is an example where we did not have any precincts dissolved and there are 7 more precincts in the VEST file than the RDH file"
   ]
  },
  {
   "cell_type": "markdown",
   "metadata": {},
   "source": [
    "# Validation"
   ]
  },
  {
   "cell_type": "markdown",
   "metadata": {},
   "source": [
    "## Election Results"
   ]
  },
  {
   "cell_type": "markdown",
   "metadata": {},
   "source": [
    "### Column by column totals"
   ]
  },
  {
   "cell_type": "code",
   "execution_count": 64,
   "metadata": {},
   "outputs": [],
   "source": [
    "def sum_checker (df, column_List):\n",
    "    \"\"\"Checks the sums of different columns and prints out the maximum difference by column. \n",
    "    Assumes that the dataframe is the merged dataframe between RDH and the partner, with the same named election result\n",
    "    columns, except RDH is _x and Partner is _y. \n",
    "    \"\"\"\n",
    "    list_max = 0\n",
    "    for i in column_List:\n",
    "        left_sum = df[i+\"_x\"].sum()\n",
    "        right_sum = df[i+\"_y\"].sum()\n",
    "        if (left_sum==right_sum):\n",
    "            print(\"Column: \", i, \" have the same sums\")\n",
    "            \n",
    "        else:\n",
    "            diff = abs(left_sum-right_sum)\n",
    "            percent = abs(left_sum-right_sum)/left_sum\n",
    "            print(\"Column: \", i)\n",
    "            print(\"RDH sum is \", str(left_sum))\n",
    "            print(\"Partner sum is \", str(right_sum))\n",
    "            print(\"Their (absolute) difference is \",str(diff))\n",
    "            print(\"As a percentage of DF1 this is \", str(round(percent*100,5)) + \"%\")\n",
    "            if (percent>list_max):\n",
    "                list_max = percent\n",
    "            print(\"\")\n",
    "    print(\"The max difference (as a percent of the total of one DF column) is: \", str(round(list_max,5)))"
   ]
  },
  {
   "cell_type": "markdown",
   "metadata": {},
   "source": [
    "Pass the list of election result columns: "
   ]
  },
  {
   "cell_type": "code",
   "execution_count": 65,
   "metadata": {},
   "outputs": [
    {
     "data": {
      "text/plain": [
       "Index(['CNTYVTD', 'G16PREDCli_x', 'G16PREGSte_x', 'G16PRELJoh_x',\n",
       "       'G16PRERTru_x', 'G16PREOth_x', 'G16RRCDYar_x', 'G16RRCGSal_x',\n",
       "       'G16RRCLMil_x', 'G16RRCRChr_x', 'CNTY_x', 'COLOR', 'VTD', 'VTDKEY',\n",
       "       'Shape_area', 'Shape_len', 'geometry_x', 'CNTY_y', 'PREC', 'PCTKEY',\n",
       "       'cntykey', 'G16PREDCli_y', 'G16PRERTru_y', 'G16PRELJoh_y',\n",
       "       'G16PREGSte_y', 'G16PREOth_y', 'G16RRCDYar_y', 'G16RRCRChr_y',\n",
       "       'G16RRCLMil_y', 'G16RRCGSal_y', 'geometry_y', '_merge'],\n",
       "      dtype='object')"
      ]
     },
     "execution_count": 65,
     "metadata": {},
     "output_type": "execute_result"
    }
   ],
   "source": [
    "overlap.columns"
   ]
  },
  {
   "cell_type": "code",
   "execution_count": 66,
   "metadata": {},
   "outputs": [
    {
     "name": "stdout",
     "output_type": "stream",
     "text": [
      "Column:  G16PREDCli  have the same sums\n",
      "Column:  G16PREGSte  have the same sums\n",
      "Column:  G16PRELJoh  have the same sums\n",
      "Column:  G16PRERTru  have the same sums\n",
      "Column:  G16PREOth  have the same sums\n",
      "Column:  G16RRCDYar  have the same sums\n",
      "Column:  G16RRCGSal  have the same sums\n",
      "Column:  G16RRCLMil  have the same sums\n",
      "Column:  G16RRCRChr  have the same sums\n",
      "Column:  G16PREDCli  have the same sums\n",
      "Column:  G16PRERTru  have the same sums\n",
      "Column:  G16PRELJoh  have the same sums\n",
      "Column:  G16PREGSte  have the same sums\n",
      "Column:  G16PREOth  have the same sums\n",
      "Column:  G16RRCDYar  have the same sums\n",
      "Column:  G16RRCRChr  have the same sums\n",
      "Column:  G16RRCLMil  have the same sums\n",
      "Column:  G16RRCGSal  have the same sums\n",
      "The max difference (as a percent of the total of one DF column) is:  0\n"
     ]
    }
   ],
   "source": [
    "election_columns = [key[:-2] for key in overlap.keys() if '16' in key and (key.endswith(\"_x\") or key.endswith(\"_y\"))]\n",
    "sum_checker(overlap, election_columns)"
   ]
  },
  {
   "cell_type": "markdown",
   "metadata": {},
   "source": [
    "### Precinct-by-precinct Comparison"
   ]
  },
  {
   "cell_type": "code",
   "execution_count": 67,
   "metadata": {},
   "outputs": [],
   "source": [
    "def validater_row_vect(df, county_column, join_column, column_List):\n",
    "    matching_rows = 0\n",
    "    different_rows = 0\n",
    "    \n",
    "    county_join_cols = (df[county_column].astype('str') + ' ' + df[join_column].astype('str')).to_numpy()\n",
    "    \n",
    "    # it's because before, we were checking that a row was entirely consistent\n",
    "    # here, we are double checking a lot\n",
    "    # so, let's just keep one track of the rows that are messed up\n",
    "    \n",
    "    wrong_idxs = np.zeros(len(df))\n",
    "    for i in column_List:\n",
    "        left_data = df[i + \"_x\"].to_numpy()\n",
    "        right_data = df[i + \"_y\"].to_numpy()\n",
    "        \n",
    "        local_idxs = np.where(left_data != right_data)\n",
    "        wrong_idxs[local_idxs] = 1\n",
    "        #print(\"Wrong idxs\", wrong_idxs)\n",
    "        \n",
    "    # we are close, we get the same result, but are double adding lots of rows\n",
    "    different_rows += np.sum(wrong_idxs)\n",
    "    matching_rows += len(df) - different_rows\n",
    "    \n",
    "    diff_list = county_join_cols[np.where(wrong_idxs == 1)]\n",
    "            \n",
    "    print(\"There are \", len(df.index),\" total rows\")\n",
    "    print(f\"{int(different_rows)} of these rows have election result differences\")\n",
    "    print(f\"{int(matching_rows)} of these rows are the same\")\n",
    "    print(diff_list)\n",
    "    print(\"\")"
   ]
  },
  {
   "cell_type": "markdown",
   "metadata": {},
   "source": [
    "Amend the following line to run this function on all of the election result columns..."
   ]
  },
  {
   "cell_type": "code",
   "execution_count": 68,
   "metadata": {},
   "outputs": [
    {
     "data": {
      "text/plain": [
       "Index(['CNTYVTD', 'G16PREDCli_x', 'G16PREGSte_x', 'G16PRELJoh_x',\n",
       "       'G16PRERTru_x', 'G16PREOth_x', 'G16RRCDYar_x', 'G16RRCGSal_x',\n",
       "       'G16RRCLMil_x', 'G16RRCRChr_x', 'CNTY_x', 'COLOR', 'VTD', 'VTDKEY',\n",
       "       'Shape_area', 'Shape_len', 'geometry_x', 'CNTY_y', 'PREC', 'PCTKEY',\n",
       "       'cntykey', 'G16PREDCli_y', 'G16PRERTru_y', 'G16PRELJoh_y',\n",
       "       'G16PREGSte_y', 'G16PREOth_y', 'G16RRCDYar_y', 'G16RRCRChr_y',\n",
       "       'G16RRCLMil_y', 'G16RRCGSal_y', 'geometry_y', '_merge'],\n",
       "      dtype='object')"
      ]
     },
     "execution_count": 68,
     "metadata": {},
     "output_type": "execute_result"
    }
   ],
   "source": [
    "overlap.columns"
   ]
  },
  {
   "cell_type": "code",
   "execution_count": 69,
   "metadata": {},
   "outputs": [
    {
     "name": "stdout",
     "output_type": "stream",
     "text": [
      "There are  8832  total rows\n",
      "13 of these rows have election result differences\n",
      "8819 of these rows are the same\n",
      "['nan nan' 'nan nan' 'nan nan' 'nan nan' 'nan nan' 'nan nan' 'nan nan'\n",
      " 'nan nan' 'nan nan' 'nan nan' 'nan nan' 'nan nan' 'nan nan']\n",
      "\n"
     ]
    }
   ],
   "source": [
    "validater_row_vect(overlap, 'CNTY_x', 'CNTYVTD', election_columns)"
   ]
  },
  {
   "cell_type": "markdown",
   "metadata": {},
   "source": [
    "These 13 election result differences are the 13 rows that didn't join in the VEST file that are all 0s"
   ]
  },
  {
   "cell_type": "markdown",
   "metadata": {},
   "source": [
    "## Geographies"
   ]
  },
  {
   "cell_type": "markdown",
   "metadata": {},
   "source": [
    "Use `geom_almost_equals` to determine where there are differences in the precincts between the RDH file and the Partner file\n",
    "\n",
    "Need to make some modifications because the two geodataframes don't have the same number of rows... "
   ]
  },
  {
   "cell_type": "code",
   "execution_count": 96,
   "metadata": {},
   "outputs": [
    {
     "data": {
      "text/plain": [
       "(8819, 17)"
      ]
     },
     "execution_count": 96,
     "metadata": {},
     "output_type": "execute_result"
    }
   ],
   "source": [
    "tx_rdh_gp = gp.GeoDataFrame(tx_rdh, crs = tx_vest.crs)\n",
    "tx_rdh_gp.shape"
   ]
  },
  {
   "cell_type": "code",
   "execution_count": 97,
   "metadata": {},
   "outputs": [
    {
     "data": {
      "text/plain": [
       "(8819, 14)"
      ]
     },
     "execution_count": 97,
     "metadata": {},
     "output_type": "execute_result"
    }
   ],
   "source": [
    "tx_vest_gp = tx_vest.loc[tx_vest.PCTKEY.isin(tx_rdh_gp.CNTYVTD)].copy()\n",
    "tx_vest_gp.shape"
   ]
  },
  {
   "cell_type": "code",
   "execution_count": 98,
   "metadata": {},
   "outputs": [],
   "source": [
    "tx_rdh_gp.sort_values(by = 'CNTYVTD', inplace = True)\n",
    "tx_vest_gp.sort_values(by = 'PCTKEY', inplace = True)"
   ]
  },
  {
   "cell_type": "code",
   "execution_count": 99,
   "metadata": {},
   "outputs": [
    {
     "data": {
      "text/html": [
       "<div>\n",
       "<style scoped>\n",
       "    .dataframe tbody tr th:only-of-type {\n",
       "        vertical-align: middle;\n",
       "    }\n",
       "\n",
       "    .dataframe tbody tr th {\n",
       "        vertical-align: top;\n",
       "    }\n",
       "\n",
       "    .dataframe thead th {\n",
       "        text-align: right;\n",
       "    }\n",
       "</style>\n",
       "<table border=\"1\" class=\"dataframe\">\n",
       "  <thead>\n",
       "    <tr style=\"text-align: right;\">\n",
       "      <th></th>\n",
       "      <th>CNTYVTD</th>\n",
       "      <th>G16PREDCli</th>\n",
       "      <th>G16PREGSte</th>\n",
       "      <th>G16PRELJoh</th>\n",
       "      <th>G16PRERTru</th>\n",
       "      <th>G16PREOth</th>\n",
       "      <th>G16RRCDYar</th>\n",
       "      <th>G16RRCGSal</th>\n",
       "      <th>G16RRCLMil</th>\n",
       "      <th>G16RRCRChr</th>\n",
       "      <th>CNTY</th>\n",
       "      <th>COLOR</th>\n",
       "      <th>VTD</th>\n",
       "      <th>VTDKEY</th>\n",
       "      <th>Shape_area</th>\n",
       "      <th>Shape_len</th>\n",
       "      <th>geometry</th>\n",
       "    </tr>\n",
       "  </thead>\n",
       "  <tbody>\n",
       "    <tr>\n",
       "      <th>0</th>\n",
       "      <td>10001</td>\n",
       "      <td>262</td>\n",
       "      <td>5</td>\n",
       "      <td>18</td>\n",
       "      <td>742</td>\n",
       "      <td>3</td>\n",
       "      <td>236</td>\n",
       "      <td>22</td>\n",
       "      <td>47</td>\n",
       "      <td>710</td>\n",
       "      <td>1.0</td>\n",
       "      <td>4.0</td>\n",
       "      <td>0001</td>\n",
       "      <td>0.0</td>\n",
       "      <td>5.616316e+06</td>\n",
       "      <td>15020.544928</td>\n",
       "      <td>POLYGON ((1413960.808 1073012.816, 1413971.571...</td>\n",
       "    </tr>\n",
       "    <tr>\n",
       "      <th>1</th>\n",
       "      <td>10002</td>\n",
       "      <td>181</td>\n",
       "      <td>5</td>\n",
       "      <td>22</td>\n",
       "      <td>1318</td>\n",
       "      <td>6</td>\n",
       "      <td>202</td>\n",
       "      <td>16</td>\n",
       "      <td>64</td>\n",
       "      <td>1200</td>\n",
       "      <td>1.0</td>\n",
       "      <td>3.0</td>\n",
       "      <td>0002</td>\n",
       "      <td>0.0</td>\n",
       "      <td>2.562133e+08</td>\n",
       "      <td>94432.828909</td>\n",
       "      <td>POLYGON ((1420165.429 1066385.798, 1420251.968...</td>\n",
       "    </tr>\n",
       "    <tr>\n",
       "      <th>2</th>\n",
       "      <td>10003</td>\n",
       "      <td>94</td>\n",
       "      <td>2</td>\n",
       "      <td>16</td>\n",
       "      <td>663</td>\n",
       "      <td>1</td>\n",
       "      <td>97</td>\n",
       "      <td>7</td>\n",
       "      <td>27</td>\n",
       "      <td>622</td>\n",
       "      <td>1.0</td>\n",
       "      <td>7.0</td>\n",
       "      <td>0003</td>\n",
       "      <td>0.0</td>\n",
       "      <td>7.084692e+07</td>\n",
       "      <td>55277.408937</td>\n",
       "      <td>POLYGON ((1416275.023 1072178.732, 1416410.201...</td>\n",
       "    </tr>\n",
       "  </tbody>\n",
       "</table>\n",
       "</div>"
      ],
      "text/plain": [
       "  CNTYVTD  G16PREDCli  G16PREGSte  G16PRELJoh  G16PRERTru  G16PREOth  \\\n",
       "0   10001         262           5          18         742          3   \n",
       "1   10002         181           5          22        1318          6   \n",
       "2   10003          94           2          16         663          1   \n",
       "\n",
       "   G16RRCDYar  G16RRCGSal  G16RRCLMil  G16RRCRChr  CNTY  COLOR   VTD  VTDKEY  \\\n",
       "0         236          22          47         710   1.0    4.0  0001     0.0   \n",
       "1         202          16          64        1200   1.0    3.0  0002     0.0   \n",
       "2          97           7          27         622   1.0    7.0  0003     0.0   \n",
       "\n",
       "     Shape_area     Shape_len  \\\n",
       "0  5.616316e+06  15020.544928   \n",
       "1  2.562133e+08  94432.828909   \n",
       "2  7.084692e+07  55277.408937   \n",
       "\n",
       "                                            geometry  \n",
       "0  POLYGON ((1413960.808 1073012.816, 1413971.571...  \n",
       "1  POLYGON ((1420165.429 1066385.798, 1420251.968...  \n",
       "2  POLYGON ((1416275.023 1072178.732, 1416410.201...  "
      ]
     },
     "execution_count": 99,
     "metadata": {},
     "output_type": "execute_result"
    }
   ],
   "source": [
    "tx_rdh_gp.reset_index(drop=True,inplace=True)\n",
    "tx_rdh_gp.head(3)"
   ]
  },
  {
   "cell_type": "code",
   "execution_count": 100,
   "metadata": {},
   "outputs": [
    {
     "data": {
      "text/html": [
       "<div>\n",
       "<style scoped>\n",
       "    .dataframe tbody tr th:only-of-type {\n",
       "        vertical-align: middle;\n",
       "    }\n",
       "\n",
       "    .dataframe tbody tr th {\n",
       "        vertical-align: top;\n",
       "    }\n",
       "\n",
       "    .dataframe thead th {\n",
       "        text-align: right;\n",
       "    }\n",
       "</style>\n",
       "<table border=\"1\" class=\"dataframe\">\n",
       "  <thead>\n",
       "    <tr style=\"text-align: right;\">\n",
       "      <th></th>\n",
       "      <th>CNTY</th>\n",
       "      <th>PREC</th>\n",
       "      <th>PCTKEY</th>\n",
       "      <th>cntykey</th>\n",
       "      <th>G16PREDCli</th>\n",
       "      <th>G16PRERTru</th>\n",
       "      <th>G16PRELJoh</th>\n",
       "      <th>G16PREGSte</th>\n",
       "      <th>G16PREOth</th>\n",
       "      <th>G16RRCDYar</th>\n",
       "      <th>G16RRCRChr</th>\n",
       "      <th>G16RRCLMil</th>\n",
       "      <th>G16RRCGSal</th>\n",
       "      <th>geometry</th>\n",
       "    </tr>\n",
       "  </thead>\n",
       "  <tbody>\n",
       "    <tr>\n",
       "      <th>0</th>\n",
       "      <td>1</td>\n",
       "      <td>0001</td>\n",
       "      <td>10001</td>\n",
       "      <td>1</td>\n",
       "      <td>262</td>\n",
       "      <td>742</td>\n",
       "      <td>18</td>\n",
       "      <td>5</td>\n",
       "      <td>3</td>\n",
       "      <td>236</td>\n",
       "      <td>710</td>\n",
       "      <td>47</td>\n",
       "      <td>22</td>\n",
       "      <td>POLYGON ((1413960.808 1073012.816, 1413971.571...</td>\n",
       "    </tr>\n",
       "    <tr>\n",
       "      <th>1</th>\n",
       "      <td>1</td>\n",
       "      <td>0002</td>\n",
       "      <td>10002</td>\n",
       "      <td>1</td>\n",
       "      <td>181</td>\n",
       "      <td>1318</td>\n",
       "      <td>22</td>\n",
       "      <td>5</td>\n",
       "      <td>6</td>\n",
       "      <td>202</td>\n",
       "      <td>1200</td>\n",
       "      <td>64</td>\n",
       "      <td>16</td>\n",
       "      <td>POLYGON ((1420165.429 1066385.798, 1420251.968...</td>\n",
       "    </tr>\n",
       "    <tr>\n",
       "      <th>2</th>\n",
       "      <td>1</td>\n",
       "      <td>0003</td>\n",
       "      <td>10003</td>\n",
       "      <td>1</td>\n",
       "      <td>94</td>\n",
       "      <td>663</td>\n",
       "      <td>16</td>\n",
       "      <td>2</td>\n",
       "      <td>1</td>\n",
       "      <td>97</td>\n",
       "      <td>622</td>\n",
       "      <td>27</td>\n",
       "      <td>7</td>\n",
       "      <td>POLYGON ((1416275.023 1072178.732, 1416410.201...</td>\n",
       "    </tr>\n",
       "  </tbody>\n",
       "</table>\n",
       "</div>"
      ],
      "text/plain": [
       "   CNTY  PREC PCTKEY  cntykey  G16PREDCli  G16PRERTru  G16PRELJoh  G16PREGSte  \\\n",
       "0     1  0001  10001        1         262         742          18           5   \n",
       "1     1  0002  10002        1         181        1318          22           5   \n",
       "2     1  0003  10003        1          94         663          16           2   \n",
       "\n",
       "   G16PREOth  G16RRCDYar  G16RRCRChr  G16RRCLMil  G16RRCGSal  \\\n",
       "0          3         236         710          47          22   \n",
       "1          6         202        1200          64          16   \n",
       "2          1          97         622          27           7   \n",
       "\n",
       "                                            geometry  \n",
       "0  POLYGON ((1413960.808 1073012.816, 1413971.571...  \n",
       "1  POLYGON ((1420165.429 1066385.798, 1420251.968...  \n",
       "2  POLYGON ((1416275.023 1072178.732, 1416410.201...  "
      ]
     },
     "execution_count": 100,
     "metadata": {},
     "output_type": "execute_result"
    }
   ],
   "source": [
    "tx_vest_gp.reset_index(drop=True,inplace=True)\n",
    "tx_vest_gp.head(3)"
   ]
  },
  {
   "cell_type": "markdown",
   "metadata": {},
   "source": [
    "Check total area: "
   ]
  },
  {
   "cell_type": "code",
   "execution_count": 101,
   "metadata": {},
   "outputs": [
    {
     "data": {
      "text/plain": [
       "693736189457.3617"
      ]
     },
     "execution_count": 101,
     "metadata": {},
     "output_type": "execute_result"
    }
   ],
   "source": [
    "sum(tx_rdh_gp.area)"
   ]
  },
  {
   "cell_type": "code",
   "execution_count": 102,
   "metadata": {},
   "outputs": [
    {
     "data": {
      "text/plain": [
       "693735037732.3293"
      ]
     },
     "execution_count": 102,
     "metadata": {},
     "output_type": "execute_result"
    }
   ],
   "source": [
    "sum(tx_vest_gp.area)"
   ]
  },
  {
   "cell_type": "code",
   "execution_count": 103,
   "metadata": {},
   "outputs": [
    {
     "data": {
      "text/plain": [
       "693736189457.4172"
      ]
     },
     "execution_count": 103,
     "metadata": {},
     "output_type": "execute_result"
    }
   ],
   "source": [
    "sum(tx_vest.area)"
   ]
  },
  {
   "cell_type": "markdown",
   "metadata": {},
   "source": [
    "Ok, so those 13 precincts do have a good amount of area"
   ]
  },
  {
   "cell_type": "markdown",
   "metadata": {},
   "source": [
    "Check area by precinct, excluding those 13: "
   ]
  },
  {
   "cell_type": "code",
   "execution_count": 105,
   "metadata": {},
   "outputs": [
    {
     "data": {
      "text/plain": [
       "6183"
      ]
     },
     "execution_count": 105,
     "metadata": {},
     "output_type": "execute_result"
    }
   ],
   "source": [
    "tx_rdh_gp.geom_almost_equals(tx_vest_gp, decimal = 1).sum()"
   ]
  },
  {
   "cell_type": "markdown",
   "metadata": {},
   "source": [
    "So only 6183 precincts out of 8819 have the same area using geom almost equals... compare the actual km^2 area:"
   ]
  },
  {
   "cell_type": "code",
   "execution_count": 153,
   "metadata": {},
   "outputs": [
    {
     "name": "stdout",
     "output_type": "stream",
     "text": [
      "Number of precincts with differences in area > 1 km^2:  140\n",
      "All diffs:  [(6380, 66.96), (6382, 66.96), (6379, 50.16), (6377, 48.91), (1660, 38.63), (1661, 38.63), (1741, 22.63), (1704, 22.61), (7338, 16.89), (7330, 15.65), (5973, 13.38), (6009, 13.38), (7829, 13.38), (8118, 13.36), (8645, 12.92), (8647, 11.85), (6124, 11.55), (6126, 11.55), (8119, 10.75), (6057, 8.87), (6061, 8.81), (5386, 8.25), (7827, 8.11), (3838, 8.04), (3839, 8.04), (7449, 7.14), (2537, 7.13), (8757, 7.13), (7450, 7.1), (1088, 6.04), (1094, 6.02), (2177, 5.78), (2649, 5.7), (4276, 5.7), (4275, 5.66), (7469, 5.51), (3612, 5.44), (3615, 5.44), (4601, 5.22), (7825, 5.21), (4471, 5.15), (7471, 5.06), (1067, 4.93), (1064, 4.85), (8787, 4.75), (3889, 4.71), (3114, 4.52), (8767, 4.46), (8776, 4.4), (1393, 3.89), (1395, 3.89), (4103, 3.58), (4104, 3.58), (8637, 3.58), (8633, 3.56), (8817, 3.56), (8788, 3.5), (8818, 3.45), (3135, 3.32), (7185, 3.32), (7476, 3.17), (3355, 3.04), (3425, 2.96), (2153, 2.77), (2432, 2.77), (8117, 2.61), (5969, 2.45), (5997, 2.45), (3187, 2.44), (1299, 2.43), (1573, 2.41), (1576, 2.41), (7189, 2.34), (3154, 2.25), (1718, 2.16), (1674, 2.12), (3120, 2.12), (3115, 2.11), (5351, 2.06), (5401, 2.06), (1368, 2.04), (1371, 2.04), (5020, 2.03), (5226, 2.03), (6220, 2.0), (6223, 2.0), (3982, 1.97), (8773, 1.95), (7485, 1.81), (886, 1.79), (3292, 1.78), (887, 1.77), (5978, 1.72), (5220, 1.7), (3254, 1.66), (3960, 1.61), (8771, 1.6), (8804, 1.59), (5977, 1.58), (3089, 1.57), (5965, 1.57), (4921, 1.53), (3343, 1.41), (3116, 1.36), (7475, 1.36), (997, 1.33), (4213, 1.31), (6015, 1.29), (4966, 1.28), (5972, 1.28), (1153, 1.27), (1184, 1.27), (4959, 1.27), (1372, 1.25), (7367, 1.24), (1298, 1.22), (1374, 1.2), (998, 1.19), (2512, 1.19), (2923, 1.19), (4283, 1.19), (7947, 1.19), (5983, 1.17), (1351, 1.15), (5249, 1.14), (2600, 1.13), (2697, 1.13), (5108, 1.13), (856, 1.12), (857, 1.12), (6384, 1.11), (3346, 1.09), (3398, 1.09), (986, 1.08), (3153, 1.07), (1008, 1.06), (8649, 1.05), (3244, 1.03), (1156, 1.02), (7946, 1.02)]\n"
     ]
    }
   ],
   "source": [
    "diffs = []\n",
    "for index, row in overlap.iterrows():\n",
    "    if overlap.iloc[index]['geometry_x'] and round(overlap.iloc[index]['geometry_x'].area/ 10**6) != round(overlap.iloc[index]['geometry_y'].area/ 10**6):\n",
    "#         print(index, row['CNTYVTD'], overlap.iloc[index]['geometry_x'].area/ 10**6, overlap.iloc[index]['geometry_y'].area/ 10**6)\n",
    "        diff = abs((overlap.iloc[index]['geometry_x'].area/ 10**6) - (overlap.iloc[index]['geometry_y'].area/ 10**6))\n",
    "        diffs.append((index, round(diff,2)))\n",
    "print('Number of precincts with differences in area > 1 km^2: ', len([x[1] for x in diffs if x[1] > 1]))\n",
    "tups = [x for x in diffs if x[1] > 1]\n",
    "tups.sort(key = lambda x: x[1], reverse = True) \n",
    "print('All diffs: ', tups)"
   ]
  },
  {
   "cell_type": "markdown",
   "metadata": {},
   "source": [
    "^ The top ones here are doubled up, makes me think that the VEST precinct assignment is different: "
   ]
  },
  {
   "cell_type": "code",
   "execution_count": 158,
   "metadata": {},
   "outputs": [
    {
     "data": {
      "text/html": [
       "<div>\n",
       "<style scoped>\n",
       "    .dataframe tbody tr th:only-of-type {\n",
       "        vertical-align: middle;\n",
       "    }\n",
       "\n",
       "    .dataframe tbody tr th {\n",
       "        vertical-align: top;\n",
       "    }\n",
       "\n",
       "    .dataframe thead th {\n",
       "        text-align: right;\n",
       "    }\n",
       "</style>\n",
       "<table border=\"1\" class=\"dataframe\">\n",
       "  <thead>\n",
       "    <tr style=\"text-align: right;\">\n",
       "      <th></th>\n",
       "      <th>CNTYVTD</th>\n",
       "      <th>G16PREDCli_x</th>\n",
       "      <th>geometry_x</th>\n",
       "      <th>PCTKEY</th>\n",
       "      <th>G16PREDCli_y</th>\n",
       "      <th>geometry_y</th>\n",
       "    </tr>\n",
       "  </thead>\n",
       "  <tbody>\n",
       "    <tr>\n",
       "      <th>6380</th>\n",
       "      <td>430004</td>\n",
       "      <td>415.0</td>\n",
       "      <td>POLYGON ((647188.836 917171.157, 647235.615 91...</td>\n",
       "      <td>430004</td>\n",
       "      <td>415</td>\n",
       "      <td>POLYGON ((647188.836 917171.157, 647235.615 91...</td>\n",
       "    </tr>\n",
       "    <tr>\n",
       "      <th>6381</th>\n",
       "      <td>430005</td>\n",
       "      <td>48.0</td>\n",
       "      <td>POLYGON ((677913.662 850210.903, 678582.645 85...</td>\n",
       "      <td>430005</td>\n",
       "      <td>48</td>\n",
       "      <td>POLYGON ((677913.662 850210.903, 678582.645 85...</td>\n",
       "    </tr>\n",
       "    <tr>\n",
       "      <th>6382</th>\n",
       "      <td>430006</td>\n",
       "      <td>180.0</td>\n",
       "      <td>POLYGON ((639034.841 841729.837, 638999.457 84...</td>\n",
       "      <td>430006</td>\n",
       "      <td>180</td>\n",
       "      <td>POLYGON ((664485.909 841959.323, 664505.628 84...</td>\n",
       "    </tr>\n",
       "  </tbody>\n",
       "</table>\n",
       "</div>"
      ],
      "text/plain": [
       "     CNTYVTD  G16PREDCli_x                                         geometry_x  \\\n",
       "6380  430004         415.0  POLYGON ((647188.836 917171.157, 647235.615 91...   \n",
       "6381  430005          48.0  POLYGON ((677913.662 850210.903, 678582.645 85...   \n",
       "6382  430006         180.0  POLYGON ((639034.841 841729.837, 638999.457 84...   \n",
       "\n",
       "      PCTKEY  G16PREDCli_y                                         geometry_y  \n",
       "6380  430004           415  POLYGON ((647188.836 917171.157, 647235.615 91...  \n",
       "6381  430005            48  POLYGON ((677913.662 850210.903, 678582.645 85...  \n",
       "6382  430006           180  POLYGON ((664485.909 841959.323, 664505.628 84...  "
      ]
     },
     "execution_count": 158,
     "metadata": {},
     "output_type": "execute_result"
    }
   ],
   "source": [
    "overlap.iloc[6380:6383][['CNTYVTD','G16PREDCli_x','geometry_x','PCTKEY','G16PREDCli_y','geometry_y']]"
   ]
  },
  {
   "cell_type": "code",
   "execution_count": 167,
   "metadata": {},
   "outputs": [
    {
     "name": "stderr",
     "output_type": "stream",
     "text": [
      "<ipython-input-167-2fe0221e64c8>:1: FutureWarning: Assigning CRS to a GeoDataFrame without a geometry column is now deprecated and will not be supported in the future.\n",
      "  gp.GeoDataFrame(overlap.iloc[6380:6383], crs = tx_vest.crs)['geometry_y'].boundary.plot()\n",
      "<ipython-input-167-2fe0221e64c8>:2: FutureWarning: Assigning CRS to a GeoDataFrame without a geometry column is now deprecated and will not be supported in the future.\n",
      "  gp.GeoDataFrame(overlap.iloc[6380:6383], crs = tx_vest.crs)['geometry_x'].boundary.plot()\n"
     ]
    },
    {
     "data": {
      "text/plain": [
       "<matplotlib.axes._subplots.AxesSubplot at 0x12eb814c0>"
      ]
     },
     "execution_count": 167,
     "metadata": {},
     "output_type": "execute_result"
    },
    {
     "data": {
      "image/png": "[encoded data removed]",
      "text/plain": [
       "<Figure size 432x288 with 1 Axes>"
      ]
     },
     "metadata": {
      "needs_background": "light"
     },
     "output_type": "display_data"
    },
    {
     "data": {
      "image/png": "[encoded data removed]",
      "text/plain": [
       "<Figure size 432x288 with 1 Axes>"
      ]
     },
     "metadata": {
      "needs_background": "light"
     },
     "output_type": "display_data"
    }
   ],
   "source": [
    "gp.GeoDataFrame(overlap.iloc[6380:6383], crs = tx_vest.crs)['geometry_y'].boundary.plot()\n",
    "gp.GeoDataFrame(overlap.iloc[6380:6383], crs = tx_vest.crs)['geometry_x'].boundary.plot()"
   ]
  },
  {
   "cell_type": "code",
   "execution_count": 168,
   "metadata": {},
   "outputs": [
    {
     "name": "stderr",
     "output_type": "stream",
     "text": [
      "<ipython-input-168-e7057116aa22>:1: FutureWarning: Assigning CRS to a GeoDataFrame without a geometry column is now deprecated and will not be supported in the future.\n",
      "  gp.GeoDataFrame(overlap.iloc[6377:6379], crs = tx_vest.crs)['geometry_y'].boundary.plot()\n",
      "<ipython-input-168-e7057116aa22>:2: FutureWarning: Assigning CRS to a GeoDataFrame without a geometry column is now deprecated and will not be supported in the future.\n",
      "  gp.GeoDataFrame(overlap.iloc[6377:6379], crs = tx_vest.crs)['geometry_x'].boundary.plot()\n"
     ]
    },
    {
     "data": {
      "text/plain": [
       "<matplotlib.axes._subplots.AxesSubplot at 0x12e1e8670>"
      ]
     },
     "execution_count": 168,
     "metadata": {},
     "output_type": "execute_result"
    },
    {
     "data": {
      "image/png": "[encoded data removed]",
      "text/plain": [
       "<Figure size 432x288 with 1 Axes>"
      ]
     },
     "metadata": {
      "needs_background": "light"
     },
     "output_type": "display_data"
    },
    {
     "data": {
      "image/png": "[encoded data removed]",
      "text/plain": [
       "<Figure size 432x288 with 1 Axes>"
      ]
     },
     "metadata": {
      "needs_background": "light"
     },
     "output_type": "display_data"
    }
   ],
   "source": [
    "gp.GeoDataFrame(overlap.iloc[6377:6379], crs = tx_vest.crs)['geometry_y'].boundary.plot()\n",
    "gp.GeoDataFrame(overlap.iloc[6377:6379], crs = tx_vest.crs)['geometry_x'].boundary.plot()"
   ]
  },
  {
   "cell_type": "markdown",
   "metadata": {},
   "source": [
    "Ok, so these look like substantive differences in the shapefiles"
   ]
  }
 ],
 "metadata": {
  "kernelspec": {
   "display_name": "Python 3",
   "language": "python",
   "name": "python3"
  },
  "language_info": {
   "codemirror_mode": {
    "name": "ipython",
    "version": 3
   },
   "file_extension": ".py",
   "mimetype": "text/x-python",
   "name": "python",
   "nbconvert_exporter": "python",
   "pygments_lexer": "ipython3",
   "version": "3.8.3"
  }
 },
 "nbformat": 4,
 "nbformat_minor": 4
}
